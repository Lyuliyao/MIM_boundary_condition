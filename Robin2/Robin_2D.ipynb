{
 "cells": [
  {
   "cell_type": "code",
   "execution_count": 1,
   "metadata": {},
   "outputs": [],
   "source": [
    "import math\n",
    "import numpy as np\n",
    "import numpy.random as npr\n",
    "from numpy import linalg\n",
    "import torch\n",
    "import torch.nn.functional as F\n",
    "import torch.nn as nn\n",
    "from torch.utils import data\n",
    "from torch.utils.data import Dataset\n",
    "import torch.optim as optim\n",
    "import time\n",
    "from math import *\n",
    "torch.cuda.set_device(0)"
   ]
  },
  {
   "cell_type": "code",
   "execution_count": 2,
   "metadata": {},
   "outputs": [],
   "source": [
    "class ResNet(nn.Module):\n",
    "    def __init__(self,dim, m,o):\n",
    "        super(ResNet, self).__init__()\n",
    "        self.Ix = torch.zeros([dim,m]).cuda()\n",
    "        self.Ix[0,0] = 1\n",
    "        self.Ix[1,1] = 1\n",
    "        self.fc1 = nn.Linear(dim, m)\n",
    "        self.fc2 = nn.Linear(m, m)\n",
    "        \n",
    "        self.fc3 = nn.Linear(m, m)\n",
    "        self.fc4 = nn.Linear(m, m)\n",
    "\n",
    "        \n",
    "        self.outlayer = nn.Linear(m, o)\n",
    "\n",
    "    def forward(self, x):\n",
    "        s = x@self.Ix\n",
    "        y = self.fc1(x)\n",
    "        y = F.relu(y**deg)\n",
    "        y = self.fc2(y)\n",
    "        y = F.relu(y**deg)\n",
    "        y = y+s\n",
    "        \n",
    "        s=y\n",
    "        y = self.fc3(y)\n",
    "        y = F.relu(y**deg)\n",
    "        y = self.fc4(y)\n",
    "        y = F.relu(y**deg)\n",
    "        y = y+s\n",
    "        \n",
    "        \n",
    "        output = self.outlayer(y)\n",
    "        return output\n",
    "deg = 2"
   ]
  },
  {
   "cell_type": "code",
   "execution_count": 3,
   "metadata": {},
   "outputs": [],
   "source": [
    "def sol_exact(x):\n",
    "    return torch.sin(pi*torch.sum(x,dim = 1)).reshape(x.shape[0],1)\n",
    "def sol_exact_H1(x):\n",
    "    sol = torch.zeros(x.shape[0],3).cuda()\n",
    "    sol[:,0:1] = torch.sin(pi*torch.sum(x,dim = 1)).reshape(x.shape[0],1)\n",
    "    sol[:,1:3] = pi*torch.cos(pi*torch.sum(x,dim = 1)).reshape(x.shape[0],1)\n",
    "    return sol"
   ]
  },
  {
   "cell_type": "code",
   "execution_count": 4,
   "metadata": {},
   "outputs": [],
   "source": [
    "def right(x):\n",
    "    return -2*pi**2*torch.sin(pi*torch.sum(x,dim = 1)).reshape(x.shape[0],1)"
   ]
  },
  {
   "cell_type": "code",
   "execution_count": 5,
   "metadata": {},
   "outputs": [],
   "source": [
    "dim_set = 2\n",
    "Batch_size = 10000\n",
    "def DGM1():\n",
    "    x = torch.rand(Batch_size,2).cuda()\n",
    "    x.requires_grad = True\n",
    "    u = model_u(x)\n",
    "    du = model_p(x)\n",
    "    v= torch.ones(u.shape).cuda()\n",
    "    ux = torch.autograd.grad(u,x,grad_outputs=v,create_graph=True)[0]\n",
    "    loss1 = torch.sum((ux-du)**2)/Batch_size\n",
    "    return loss1"
   ]
  },
  {
   "cell_type": "code",
   "execution_count": 6,
   "metadata": {},
   "outputs": [],
   "source": [
    "dim_set = 2\n",
    "Batch_size = 10000\n",
    "def DGM1():\n",
    "    x = torch.rand(Batch_size,dim_set).cuda()\n",
    "    x.requires_grad = True\n",
    "    r1 = model_r1(x)\n",
    "    r2 = model_r2(x)\n",
    "    u =  torch.sum((model_r1(x)+model_r2(x))/2,dim = 1).reshape(x.shape[0],1)/dim_set\n",
    "    du = (model_r1(x)-model_r2(x))/2\n",
    "    v= torch.ones(u.shape).cuda()\n",
    "    v= torch.ones(u.shape).cuda()\n",
    "    ux = torch.autograd.grad(u,x,grad_outputs=v,create_graph=True)[0]\n",
    "    uxx = torch.zeros(Batch_size,dim_set).cuda()\n",
    "    for i in range(dim_set):\n",
    "        ux_tem = du[:,i].reshape([x.size()[0],1])\n",
    "        uxx_tem = torch.autograd.grad(ux_tem,x,grad_outputs=v,create_graph=True)[0]\n",
    "        uxx[:,i] = uxx_tem[:,i]\n",
    "    loss1 = torch.sum((torch.sum(uxx,dim=1).reshape([x.size()[0],1]) - right(x))**2)/Batch_size\n",
    "    loss1 = loss1 + torch.sum((ux-du)**2)/Batch_size\n",
    "    loss1 = loss1 + torch.sum((u + du - r1)**2)/Batch_size + torch.sum((u - du - r2)**2)/Batch_size\n",
    "    return loss1"
   ]
  },
  {
   "cell_type": "code",
   "execution_count": 7,
   "metadata": {},
   "outputs": [
    {
     "data": {
      "text/plain": [
       "ResNet(\n",
       "  (fc1): Linear(in_features=2, out_features=5, bias=True)\n",
       "  (fc2): Linear(in_features=5, out_features=5, bias=True)\n",
       "  (fc3): Linear(in_features=5, out_features=5, bias=True)\n",
       "  (fc4): Linear(in_features=5, out_features=5, bias=True)\n",
       "  (outlayer): Linear(in_features=5, out_features=2, bias=True)\n",
       ")"
      ]
     },
     "execution_count": 7,
     "metadata": {},
     "output_type": "execute_result"
    }
   ],
   "source": [
    "model_r_2 = ResNet(dim_set,5,dim_set)\n",
    "model_r_1 = ResNet(dim_set,5,dim_set)\n",
    "\n",
    "device=torch.device(\"cuda:0\" )\n",
    "model_r_2.to(device)\n",
    "model_r_1.to(device)"
   ]
  },
  {
   "cell_type": "code",
   "execution_count": 8,
   "metadata": {},
   "outputs": [],
   "source": [
    "def model_r1(x):\n",
    "    return (1-x)*model_r_1(x) + torch.sin(pi*torch.sum(x,dim = 1)).reshape(x.shape[0],1) + pi * torch.cos(pi*torch.sum(x,dim = 1)).reshape(x.shape[0],1)"
   ]
  },
  {
   "cell_type": "code",
   "execution_count": 9,
   "metadata": {},
   "outputs": [],
   "source": [
    "def model_r2(x):\n",
    "    return x*model_r_2(x) + torch.sin(pi*torch.sum(x,dim = 1)).reshape(x.shape[0],1) - pi * torch.cos(pi*torch.sum(x,dim = 1)).reshape(x.shape[0],1)"
   ]
  },
  {
   "cell_type": "code",
   "execution_count": 10,
   "metadata": {},
   "outputs": [],
   "source": [
    "def model_p(x):\n",
    "    return (model_r1(x)-model_r2(x))/2"
   ]
  },
  {
   "cell_type": "code",
   "execution_count": 11,
   "metadata": {},
   "outputs": [],
   "source": [
    "def model_u(x):\n",
    "    return torch.sum((model_r1(x)+model_r2(x))/2,dim = 1).reshape(x.shape[0],1)/dim_set"
   ]
  },
  {
   "cell_type": "code",
   "execution_count": 12,
   "metadata": {},
   "outputs": [],
   "source": [
    "def loss_error():\n",
    "    notes_error = torch.rand(10000,dim_set).cuda()\n",
    "    notes_error.requires_grad= True\n",
    "    exact = sol_exact_H1(notes_error)\n",
    "    u_L2 = sqrt(torch.sum((exact[:,0])**2)/10000)\n",
    "    Du_L2 = sqrt(torch.sum(exact[:,1:dim_set+1]**2)/10000)\n",
    "    predict = torch.zeros(10000,2*dim_set+2).cuda()\n",
    "    predict[:,0]= model_u(notes_error).reshape([1,notes_error.size()[0]])\n",
    "    predict[:,1:dim_set+1]= model_p(notes_error)\n",
    "    value1 = sqrt(torch.sum((predict[:,0] - exact[:,0])**2)/10000)/u_L2\n",
    "    value2 = sqrt(torch.sum((predict[:,1:dim_set+1] - exact[:,1:dim_set+1])**2)/10000)/Du_L2\n",
    "    return value1,value2"
   ]
  },
  {
   "cell_type": "code",
   "execution_count": 13,
   "metadata": {
    "scrolled": true
   },
   "outputs": [
    {
     "name": "stdout",
     "output_type": "stream",
     "text": [
      "i=  1\n",
      "error = 0.10319965527055389\n",
      "loss1 = tensor(0.2618, device='cuda:0')\n",
      "i=  501\n",
      "error = 0.003058010725341784\n",
      "loss1 = tensor(0.0007, device='cuda:0')\n",
      "i=  1001\n",
      "error = 0.0016962591119928142\n",
      "loss1 = tensor(0.0001, device='cuda:0')\n",
      "i=  1501\n",
      "error = 0.0014466787042814579\n",
      "loss1 = tensor(5.8135e-05, device='cuda:0')\n",
      "i=  2001\n",
      "error = 0.001063570060359443\n",
      "loss1 = tensor(3.4070e-05, device='cuda:0')\n",
      "i=  2501\n",
      "error = 0.000633325763859924\n",
      "loss1 = tensor(1.9832e-05, device='cuda:0')\n",
      "i=  3001\n",
      "error = 0.000382872049971765\n",
      "loss1 = tensor(1.1342e-05, device='cuda:0')\n",
      "i=  3501\n",
      "error = 0.0005241215398596542\n",
      "loss1 = tensor(7.0061e-06, device='cuda:0')\n",
      "i=  4001\n",
      "error = 0.0005952782927726257\n",
      "loss1 = tensor(4.7097e-06, device='cuda:0')\n",
      "i=  4501\n",
      "error = 0.0005246744883138211\n",
      "loss1 = tensor(3.2630e-06, device='cuda:0')\n",
      "i=  5001\n",
      "error = 0.0004247116426061876\n",
      "loss1 = tensor(2.2649e-06, device='cuda:0')\n",
      "i=  5501\n",
      "error = 0.00026928235686937186\n",
      "loss1 = tensor(1.5147e-06, device='cuda:0')\n",
      "i=  6001\n",
      "error = 0.0002443820610469241\n",
      "loss1 = tensor(8.7630e-07, device='cuda:0')\n",
      "i=  6501\n",
      "error = 0.00011732536860087257\n",
      "loss1 = tensor(5.1793e-07, device='cuda:0')\n",
      "i=  7001\n",
      "error = 8.098472467506098e-05\n",
      "loss1 = tensor(3.0939e-07, device='cuda:0')\n",
      "i=  7501\n",
      "error = 0.00016148201665570268\n",
      "loss1 = tensor(2.3029e-07, device='cuda:0')\n",
      "i=  8001\n",
      "error = 5.8773220502606986e-05\n",
      "loss1 = tensor(1.1334e-07, device='cuda:0')\n",
      "i=  8501\n",
      "error = 0.00010226992567786164\n",
      "loss1 = tensor(1.3557e-07, device='cuda:0')\n",
      "i=  9001\n",
      "error = 3.713104139467277e-05\n",
      "loss1 = tensor(8.3386e-08, device='cuda:0')\n",
      "i=  9501\n",
      "error = 0.00010264341982183998\n",
      "loss1 = tensor(2.1908e-07, device='cuda:0')\n",
      "i=  10001\n",
      "error = 0.00010932061435547081\n",
      "loss1 = tensor(1.7287e-07, device='cuda:0')\n",
      "i=  10501\n",
      "error = 5.7062966670615526e-05\n",
      "loss1 = tensor(8.9201e-08, device='cuda:0')\n",
      "i=  11001\n",
      "error = 4.690939071268337e-05\n",
      "loss1 = tensor(6.2251e-08, device='cuda:0')\n",
      "i=  11501\n",
      "error = 2.9441233309282807e-05\n",
      "loss1 = tensor(5.5943e-08, device='cuda:0')\n",
      "i=  12001\n",
      "error = 3.0009729433271475e-05\n",
      "loss1 = tensor(5.3529e-08, device='cuda:0')\n",
      "i=  12501\n",
      "error = 0.00010318810408207659\n",
      "loss1 = tensor(1.3383e-07, device='cuda:0')\n",
      "i=  13001\n",
      "error = 4.133920134176983e-05\n",
      "loss1 = tensor(5.2928e-08, device='cuda:0')\n",
      "i=  13501\n",
      "error = 8.930929050987686e-05\n",
      "loss1 = tensor(2.4749e-07, device='cuda:0')\n",
      "i=  14001\n",
      "error = 0.0003859768241368927\n",
      "loss1 = tensor(1.2656e-06, device='cuda:0')\n",
      "i=  14501\n",
      "error = 0.00010267251456669963\n",
      "loss1 = tensor(2.9329e-07, device='cuda:0')\n",
      "i=  15001\n",
      "error = 7.062059832247575e-05\n",
      "loss1 = tensor(8.2126e-08, device='cuda:0')\n",
      "i=  15501\n",
      "error = 2.4507676949345898e-05\n",
      "loss1 = tensor(4.1031e-08, device='cuda:0')\n",
      "i=  16001\n",
      "error = 0.0005875585083626559\n",
      "loss1 = tensor(3.6920e-06, device='cuda:0')\n",
      "i=  16501\n",
      "error = 2.4355902518089404e-05\n",
      "loss1 = tensor(3.8800e-08, device='cuda:0')\n",
      "i=  17001\n",
      "error = 0.00011249122130224148\n",
      "loss1 = tensor(4.5653e-08, device='cuda:0')\n",
      "i=  17501\n",
      "error = 3.529223170988422e-05\n",
      "loss1 = tensor(4.9880e-08, device='cuda:0')\n",
      "i=  18001\n",
      "error = 0.00046064437739932323\n",
      "loss1 = tensor(1.9454e-06, device='cuda:0')\n",
      "i=  18501\n",
      "error = 0.00021566639981521413\n",
      "loss1 = tensor(3.7527e-07, device='cuda:0')\n",
      "i=  19001\n",
      "error = 2.6622209195949243e-05\n",
      "loss1 = tensor(3.7626e-08, device='cuda:0')\n",
      "i=  19501\n",
      "error = 0.00020494259443276506\n",
      "loss1 = tensor(1.4064e-07, device='cuda:0')\n",
      "time cost 1566.1762926578522 s\n"
     ]
    }
   ],
   "source": [
    "traintime = 20000\n",
    "error_save=np.zeros([2,traintime])\n",
    "optimizer = optim.Adam([\n",
    "                {'params': model_r_1.parameters()},\n",
    "                {'params': model_r_2.parameters()}\n",
    "            ])\n",
    "i = 0\n",
    "time_start=time.time()\n",
    "for i in range(traintime):\n",
    "    optimizer.zero_grad()\n",
    "    losses = DGM1()\n",
    "    losses.backward()\n",
    "    optimizer.step() \n",
    "    error1,error2 = loss_error()\n",
    "    error_save[0,i]=float(error1)\n",
    "    error_save[1,i]=float(error2)\n",
    "    i = i +1\n",
    "    if i%500==1:\n",
    "        print(\"i= \",i)\n",
    "        print(\"error =\",error1)\n",
    "        print(\"loss1 =\",losses.detach())\n",
    "        np.save(\"error_save_LDG_Robin_2D_w5.npy\", error_save)\n",
    "np.save(\"error_save_LDG_Robin_2D_w5.npy\", error_save)\n",
    "time_end=time.time()\n",
    "print('time cost',time_end-time_start,'s')"
   ]
  },
  {
   "cell_type": "code",
   "execution_count": 14,
   "metadata": {},
   "outputs": [],
   "source": [
    "import matplotlib.pyplot as plt\n",
    "x = np.arange(0,1,0.01)\n",
    "notes= torch.rand(100,2).cuda()\n",
    "notes[:,0:1] = 1\n",
    "notes[:,1] = torch.tensor(x)"
   ]
  },
  {
   "cell_type": "code",
   "execution_count": 15,
   "metadata": {},
   "outputs": [],
   "source": [
    "u_e = sol_exact_H1(notes)[:,0:1]\n",
    "p_e = sol_exact_H1(notes)[:,1:3]"
   ]
  },
  {
   "cell_type": "code",
   "execution_count": 16,
   "metadata": {},
   "outputs": [
    {
     "data": {
      "text/plain": [
       "[<matplotlib.lines.Line2D at 0x7fee00ea7e10>,\n",
       " <matplotlib.lines.Line2D at 0x7fee00eb7048>]"
      ]
     },
     "execution_count": 16,
     "metadata": {},
     "output_type": "execute_result"
    },
    {
     "data": {
      "image/png": "[encoded data removed]",
      "text/plain": [
       "<Figure size 432x288 with 1 Axes>"
      ]
     },
     "metadata": {
      "needs_background": "light"
     },
     "output_type": "display_data"
    }
   ],
   "source": [
    "plt.plot(x,(u_e+p_e).cpu().detach().numpy())"
   ]
  },
  {
   "cell_type": "code",
   "execution_count": 17,
   "metadata": {},
   "outputs": [
    {
     "ename": "NameError",
     "evalue": "name 'model_r' is not defined",
     "output_type": "error",
     "traceback": [
      "\u001b[0;31m---------------------------------------------------------------------------\u001b[0m",
      "\u001b[0;31mNameError\u001b[0m                                 Traceback (most recent call last)",
      "\u001b[0;32m<ipython-input-17-bfdf6ab0d24c>\u001b[0m in \u001b[0;36m<module>\u001b[0;34m\u001b[0m\n\u001b[1;32m      1\u001b[0m \u001b[0mu\u001b[0m \u001b[0;34m=\u001b[0m  \u001b[0mmodel_u\u001b[0m\u001b[0;34m(\u001b[0m\u001b[0mnotes\u001b[0m\u001b[0;34m)\u001b[0m\u001b[0;34m\u001b[0m\u001b[0;34m\u001b[0m\u001b[0m\n\u001b[1;32m      2\u001b[0m \u001b[0mp\u001b[0m \u001b[0;34m=\u001b[0m  \u001b[0mmodel_p\u001b[0m\u001b[0;34m(\u001b[0m\u001b[0mnotes\u001b[0m\u001b[0;34m)\u001b[0m\u001b[0;34m\u001b[0m\u001b[0;34m\u001b[0m\u001b[0m\n\u001b[0;32m----> 3\u001b[0;31m \u001b[0mr\u001b[0m \u001b[0;34m=\u001b[0m  \u001b[0mmodel_r\u001b[0m\u001b[0;34m(\u001b[0m\u001b[0mnotes\u001b[0m\u001b[0;34m)\u001b[0m\u001b[0;34m\u001b[0m\u001b[0;34m\u001b[0m\u001b[0m\n\u001b[0m\u001b[1;32m      4\u001b[0m \u001b[0mplt\u001b[0m\u001b[0;34m.\u001b[0m\u001b[0mplot\u001b[0m\u001b[0;34m(\u001b[0m\u001b[0mx\u001b[0m\u001b[0;34m,\u001b[0m\u001b[0;34m(\u001b[0m\u001b[0mr\u001b[0m\u001b[0;34m)\u001b[0m\u001b[0;34m.\u001b[0m\u001b[0mcpu\u001b[0m\u001b[0;34m(\u001b[0m\u001b[0;34m)\u001b[0m\u001b[0;34m.\u001b[0m\u001b[0mdetach\u001b[0m\u001b[0;34m(\u001b[0m\u001b[0;34m)\u001b[0m\u001b[0;34m.\u001b[0m\u001b[0mnumpy\u001b[0m\u001b[0;34m(\u001b[0m\u001b[0;34m)\u001b[0m\u001b[0;34m)\u001b[0m\u001b[0;34m\u001b[0m\u001b[0;34m\u001b[0m\u001b[0m\n",
      "\u001b[0;31mNameError\u001b[0m: name 'model_r' is not defined"
     ]
    }
   ],
   "source": [
    "u =  model_u(notes)\n",
    "p =  model_p(notes)\n",
    "r =  model_r(notes)\n",
    "plt.plot(x,(r).cpu().detach().numpy())"
   ]
  },
  {
   "cell_type": "code",
   "execution_count": null,
   "metadata": {},
   "outputs": [],
   "source": []
  }
 ],
 "metadata": {
  "kernelspec": {
   "display_name": "Python 3",
   "language": "python",
   "name": "python3"
  },
  "language_info": {
   "codemirror_mode": {
    "name": "ipython",
    "version": 3
   },
   "file_extension": ".py",
   "mimetype": "text/x-python",
   "name": "python",
   "nbconvert_exporter": "python",
   "pygments_lexer": "ipython3",
   "version": "3.6.9"
  }
 },
 "nbformat": 4,
 "nbformat_minor": 4
}
