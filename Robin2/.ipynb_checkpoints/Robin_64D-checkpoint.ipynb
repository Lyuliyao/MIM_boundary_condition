{
 "cells": [
  {
   "cell_type": "code",
   "execution_count": 1,
   "metadata": {},
   "outputs": [],
   "source": [
    "import math\n",
    "import numpy as np\n",
    "import numpy.random as npr\n",
    "from numpy import linalg\n",
    "import torch\n",
    "import torch.nn.functional as F\n",
    "import torch.nn as nn\n",
    "from torch.utils import data\n",
    "from torch.utils.data import Dataset\n",
    "import torch.optim as optim\n",
    "import time\n",
    "from math import *\n",
    "torch.cuda.set_device(0)"
   ]
  },
  {
   "cell_type": "code",
   "execution_count": 2,
   "metadata": {},
   "outputs": [],
   "source": [
    "class ResNet(nn.Module):\n",
    "    def __init__(self,dim, m,o):\n",
    "        super(ResNet, self).__init__()\n",
    "        self.Ix = torch.zeros([dim,m]).cuda()\n",
    "        self.Ix[0,0] = 1\n",
    "        self.Ix[1,1] = 1\n",
    "        self.fc1 = nn.Linear(dim, m)\n",
    "        self.fc2 = nn.Linear(m, m)\n",
    "        \n",
    "        self.fc3 = nn.Linear(m, m)\n",
    "        self.fc4 = nn.Linear(m, m)\n",
    "\n",
    "        \n",
    "        self.outlayer = nn.Linear(m, o)\n",
    "\n",
    "    def forward(self, x):\n",
    "        s = x@self.Ix\n",
    "        y = self.fc1(x)\n",
    "        y = F.relu(y**deg)\n",
    "        y = self.fc2(y)\n",
    "        y = F.relu(y**deg)\n",
    "        y = y+s\n",
    "        \n",
    "        s=y\n",
    "        y = self.fc3(y)\n",
    "        y = F.relu(y**deg)\n",
    "        y = self.fc4(y)\n",
    "        y = F.relu(y**deg)\n",
    "        y = y+s\n",
    "        \n",
    "        \n",
    "        output = self.outlayer(y)\n",
    "        return output\n",
    "deg = 2"
   ]
  },
  {
   "cell_type": "code",
   "execution_count": 3,
   "metadata": {},
   "outputs": [],
   "source": [
    "def sol_exact(x):\n",
    "    return torch.sin(pi*torch.sum(x,dim = 1)).reshape(x.shape[0],1)\n",
    "def sol_exact_H1(x):\n",
    "    sol = torch.zeros(x.shape[0],dim_set +1).cuda()\n",
    "    sol[:,0:1] = torch.sin(pi*torch.sum(x,dim = 1)).reshape(x.shape[0],1)\n",
    "    sol[:,1:dim_set +1] = pi*torch.cos(pi*torch.sum(x,dim = 1)).reshape(x.shape[0],1)\n",
    "    return sol"
   ]
  },
  {
   "cell_type": "code",
   "execution_count": 4,
   "metadata": {},
   "outputs": [],
   "source": [
    "def right(x):\n",
    "    return -dim_set*pi**2*torch.sin(pi*torch.sum(x,dim = 1)).reshape(x.shape[0],1)"
   ]
  },
  {
   "cell_type": "code",
   "execution_count": 5,
   "metadata": {},
   "outputs": [],
   "source": [
    "dim_set = 64\n",
    "Batch_size = 10000\n",
    "def DGM1():\n",
    "    x = torch.rand(Batch_size,dim_set).cuda()\n",
    "    x.requires_grad = True\n",
    "    r1 = model_r1(x)\n",
    "    r2 = model_r2(x)\n",
    "    u =  torch.sum((model_r1(x)+model_r2(x))/2,dim = 1).reshape(x.shape[0],1)/dim_set\n",
    "    du = (model_r1(x)-model_r2(x))/2\n",
    "    v= torch.ones(u.shape).cuda()\n",
    "    ux = torch.autograd.grad(u,x,grad_outputs=v,create_graph=True)[0]\n",
    "    uxx = torch.zeros(Batch_size,dim_set).cuda()\n",
    "    for i in range(dim_set):\n",
    "        ux_tem = du[:,i].reshape([x.size()[0],1])\n",
    "        uxx_tem = torch.autograd.grad(ux_tem,x,grad_outputs=v,create_graph=True)[0]\n",
    "        uxx[:,i] = uxx_tem[:,i]\n",
    "    loss1 = torch.sum((torch.sum(uxx,dim=1).reshape([x.size()[0],1]) - right(x))**2)/Batch_size\n",
    "    loss1 = loss1 + torch.sum((ux-du)**2)/Batch_size\n",
    "    loss1 = loss1 + torch.sum((u + du - r1)**2)/Batch_size + torch.sum((u - du - r2)**2)/Batch_size\n",
    "    return loss1"
   ]
  },
  {
   "cell_type": "code",
   "execution_count": 6,
   "metadata": {},
   "outputs": [
    {
     "data": {
      "text/plain": [
       "ResNet(\n",
       "  (fc1): Linear(in_features=16, out_features=40, bias=True)\n",
       "  (fc2): Linear(in_features=40, out_features=40, bias=True)\n",
       "  (fc3): Linear(in_features=40, out_features=40, bias=True)\n",
       "  (fc4): Linear(in_features=40, out_features=40, bias=True)\n",
       "  (outlayer): Linear(in_features=40, out_features=16, bias=True)\n",
       ")"
      ]
     },
     "execution_count": 6,
     "metadata": {},
     "output_type": "execute_result"
    }
   ],
   "source": [
    "model_r_2 = ResNet(dim_set,40,dim_set)\n",
    "model_r_1 = ResNet(dim_set,40,dim_set)\n",
    "\n",
    "device=torch.device(\"cuda:0\" )\n",
    "model_r_2.to(device)\n",
    "model_r_1.to(device)"
   ]
  },
  {
   "cell_type": "code",
   "execution_count": 7,
   "metadata": {},
   "outputs": [],
   "source": [
    "def model_r1(x):\n",
    "    return (1-x)*model_r_1(x) + torch.sin(pi*torch.sum(x,dim = 1)).reshape(x.shape[0],1) + pi * torch.cos(pi*torch.sum(x,dim = 1)).reshape(x.shape[0],1)"
   ]
  },
  {
   "cell_type": "code",
   "execution_count": 8,
   "metadata": {},
   "outputs": [],
   "source": [
    "def model_r2(x):\n",
    "    return x*model_r_2(x) + torch.sin(pi*torch.sum(x,dim = 1)).reshape(x.shape[0],1) - pi * torch.cos(pi*torch.sum(x,dim = 1)).reshape(x.shape[0],1)"
   ]
  },
  {
   "cell_type": "code",
   "execution_count": 9,
   "metadata": {},
   "outputs": [],
   "source": [
    "def model_p(x):\n",
    "    return (model_r1(x)-model_r2(x))/2"
   ]
  },
  {
   "cell_type": "code",
   "execution_count": 10,
   "metadata": {},
   "outputs": [],
   "source": [
    "def model_u(x):\n",
    "    return torch.sum((model_r1(x)+model_r2(x))/2,dim = 1).reshape(x.shape[0],1)/dim_set"
   ]
  },
  {
   "cell_type": "code",
   "execution_count": 11,
   "metadata": {},
   "outputs": [],
   "source": [
    "def loss_error():\n",
    "    notes_error = torch.rand(10000,dim_set).cuda()\n",
    "    notes_error.requires_grad= True\n",
    "    exact = sol_exact_H1(notes_error)\n",
    "    u_L2 = sqrt(torch.sum((exact[:,0])**2)/10000)\n",
    "    Du_L2 = sqrt(torch.sum(exact[:,1:dim_set+1]**2)/10000)\n",
    "    predict = torch.zeros(10000,2*dim_set+2).cuda()\n",
    "    predict[:,0]= model_u(notes_error).reshape([1,notes_error.size()[0]])\n",
    "    predict[:,1:dim_set+1]= model_p(notes_error)\n",
    "    value1 = sqrt(torch.sum((predict[:,0] - exact[:,0])**2)/10000)/u_L2\n",
    "    value2 = sqrt(torch.sum((predict[:,1:dim_set+1] - exact[:,1:dim_set+1])**2)/10000)/Du_L2\n",
    "    return value1,value2"
   ]
  },
  {
   "cell_type": "code",
   "execution_count": null,
   "metadata": {
    "scrolled": true
   },
   "outputs": [
    {
     "name": "stdout",
     "output_type": "stream",
     "text": [
      "i=  1\n",
      "error = 0.015510137739784664\n",
      "loss1 = tensor(0.2658, device='cuda:0')\n",
      "i=  501\n",
      "error = 0.0005046624344774501\n",
      "loss1 = tensor(0.0001, device='cuda:0')\n",
      "i=  1001\n",
      "error = 0.00023661789862944595\n",
      "loss1 = tensor(4.6510e-05, device='cuda:0')\n",
      "i=  1501\n",
      "error = 0.00025203156528772315\n",
      "loss1 = tensor(3.6240e-05, device='cuda:0')\n",
      "i=  2001\n",
      "error = 0.00014769765428217796\n",
      "loss1 = tensor(1.4466e-05, device='cuda:0')\n",
      "i=  2501\n",
      "error = 0.00011391196976245239\n",
      "loss1 = tensor(1.4625e-05, device='cuda:0')\n",
      "i=  3001\n",
      "error = 9.691381963913938e-05\n",
      "loss1 = tensor(7.6442e-06, device='cuda:0')\n",
      "i=  3501\n",
      "error = 9.010961758619075e-05\n",
      "loss1 = tensor(5.9687e-06, device='cuda:0')\n",
      "i=  4001\n",
      "error = 0.00022255328447808625\n",
      "loss1 = tensor(2.7950e-05, device='cuda:0')\n",
      "i=  4501\n",
      "error = 0.0001012439798712397\n",
      "loss1 = tensor(8.8355e-06, device='cuda:0')\n",
      "i=  5001\n",
      "error = 4.761866792858999e-05\n",
      "loss1 = tensor(2.3676e-06, device='cuda:0')\n",
      "i=  5501\n",
      "error = 0.00013760307859996297\n",
      "loss1 = tensor(8.7692e-06, device='cuda:0')\n",
      "i=  6001\n",
      "error = 8.48664213785051e-05\n",
      "loss1 = tensor(2.7247e-06, device='cuda:0')\n",
      "i=  6501\n",
      "error = 0.00015289261628347045\n",
      "loss1 = tensor(1.4553e-05, device='cuda:0')\n",
      "i=  7001\n",
      "error = 5.386508115716306e-05\n",
      "loss1 = tensor(2.2349e-06, device='cuda:0')\n",
      "i=  7501\n",
      "error = 2.8223605382792114e-05\n",
      "loss1 = tensor(8.0797e-07, device='cuda:0')\n",
      "i=  8001\n",
      "error = 3.227032915485086e-05\n",
      "loss1 = tensor(8.3406e-07, device='cuda:0')\n",
      "i=  8501\n",
      "error = 4.788483320607009e-05\n",
      "loss1 = tensor(1.5388e-06, device='cuda:0')\n",
      "i=  9001\n",
      "error = 2.1762740955535137e-05\n",
      "loss1 = tensor(5.3241e-07, device='cuda:0')\n",
      "i=  9501\n",
      "error = 2.1768337824235588e-05\n",
      "loss1 = tensor(4.6475e-07, device='cuda:0')\n",
      "i=  10001\n",
      "error = 3.0153715422896625e-05\n",
      "loss1 = tensor(8.6157e-07, device='cuda:0')\n",
      "i=  10501\n",
      "error = 2.254754004462848e-05\n",
      "loss1 = tensor(4.7846e-07, device='cuda:0')\n",
      "i=  11001\n",
      "error = 2.25517879691486e-05\n",
      "loss1 = tensor(3.8474e-07, device='cuda:0')\n",
      "i=  11501\n",
      "error = 2.4651258831477815e-05\n",
      "loss1 = tensor(1.4700e-06, device='cuda:0')\n",
      "i=  12001\n",
      "error = 5.100945355519337e-05\n",
      "loss1 = tensor(1.7495e-06, device='cuda:0')\n",
      "i=  12501\n",
      "error = 6.74731963418575e-05\n",
      "loss1 = tensor(5.0878e-06, device='cuda:0')\n",
      "i=  13001\n",
      "error = 3.40139761400247e-05\n",
      "loss1 = tensor(1.3395e-06, device='cuda:0')\n",
      "i=  13501\n",
      "error = 0.00015380109519163898\n",
      "loss1 = tensor(9.0242e-06, device='cuda:0')\n",
      "i=  14001\n",
      "error = 1.2264217738532004e-05\n",
      "loss1 = tensor(1.3181e-07, device='cuda:0')\n",
      "i=  14501\n",
      "error = 1.1875251673159498e-05\n",
      "loss1 = tensor(1.1823e-07, device='cuda:0')\n",
      "i=  15001\n",
      "error = 1.5535428165122243e-05\n",
      "loss1 = tensor(1.4396e-07, device='cuda:0')\n",
      "i=  15501\n",
      "error = 0.0003144090474072672\n",
      "loss1 = tensor(7.7201e-05, device='cuda:0')\n",
      "i=  16001\n",
      "error = 0.00020115165717572362\n",
      "loss1 = tensor(1.4779e-05, device='cuda:0')\n",
      "i=  16501\n",
      "error = 5.599825610611969e-05\n",
      "loss1 = tensor(1.3276e-06, device='cuda:0')\n"
     ]
    }
   ],
   "source": [
    "traintime = 20000\n",
    "error_save=np.zeros([2,traintime])\n",
    "optimizer = optim.Adam([\n",
    "                {'params': model_r_1.parameters()},\n",
    "                {'params': model_r_2.parameters()}\n",
    "            ])\n",
    "i = 0\n",
    "time_start=time.time()\n",
    "for i in range(traintime):\n",
    "    optimizer.zero_grad()\n",
    "    losses = DGM1()\n",
    "    losses.backward()\n",
    "    optimizer.step() \n",
    "    error1,error2 = loss_error()\n",
    "    error_save[0,i]=float(error1)\n",
    "    error_save[1,i]=float(error2)\n",
    "    i = i +1\n",
    "    if i%500==1:\n",
    "        print(\"i= \",i)\n",
    "        print(\"error =\",error1)\n",
    "        print(\"loss1 =\",losses.detach())\n",
    "        np.save(\"error_save_LDG_Robin_32D_w40.npy\", error_save)\n",
    "np.save(\"error_save_LDG_Robin_32D_w40.npy\", error_save)\n",
    "time_end=time.time()\n",
    "print('time cost',time_end-time_start,'s')"
   ]
  },
  {
   "cell_type": "code",
   "execution_count": null,
   "metadata": {},
   "outputs": [],
   "source": [
    "import matplotlib.pyplot as plt\n",
    "x = np.arange(0,1,0.01)\n",
    "notes= torch.rand(100,2).cuda()\n",
    "notes[:,0:1] = 1\n",
    "notes[:,1] = torch.tensor(x)"
   ]
  },
  {
   "cell_type": "code",
   "execution_count": null,
   "metadata": {},
   "outputs": [],
   "source": [
    "u_e = sol_exact_H1(notes)[:,0:1]\n",
    "p_e = sol_exact_H1(notes)[:,1:3]"
   ]
  },
  {
   "cell_type": "code",
   "execution_count": null,
   "metadata": {},
   "outputs": [],
   "source": [
    "plt.plot(x,(u_e+p_e).cpu().detach().numpy())"
   ]
  },
  {
   "cell_type": "code",
   "execution_count": null,
   "metadata": {},
   "outputs": [],
   "source": [
    "u =  model_u(notes)\n",
    "p =  model_p(notes)\n",
    "r =  model_r(notes)\n",
    "plt.plot(x,(r).cpu().detach().numpy())"
   ]
  },
  {
   "cell_type": "code",
   "execution_count": null,
   "metadata": {},
   "outputs": [],
   "source": []
  }
 ],
 "metadata": {
  "kernelspec": {
   "display_name": "Python 3",
   "language": "python",
   "name": "python3"
  },
  "language_info": {
   "codemirror_mode": {
    "name": "ipython",
    "version": 3
   },
   "file_extension": ".py",
   "mimetype": "text/x-python",
   "name": "python",
   "nbconvert_exporter": "python",
   "pygments_lexer": "ipython3",
   "version": "3.6.9"
  }
 },
 "nbformat": 4,
 "nbformat_minor": 4
}
