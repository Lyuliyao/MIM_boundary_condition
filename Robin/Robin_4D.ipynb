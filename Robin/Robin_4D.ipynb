{
 "cells": [
  {
   "cell_type": "code",
   "execution_count": 1,
   "metadata": {},
   "outputs": [],
   "source": [
    "import math\n",
    "import numpy as np\n",
    "import numpy.random as npr\n",
    "from numpy import linalg\n",
    "import torch\n",
    "import torch.nn as nn\n",
    "from torch.utils import data\n",
    "from torch.utils.data import Dataset\n",
    "import torch.optim as optim\n",
    "import time\n",
    "from useful_tools import isPointinPolygon,polyshow,Genpoint,Distance_pol,GenBC\n",
    "from network import ResNet\n",
    "from math import *\n",
    "torch.cuda.set_device(1)"
   ]
  },
  {
   "cell_type": "code",
   "execution_count": 2,
   "metadata": {},
   "outputs": [],
   "source": [
    "def sol_exact(x):\n",
    "    return torch.sin(pi*torch.sum(x,dim = 1)).reshape(x.shape[0],1)\n",
    "def sol_exact_H1(x):\n",
    "    sol = torch.zeros(x.shape[0],dim_set+1).cuda()\n",
    "    sol[:,0:1] = torch.sin(pi*torch.sum(x,dim = 1)).reshape(x.shape[0],1)\n",
    "    sol[:,1:dim_set+1] = pi*torch.cos(pi*torch.sum(x,dim = 1)).reshape(x.shape[0],1)\n",
    "    return sol"
   ]
  },
  {
   "cell_type": "code",
   "execution_count": 3,
   "metadata": {},
   "outputs": [],
   "source": [
    "def right(x):\n",
    "    return -dim_set*pi**2*torch.sin(pi*torch.sum(x,dim = 1)).reshape(x.shape[0],1)"
   ]
  },
  {
   "cell_type": "code",
   "execution_count": 4,
   "metadata": {},
   "outputs": [],
   "source": [
    "dim_set = 4\n",
    "Batch_size = 50000\n",
    "def DGM1():\n",
    "    x = torch.rand(Batch_size,dim_set).cuda()\n",
    "    x.requires_grad = True\n",
    "    u = model_u(x)\n",
    "    du = model_p(x)\n",
    "    r = model_r(x)\n",
    "    v= torch.ones(u.shape).cuda()\n",
    "    ux = torch.autograd.grad(u,x,grad_outputs=v,create_graph=True)[0]\n",
    "    loss1 = torch.sum((ux-du)**2)/Batch_size+torch.sum((r-u-du)**2)/Batch_size\n",
    "    return loss1"
   ]
  },
  {
   "cell_type": "code",
   "execution_count": 5,
   "metadata": {},
   "outputs": [],
   "source": [
    "def DGM2():\n",
    "    x = torch.rand(Batch_size,dim_set).cuda()\n",
    "    x.requires_grad = True\n",
    "    u = model_u(x)\n",
    "    du = model_p(x)\n",
    "    v= torch.ones(u.shape).cuda()\n",
    "    uxx = torch.zeros(Batch_size,dim_set).cuda()\n",
    "    for i in range(dim_set):\n",
    "        ux_tem = du[:,i].reshape([x.size()[0],1])\n",
    "        uxx_tem = torch.autograd.grad(ux_tem,x,grad_outputs=v,create_graph=True)[0]\n",
    "        uxx[:,i] = uxx_tem[:,i]\n",
    "    loss2 = torch.sum((torch.sum(uxx,dim=1).reshape([x.size()[0],1]) - right(x))**2)/Batch_size\n",
    "    return loss2"
   ]
  },
  {
   "cell_type": "code",
   "execution_count": 6,
   "metadata": {},
   "outputs": [
    {
     "data": {
      "text/plain": [
       "ResNet(\n",
       "  (fc1): Linear(in_features=4, out_features=10, bias=True)\n",
       "  (fc2): Linear(in_features=10, out_features=10, bias=True)\n",
       "  (fc3): Linear(in_features=10, out_features=10, bias=True)\n",
       "  (fc4): Linear(in_features=10, out_features=10, bias=True)\n",
       "  (outlayer): Linear(in_features=10, out_features=4, bias=True)\n",
       ")"
      ]
     },
     "execution_count": 6,
     "metadata": {},
     "output_type": "execute_result"
    }
   ],
   "source": [
    "model_u = ResNet(dim_set,10,1)\n",
    "model_r1 = ResNet(dim_set,10,dim_set)\n",
    "\n",
    "device=torch.device(\"cuda:1\" )\n",
    "model_u.to(device)\n",
    "model_r1.to(device)"
   ]
  },
  {
   "cell_type": "code",
   "execution_count": 7,
   "metadata": {},
   "outputs": [],
   "source": [
    "def model_r(x):\n",
    "    return x*(1-x)*model_r1(x) + torch.sin(pi*torch.sum(x,dim = 1)).reshape(x.shape[0],1) + pi * torch.cos(pi*torch.sum(x,dim = 1)).reshape(x.shape[0],1)"
   ]
  },
  {
   "cell_type": "code",
   "execution_count": 8,
   "metadata": {},
   "outputs": [],
   "source": [
    "def model_p(x):\n",
    "    return model_r(x)-model_u(x)"
   ]
  },
  {
   "cell_type": "code",
   "execution_count": 9,
   "metadata": {},
   "outputs": [],
   "source": [
    "def loss_error():\n",
    "    notes_error = torch.rand(10000,dim_set).cuda()\n",
    "    notes_error.requires_grad= True\n",
    "    exact = sol_exact_H1(notes_error)\n",
    "    u_L2 = sqrt(torch.sum((exact[:,0])**2)/10000)\n",
    "    Du_L2 = sqrt(torch.sum(exact[:,1:dim_set+1]**2)/10000)\n",
    "    predict = torch.zeros(10000,2*dim_set+2).cuda()\n",
    "    predict[:,0]= model_u(notes_error).reshape([1,notes_error.size()[0]])\n",
    "    predict[:,1:dim_set+1]= model_p(notes_error)\n",
    "    value1 = sqrt(torch.sum((predict[:,0] - exact[:,0])**2)/10000)/u_L2\n",
    "    value2 = sqrt(torch.sum((predict[:,1:dim_set+1] - exact[:,1:dim_set+1])**2)/10000)/Du_L2\n",
    "    return value1,value2"
   ]
  },
  {
   "cell_type": "code",
   "execution_count": 10,
   "metadata": {
    "scrolled": true
   },
   "outputs": [
    {
     "name": "stdout",
     "output_type": "stream",
     "text": [
      "i=  1\n",
      "error = 0.9721144514906775\n",
      "loss1 = tensor(99.0330, device='cuda:1')\n",
      "i=  501\n",
      "error = 0.25626179565507745\n",
      "loss1 = tensor(1.7638, device='cuda:1')\n",
      "i=  1001\n",
      "error = 0.08348228578499953\n",
      "loss1 = tensor(0.4747, device='cuda:1')\n",
      "i=  1501\n",
      "error = 0.05775893126591658\n",
      "loss1 = tensor(0.2887, device='cuda:1')\n",
      "i=  2001\n",
      "error = 0.051262519380665825\n",
      "loss1 = tensor(0.2219, device='cuda:1')\n",
      "i=  2501\n",
      "error = 0.04677261884720634\n",
      "loss1 = tensor(0.1740, device='cuda:1')\n",
      "i=  3001\n",
      "error = 0.04141946201257504\n",
      "loss1 = tensor(0.1355, device='cuda:1')\n",
      "i=  3501\n",
      "error = 0.0332555693002289\n",
      "loss1 = tensor(0.1026, device='cuda:1')\n",
      "i=  4001\n",
      "error = 0.02741025271872718\n",
      "loss1 = tensor(0.0750, device='cuda:1')\n",
      "i=  4501\n",
      "error = 0.02280314728265013\n",
      "loss1 = tensor(0.0519, device='cuda:1')\n",
      "i=  5001\n",
      "error = 0.018663320698657546\n",
      "loss1 = tensor(0.0362, device='cuda:1')\n",
      "i=  5501\n",
      "error = 0.015001939766916333\n",
      "loss1 = tensor(0.0260, device='cuda:1')\n",
      "i=  6001\n",
      "error = 0.016479610911670734\n",
      "loss1 = tensor(0.0250, device='cuda:1')\n",
      "i=  6501\n",
      "error = 0.013803970321052732\n",
      "loss1 = tensor(0.0181, device='cuda:1')\n",
      "i=  7001\n",
      "error = 0.014313590069194974\n",
      "loss1 = tensor(0.0129, device='cuda:1')\n",
      "i=  7501\n",
      "error = 0.01476274593058984\n",
      "loss1 = tensor(0.0155, device='cuda:1')\n",
      "i=  8001\n",
      "error = 0.010067967633058773\n",
      "loss1 = tensor(0.0086, device='cuda:1')\n",
      "i=  8501\n",
      "error = 0.00919801621461548\n",
      "loss1 = tensor(0.0067, device='cuda:1')\n",
      "i=  9001\n",
      "error = 0.008184473561418335\n",
      "loss1 = tensor(0.0063, device='cuda:1')\n",
      "i=  9501\n",
      "error = 0.008348278287537095\n",
      "loss1 = tensor(0.0064, device='cuda:1')\n",
      "i=  10001\n",
      "error = 0.014264726573325184\n",
      "loss1 = tensor(0.0104, device='cuda:1')\n",
      "i=  10501\n",
      "error = 0.007168849622958362\n",
      "loss1 = tensor(0.0055, device='cuda:1')\n",
      "i=  11001\n",
      "error = 0.007452112657193237\n",
      "loss1 = tensor(0.0048, device='cuda:1')\n",
      "i=  11501\n",
      "error = 0.006606698302247388\n",
      "loss1 = tensor(0.0042, device='cuda:1')\n",
      "i=  12001\n",
      "error = 0.0076759530302528255\n",
      "loss1 = tensor(0.0057, device='cuda:1')\n",
      "i=  12501\n",
      "error = 0.007447375387487767\n",
      "loss1 = tensor(0.0049, device='cuda:1')\n",
      "i=  13001\n",
      "error = 0.012758496679920505\n",
      "loss1 = tensor(0.0109, device='cuda:1')\n",
      "i=  13501\n",
      "error = 0.006889433442237389\n",
      "loss1 = tensor(0.0038, device='cuda:1')\n",
      "i=  14001\n",
      "error = 0.0054646615582424184\n",
      "loss1 = tensor(0.0036, device='cuda:1')\n",
      "i=  14501\n",
      "error = 0.005872855406515176\n",
      "loss1 = tensor(0.0033, device='cuda:1')\n",
      "i=  15001\n",
      "error = 0.01556845168808404\n",
      "loss1 = tensor(0.0120, device='cuda:1')\n",
      "i=  15501\n",
      "error = 0.00562189346661375\n",
      "loss1 = tensor(0.0042, device='cuda:1')\n",
      "i=  16001\n",
      "error = 0.016612601674414446\n",
      "loss1 = tensor(0.0171, device='cuda:1')\n",
      "i=  16501\n",
      "error = 0.00591901516000231\n",
      "loss1 = tensor(0.0032, device='cuda:1')\n",
      "i=  17001\n",
      "error = 0.004926752245786308\n",
      "loss1 = tensor(0.0032, device='cuda:1')\n",
      "i=  17501\n",
      "error = 0.003911092692167445\n",
      "loss1 = tensor(0.0028, device='cuda:1')\n",
      "i=  18001\n",
      "error = 0.006086885853249982\n",
      "loss1 = tensor(0.0031, device='cuda:1')\n",
      "i=  18501\n",
      "error = 0.0042514507590819305\n",
      "loss1 = tensor(0.0024, device='cuda:1')\n",
      "i=  19001\n",
      "error = 0.004432032353446109\n",
      "loss1 = tensor(0.0029, device='cuda:1')\n",
      "i=  19501\n",
      "error = 0.006121878476615285\n",
      "loss1 = tensor(0.0037, device='cuda:1')\n",
      "time cost 1994.3204782009125 s\n"
     ]
    }
   ],
   "source": [
    "traintime = 20000\n",
    "error_save=np.zeros([2,traintime])\n",
    "optimizer = optim.Adam([\n",
    "                {'params': model_r1.parameters()},\n",
    "                {'params': model_u.parameters()}\n",
    "            ])\n",
    "i = 0\n",
    "time_start=time.time()\n",
    "for i in range(traintime):\n",
    "    optimizer.zero_grad()\n",
    "    losses = DGM1()+DGM2()\n",
    "    losses.backward()\n",
    "    optimizer.step() \n",
    "    error1,error2 = loss_error()\n",
    "    error_save[0,i]=float(error1)\n",
    "    error_save[1,i]=float(error2)\n",
    "    i = i +1\n",
    "    if i%500==1:\n",
    "        print(\"i= \",i)\n",
    "        print(\"error =\",error1)\n",
    "        print(\"loss1 =\",losses.detach())\n",
    "        np.save(\"error_save_LDG_Robin_4D_w10.npy\", error_save)\n",
    "np.save(\"error_save_LDG_Robin_4D_w10.npy\", error_save)\n",
    "time_end=time.time()\n",
    "print('time cost',time_end-time_start,'s')"
   ]
  },
  {
   "cell_type": "code",
   "execution_count": 11,
   "metadata": {},
   "outputs": [],
   "source": [
    "import matplotlib.pyplot as plt\n",
    "x = np.arange(0,1,0.001)\n",
    "notes= torch.rand(1000,4).cuda()\n",
    "notes[:,0:3] = 0\n",
    "notes[:,3] = torch.tensor(x)"
   ]
  },
  {
   "cell_type": "code",
   "execution_count": 12,
   "metadata": {},
   "outputs": [],
   "source": [
    "u_e = sol_exact_H1(notes)[:,0:1]\n",
    "p_e = sol_exact_H1(notes)[:,1:4]"
   ]
  },
  {
   "cell_type": "code",
   "execution_count": 13,
   "metadata": {},
   "outputs": [
    {
     "data": {
      "text/plain": [
       "[<matplotlib.lines.Line2D at 0x7fa2bee12d90>,\n",
       " <matplotlib.lines.Line2D at 0x7fa2b651ded0>,\n",
       " <matplotlib.lines.Line2D at 0x7fa2b652e0d0>]"
      ]
     },
     "execution_count": 13,
     "metadata": {},
     "output_type": "execute_result"
    },
    {
     "data": {
      "image/png": "[encoded data removed]",
      "text/plain": [
       "<Figure size 432x288 with 1 Axes>"
      ]
     },
     "metadata": {
      "needs_background": "light"
     },
     "output_type": "display_data"
    }
   ],
   "source": [
    "plt.plot(x,(u_e+p_e).cpu().detach().numpy())"
   ]
  },
  {
   "cell_type": "code",
   "execution_count": 14,
   "metadata": {},
   "outputs": [
    {
     "data": {
      "text/plain": [
       "[<matplotlib.lines.Line2D at 0x7fa2b6448110>,\n",
       " <matplotlib.lines.Line2D at 0x7fa2b6448310>,\n",
       " <matplotlib.lines.Line2D at 0x7fa2b64484d0>,\n",
       " <matplotlib.lines.Line2D at 0x7fa2b6448690>]"
      ]
     },
     "execution_count": 14,
     "metadata": {},
     "output_type": "execute_result"
    },
    {
     "data": {
      "image/png": "[encoded data removed]",
      "text/plain": [
       "<Figure size 432x288 with 1 Axes>"
      ]
     },
     "metadata": {
      "needs_background": "light"
     },
     "output_type": "display_data"
    }
   ],
   "source": [
    "u =  model_u(notes)\n",
    "p =  model_p(notes)\n",
    "r =  model_r(notes)\n",
    "plt.plot(x,(r).cpu().detach().numpy())"
   ]
  },
  {
   "cell_type": "code",
   "execution_count": null,
   "metadata": {},
   "outputs": [],
   "source": []
  },
  {
   "cell_type": "code",
   "execution_count": null,
   "metadata": {},
   "outputs": [],
   "source": []
  }
 ],
 "metadata": {
  "kernelspec": {
   "display_name": "Python 3",
   "language": "python",
   "name": "python3"
  },
  "language_info": {
   "codemirror_mode": {
    "name": "ipython",
    "version": 3
   },
   "file_extension": ".py",
   "mimetype": "text/x-python",
   "name": "python",
   "nbconvert_exporter": "python",
   "pygments_lexer": "ipython3",
   "version": "3.7.6"
  }
 },
 "nbformat": 4,
 "nbformat_minor": 4
}
