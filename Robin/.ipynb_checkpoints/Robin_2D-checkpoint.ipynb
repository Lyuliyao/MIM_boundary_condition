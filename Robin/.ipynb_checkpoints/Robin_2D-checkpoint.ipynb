{
 "cells": [
  {
   "cell_type": "code",
   "execution_count": 1,
   "metadata": {},
   "outputs": [],
   "source": [
    "import math\n",
    "import numpy as np\n",
    "import numpy.random as npr\n",
    "from numpy import linalg\n",
    "import torch\n",
    "import torch.nn as nn\n",
    "from torch.utils import data\n",
    "from torch.utils.data import Dataset\n",
    "import torch.optim as optim\n",
    "import time\n",
    "from useful_tools import isPointinPolygon,polyshow,Genpoint,Distance_pol,GenBC\n",
    "from network import ResNet\n",
    "from math import *\n",
    "torch.cuda.set_device(0)"
   ]
  },
  {
   "cell_type": "code",
   "execution_count": 2,
   "metadata": {},
   "outputs": [],
   "source": [
    "def sol_exact(x):\n",
    "    return torch.sin(pi*torch.sum(x,dim = 1)).reshape(x.shape[0],1)\n",
    "def sol_exact_H1(x):\n",
    "    sol = torch.zeros(x.shape[0],3).cuda()\n",
    "    sol[:,0:1] = torch.sin(pi*torch.sum(x,dim = 1)).reshape(x.shape[0],1)\n",
    "    sol[:,1:3] = pi*torch.cos(pi*torch.sum(x,dim = 1)).reshape(x.shape[0],1)\n",
    "    return sol"
   ]
  },
  {
   "cell_type": "code",
   "execution_count": 3,
   "metadata": {},
   "outputs": [],
   "source": [
    "def right(x):\n",
    "    return -2*pi**2*torch.sin(pi*torch.sum(x,dim = 1)).reshape(x.shape[0],1)"
   ]
  },
  {
   "cell_type": "code",
   "execution_count": 4,
   "metadata": {},
   "outputs": [],
   "source": [
    "dim_set = 2\n",
    "Batch_size = 50000\n",
    "def DGM1():\n",
    "    x = torch.rand(Batch_size,2).cuda()\n",
    "    x.requires_grad = True\n",
    "    u = model_u(x)\n",
    "    du = model_p(x)\n",
    "    r = model_r(x)\n",
    "    v= torch.ones(u.shape).cuda()\n",
    "    ux = torch.autograd.grad(u,x,grad_outputs=v,create_graph=True)[0]\n",
    "    loss1 = torch.sum((ux-du)**2)/Batch_size+torch.sum((r-u-du)**2)/Batch_size\n",
    "    return loss1"
   ]
  },
  {
   "cell_type": "code",
   "execution_count": 5,
   "metadata": {},
   "outputs": [],
   "source": [
    "def DGM2():\n",
    "    x = torch.rand(Batch_size,dim_set).cuda()\n",
    "    x.requires_grad = True\n",
    "    u = model_u(x)\n",
    "    du = model_p(x)\n",
    "    v= torch.ones(u.shape).cuda()\n",
    "    uxx = torch.zeros(Batch_size,dim_set).cuda()\n",
    "    for i in range(dim_set):\n",
    "        ux_tem = du[:,i].reshape([x.size()[0],1])\n",
    "        uxx_tem = torch.autograd.grad(ux_tem,x,grad_outputs=v,create_graph=True)[0]\n",
    "        uxx[:,i] = uxx_tem[:,i]\n",
    "    loss2 = torch.sum((torch.sum(uxx,dim=1).reshape([x.size()[0],1]) - right(x))**2)/Batch_size\n",
    "    return loss2"
   ]
  },
  {
   "cell_type": "code",
   "execution_count": 6,
   "metadata": {},
   "outputs": [
    {
     "data": {
      "text/plain": [
       "ResNet(\n",
       "  (fc1): Linear(in_features=2, out_features=5, bias=True)\n",
       "  (fc2): Linear(in_features=5, out_features=5, bias=True)\n",
       "  (fc3): Linear(in_features=5, out_features=5, bias=True)\n",
       "  (fc4): Linear(in_features=5, out_features=5, bias=True)\n",
       "  (outlayer): Linear(in_features=5, out_features=2, bias=True)\n",
       ")"
      ]
     },
     "execution_count": 6,
     "metadata": {},
     "output_type": "execute_result"
    }
   ],
   "source": [
    "model_u = ResNet(dim_set,5,1)\n",
    "model_r1 = ResNet(dim_set,5,dim_set)\n",
    "\n",
    "device=torch.device(\"cuda:0\" )\n",
    "model_u.to(device)\n",
    "model_r1.to(device)"
   ]
  },
  {
   "cell_type": "code",
   "execution_count": 7,
   "metadata": {},
   "outputs": [],
   "source": [
    "def model_r(x):\n",
    "    return x*(1-x)*model_r1(x) + torch.sin(pi*torch.sum(x,dim = 1)).reshape(x.shape[0],1) + pi * torch.cos(pi*torch.sum(x,dim = 1)).reshape(x.shape[0],1)"
   ]
  },
  {
   "cell_type": "code",
   "execution_count": null,
   "metadata": {},
   "outputs": [],
   "source": [
    "def model_p(x):\n",
    "    return model_r(x)-model_u(x)"
   ]
  },
  {
   "cell_type": "code",
   "execution_count": 8,
   "metadata": {},
   "outputs": [],
   "source": [
    "def loss_error():\n",
    "    notes_error = torch.rand(10000,dim_set).cuda()\n",
    "    notes_error.requires_grad= True\n",
    "    exact = sol_exact_H1(notes_error)\n",
    "    u_L2 = sqrt(torch.sum((exact[:,0])**2)/10000)\n",
    "    Du_L2 = sqrt(torch.sum(exact[:,1:dim_set+1]**2)/10000)\n",
    "    predict = torch.zeros(10000,2*dim_set+2).cuda()\n",
    "    predict[:,0]= model_u(notes_error).reshape([1,notes_error.size()[0]])\n",
    "    predict[:,1:dim_set+1]= model_p(notes_error)\n",
    "    value1 = sqrt(torch.sum((predict[:,0] - exact[:,0])**2)/10000)/u_L2\n",
    "    value2 = sqrt(torch.sum((predict[:,1:dim_set+1] - exact[:,1:dim_set+1])**2)/10000)/Du_L2\n",
    "    return value1,value2"
   ]
  },
  {
   "cell_type": "code",
   "execution_count": null,
   "metadata": {
    "scrolled": true
   },
   "outputs": [
    {
     "name": "stdout",
     "output_type": "stream",
     "text": [
      "i=  1\n",
      "error = 1.0171924022239522\n",
      "loss1 = tensor(207.1523, device='cuda:0')\n",
      "i=  501\n",
      "error = 3.185702014032043\n",
      "loss1 = tensor(15.6811, device='cuda:0')\n",
      "i=  1001\n",
      "error = 3.5662160159844385\n",
      "loss1 = tensor(5.0004, device='cuda:0')\n",
      "i=  1501\n",
      "error = 2.9137799452075024\n",
      "loss1 = tensor(1.2366, device='cuda:0')\n",
      "i=  2001\n",
      "error = 2.616638492592026\n",
      "loss1 = tensor(0.3857, device='cuda:0')\n",
      "i=  2501\n",
      "error = 2.2256842407999295\n",
      "loss1 = tensor(0.1990, device='cuda:0')\n",
      "i=  3001\n",
      "error = 1.6098527084874787\n",
      "loss1 = tensor(0.1106, device='cuda:0')\n",
      "i=  3501\n",
      "error = 1.0269551408294977\n",
      "loss1 = tensor(0.0705, device='cuda:0')\n",
      "i=  4001\n",
      "error = 0.7661160608959495\n",
      "loss1 = tensor(0.0586, device='cuda:0')\n",
      "i=  4501\n",
      "error = 0.6354656413048453\n",
      "loss1 = tensor(0.0488, device='cuda:0')\n",
      "i=  5001\n",
      "error = 0.5486385820885601\n",
      "loss1 = tensor(0.0606, device='cuda:0')\n",
      "i=  5501\n",
      "error = 0.492389111067237\n",
      "loss1 = tensor(0.0424, device='cuda:0')\n",
      "i=  6001\n",
      "error = 0.446882764460077\n",
      "loss1 = tensor(0.0347, device='cuda:0')\n",
      "i=  6501\n",
      "error = 0.4129681654181294\n",
      "loss1 = tensor(0.0336, device='cuda:0')\n",
      "i=  7001\n",
      "error = 0.3898098779994943\n",
      "loss1 = tensor(0.0289, device='cuda:0')\n",
      "i=  7501\n",
      "error = 0.3797011948230565\n",
      "loss1 = tensor(0.0277, device='cuda:0')\n",
      "i=  8001\n",
      "error = 0.36291146577705247\n",
      "loss1 = tensor(0.0253, device='cuda:0')\n",
      "i=  8501\n",
      "error = 0.3548757081375653\n",
      "loss1 = tensor(0.0233, device='cuda:0')\n",
      "i=  9001\n",
      "error = 0.34273657471397534\n",
      "loss1 = tensor(0.0206, device='cuda:0')\n",
      "i=  9501\n",
      "error = 0.32827432307098164\n",
      "loss1 = tensor(0.0255, device='cuda:0')\n",
      "i=  10001\n",
      "error = 0.3227407528031941\n",
      "loss1 = tensor(0.0174, device='cuda:0')\n",
      "i=  10501\n",
      "error = 0.31386307158943116\n",
      "loss1 = tensor(0.0161, device='cuda:0')\n",
      "i=  11001\n",
      "error = 0.29149868616516716\n",
      "loss1 = tensor(0.0172, device='cuda:0')\n",
      "i=  11501\n",
      "error = 0.2841634106668742\n",
      "loss1 = tensor(0.0155, device='cuda:0')\n",
      "i=  12001\n",
      "error = 0.27603090000968816\n",
      "loss1 = tensor(0.0164, device='cuda:0')\n",
      "i=  12501\n",
      "error = 0.26428263515672384\n",
      "loss1 = tensor(0.0147, device='cuda:0')\n",
      "i=  13001\n",
      "error = 0.24826240295091306\n",
      "loss1 = tensor(0.0233, device='cuda:0')\n",
      "i=  13501\n",
      "error = 0.26841073870763454\n",
      "loss1 = tensor(0.0152, device='cuda:0')\n",
      "i=  14001\n",
      "error = 0.2506461151299815\n",
      "loss1 = tensor(0.0137, device='cuda:0')\n",
      "i=  14501\n",
      "error = 0.2459966638452545\n",
      "loss1 = tensor(0.0100, device='cuda:0')\n"
     ]
    }
   ],
   "source": [
    "traintime = 50000\n",
    "error_save=np.zeros([2,traintime])\n",
    "optimizer = optim.Adam([\n",
    "                {'params': model_r1.parameters()},{'params': model_p.parameters()},\n",
    "                {'params': model_u.parameters()}\n",
    "            ])\n",
    "i = 0\n",
    "time_start=time.time()\n",
    "for i in range(traintime):\n",
    "    optimizer.zero_grad()\n",
    "    losses = DGM1()+DGM2()\n",
    "    losses.backward()\n",
    "    optimizer.step() \n",
    "    error1,error2 = loss_error()\n",
    "    error_save[0,i]=float(error1)\n",
    "    error_save[1,i]=float(error2)\n",
    "    i = i +1\n",
    "    if i%500==1:\n",
    "        print(\"i= \",i)\n",
    "        print(\"error =\",error1)\n",
    "        print(\"loss1 =\",losses.detach())\n",
    "        np.save(\"error_save_LDG_Robin_2D_w20.npy\", error_save)\n",
    "np.save(\"error_save_LDG_Robin_2D_w20.npy\", error_save)\n",
    "time_end=time.time()\n",
    "print('time cost',time_end-time_start,'s')"
   ]
  },
  {
   "cell_type": "code",
   "execution_count": null,
   "metadata": {},
   "outputs": [],
   "source": [
    "import matplotlib.pyplot as plt\n",
    "x = np.arange(0,1,0.01)\n",
    "notes= torch.rand(100,2).cuda()\n",
    "notes[:,0:1] = 1\n",
    "notes[:,1] = torch.tensor(x)"
   ]
  },
  {
   "cell_type": "code",
   "execution_count": null,
   "metadata": {},
   "outputs": [],
   "source": [
    "u_e = sol_exact_H1(notes)[:,0:1]\n",
    "p_e = sol_exact_H1(notes)[:,1:3]"
   ]
  },
  {
   "cell_type": "code",
   "execution_count": null,
   "metadata": {},
   "outputs": [],
   "source": [
    "plt.plot(x,(u_e+p_e).cpu().detach().numpy())"
   ]
  },
  {
   "cell_type": "code",
   "execution_count": null,
   "metadata": {},
   "outputs": [],
   "source": [
    "u =  model_u(notes)\n",
    "p =  model_p(notes)\n",
    "r =  model_r(notes)\n",
    "plt.plot(x,(r).cpu().detach().numpy())"
   ]
  },
  {
   "cell_type": "code",
   "execution_count": null,
   "metadata": {},
   "outputs": [],
   "source": []
  }
 ],
 "metadata": {
  "kernelspec": {
   "display_name": "Python 3",
   "language": "python",
   "name": "python3"
  },
  "language_info": {
   "codemirror_mode": {
    "name": "ipython",
    "version": 3
   },
   "file_extension": ".py",
   "mimetype": "text/x-python",
   "name": "python",
   "nbconvert_exporter": "python",
   "pygments_lexer": "ipython3",
   "version": "3.7.6"
  }
 },
 "nbformat": 4,
 "nbformat_minor": 4
}
