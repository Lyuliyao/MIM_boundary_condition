{
 "cells": [
  {
   "cell_type": "code",
   "execution_count": 1,
   "metadata": {},
   "outputs": [],
   "source": [
    "import math\n",
    "import numpy as np\n",
    "import numpy.random as npr\n",
    "from numpy import linalg\n",
    "import torch\n",
    "import torch.nn as nn\n",
    "from torch.utils import data\n",
    "from torch.utils.data import Dataset\n",
    "import torch.optim as optim\n",
    "import time\n",
    "from useful_tools import isPointinPolygon,polyshow,Genpoint,Distance_pol,GenBC\n",
    "from network import ResNet\n",
    "from math import *\n",
    "torch.cuda.set_device(0)"
   ]
  },
  {
   "cell_type": "code",
   "execution_count": 2,
   "metadata": {},
   "outputs": [],
   "source": [
    "def sol_exact(x):\n",
    "    return torch.sin(pi*torch.sum(x,dim = 1)).reshape(x.shape[0],1)\n",
    "def sol_exact_H1(x):\n",
    "    sol = torch.zeros(x.shape[0],3).cuda()\n",
    "    sol[:,0:1] = torch.sin(pi*torch.sum(x,dim = 1)).reshape(x.shape[0],1)\n",
    "    sol[:,1:3] = pi*torch.cos(pi*torch.sum(x,dim = 1)).reshape(x.shape[0],1)\n",
    "    return sol"
   ]
  },
  {
   "cell_type": "code",
   "execution_count": 3,
   "metadata": {},
   "outputs": [],
   "source": [
    "def right(x):\n",
    "    return -2*pi**2*torch.sin(pi*torch.sum(x,dim = 1)).reshape(x.shape[0],1)"
   ]
  },
  {
   "cell_type": "code",
   "execution_count": 4,
   "metadata": {},
   "outputs": [],
   "source": [
    "dim_set = 2\n",
    "Batch_size = 50000\n",
    "def DGM1():\n",
    "    x = torch.rand(Batch_size,2).cuda()\n",
    "    x.requires_grad = True\n",
    "    u = model_u(x)\n",
    "    du = model_p(x)\n",
    "    r = model_r(x)\n",
    "    v= torch.ones(u.shape).cuda()\n",
    "    ux = torch.autograd.grad(u,x,grad_outputs=v,create_graph=True)[0]\n",
    "    loss1 = torch.sum((ux-du)**2)/Batch_size+torch.sum((r-u-du)**2)/Batch_size\n",
    "    return loss1"
   ]
  },
  {
   "cell_type": "code",
   "execution_count": 5,
   "metadata": {},
   "outputs": [],
   "source": [
    "def DGM2():\n",
    "    x = torch.rand(Batch_size,dim_set).cuda()\n",
    "    x.requires_grad = True\n",
    "    u = model_u(x)\n",
    "    du = model_p(x)\n",
    "    v= torch.ones(u.shape).cuda()\n",
    "    uxx = torch.zeros(Batch_size,dim_set).cuda()\n",
    "    for i in range(dim_set):\n",
    "        ux_tem = du[:,i].reshape([x.size()[0],1])\n",
    "        uxx_tem = torch.autograd.grad(ux_tem,x,grad_outputs=v,create_graph=True)[0]\n",
    "        uxx[:,i] = uxx_tem[:,i]\n",
    "    loss2 = torch.sum((torch.sum(uxx,dim=1).reshape([x.size()[0],1]) - right(x))**2)/Batch_size\n",
    "    return loss2"
   ]
  },
  {
   "cell_type": "code",
   "execution_count": 6,
   "metadata": {},
   "outputs": [
    {
     "data": {
      "text/plain": [
       "ResNet(\n",
       "  (fc1): Linear(in_features=2, out_features=5, bias=True)\n",
       "  (fc2): Linear(in_features=5, out_features=5, bias=True)\n",
       "  (fc3): Linear(in_features=5, out_features=5, bias=True)\n",
       "  (fc4): Linear(in_features=5, out_features=5, bias=True)\n",
       "  (outlayer): Linear(in_features=5, out_features=2, bias=True)\n",
       ")"
      ]
     },
     "execution_count": 6,
     "metadata": {},
     "output_type": "execute_result"
    }
   ],
   "source": [
    "model_u = ResNet(dim_set,5,1)\n",
    "model_r1 = ResNet(dim_set,5,dim_set)\n",
    "\n",
    "device=torch.device(\"cuda:0\" )\n",
    "model_u.to(device)\n",
    "model_r1.to(device)"
   ]
  },
  {
   "cell_type": "code",
   "execution_count": 7,
   "metadata": {},
   "outputs": [],
   "source": [
    "def model_r(x):\n",
    "    return x*(1-x)*model_r1(x) + torch.sin(pi*torch.sum(x,dim = 1)).reshape(x.shape[0],1) + pi * torch.cos(pi*torch.sum(x,dim = 1)).reshape(x.shape[0],1)"
   ]
  },
  {
   "cell_type": "code",
   "execution_count": 8,
   "metadata": {},
   "outputs": [],
   "source": [
    "def model_p(x):\n",
    "    return model_r(x)-model_u(x)"
   ]
  },
  {
   "cell_type": "code",
   "execution_count": 9,
   "metadata": {},
   "outputs": [],
   "source": [
    "def loss_error():\n",
    "    notes_error = torch.rand(10000,dim_set).cuda()\n",
    "    notes_error.requires_grad= True\n",
    "    exact = sol_exact_H1(notes_error)\n",
    "    u_L2 = sqrt(torch.sum((exact[:,0])**2)/10000)\n",
    "    Du_L2 = sqrt(torch.sum(exact[:,1:dim_set+1]**2)/10000)\n",
    "    predict = torch.zeros(10000,2*dim_set+2).cuda()\n",
    "    predict[:,0]= model_u(notes_error).reshape([1,notes_error.size()[0]])\n",
    "    predict[:,1:dim_set+1]= model_p(notes_error)\n",
    "    value1 = sqrt(torch.sum((predict[:,0] - exact[:,0])**2)/10000)/u_L2\n",
    "    value2 = sqrt(torch.sum((predict[:,1:dim_set+1] - exact[:,1:dim_set+1])**2)/10000)/Du_L2\n",
    "    return value1,value2"
   ]
  },
  {
   "cell_type": "code",
   "execution_count": 10,
   "metadata": {
    "scrolled": true
   },
   "outputs": [
    {
     "name": "stdout",
     "output_type": "stream",
     "text": [
      "i=  1\n",
      "error = 0.9471593347227287\n",
      "loss1 = tensor(27.6166, device='cuda:0')\n",
      "i=  501\n",
      "error = 0.5734457871620938\n",
      "loss1 = tensor(0.9628, device='cuda:0')\n",
      "i=  1001\n",
      "error = 0.10765083814955327\n",
      "loss1 = tensor(0.1130, device='cuda:0')\n",
      "i=  1501\n",
      "error = 0.05019129454318565\n",
      "loss1 = tensor(0.0530, device='cuda:0')\n",
      "i=  2001\n",
      "error = 0.03939393657775342\n",
      "loss1 = tensor(0.0354, device='cuda:0')\n",
      "i=  2501\n",
      "error = 0.03235435186083299\n",
      "loss1 = tensor(0.0284, device='cuda:0')\n",
      "i=  3001\n",
      "error = 0.027192564896834238\n",
      "loss1 = tensor(0.0207, device='cuda:0')\n",
      "i=  3501\n",
      "error = 0.021158152903650924\n",
      "loss1 = tensor(0.0145, device='cuda:0')\n",
      "i=  4001\n",
      "error = 0.016176621491980174\n",
      "loss1 = tensor(0.0076, device='cuda:0')\n",
      "i=  4501\n",
      "error = 0.009871278039731951\n",
      "loss1 = tensor(0.0055, device='cuda:0')\n",
      "i=  5001\n",
      "error = 0.013684173928778564\n",
      "loss1 = tensor(0.0093, device='cuda:0')\n",
      "i=  5501\n",
      "error = 0.019913235440054945\n",
      "loss1 = tensor(0.0091, device='cuda:0')\n",
      "i=  6001\n",
      "error = 0.015882839985038064\n",
      "loss1 = tensor(0.0065, device='cuda:0')\n",
      "i=  6501\n",
      "error = 0.012784578554332177\n",
      "loss1 = tensor(0.0088, device='cuda:0')\n",
      "i=  7001\n",
      "error = 0.015161077668407174\n",
      "loss1 = tensor(0.0087, device='cuda:0')\n",
      "i=  7501\n",
      "error = 0.013542590592685907\n",
      "loss1 = tensor(0.0070, device='cuda:0')\n",
      "i=  8001\n",
      "error = 0.005019792483578964\n",
      "loss1 = tensor(0.0029, device='cuda:0')\n",
      "i=  8501\n",
      "error = 0.013538317147517704\n",
      "loss1 = tensor(0.0038, device='cuda:0')\n",
      "i=  9001\n",
      "error = 0.0036868407573213474\n",
      "loss1 = tensor(0.0025, device='cuda:0')\n",
      "i=  9501\n",
      "error = 0.003616412782722973\n",
      "loss1 = tensor(0.0025, device='cuda:0')\n",
      "i=  10001\n",
      "error = 0.008486384171258977\n",
      "loss1 = tensor(0.0106, device='cuda:0')\n",
      "i=  10501\n",
      "error = 0.006813072664001078\n",
      "loss1 = tensor(0.0032, device='cuda:0')\n",
      "i=  11001\n",
      "error = 0.013403416179574452\n",
      "loss1 = tensor(0.0061, device='cuda:0')\n",
      "i=  11501\n",
      "error = 0.013306305244064637\n",
      "loss1 = tensor(0.0045, device='cuda:0')\n",
      "i=  12001\n",
      "error = 0.015864919366392005\n",
      "loss1 = tensor(0.0080, device='cuda:0')\n",
      "i=  12501\n",
      "error = 0.0032515872013822466\n",
      "loss1 = tensor(0.0022, device='cuda:0')\n",
      "i=  13001\n",
      "error = 0.009551113081680433\n",
      "loss1 = tensor(0.0049, device='cuda:0')\n",
      "i=  13501\n",
      "error = 0.005705321608245235\n",
      "loss1 = tensor(0.0023, device='cuda:0')\n",
      "i=  14001\n",
      "error = 0.00832688145132841\n",
      "loss1 = tensor(0.0093, device='cuda:0')\n",
      "i=  14501\n",
      "error = 0.005225698664618675\n",
      "loss1 = tensor(0.0024, device='cuda:0')\n",
      "i=  15001\n",
      "error = 0.004321502492835518\n",
      "loss1 = tensor(0.0022, device='cuda:0')\n",
      "i=  15501\n",
      "error = 0.018851025696563068\n",
      "loss1 = tensor(0.0086, device='cuda:0')\n",
      "i=  16001\n",
      "error = 0.0179405016740395\n",
      "loss1 = tensor(0.0090, device='cuda:0')\n",
      "i=  16501\n",
      "error = 0.0035136861765362815\n",
      "loss1 = tensor(0.0019, device='cuda:0')\n",
      "i=  17001\n",
      "error = 0.0038414899581050437\n",
      "loss1 = tensor(0.0020, device='cuda:0')\n",
      "i=  17501\n",
      "error = 0.014145749597405836\n",
      "loss1 = tensor(0.0067, device='cuda:0')\n",
      "i=  18001\n",
      "error = 0.006718078888662451\n",
      "loss1 = tensor(0.0029, device='cuda:0')\n",
      "i=  18501\n",
      "error = 0.002995669653449332\n",
      "loss1 = tensor(0.0018, device='cuda:0')\n",
      "i=  19001\n",
      "error = 0.00384970183594341\n",
      "loss1 = tensor(0.0019, device='cuda:0')\n",
      "i=  19501\n",
      "error = 0.0029532965591255508\n",
      "loss1 = tensor(0.0018, device='cuda:0')\n",
      "time cost 1653.0184652805328 s\n"
     ]
    }
   ],
   "source": [
    "traintime = 20000\n",
    "error_save=np.zeros([2,traintime])\n",
    "optimizer = optim.Adam([\n",
    "                {'params': model_r1.parameters()},\n",
    "                {'params': model_u.parameters()}\n",
    "            ])\n",
    "i = 0\n",
    "time_start=time.time()\n",
    "for i in range(traintime):\n",
    "    optimizer.zero_grad()\n",
    "    losses = DGM1()+DGM2()\n",
    "    losses.backward()\n",
    "    optimizer.step() \n",
    "    error1,error2 = loss_error()\n",
    "    error_save[0,i]=float(error1)\n",
    "    error_save[1,i]=float(error2)\n",
    "    i = i +1\n",
    "    if i%500==1:\n",
    "        print(\"i= \",i)\n",
    "        print(\"error =\",error1)\n",
    "        print(\"loss1 =\",losses.detach())\n",
    "        np.save(\"error_save_LDG_Robin_2D_w5.npy\", error_save)\n",
    "np.save(\"error_save_LDG_Robin_2D_w5.npy\", error_save)\n",
    "time_end=time.time()\n",
    "print('time cost',time_end-time_start,'s')"
   ]
  },
  {
   "cell_type": "code",
   "execution_count": 11,
   "metadata": {},
   "outputs": [],
   "source": [
    "import matplotlib.pyplot as plt\n",
    "x = np.arange(0,1,0.01)\n",
    "notes= torch.rand(100,2).cuda()\n",
    "notes[:,0:1] = 1\n",
    "notes[:,1] = torch.tensor(x)"
   ]
  },
  {
   "cell_type": "code",
   "execution_count": 12,
   "metadata": {},
   "outputs": [],
   "source": [
    "u_e = sol_exact_H1(notes)[:,0:1]\n",
    "p_e = sol_exact_H1(notes)[:,1:3]"
   ]
  },
  {
   "cell_type": "code",
   "execution_count": 13,
   "metadata": {},
   "outputs": [
    {
     "data": {
      "text/plain": [
       "[<matplotlib.lines.Line2D at 0x7f632a6a8550>,\n",
       " <matplotlib.lines.Line2D at 0x7f63206b7150>]"
      ]
     },
     "execution_count": 13,
     "metadata": {},
     "output_type": "execute_result"
    },
    {
     "data": {
      "image/png": "[encoded data removed]",
      "text/plain": [
       "<Figure size 432x288 with 1 Axes>"
      ]
     },
     "metadata": {
      "needs_background": "light"
     },
     "output_type": "display_data"
    }
   ],
   "source": [
    "plt.plot(x,(u_e+p_e).cpu().detach().numpy())"
   ]
  },
  {
   "cell_type": "code",
   "execution_count": 14,
   "metadata": {},
   "outputs": [
    {
     "data": {
      "text/plain": [
       "[<matplotlib.lines.Line2D at 0x7f6320644ad0>,\n",
       " <matplotlib.lines.Line2D at 0x7f6320644d90>]"
      ]
     },
     "execution_count": 14,
     "metadata": {},
     "output_type": "execute_result"
    },
    {
     "data": {
      "image/png": "[encoded data removed]",
      "text/plain": [
       "<Figure size 432x288 with 1 Axes>"
      ]
     },
     "metadata": {
      "needs_background": "light"
     },
     "output_type": "display_data"
    }
   ],
   "source": [
    "u =  model_u(notes)\n",
    "p =  model_p(notes)\n",
    "r =  model_r(notes)\n",
    "plt.plot(x,(r).cpu().detach().numpy())"
   ]
  },
  {
   "cell_type": "code",
   "execution_count": null,
   "metadata": {},
   "outputs": [],
   "source": []
  }
 ],
 "metadata": {
  "kernelspec": {
   "display_name": "Python 3",
   "language": "python",
   "name": "python3"
  },
  "language_info": {
   "codemirror_mode": {
    "name": "ipython",
    "version": 3
   },
   "file_extension": ".py",
   "mimetype": "text/x-python",
   "name": "python",
   "nbconvert_exporter": "python",
   "pygments_lexer": "ipython3",
   "version": "3.7.6"
  }
 },
 "nbformat": 4,
 "nbformat_minor": 4
}
