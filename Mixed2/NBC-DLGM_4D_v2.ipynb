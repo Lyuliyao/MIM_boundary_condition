{
 "cells": [
  {
   "cell_type": "code",
   "execution_count": 1,
   "metadata": {},
   "outputs": [],
   "source": [
    "import math\n",
    "import numpy as np\n",
    "import numpy.random as npr\n",
    "from numpy import linalg\n",
    "import torch\n",
    "import torch.nn as nn\n",
    "import torch.nn.functional as F\n",
    "from torch.utils import data\n",
    "from torch.utils.data import Dataset\n",
    "import torch.optim as optim\n",
    "import time\n",
    "from math import *\n",
    "torch.cuda.set_device(0)"
   ]
  },
  {
   "cell_type": "code",
   "execution_count": 2,
   "metadata": {},
   "outputs": [],
   "source": [
    "torch.set_default_tensor_type('torch.DoubleTensor')"
   ]
  },
  {
   "cell_type": "code",
   "execution_count": 3,
   "metadata": {},
   "outputs": [],
   "source": [
    "class ResNet(nn.Module):\n",
    "    def __init__(self,dim, m,o):\n",
    "        super(ResNet, self).__init__()\n",
    "        self.Ix = torch.zeros([dim,m]).cuda()\n",
    "        self.Ix[0,0] = 1\n",
    "        self.Ix[1,1] = 1\n",
    "        self.fc1 = nn.Linear(dim, m)\n",
    "        self.fc2 = nn.Linear(m, m)\n",
    "        \n",
    "        self.fc3 = nn.Linear(m, m)\n",
    "        self.fc4 = nn.Linear(m, m)\n",
    "\n",
    "        \n",
    "        self.outlayer = nn.Linear(m, o)\n",
    "\n",
    "    def forward(self, x):\n",
    "        s = x@self.Ix\n",
    "        y = self.fc1(x)\n",
    "        y = F.relu(y**deg)\n",
    "        y = self.fc2(y)\n",
    "        y = F.relu(y**deg)\n",
    "        y = y+s\n",
    "        \n",
    "        s=y\n",
    "        y = self.fc3(y)\n",
    "        y = F.relu(y**deg)\n",
    "        y = self.fc4(y)\n",
    "        y = F.relu(y**deg)\n",
    "        y = y+s\n",
    "        \n",
    "        \n",
    "        output = self.outlayer(y)\n",
    "        return output\n",
    "deg = 2"
   ]
  },
  {
   "cell_type": "code",
   "execution_count": 4,
   "metadata": {},
   "outputs": [],
   "source": [
    "def sol_exact(x):\n",
    "    x_tem = torch.cos(pi*x[:,1:dim_set])\n",
    "    sol = torch.sum(x_tem,dim=1).reshape([x.size()[0],1])\n",
    "    return sol * (x[:,0:1]+ 2/5)*(1-x[:,0:1])*(x[:,0:1]+x[:,1:2])*(x[:,0:1]-x[:,1:2]+1)*(x[:,1:2])*(x[:,1:2]-1)"
   ]
  },
  {
   "cell_type": "code",
   "execution_count": 5,
   "metadata": {},
   "outputs": [],
   "source": [
    "def sol_exact_H1(x):\n",
    "    sol = torch.zeros(x.size()[0],dim_set+1).cuda()\n",
    "    x.requires_grad = True\n",
    "    u = sol_exact(x)\n",
    "    sol[:,0:1] =  u\n",
    "    v= torch.ones(u.shape).cuda()\n",
    "    sol[:,1:dim_set+1] = torch.autograd.grad(u,x,grad_outputs=v,create_graph=True)[0]\n",
    "    return sol"
   ]
  },
  {
   "cell_type": "code",
   "execution_count": 6,
   "metadata": {},
   "outputs": [],
   "source": [
    "def right(x):\n",
    "    du = sol_exact_H1(x)[:,1:dim_set+1]\n",
    "    v= torch.ones([x.shape[0],1]).cuda()\n",
    "    uxx = torch.zeros(Batch_size,dim_set).cuda()\n",
    "    for i in range(dim_set):\n",
    "        ux_tem = du[:,i].reshape([x.size()[0],1])\n",
    "        uxx_tem = torch.autograd.grad(ux_tem,x,grad_outputs=v,create_graph=True)[0]\n",
    "        uxx[:,i] = uxx_tem[:,i]\n",
    "    return torch.sum(uxx,dim=1).reshape([x.size()[0],1])"
   ]
  },
  {
   "cell_type": "code",
   "execution_count": 7,
   "metadata": {},
   "outputs": [],
   "source": [
    "def DataGen(BatchSize):\n",
    "    x = torch.rand(BatchSize,dim_set)\n",
    "    x[:,0:1] = 7/5*x[:,0:1] - 2/5\n",
    "    index = (x[:,0:1]+x[:,1:2] >0)* (x[:,0:1]-x[:,1:2]+1>0)\n",
    "    return index*x + ~index * torch.rand(BatchSize,dim_set)"
   ]
  },
  {
   "cell_type": "code",
   "execution_count": 8,
   "metadata": {},
   "outputs": [],
   "source": [
    "dim_set = 4\n",
    "Batch_size = 10000\n",
    "def DRM1():\n",
    "    x = DataGen(Batch_size).cuda()\n",
    "    x.requires_grad = True\n",
    "    u = model_u(x)\n",
    "    du = model_p(x)\n",
    "    v= torch.ones(u.shape).cuda()\n",
    "    ux = torch.autograd.grad(u,x,grad_outputs=v,create_graph=True)[0]\n",
    "    loss1 = torch.sum((ux-du)**2)/Batch_size\n",
    "    return loss1"
   ]
  },
  {
   "cell_type": "code",
   "execution_count": 9,
   "metadata": {},
   "outputs": [],
   "source": [
    "def DRM2():\n",
    "    x = DataGen(Batch_size).cuda()\n",
    "    x.requires_grad = True\n",
    "    u = model_u(x)\n",
    "    du = model_p(x)\n",
    "    v= torch.ones(u.shape).cuda()\n",
    "    uxx = torch.zeros(Batch_size,dim_set).cuda()\n",
    "    for i in range(dim_set):\n",
    "        ux_tem = du[:,i].reshape([x.size()[0],1])\n",
    "        uxx_tem = torch.autograd.grad(ux_tem,x,grad_outputs=v,create_graph=True)[0]\n",
    "        uxx[:,i] = uxx_tem[:,i]\n",
    "    loss2 = torch.sum((torch.sum(uxx,dim=1).reshape([x.size()[0],1])  - right(x))**2)/Batch_size\n",
    "    return loss2"
   ]
  },
  {
   "cell_type": "code",
   "execution_count": 10,
   "metadata": {},
   "outputs": [],
   "source": [
    "def model_p(x):\n",
    "    multi = x*(1-x)\n",
    "    multi[:,0:2] = 1\n",
    "    return model_p1(x)*multi"
   ]
  },
  {
   "cell_type": "code",
   "execution_count": 11,
   "metadata": {},
   "outputs": [],
   "source": [
    "def model_u(x):\n",
    "    return (x[:,0:1]+ 2/5)*(1-x[:,0:1])*(x[:,0:1]+x[:,1:2])*(x[:,0:1]-x[:,1:2]+1)*(x[:,1:2])*(x[:,1:2]-1)*model_u1(x) "
   ]
  },
  {
   "cell_type": "code",
   "execution_count": 12,
   "metadata": {},
   "outputs": [
    {
     "data": {
      "text/plain": [
       "ResNet(\n",
       "  (fc1): Linear(in_features=4, out_features=10, bias=True)\n",
       "  (fc2): Linear(in_features=10, out_features=10, bias=True)\n",
       "  (fc3): Linear(in_features=10, out_features=10, bias=True)\n",
       "  (fc4): Linear(in_features=10, out_features=10, bias=True)\n",
       "  (outlayer): Linear(in_features=10, out_features=4, bias=True)\n",
       ")"
      ]
     },
     "execution_count": 12,
     "metadata": {},
     "output_type": "execute_result"
    }
   ],
   "source": [
    "model_u1 = ResNet(dim_set,10,1)\n",
    "model_p1 = ResNet(dim_set,10,dim_set)\n",
    "\n",
    "device=torch.device(\"cuda:0\" )\n",
    "model_u1.to(device)\n",
    "model_p1.to(device)"
   ]
  },
  {
   "cell_type": "code",
   "execution_count": 13,
   "metadata": {},
   "outputs": [],
   "source": [
    "notes = torch.rand(10000,dim_set).cuda()\n",
    "exact = sol_exact_H1(notes)\n",
    "u_L2 = sqrt(torch.sum((exact[:,0])**2)/10000)\n",
    "Du_L2 = sqrt(torch.sum(exact[:,1:3]**2)/10000)\n",
    "def loss_error():\n",
    "    notes = torch.rand(10000,dim_set).cuda()\n",
    "    predict = torch.zeros(10000,2*dim_set+2).cuda()\n",
    "    predict[:,0]= model_u(notes).reshape([1,notes.size()[0]])\n",
    "    predict[:,1:dim_set+1]= model_p(notes)\n",
    "    exact = sol_exact_H1(notes)\n",
    "    value1 = sqrt(torch.sum((predict[:,0] - exact[:,0])**2)/10000)/u_L2\n",
    "    value2 = sqrt(torch.sum((predict[:,1:3] - exact[:,1:3])**2)/10000)/Du_L2\n",
    "    return value1,value2"
   ]
  },
  {
   "cell_type": "code",
   "execution_count": 14,
   "metadata": {
    "scrolled": true
   },
   "outputs": [
    {
     "name": "stdout",
     "output_type": "stream",
     "text": [
      "i=  1\n",
      "error = 1.0467427970234247\n",
      "loss1 = tensor(0.0264, device='cuda:0')\n",
      "loss2 = tensor(6.4851, device='cuda:0')\n",
      "i=  501\n",
      "error = 0.16448173901880508\n",
      "loss1 = tensor(0.0999, device='cuda:0')\n",
      "loss2 = tensor(0.5163, device='cuda:0')\n",
      "i=  1001\n",
      "error = 0.06649115576091488\n",
      "loss1 = tensor(0.0527, device='cuda:0')\n",
      "loss2 = tensor(0.0562, device='cuda:0')\n",
      "i=  1501\n",
      "error = 0.053881905856874586\n",
      "loss1 = tensor(0.0279, device='cuda:0')\n",
      "loss2 = tensor(0.0395, device='cuda:0')\n",
      "i=  2001\n",
      "error = 0.03782853908691933\n",
      "loss1 = tensor(0.0192, device='cuda:0')\n",
      "loss2 = tensor(0.0328, device='cuda:0')\n",
      "i=  2501\n",
      "error = 0.03038343944433966\n",
      "loss1 = tensor(0.0160, device='cuda:0')\n",
      "loss2 = tensor(0.0295, device='cuda:0')\n",
      "i=  3001\n",
      "error = 0.024457511390589153\n",
      "loss1 = tensor(0.0146, device='cuda:0')\n",
      "loss2 = tensor(0.0141, device='cuda:0')\n",
      "i=  3501\n",
      "error = 0.01505746938012918\n",
      "loss1 = tensor(0.0127, device='cuda:0')\n",
      "loss2 = tensor(0.0118, device='cuda:0')\n",
      "i=  4001\n",
      "error = 0.02508321287603157\n",
      "loss1 = tensor(0.0108, device='cuda:0')\n",
      "loss2 = tensor(0.0119, device='cuda:0')\n",
      "i=  4501\n",
      "error = 0.0164442949479373\n",
      "loss1 = tensor(0.0095, device='cuda:0')\n",
      "loss2 = tensor(0.0135, device='cuda:0')\n",
      "i=  5001\n",
      "error = 0.011878381108129239\n",
      "loss1 = tensor(0.0085, device='cuda:0')\n",
      "loss2 = tensor(0.0236, device='cuda:0')\n",
      "i=  5501\n",
      "error = 0.011965386531578687\n",
      "loss1 = tensor(0.0077, device='cuda:0')\n",
      "loss2 = tensor(0.0064, device='cuda:0')\n",
      "i=  6001\n",
      "error = 0.016589874280416732\n",
      "loss1 = tensor(0.0075, device='cuda:0')\n",
      "loss2 = tensor(0.0171, device='cuda:0')\n",
      "i=  6501\n",
      "error = 0.014794786077683555\n",
      "loss1 = tensor(0.0073, device='cuda:0')\n",
      "loss2 = tensor(0.0056, device='cuda:0')\n",
      "i=  7001\n",
      "error = 0.011157669818823093\n",
      "loss1 = tensor(0.0067, device='cuda:0')\n",
      "loss2 = tensor(0.0052, device='cuda:0')\n",
      "i=  7501\n",
      "error = 0.021842086377709107\n",
      "loss1 = tensor(0.0067, device='cuda:0')\n",
      "loss2 = tensor(0.0046, device='cuda:0')\n",
      "i=  8001\n",
      "error = 0.014711277704408532\n",
      "loss1 = tensor(0.0065, device='cuda:0')\n",
      "loss2 = tensor(0.0045, device='cuda:0')\n",
      "i=  8501\n",
      "error = 0.011657891772498045\n",
      "loss1 = tensor(0.0064, device='cuda:0')\n",
      "loss2 = tensor(0.0041, device='cuda:0')\n",
      "i=  9001\n",
      "error = 0.01285133559676321\n",
      "loss1 = tensor(0.0060, device='cuda:0')\n",
      "loss2 = tensor(0.0045, device='cuda:0')\n",
      "i=  9501\n",
      "error = 0.011183329752292881\n",
      "loss1 = tensor(0.0059, device='cuda:0')\n",
      "loss2 = tensor(0.0040, device='cuda:0')\n",
      "i=  10001\n",
      "error = 0.01376043066681849\n",
      "loss1 = tensor(0.0059, device='cuda:0')\n",
      "loss2 = tensor(0.0078, device='cuda:0')\n",
      "i=  10501\n",
      "error = 0.0106556021645844\n",
      "loss1 = tensor(0.0055, device='cuda:0')\n",
      "loss2 = tensor(0.0051, device='cuda:0')\n",
      "i=  11001\n",
      "error = 0.01273536166816158\n",
      "loss1 = tensor(0.0055, device='cuda:0')\n",
      "loss2 = tensor(0.0162, device='cuda:0')\n",
      "i=  11501\n",
      "error = 0.008256530221444396\n",
      "loss1 = tensor(0.0052, device='cuda:0')\n",
      "loss2 = tensor(0.0041, device='cuda:0')\n",
      "i=  12001\n",
      "error = 0.02182598990160766\n",
      "loss1 = tensor(0.0052, device='cuda:0')\n",
      "loss2 = tensor(0.0109, device='cuda:0')\n",
      "i=  12501\n",
      "error = 0.014932418653940368\n",
      "loss1 = tensor(0.0049, device='cuda:0')\n",
      "loss2 = tensor(0.0036, device='cuda:0')\n",
      "i=  13001\n",
      "error = 0.01549397494988226\n",
      "loss1 = tensor(0.0049, device='cuda:0')\n",
      "loss2 = tensor(0.0043, device='cuda:0')\n",
      "i=  13501\n",
      "error = 0.010626175538570976\n",
      "loss1 = tensor(0.0047, device='cuda:0')\n",
      "loss2 = tensor(0.0057, device='cuda:0')\n",
      "i=  14001\n",
      "error = 0.009602498727194044\n",
      "loss1 = tensor(0.0045, device='cuda:0')\n",
      "loss2 = tensor(0.0050, device='cuda:0')\n",
      "i=  14501\n",
      "error = 0.014766187867628911\n",
      "loss1 = tensor(0.0042, device='cuda:0')\n",
      "loss2 = tensor(0.0029, device='cuda:0')\n",
      "i=  15001\n",
      "error = 0.01039239405874519\n",
      "loss1 = tensor(0.0043, device='cuda:0')\n",
      "loss2 = tensor(0.0028, device='cuda:0')\n",
      "i=  15501\n",
      "error = 0.013091869022876772\n",
      "loss1 = tensor(0.0042, device='cuda:0')\n",
      "loss2 = tensor(0.0060, device='cuda:0')\n",
      "i=  16001\n",
      "error = 0.005476267105340722\n",
      "loss1 = tensor(0.0040, device='cuda:0')\n",
      "loss2 = tensor(0.0030, device='cuda:0')\n",
      "i=  16501\n",
      "error = 0.007694251273144271\n",
      "loss1 = tensor(0.0039, device='cuda:0')\n",
      "loss2 = tensor(0.0027, device='cuda:0')\n",
      "i=  17001\n",
      "error = 0.006116819881811369\n",
      "loss1 = tensor(0.0039, device='cuda:0')\n",
      "loss2 = tensor(0.0033, device='cuda:0')\n",
      "i=  17501\n",
      "error = 0.011462327684730059\n",
      "loss1 = tensor(0.0036, device='cuda:0')\n",
      "loss2 = tensor(0.0040, device='cuda:0')\n",
      "i=  18001\n",
      "error = 0.007170680947884081\n",
      "loss1 = tensor(0.0036, device='cuda:0')\n",
      "loss2 = tensor(0.0057, device='cuda:0')\n",
      "i=  18501\n",
      "error = 0.008213100014123792\n",
      "loss1 = tensor(0.0035, device='cuda:0')\n",
      "loss2 = tensor(0.0022, device='cuda:0')\n",
      "i=  19001\n",
      "error = 0.006736412869801643\n",
      "loss1 = tensor(0.0035, device='cuda:0')\n",
      "loss2 = tensor(0.0022, device='cuda:0')\n",
      "i=  19501\n",
      "error = 0.010031091854789469\n",
      "loss1 = tensor(0.0034, device='cuda:0')\n",
      "loss2 = tensor(0.0025, device='cuda:0')\n",
      "time cost 2156.1461024284363 s\n"
     ]
    }
   ],
   "source": [
    "traintime = 20000\n",
    "error_save=np.zeros([2,traintime])\n",
    "optimizer = optim.Adam([\n",
    "                {'params': model_u1.parameters()},\n",
    "                {'params': model_p1.parameters()},\n",
    "            ])\n",
    "time_start=time.time()\n",
    "for i in range(traintime):\n",
    "    optimizer.zero_grad()\n",
    "    losses1 = DRM1()\n",
    "    losses1.backward()\n",
    "    optimizer.step() \n",
    "    optimizer.zero_grad()\n",
    "    losses2 = DRM2()\n",
    "    losses2.backward()\n",
    "    optimizer.step() \n",
    "    error1,error2 = loss_error()\n",
    "    error_save[0,i]=float(error1)\n",
    "    error_save[1,i]=float(error2)\n",
    "    #scheduler.step()\n",
    "    if i%500==1:\n",
    "        print(\"i= \",i)\n",
    "        print(\"error =\",error1)\n",
    "        print(\"loss1 =\",losses1.detach())\n",
    "        print(\"loss2 =\",losses2.detach())\n",
    "        np.save(\"error_save_LDG_NBC_4D_v2.npy\", error_save)\n",
    "np.save(\"error_save_LDG_NBC_4D_v2.npy\", error_save)\n",
    "time_end=time.time()\n",
    "print('time cost',time_end-time_start,'s')"
   ]
  },
  {
   "cell_type": "code",
   "execution_count": 15,
   "metadata": {},
   "outputs": [],
   "source": [
    "import matplotlib.pyplot as plt"
   ]
  },
  {
   "cell_type": "code",
   "execution_count": 16,
   "metadata": {},
   "outputs": [
    {
     "ename": "IndexError",
     "evalue": "index 10 is out of bounds for axis 0 with size 2",
     "output_type": "error",
     "traceback": [
      "\u001b[0;31m---------------------------------------------------------------------------\u001b[0m",
      "\u001b[0;31mIndexError\u001b[0m                                Traceback (most recent call last)",
      "\u001b[0;32m<ipython-input-16-fbcae071b50b>\u001b[0m in \u001b[0;36m<module>\u001b[0;34m\u001b[0m\n\u001b[1;32m      1\u001b[0m \u001b[0mindex\u001b[0m \u001b[0;34m=\u001b[0m \u001b[0mnp\u001b[0m\u001b[0;34m.\u001b[0m\u001b[0marange\u001b[0m\u001b[0;34m(\u001b[0m\u001b[0;36m0\u001b[0m\u001b[0;34m,\u001b[0m\u001b[0;36m50000\u001b[0m\u001b[0;34m,\u001b[0m\u001b[0;36m10\u001b[0m\u001b[0;34m)\u001b[0m\u001b[0;34m\u001b[0m\u001b[0;34m\u001b[0m\u001b[0m\n\u001b[0;32m----> 2\u001b[0;31m \u001b[0mplt\u001b[0m\u001b[0;34m.\u001b[0m\u001b[0mplot\u001b[0m\u001b[0;34m(\u001b[0m\u001b[0mnp\u001b[0m\u001b[0;34m.\u001b[0m\u001b[0mlog10\u001b[0m\u001b[0;34m(\u001b[0m\u001b[0merror_save\u001b[0m\u001b[0;34m[\u001b[0m\u001b[0mindex\u001b[0m\u001b[0;34m]\u001b[0m\u001b[0;34m)\u001b[0m\u001b[0;34m)\u001b[0m\u001b[0;34m\u001b[0m\u001b[0;34m\u001b[0m\u001b[0m\n\u001b[0m",
      "\u001b[0;31mIndexError\u001b[0m: index 10 is out of bounds for axis 0 with size 2"
     ]
    }
   ],
   "source": [
    "index = np.arange(0,50000,10)\n",
    "plt.plot(np.log10(error_save[index]))"
   ]
  },
  {
   "cell_type": "code",
   "execution_count": null,
   "metadata": {},
   "outputs": [],
   "source": []
  },
  {
   "cell_type": "code",
   "execution_count": null,
   "metadata": {},
   "outputs": [],
   "source": [
    "def model_u(x):\n",
    "    return sol_exact_H1(x)[:,0:1]\n",
    "def model_p(x):\n",
    "    return sol_exact_H1(x)[:,1:dim_set+1]"
   ]
  },
  {
   "cell_type": "code",
   "execution_count": null,
   "metadata": {},
   "outputs": [],
   "source": []
  }
 ],
 "metadata": {
  "kernelspec": {
   "display_name": "Python 3",
   "language": "python",
   "name": "python3"
  },
  "language_info": {
   "codemirror_mode": {
    "name": "ipython",
    "version": 3
   },
   "file_extension": ".py",
   "mimetype": "text/x-python",
   "name": "python",
   "nbconvert_exporter": "python",
   "pygments_lexer": "ipython3",
   "version": "3.6.9"
  }
 },
 "nbformat": 4,
 "nbformat_minor": 4
}
