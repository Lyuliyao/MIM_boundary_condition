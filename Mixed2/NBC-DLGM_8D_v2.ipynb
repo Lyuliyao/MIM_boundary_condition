{
 "cells": [
  {
   "cell_type": "code",
   "execution_count": 1,
   "metadata": {},
   "outputs": [],
   "source": [
    "import math\n",
    "import numpy as np\n",
    "import numpy.random as npr\n",
    "from numpy import linalg\n",
    "import torch\n",
    "import torch.nn as nn\n",
    "import torch.nn.functional as F\n",
    "from torch.utils import data\n",
    "from torch.utils.data import Dataset\n",
    "import torch.optim as optim\n",
    "import time\n",
    "from math import *\n",
    "torch.cuda.set_device(0)"
   ]
  },
  {
   "cell_type": "code",
   "execution_count": 2,
   "metadata": {},
   "outputs": [],
   "source": [
    "torch.set_default_tensor_type('torch.DoubleTensor')"
   ]
  },
  {
   "cell_type": "code",
   "execution_count": 3,
   "metadata": {},
   "outputs": [],
   "source": [
    "class ResNet(nn.Module):\n",
    "    def __init__(self,dim, m,o):\n",
    "        super(ResNet, self).__init__()\n",
    "        self.Ix = torch.zeros([dim,m]).cuda()\n",
    "        self.Ix[0,0] = 1\n",
    "        self.Ix[1,1] = 1\n",
    "        self.fc1 = nn.Linear(dim, m)\n",
    "        self.fc2 = nn.Linear(m, m)\n",
    "        \n",
    "        self.fc3 = nn.Linear(m, m)\n",
    "        self.fc4 = nn.Linear(m, m)\n",
    "\n",
    "        \n",
    "        self.outlayer = nn.Linear(m, o)\n",
    "\n",
    "    def forward(self, x):\n",
    "        s = x@self.Ix\n",
    "        y = self.fc1(x)\n",
    "        y = F.relu(y**deg)\n",
    "        y = self.fc2(y)\n",
    "        y = F.relu(y**deg)\n",
    "        y = y+s\n",
    "        \n",
    "        s=y\n",
    "        y = self.fc3(y)\n",
    "        y = F.relu(y**deg)\n",
    "        y = self.fc4(y)\n",
    "        y = F.relu(y**deg)\n",
    "        y = y+s\n",
    "        \n",
    "        \n",
    "        output = self.outlayer(y)\n",
    "        return output\n",
    "deg = 2"
   ]
  },
  {
   "cell_type": "code",
   "execution_count": 4,
   "metadata": {},
   "outputs": [],
   "source": [
    "def sol_exact(x):\n",
    "    x_tem = torch.cos(pi*x[:,1:dim_set])\n",
    "    sol = torch.sum(x_tem,dim=1).reshape([x.size()[0],1])\n",
    "    return sol * (x[:,0:1]+ 2/5)*(1-x[:,0:1])*(x[:,0:1]+x[:,1:2])*(x[:,0:1]-x[:,1:2]+1)*(x[:,1:2])*(x[:,1:2]-1)"
   ]
  },
  {
   "cell_type": "code",
   "execution_count": 5,
   "metadata": {},
   "outputs": [],
   "source": [
    "def sol_exact_H1(x):\n",
    "    sol = torch.zeros(x.size()[0],dim_set+1).cuda()\n",
    "    x.requires_grad = True\n",
    "    u = sol_exact(x)\n",
    "    sol[:,0:1] =  u\n",
    "    v= torch.ones(u.shape).cuda()\n",
    "    sol[:,1:dim_set+1] = torch.autograd.grad(u,x,grad_outputs=v,create_graph=True)[0]\n",
    "    return sol"
   ]
  },
  {
   "cell_type": "code",
   "execution_count": 6,
   "metadata": {},
   "outputs": [],
   "source": [
    "def right(x):\n",
    "    du = sol_exact_H1(x)[:,1:dim_set+1]\n",
    "    v= torch.ones([x.shape[0],1]).cuda()\n",
    "    uxx = torch.zeros(Batch_size,dim_set).cuda()\n",
    "    for i in range(dim_set):\n",
    "        ux_tem = du[:,i].reshape([x.size()[0],1])\n",
    "        uxx_tem = torch.autograd.grad(ux_tem,x,grad_outputs=v,create_graph=True)[0]\n",
    "        uxx[:,i] = uxx_tem[:,i]\n",
    "    return torch.sum(uxx,dim=1).reshape([x.size()[0],1])"
   ]
  },
  {
   "cell_type": "code",
   "execution_count": 7,
   "metadata": {},
   "outputs": [],
   "source": [
    "def DataGen(BatchSize):\n",
    "    x = torch.rand(BatchSize,dim_set)\n",
    "    x[:,0:1] = 7/5*x[:,0:1] - 2/5\n",
    "    index = (x[:,0:1]+x[:,1:2] >0)* (x[:,0:1]-x[:,1:2]+1>0)\n",
    "    return index*x + ~index * torch.rand(BatchSize,dim_set)"
   ]
  },
  {
   "cell_type": "code",
   "execution_count": 8,
   "metadata": {},
   "outputs": [],
   "source": [
    "dim_set = 8\n",
    "Batch_size = 20000\n",
    "def DRM1():\n",
    "    x = DataGen(Batch_size).cuda()\n",
    "    x.requires_grad = True\n",
    "    u = model_u(x)\n",
    "    du = model_p(x)\n",
    "    v= torch.ones(u.shape).cuda()\n",
    "    ux = torch.autograd.grad(u,x,grad_outputs=v,create_graph=True)[0]\n",
    "    loss1 = torch.sum((ux-du)**2)/Batch_size\n",
    "    return loss1"
   ]
  },
  {
   "cell_type": "code",
   "execution_count": 9,
   "metadata": {},
   "outputs": [],
   "source": [
    "def DRM2():\n",
    "    x = DataGen(Batch_size).cuda()\n",
    "    x.requires_grad = True\n",
    "    u = model_u(x)\n",
    "    du = model_p(x)\n",
    "    v= torch.ones(u.shape).cuda()\n",
    "    uxx = torch.zeros(Batch_size,dim_set).cuda()\n",
    "    for i in range(dim_set):\n",
    "        ux_tem = du[:,i].reshape([x.size()[0],1])\n",
    "        uxx_tem = torch.autograd.grad(ux_tem,x,grad_outputs=v,create_graph=True)[0]\n",
    "        uxx[:,i] = uxx_tem[:,i]\n",
    "    loss2 = torch.sum((torch.sum(uxx,dim=1).reshape([x.size()[0],1])  - right(x))**2)/Batch_size\n",
    "    return loss2"
   ]
  },
  {
   "cell_type": "code",
   "execution_count": 10,
   "metadata": {},
   "outputs": [],
   "source": [
    "def model_p(x):\n",
    "    multi = x*(1-x)\n",
    "    multi[:,0:2] = 1\n",
    "    return model_p1(x)*multi"
   ]
  },
  {
   "cell_type": "code",
   "execution_count": 11,
   "metadata": {},
   "outputs": [],
   "source": [
    "def model_u(x):\n",
    "    return (x[:,0:1]+ 2/5)*(1-x[:,0:1])*(x[:,0:1]+x[:,1:2])*(x[:,0:1]-x[:,1:2]+1)*(x[:,1:2])*(x[:,1:2]-1)*model_u1(x) "
   ]
  },
  {
   "cell_type": "code",
   "execution_count": 12,
   "metadata": {},
   "outputs": [
    {
     "data": {
      "text/plain": [
       "ResNet(\n",
       "  (fc1): Linear(in_features=8, out_features=20, bias=True)\n",
       "  (fc2): Linear(in_features=20, out_features=20, bias=True)\n",
       "  (fc3): Linear(in_features=20, out_features=20, bias=True)\n",
       "  (fc4): Linear(in_features=20, out_features=20, bias=True)\n",
       "  (outlayer): Linear(in_features=20, out_features=8, bias=True)\n",
       ")"
      ]
     },
     "execution_count": 12,
     "metadata": {},
     "output_type": "execute_result"
    }
   ],
   "source": [
    "model_u1 = ResNet(dim_set,20,1)\n",
    "model_p1 = ResNet(dim_set,20,dim_set)\n",
    "\n",
    "device=torch.device(\"cuda:0\" )\n",
    "model_u1.to(device)\n",
    "model_p1.to(device)"
   ]
  },
  {
   "cell_type": "code",
   "execution_count": 13,
   "metadata": {},
   "outputs": [],
   "source": [
    "notes = torch.rand(10000,dim_set).cuda()\n",
    "exact = sol_exact_H1(notes)\n",
    "u_L2 = sqrt(torch.sum((exact[:,0])**2)/10000)\n",
    "Du_L2 = sqrt(torch.sum(exact[:,1:3]**2)/10000)\n",
    "def loss_error():\n",
    "    notes = torch.rand(10000,dim_set).cuda()\n",
    "    predict = torch.zeros(10000,2*dim_set+2).cuda()\n",
    "    predict[:,0]= model_u(notes).reshape([1,notes.size()[0]])\n",
    "    predict[:,1:dim_set+1]= model_p(notes)\n",
    "    exact = sol_exact_H1(notes)\n",
    "    value1 = sqrt(torch.sum((predict[:,0] - exact[:,0])**2)/10000)/u_L2\n",
    "    value2 = sqrt(torch.sum((predict[:,1:3] - exact[:,1:3])**2)/10000)/Du_L2\n",
    "    return value1,value2"
   ]
  },
  {
   "cell_type": "code",
   "execution_count": 14,
   "metadata": {
    "scrolled": true
   },
   "outputs": [
    {
     "name": "stdout",
     "output_type": "stream",
     "text": [
      "i=  1\n",
      "error = 0.9691140904402648\n",
      "loss1 = tensor(0.0428, device='cuda:0')\n",
      "loss2 = tensor(12.7201, device='cuda:0')\n",
      "i=  501\n",
      "error = 0.14533069970283924\n",
      "loss1 = tensor(0.1422, device='cuda:0')\n",
      "loss2 = tensor(0.2721, device='cuda:0')\n",
      "i=  1001\n",
      "error = 0.09078130864861626\n",
      "loss1 = tensor(0.0574, device='cuda:0')\n",
      "loss2 = tensor(0.1646, device='cuda:0')\n",
      "i=  1501\n",
      "error = 0.07645343274140333\n",
      "loss1 = tensor(0.0355, device='cuda:0')\n",
      "loss2 = tensor(0.1346, device='cuda:0')\n",
      "i=  2001\n",
      "error = 0.04464321695570838\n",
      "loss1 = tensor(0.0267, device='cuda:0')\n",
      "loss2 = tensor(0.1385, device='cuda:0')\n",
      "i=  2501\n",
      "error = 0.040876894060982244\n",
      "loss1 = tensor(0.0226, device='cuda:0')\n",
      "loss2 = tensor(0.1098, device='cuda:0')\n",
      "i=  3001\n",
      "error = 0.03110142572660834\n",
      "loss1 = tensor(0.0221, device='cuda:0')\n",
      "loss2 = tensor(0.0854, device='cuda:0')\n",
      "i=  3501\n",
      "error = 0.030705521860872657\n",
      "loss1 = tensor(0.0220, device='cuda:0')\n",
      "loss2 = tensor(0.0698, device='cuda:0')\n",
      "i=  4001\n",
      "error = 0.03852840156870038\n",
      "loss1 = tensor(0.0208, device='cuda:0')\n",
      "loss2 = tensor(0.0548, device='cuda:0')\n",
      "i=  4501\n",
      "error = 0.04463176261745107\n",
      "loss1 = tensor(0.0207, device='cuda:0')\n",
      "loss2 = tensor(0.0491, device='cuda:0')\n",
      "i=  5001\n",
      "error = 0.02526186681300238\n",
      "loss1 = tensor(0.0199, device='cuda:0')\n",
      "loss2 = tensor(0.0446, device='cuda:0')\n",
      "i=  5501\n",
      "error = 0.02563880191444499\n",
      "loss1 = tensor(0.0187, device='cuda:0')\n",
      "loss2 = tensor(0.0333, device='cuda:0')\n",
      "i=  6001\n",
      "error = 0.023162772924092627\n",
      "loss1 = tensor(0.0180, device='cuda:0')\n",
      "loss2 = tensor(0.0361, device='cuda:0')\n",
      "i=  6501\n",
      "error = 0.020909372438287804\n",
      "loss1 = tensor(0.0178, device='cuda:0')\n",
      "loss2 = tensor(0.0240, device='cuda:0')\n",
      "i=  7001\n",
      "error = 0.01969846800995918\n",
      "loss1 = tensor(0.0177, device='cuda:0')\n",
      "loss2 = tensor(0.0250, device='cuda:0')\n",
      "i=  7501\n",
      "error = 0.01859761280314398\n",
      "loss1 = tensor(0.0168, device='cuda:0')\n",
      "loss2 = tensor(0.0184, device='cuda:0')\n",
      "i=  8001\n",
      "error = 0.03155162133857317\n",
      "loss1 = tensor(0.0157, device='cuda:0')\n",
      "loss2 = tensor(0.0221, device='cuda:0')\n",
      "i=  8501\n",
      "error = 0.016256289800054786\n",
      "loss1 = tensor(0.0149, device='cuda:0')\n",
      "loss2 = tensor(0.0221, device='cuda:0')\n",
      "i=  9001\n",
      "error = 0.012516348129333246\n",
      "loss1 = tensor(0.0141, device='cuda:0')\n",
      "loss2 = tensor(0.0133, device='cuda:0')\n",
      "i=  9501\n",
      "error = 0.017223271516766392\n",
      "loss1 = tensor(0.0134, device='cuda:0')\n",
      "loss2 = tensor(0.0111, device='cuda:0')\n",
      "i=  10001\n",
      "error = 0.015159216134359374\n",
      "loss1 = tensor(0.0124, device='cuda:0')\n",
      "loss2 = tensor(0.0143, device='cuda:0')\n",
      "i=  10501\n",
      "error = 0.015678567419473075\n",
      "loss1 = tensor(0.0118, device='cuda:0')\n",
      "loss2 = tensor(0.0118, device='cuda:0')\n",
      "i=  11001\n",
      "error = 0.029489990716700387\n",
      "loss1 = tensor(0.0116, device='cuda:0')\n",
      "loss2 = tensor(0.0119, device='cuda:0')\n",
      "i=  11501\n",
      "error = 0.020884151547648448\n",
      "loss1 = tensor(0.0110, device='cuda:0')\n",
      "loss2 = tensor(0.0140, device='cuda:0')\n",
      "i=  12001\n",
      "error = 0.034511829334472194\n",
      "loss1 = tensor(0.0110, device='cuda:0')\n",
      "loss2 = tensor(0.0091, device='cuda:0')\n",
      "i=  12501\n",
      "error = 0.01038909637401609\n",
      "loss1 = tensor(0.0103, device='cuda:0')\n",
      "loss2 = tensor(0.0067, device='cuda:0')\n",
      "i=  13001\n",
      "error = 0.04352535797369055\n",
      "loss1 = tensor(0.0105, device='cuda:0')\n",
      "loss2 = tensor(0.0182, device='cuda:0')\n",
      "i=  13501\n",
      "error = 0.013459299677689406\n",
      "loss1 = tensor(0.0099, device='cuda:0')\n",
      "loss2 = tensor(0.0076, device='cuda:0')\n",
      "i=  14001\n",
      "error = 0.009562251499451703\n",
      "loss1 = tensor(0.0096, device='cuda:0')\n",
      "loss2 = tensor(0.0075, device='cuda:0')\n",
      "i=  14501\n",
      "error = 0.03738682323611237\n",
      "loss1 = tensor(0.0099, device='cuda:0')\n",
      "loss2 = tensor(0.0056, device='cuda:0')\n",
      "i=  15001\n",
      "error = 0.0347802702286661\n",
      "loss1 = tensor(0.0096, device='cuda:0')\n",
      "loss2 = tensor(0.0172, device='cuda:0')\n",
      "i=  15501\n",
      "error = 0.0151294924211731\n",
      "loss1 = tensor(0.0097, device='cuda:0')\n",
      "loss2 = tensor(0.0272, device='cuda:0')\n",
      "i=  16001\n",
      "error = 0.012017394386027962\n",
      "loss1 = tensor(0.0090, device='cuda:0')\n",
      "loss2 = tensor(0.0055, device='cuda:0')\n",
      "i=  16501\n",
      "error = 0.023209528017543828\n",
      "loss1 = tensor(0.0091, device='cuda:0')\n",
      "loss2 = tensor(0.0187, device='cuda:0')\n",
      "i=  17001\n",
      "error = 0.018314321220378363\n",
      "loss1 = tensor(0.0087, device='cuda:0')\n",
      "loss2 = tensor(0.0081, device='cuda:0')\n",
      "i=  17501\n",
      "error = 0.016682327351170957\n",
      "loss1 = tensor(0.0090, device='cuda:0')\n",
      "loss2 = tensor(0.0052, device='cuda:0')\n",
      "i=  18001\n",
      "error = 0.009176955069285344\n",
      "loss1 = tensor(0.0086, device='cuda:0')\n",
      "loss2 = tensor(0.0039, device='cuda:0')\n",
      "i=  18501\n",
      "error = 0.007246441513055742\n",
      "loss1 = tensor(0.0085, device='cuda:0')\n",
      "loss2 = tensor(0.0052, device='cuda:0')\n",
      "i=  19001\n",
      "error = 0.019038466084665615\n",
      "loss1 = tensor(0.0085, device='cuda:0')\n",
      "loss2 = tensor(0.0051, device='cuda:0')\n",
      "i=  19501\n",
      "error = 0.007504611902182614\n",
      "loss1 = tensor(0.0083, device='cuda:0')\n",
      "loss2 = tensor(0.0044, device='cuda:0')\n",
      "time cost 4023.7752385139465 s\n"
     ]
    }
   ],
   "source": [
    "traintime = 20000\n",
    "error_save=np.zeros([2,traintime])\n",
    "optimizer = optim.Adam([\n",
    "                {'params': model_u1.parameters()},\n",
    "                {'params': model_p1.parameters()},\n",
    "            ])\n",
    "time_start=time.time()\n",
    "for i in range(traintime):\n",
    "    optimizer.zero_grad()\n",
    "    losses1 = DRM1()\n",
    "    losses1.backward()\n",
    "    optimizer.step() \n",
    "    optimizer.zero_grad()\n",
    "    losses2 = DRM2()\n",
    "    losses2.backward()\n",
    "    optimizer.step() \n",
    "    error1,error2 = loss_error()\n",
    "    error_save[0,i]=float(error1)\n",
    "    error_save[1,i]=float(error2)\n",
    "    #scheduler.step()\n",
    "    if i%500==1:\n",
    "        print(\"i= \",i)\n",
    "        print(\"error =\",error1)\n",
    "        print(\"loss1 =\",losses1.detach())\n",
    "        print(\"loss2 =\",losses2.detach())\n",
    "        np.save(\"error_save_LDG_NBC_8D_v2.npy\", error_save)\n",
    "np.save(\"error_save_LDG_NBC_8D_v2.npy\", error_save)\n",
    "time_end=time.time()\n",
    "print('time cost',time_end-time_start,'s')"
   ]
  },
  {
   "cell_type": "code",
   "execution_count": 15,
   "metadata": {},
   "outputs": [],
   "source": [
    "import matplotlib.pyplot as plt"
   ]
  },
  {
   "cell_type": "code",
   "execution_count": 16,
   "metadata": {},
   "outputs": [
    {
     "ename": "IndexError",
     "evalue": "index 10 is out of bounds for axis 0 with size 2",
     "output_type": "error",
     "traceback": [
      "\u001b[0;31m---------------------------------------------------------------------------\u001b[0m",
      "\u001b[0;31mIndexError\u001b[0m                                Traceback (most recent call last)",
      "\u001b[0;32m<ipython-input-16-fbcae071b50b>\u001b[0m in \u001b[0;36m<module>\u001b[0;34m\u001b[0m\n\u001b[1;32m      1\u001b[0m \u001b[0mindex\u001b[0m \u001b[0;34m=\u001b[0m \u001b[0mnp\u001b[0m\u001b[0;34m.\u001b[0m\u001b[0marange\u001b[0m\u001b[0;34m(\u001b[0m\u001b[0;36m0\u001b[0m\u001b[0;34m,\u001b[0m\u001b[0;36m50000\u001b[0m\u001b[0;34m,\u001b[0m\u001b[0;36m10\u001b[0m\u001b[0;34m)\u001b[0m\u001b[0;34m\u001b[0m\u001b[0;34m\u001b[0m\u001b[0m\n\u001b[0;32m----> 2\u001b[0;31m \u001b[0mplt\u001b[0m\u001b[0;34m.\u001b[0m\u001b[0mplot\u001b[0m\u001b[0;34m(\u001b[0m\u001b[0mnp\u001b[0m\u001b[0;34m.\u001b[0m\u001b[0mlog10\u001b[0m\u001b[0;34m(\u001b[0m\u001b[0merror_save\u001b[0m\u001b[0;34m[\u001b[0m\u001b[0mindex\u001b[0m\u001b[0;34m]\u001b[0m\u001b[0;34m)\u001b[0m\u001b[0;34m)\u001b[0m\u001b[0;34m\u001b[0m\u001b[0;34m\u001b[0m\u001b[0m\n\u001b[0m",
      "\u001b[0;31mIndexError\u001b[0m: index 10 is out of bounds for axis 0 with size 2"
     ]
    }
   ],
   "source": [
    "index = np.arange(0,50000,10)\n",
    "plt.plot(np.log10(error_save[index]))"
   ]
  },
  {
   "cell_type": "code",
   "execution_count": null,
   "metadata": {},
   "outputs": [],
   "source": []
  },
  {
   "cell_type": "code",
   "execution_count": null,
   "metadata": {},
   "outputs": [],
   "source": [
    "def model_u(x):\n",
    "    return sol_exact_H1(x)[:,0:1]\n",
    "def model_p(x):\n",
    "    return sol_exact_H1(x)[:,1:dim_set+1]"
   ]
  },
  {
   "cell_type": "code",
   "execution_count": null,
   "metadata": {},
   "outputs": [],
   "source": []
  }
 ],
 "metadata": {
  "kernelspec": {
   "display_name": "Python 3",
   "language": "python",
   "name": "python3"
  },
  "language_info": {
   "codemirror_mode": {
    "name": "ipython",
    "version": 3
   },
   "file_extension": ".py",
   "mimetype": "text/x-python",
   "name": "python",
   "nbconvert_exporter": "python",
   "pygments_lexer": "ipython3",
   "version": "3.6.9"
  }
 },
 "nbformat": 4,
 "nbformat_minor": 4
}
