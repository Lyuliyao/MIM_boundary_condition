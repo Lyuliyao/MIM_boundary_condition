{
 "cells": [
  {
   "cell_type": "code",
   "execution_count": 1,
   "metadata": {},
   "outputs": [],
   "source": [
    "import math\n",
    "import numpy as np\n",
    "import numpy.random as npr\n",
    "from numpy import linalg\n",
    "import torch\n",
    "import torch.nn.functional as F\n",
    "import torch.nn as nn\n",
    "from torch.utils import data\n",
    "from torch.utils.data import Dataset\n",
    "import torch.optim as optim\n",
    "import time\n",
    "from math import *\n",
    "torch.cuda.set_device(0)"
   ]
  },
  {
   "cell_type": "code",
   "execution_count": 2,
   "metadata": {},
   "outputs": [],
   "source": [
    "class ResNet(nn.Module):\n",
    "    def __init__(self,dim, m,o):\n",
    "        super(ResNet, self).__init__()\n",
    "        self.Ix = torch.zeros([dim,m]).cuda()\n",
    "        self.Ix[0,0] = 1\n",
    "        self.Ix[1,1] = 1\n",
    "        self.fc1 = nn.Linear(dim, m)\n",
    "        self.fc2 = nn.Linear(m, m)\n",
    "        \n",
    "        self.fc3 = nn.Linear(m, m)\n",
    "        self.fc4 = nn.Linear(m, m)\n",
    "\n",
    "        \n",
    "        self.outlayer = nn.Linear(m, o)\n",
    "\n",
    "    def forward(self, x):\n",
    "        s = x@self.Ix\n",
    "        y = self.fc1(x)\n",
    "        y = F.relu(y**deg)\n",
    "        y = self.fc2(y)\n",
    "        y = F.relu(y**deg)\n",
    "        y = y+s\n",
    "        \n",
    "        s=y\n",
    "        y = self.fc3(y)\n",
    "        y = F.relu(y**deg)\n",
    "        y = self.fc4(y)\n",
    "        y = F.relu(y**deg)\n",
    "        y = y+s\n",
    "        \n",
    "        \n",
    "        output = self.outlayer(y)\n",
    "        return output\n",
    "deg = 2"
   ]
  },
  {
   "cell_type": "code",
   "execution_count": 3,
   "metadata": {},
   "outputs": [],
   "source": [
    "torch.set_default_tensor_type('torch.DoubleTensor')"
   ]
  },
  {
   "cell_type": "code",
   "execution_count": 4,
   "metadata": {},
   "outputs": [],
   "source": [
    "def sol_exact(x):\n",
    "    N_norm_s = torch.sum(x**2,dim=1) \n",
    "    N_u = (torch.exp(N_norm_s)).reshape([x.size()[0],1])\n",
    "    return N_u\n",
    "def sol_exact_H1(x):\n",
    "    N_norm_s = torch.sum(x**2,dim=1)\n",
    "    u = sol_exact(x)\n",
    "    v= torch.ones(u.shape).cuda()\n",
    "    sol = torch.zeros(x.size()[0],dim_set+1).cuda()\n",
    "    sol[:,0] = u.reshape([1,x.size()[0]])\n",
    "    sol[:,1:dim_set+1] = torch.autograd.grad(u,x,grad_outputs=v,create_graph=True)[0]\n",
    "    return sol"
   ]
  },
  {
   "cell_type": "code",
   "execution_count": 5,
   "metadata": {},
   "outputs": [],
   "source": [
    "def right(x):\n",
    "    N_norm_s = torch.sum(x**2,dim=1).reshape([x.size()[0],1])\n",
    "    N_u = torch.exp(N_norm_s)\n",
    "    f_tem = 2*dim_set * N_u + 4 * N_norm_s *N_u + N_u**2\n",
    "    return f_tem "
   ]
  },
  {
   "cell_type": "code",
   "execution_count": 6,
   "metadata": {},
   "outputs": [],
   "source": [
    "Batch_size = 10000\n",
    "dim_set = 2\n",
    "def DRM():\n",
    "    x = generate_uniform_points_in_sphere(dim_set,1,Batch_size).cuda()\n",
    "    x.requires_grad = True\n",
    "    u = model_u(x)\n",
    "    du = model_p(x)\n",
    "    v= torch.ones(u.shape).cuda()\n",
    "    ux = torch.autograd.grad(u,x,grad_outputs=v,create_graph=True)[0]\n",
    "    loss = torch.sum((ux-du)**2)/Batch_size\n",
    "    uxx = torch.zeros(Batch_size,dim_set).cuda()\n",
    "    for i in range(dim_set):\n",
    "        ux_tem = du[:,i].reshape([x.size()[0],1])\n",
    "        uxx_tem = torch.autograd.grad(ux_tem,x,grad_outputs=v,create_graph=True)[0]\n",
    "        uxx[:,i] = uxx_tem[:,i]\n",
    "    loss = loss + torch.sum((torch.sum(uxx,dim=1).reshape([x.size()[0],1]) +u**2 - right(x))**2)/Batch_size\n",
    "    return loss"
   ]
  },
  {
   "cell_type": "code",
   "execution_count": 7,
   "metadata": {},
   "outputs": [],
   "source": [
    "def generate_uniform_points_in_sphere(d,R,N):\n",
    "    points = torch.randn(N,d)\n",
    "    scales = (R*torch.rand(N))**(1/d)\n",
    "    notes = points/(torch.sqrt(torch.sum(points**2,dim=1))/scales).reshape(N,1)*torch.ones(N ,d)\n",
    "    return notes"
   ]
  },
  {
   "cell_type": "code",
   "execution_count": 8,
   "metadata": {},
   "outputs": [
    {
     "data": {
      "text/plain": [
       "ResNet(\n",
       "  (fc1): Linear(in_features=2, out_features=10, bias=True)\n",
       "  (fc2): Linear(in_features=10, out_features=10, bias=True)\n",
       "  (fc3): Linear(in_features=10, out_features=10, bias=True)\n",
       "  (fc4): Linear(in_features=10, out_features=10, bias=True)\n",
       "  (outlayer): Linear(in_features=10, out_features=2, bias=True)\n",
       ")"
      ]
     },
     "execution_count": 8,
     "metadata": {},
     "output_type": "execute_result"
    }
   ],
   "source": [
    "model_u1 = ResNet(dim_set,10,1)\n",
    "model_p = ResNet(dim_set,10,dim_set)\n",
    "\n",
    "device=torch.device(\"cuda:0\" )\n",
    "model_u1.to(device)\n",
    "model_p.to(device)"
   ]
  },
  {
   "cell_type": "code",
   "execution_count": 9,
   "metadata": {},
   "outputs": [],
   "source": [
    "def model_u(x):\n",
    "    return (torch.sum(x**2,dim=1)-1).reshape([x.size()[0],1])*model_u1(x) + exp(1)"
   ]
  },
  {
   "cell_type": "code",
   "execution_count": 10,
   "metadata": {},
   "outputs": [],
   "source": [
    "def loss_error():\n",
    "    notes_error = generate_uniform_points_in_sphere(2,1,10000).cuda()\n",
    "    notes_error.requires_grad= True\n",
    "    exact = sol_exact_H1(notes_error)\n",
    "    u_L2 = sqrt(torch.sum((exact[:,0])**2)/10000)\n",
    "    Du_L2 = sqrt(torch.sum(exact[:,1:dim_set+1]**2)/10000)\n",
    "    predict = torch.zeros(10000,2*dim_set+2).cuda()\n",
    "    predict[:,0]= model_u(notes_error).reshape([1,notes_error.size()[0]])\n",
    "    predict[:,1:dim_set+1]= model_p(notes_error)\n",
    "    value1 = sqrt(torch.sum((predict[:,0] - exact[:,0])**2)/10000)/u_L2\n",
    "    value2 = sqrt(torch.sum((predict[:,1:dim_set+1] - exact[:,1:dim_set+1])**2)/10000)/Du_L2\n",
    "    return value1,value2"
   ]
  },
  {
   "cell_type": "code",
   "execution_count": 11,
   "metadata": {},
   "outputs": [
    {
     "name": "stdout",
     "output_type": "stream",
     "text": [
      "i=  1\n",
      "error = 0.6192089077570293\n",
      "loss1 = tensor(94.7027, device='cuda:0')\n",
      "i=  501\n",
      "error = 0.0336070555402424\n",
      "loss1 = tensor(0.0834, device='cuda:0')\n",
      "i=  1001\n",
      "error = 0.0046278065422833935\n",
      "loss1 = tensor(0.0130, device='cuda:0')\n",
      "i=  1501\n",
      "error = 0.002488768148372715\n",
      "loss1 = tensor(0.0047, device='cuda:0')\n",
      "i=  2001\n",
      "error = 0.0016738910945894444\n",
      "loss1 = tensor(0.0024, device='cuda:0')\n",
      "i=  2501\n",
      "error = 0.0015917869728874468\n",
      "loss1 = tensor(0.0015, device='cuda:0')\n",
      "i=  3001\n",
      "error = 0.0012513223167312545\n",
      "loss1 = tensor(0.0013, device='cuda:0')\n",
      "i=  3501\n",
      "error = 0.0006848431379208444\n",
      "loss1 = tensor(0.0007, device='cuda:0')\n",
      "i=  4001\n",
      "error = 0.0006081463860883555\n",
      "loss1 = tensor(0.0005, device='cuda:0')\n",
      "i=  4501\n",
      "error = 0.0004995967386212253\n",
      "loss1 = tensor(0.0004, device='cuda:0')\n",
      "i=  5001\n",
      "error = 0.00038672061239497843\n",
      "loss1 = tensor(0.0003, device='cuda:0')\n",
      "i=  5501\n",
      "error = 0.00032858512228676464\n",
      "loss1 = tensor(0.0003, device='cuda:0')\n",
      "i=  6001\n",
      "error = 0.0009370354059183567\n",
      "loss1 = tensor(0.0020, device='cuda:0')\n",
      "i=  6501\n",
      "error = 0.00034369100830507324\n",
      "loss1 = tensor(0.0003, device='cuda:0')\n",
      "i=  7001\n",
      "error = 0.0002519685382707422\n",
      "loss1 = tensor(0.0002, device='cuda:0')\n",
      "i=  7501\n",
      "error = 0.0009895747533815366\n",
      "loss1 = tensor(0.0004, device='cuda:0')\n",
      "i=  8001\n",
      "error = 0.00051254778747148\n",
      "loss1 = tensor(0.0005, device='cuda:0')\n",
      "i=  8501\n",
      "error = 0.00027070773343108737\n",
      "loss1 = tensor(0.0002, device='cuda:0')\n",
      "i=  9001\n",
      "error = 0.00026945528367628747\n",
      "loss1 = tensor(0.0003, device='cuda:0')\n",
      "i=  9501\n",
      "error = 0.00021569253518869118\n",
      "loss1 = tensor(0.0002, device='cuda:0')\n",
      "time cost 210.43233513832092 s\n"
     ]
    }
   ],
   "source": [
    "traintime = 10000\n",
    "error_save=np.zeros([2,traintime])\n",
    "optimizer = optim.Adam([\n",
    "                {'params': model_u1.parameters()},\n",
    "                {'params': model_p.parameters()}\n",
    "            ])\n",
    "i = 0\n",
    "time_start=time.time()\n",
    "for i in range(traintime):\n",
    "    optimizer.zero_grad()\n",
    "    losses = DRM()\n",
    "    losses.backward()\n",
    "    optimizer.step() \n",
    "    error1,error2 = loss_error()\n",
    "    error_save[0,i]=float(error1)\n",
    "    error_save[1,i]=float(error2)\n",
    "    i = i +1\n",
    "    #scheduler.step()\n",
    "    if i%500==1:\n",
    "        print(\"i= \",i)\n",
    "        print(\"error =\",error1)\n",
    "        print(\"loss1 =\",losses.detach())\n",
    "        np.save(\"error_save_LDG_La_2D_w10.npy\", error_save)\n",
    "np.save(\"error_save_LDG_La_2D_w10.npy\", error_save)\n",
    "time_end=time.time()\n",
    "print('time cost',time_end-time_start,'s')"
   ]
  },
  {
   "cell_type": "code",
   "execution_count": 13,
   "metadata": {},
   "outputs": [],
   "source": [
    "import matplotlib.pyplot as plt"
   ]
  },
  {
   "cell_type": "code",
   "execution_count": null,
   "metadata": {},
   "outputs": [],
   "source": []
  }
 ],
 "metadata": {
  "kernelspec": {
   "display_name": "Python 3",
   "language": "python",
   "name": "python3"
  },
  "language_info": {
   "codemirror_mode": {
    "name": "ipython",
    "version": 3
   },
   "file_extension": ".py",
   "mimetype": "text/x-python",
   "name": "python",
   "nbconvert_exporter": "python",
   "pygments_lexer": "ipython3",
   "version": "3.7.6"
  }
 },
 "nbformat": 4,
 "nbformat_minor": 4
}
