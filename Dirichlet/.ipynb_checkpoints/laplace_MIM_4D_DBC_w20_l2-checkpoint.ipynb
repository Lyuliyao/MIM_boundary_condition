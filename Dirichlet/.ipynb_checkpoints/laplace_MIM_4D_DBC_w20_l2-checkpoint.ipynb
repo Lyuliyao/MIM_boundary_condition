{
 "cells": [
  {
   "cell_type": "code",
   "execution_count": 1,
   "metadata": {},
   "outputs": [],
   "source": [
    "import math\n",
    "import numpy as np\n",
    "import numpy.random as npr\n",
    "from numpy import linalg\n",
    "import torch\n",
    "import torch.nn as nn\n",
    "from torch.utils import data\n",
    "from torch.utils.data import Dataset\n",
    "import torch.optim as optim\n",
    "import time\n",
    "from useful_tools import isPointinPolygon,polyshow,Genpoint,Distance_pol,GenBC\n",
    "from network import ResNet\n",
    "from math import *\n",
    "torch.cuda.set_device(1)"
   ]
  },
  {
   "cell_type": "code",
   "execution_count": 2,
   "metadata": {},
   "outputs": [],
   "source": [
    "torch.set_default_tensor_type('torch.DoubleTensor')"
   ]
  },
  {
   "cell_type": "code",
   "execution_count": 3,
   "metadata": {},
   "outputs": [],
   "source": [
    "def sol_exact(x):\n",
    "    N_norm_s = torch.sum(x**2,dim=1) \n",
    "    N_u = (torch.exp(N_norm_s/dim_set)).reshape([x.size()[0],1])\n",
    "    return N_u\n",
    "def sol_exact_H1(x):\n",
    "    N_norm_s = torch.sum(x**2,dim=1)\n",
    "    u = sol_exact(x)\n",
    "    v= torch.ones(u.shape).cuda()\n",
    "    sol = torch.zeros(x.size()[0],dim_set+1).cuda()\n",
    "    sol[:,0] = u.reshape([1,x.size()[0]])\n",
    "    sol[:,1:dim_set+1] = torch.autograd.grad(u,x,grad_outputs=v,create_graph=True)[0]\n",
    "    return sol"
   ]
  },
  {
   "cell_type": "code",
   "execution_count": 4,
   "metadata": {},
   "outputs": [],
   "source": [
    "def right(x):\n",
    "    sol = torch.zeros(x.size()[0],dim_set,dim_set).cuda()\n",
    "    N_norm_s = torch.sum(x**2,dim=1)\n",
    "    u = sol_exact(x)\n",
    "    v= torch.ones(u.shape).cuda()\n",
    "    du = torch.autograd.grad(u,x,grad_outputs=v,create_graph=True)[0]\n",
    "    for i in range(dim_set):\n",
    "        ux_tem = du[:,i].reshape([x.size()[0],1])\n",
    "        uxx_tem = torch.autograd.grad(ux_tem,x,grad_outputs=v,create_graph=True)[0]\n",
    "        sol[:,:,i]= uxx_tem\n",
    "    return sol"
   ]
  },
  {
   "cell_type": "code",
   "execution_count": 5,
   "metadata": {},
   "outputs": [],
   "source": [
    "def generate_uniform_points_in_sphere(d,R,N):\n",
    "    points = torch.randn(N,d)\n",
    "    scales = (R*torch.rand(N))**(1/d)\n",
    "    notes = points/(torch.sqrt(torch.sum(points**2,dim=1))/scales).reshape(N,1)*torch.ones(N ,d)\n",
    "    return notes"
   ]
  },
  {
   "cell_type": "code",
   "execution_count": 6,
   "metadata": {},
   "outputs": [],
   "source": [
    "dim_set = 4\n",
    "Batch_size = 50000\n",
    "def DGM1():\n",
    "    x = generate_uniform_points_in_sphere(dim_set,1,Batch_size).cuda()\n",
    "    x.requires_grad = True\n",
    "    u = model_u(x)\n",
    "    du = model_p(x)\n",
    "    v= torch.ones(u.shape).cuda()\n",
    "    ux = torch.autograd.grad(u,x,grad_outputs=v,create_graph=True)[0]\n",
    "    loss1 = torch.sum((ux-du)**2)/Batch_size\n",
    "    return loss1"
   ]
  },
  {
   "cell_type": "code",
   "execution_count": 7,
   "metadata": {},
   "outputs": [],
   "source": [
    "def DGM2():\n",
    "    x =  generate_uniform_points_in_sphere(dim_set,1,Batch_size).cuda()\n",
    "    x.requires_grad = True\n",
    "    u = model_u(x)\n",
    "    v= torch.ones(u.shape).cuda()\n",
    "    du = model_p(x)\n",
    "    uxx = torch.zeros(Batch_size,dim_set,dim_set).cuda()\n",
    "    for i in range(dim_set):\n",
    "        ux_tem = du[:,i].reshape([x.size()[0],1])\n",
    "        uxx_tem = torch.autograd.grad(ux_tem,x,grad_outputs=v,create_graph=True)[0]\n",
    "        uxx[:,:,i] = uxx_tem\n",
    "    det1 = torch.det(right(x))\n",
    "    det2 = torch.det(uxx)\n",
    "    loss1 = torch.sum((det1-det2)**2)/Batch_size\n",
    "    return loss1"
   ]
  },
  {
   "cell_type": "code",
   "execution_count": 8,
   "metadata": {},
   "outputs": [
    {
     "data": {
      "text/plain": [
       "ResNet(\n",
       "  (fc1): Linear(in_features=4, out_features=20, bias=True)\n",
       "  (fc2): Linear(in_features=20, out_features=20, bias=True)\n",
       "  (fc3): Linear(in_features=20, out_features=20, bias=True)\n",
       "  (fc4): Linear(in_features=20, out_features=20, bias=True)\n",
       "  (outlayer): Linear(in_features=20, out_features=4, bias=True)\n",
       ")"
      ]
     },
     "execution_count": 8,
     "metadata": {},
     "output_type": "execute_result"
    }
   ],
   "source": [
    "model_u1 = ResNet(dim_set,20,1)\n",
    "model_p = ResNet(dim_set,20,dim_set)\n",
    "\n",
    "device=torch.device(\"cuda:1\" )\n",
    "model_u1.to(device)\n",
    "model_p.to(device)"
   ]
  },
  {
   "cell_type": "code",
   "execution_count": 9,
   "metadata": {},
   "outputs": [],
   "source": [
    "def model_u(x):\n",
    "    return (torch.sum(x**2,dim=1)-1).reshape([x.size()[0],1])*model_u1(x) + exp(1/dim_set)"
   ]
  },
  {
   "cell_type": "code",
   "execution_count": 10,
   "metadata": {},
   "outputs": [],
   "source": [
    "def loss_error():\n",
    "    notes_error = generate_uniform_points_in_sphere(dim_set,1,10000).cuda()\n",
    "    notes_error.requires_grad= True\n",
    "    exact = sol_exact_H1(notes_error)\n",
    "    u_L2 = sqrt(torch.sum((exact[:,0])**2)/10000)\n",
    "    Du_L2 = sqrt(torch.sum(exact[:,1:dim_set+1]**2)/10000)\n",
    "    predict = torch.zeros(10000,2*dim_set+2).cuda()\n",
    "    predict[:,0]= model_u(notes_error).reshape([1,notes_error.size()[0]])\n",
    "    predict[:,1:dim_set+1]= model_p(notes_error)\n",
    "    value1 = sqrt(torch.sum((predict[:,0] - exact[:,0])**2)/10000)/u_L2\n",
    "    value2 = sqrt(torch.sum((predict[:,1:dim_set+1] - exact[:,1:dim_set+1])**2)/10000)/Du_L2\n",
    "    return value1,value2"
   ]
  },
  {
   "cell_type": "code",
   "execution_count": null,
   "metadata": {},
   "outputs": [
    {
     "name": "stdout",
     "output_type": "stream",
     "text": [
      "i=  1\n",
      "error = 0.11318900950318178\n",
      "loss1 = tensor(0.1622, device='cuda:1')\n",
      "i=  501\n",
      "error = 0.09383915517234041\n",
      "loss1 = tensor(0.0314, device='cuda:1')\n",
      "i=  1001\n",
      "error = 0.0007236911532656317\n",
      "loss1 = tensor(0.0002, device='cuda:1')\n",
      "i=  1501\n",
      "error = 0.00022648350022077271\n",
      "loss1 = tensor(4.3531e-05, device='cuda:1')\n",
      "i=  2001\n",
      "error = 0.00014478125846568732\n",
      "loss1 = tensor(2.3546e-05, device='cuda:1')\n",
      "i=  2501\n",
      "error = 0.00011383121906467694\n",
      "loss1 = tensor(1.5282e-05, device='cuda:1')\n",
      "i=  3001\n",
      "error = 0.00010987428513184115\n",
      "loss1 = tensor(1.1196e-05, device='cuda:1')\n",
      "i=  3501\n",
      "error = 8.862195944734645e-05\n",
      "loss1 = tensor(8.5483e-06, device='cuda:1')\n",
      "i=  4001\n",
      "error = 8.98032656167462e-05\n",
      "loss1 = tensor(1.4292e-05, device='cuda:1')\n"
     ]
    }
   ],
   "source": [
    "traintime = 10000\n",
    "error_save=np.zeros([2,traintime])\n",
    "optimizer = optim.Adam([\n",
    "                {'params': model_u1.parameters()},\n",
    "                {'params': model_p.parameters()}\n",
    "            ])\n",
    "i = 0\n",
    "time_start=time.time()\n",
    "for i in range(traintime):\n",
    "    optimizer.zero_grad()\n",
    "    losses = DGM1()+DGM2()\n",
    "    losses.backward()\n",
    "    optimizer.step() \n",
    "    error1,error2 = loss_error()\n",
    "    error_save[0,i]=float(error1)\n",
    "    error_save[1,i]=float(error2)\n",
    "    i = i +1\n",
    "    #scheduler.step()\n",
    "    if i%500==1:\n",
    "        print(\"i= \",i)\n",
    "        print(\"error =\",error1)\n",
    "        print(\"loss1 =\",losses.detach())\n",
    "        np.save(\"error_save_LDG_MA_4D_w20_l2.npy\", error_save)\n",
    "np.save(\"error_save_LDG_MA_4D_w20_l2.npy\", error_save)\n",
    "time_end=time.time()\n",
    "print('time cost',time_end-time_start,'s')"
   ]
  },
  {
   "cell_type": "code",
   "execution_count": null,
   "metadata": {},
   "outputs": [],
   "source": [
    "#导入模块\n",
    "import numpy as np\n",
    "import matplotlib.pyplot as plt\n",
    "\n",
    "#建立步长为0.01，即每隔0.01取一个点\n",
    "step = 0.01\n",
    "x = np.arange(-1,1,step)\n",
    "y = np.arange(-1,1,step)\n",
    "\n",
    "X,Y = np.meshgrid(x,y)\n",
    "an = []\n",
    "for i in range(X.shape[0]):\n",
    "    for j in range(Y.shape[1]):\n",
    "        an.append([x[i],x[j]])\n",
    "Z1 = model_u(torch.tensor(an).cuda()).reshape([X.shape[0],Y.shape[0]]).cpu().detach().numpy()\n",
    "plt.contourf(X,Y,Z1)\n",
    "plt.colorbar(ticks=np.exp([0, 0.25, 0.5, 0.75, 1]))"
   ]
  },
  {
   "cell_type": "code",
   "execution_count": null,
   "metadata": {},
   "outputs": [],
   "source": [
    "Z2 = sol_exact(torch.tensor(an).cuda()).reshape([X.shape[0],Y.shape[0]]).cpu().detach().numpy()\n",
    "plt.contourf(X,Y,Z2)\n",
    "plt.colorbar(ticks=np.exp([0, 0.25, 0.5, 0.75, 1]))"
   ]
  },
  {
   "cell_type": "code",
   "execution_count": null,
   "metadata": {},
   "outputs": [],
   "source": [
    "a = plt.contourf(X,Y,(Z1-Z2)**2)\n",
    "plt.colorbar(ticks=np.exp([0, 0.25, 0.5, 0.75, 1]))"
   ]
  },
  {
   "cell_type": "code",
   "execution_count": null,
   "metadata": {},
   "outputs": [],
   "source": [
    "model_u(torch.tensor([[1.0,0.0]]).cuda())"
   ]
  },
  {
   "cell_type": "code",
   "execution_count": null,
   "metadata": {},
   "outputs": [],
   "source": [
    "sol_exact(torch.tensor([[1.0,0.0]]).cuda())"
   ]
  },
  {
   "cell_type": "code",
   "execution_count": null,
   "metadata": {},
   "outputs": [],
   "source": []
  }
 ],
 "metadata": {
  "kernelspec": {
   "display_name": "Python 3",
   "language": "python",
   "name": "python3"
  },
  "language_info": {
   "codemirror_mode": {
    "name": "ipython",
    "version": 3
   },
   "file_extension": ".py",
   "mimetype": "text/x-python",
   "name": "python",
   "nbconvert_exporter": "python",
   "pygments_lexer": "ipython3",
   "version": "3.7.6"
  }
 },
 "nbformat": 4,
 "nbformat_minor": 4
}
