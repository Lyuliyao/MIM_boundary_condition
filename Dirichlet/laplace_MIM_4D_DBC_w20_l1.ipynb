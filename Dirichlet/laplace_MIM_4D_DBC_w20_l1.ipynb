{
 "cells": [
  {
   "cell_type": "code",
   "execution_count": 1,
   "metadata": {},
   "outputs": [],
   "source": [
    "import math\n",
    "import numpy as np\n",
    "import numpy.random as npr\n",
    "from numpy import linalg\n",
    "import torch\n",
    "import torch.nn as nn\n",
    "from torch.utils import data\n",
    "from torch.utils.data import Dataset\n",
    "import torch.optim as optim\n",
    "import time\n",
    "from useful_tools import isPointinPolygon,polyshow,Genpoint,Distance_pol,GenBC\n",
    "from math import *\n",
    "torch.cuda.set_device(0)"
   ]
  },
  {
   "cell_type": "code",
   "execution_count": 2,
   "metadata": {},
   "outputs": [],
   "source": [
    "import torch.nn as nn\n",
    "import torch\n",
    "import torch.nn.functional as F\n",
    "class ResNet(nn.Module):\n",
    "    def __init__(self,dim, m,o):\n",
    "        super(ResNet, self).__init__()\n",
    "        self.Ix = torch.zeros([dim,m]).cuda()\n",
    "        self.Ix[0,0] = 1\n",
    "        self.Ix[1,1] = 1\n",
    "        self.fc1 = nn.Linear(dim, m)\n",
    "        self.fc2 = nn.Linear(m, m)\n",
    " \n",
    "        self.outlayer = nn.Linear(m, o)\n",
    "\n",
    "    def forward(self, x):\n",
    "        s = x@self.Ix\n",
    "        y = self.fc1(x)\n",
    "        y = F.relu(y)**deg\n",
    "        y = self.fc2(y)\n",
    "        y = F.relu(y)**deg\n",
    "        y = y+s\n",
    " \n",
    "        output = self.outlayer(y)\n",
    "        return output\n",
    "deg = 2"
   ]
  },
  {
   "cell_type": "code",
   "execution_count": 3,
   "metadata": {},
   "outputs": [],
   "source": [
    "torch.set_default_tensor_type('torch.DoubleTensor')"
   ]
  },
  {
   "cell_type": "code",
   "execution_count": 4,
   "metadata": {},
   "outputs": [],
   "source": [
    "def sol_exact(x):\n",
    "    N_norm_s = torch.sum(x**2,dim=1) \n",
    "    N_u = (torch.exp(N_norm_s/dim_set)).reshape([x.size()[0],1])\n",
    "    return N_u\n",
    "def sol_exact_H1(x):\n",
    "    N_norm_s = torch.sum(x**2,dim=1)\n",
    "    u = sol_exact(x)\n",
    "    v= torch.ones(u.shape).cuda()\n",
    "    sol = torch.zeros(x.size()[0],dim_set+1).cuda()\n",
    "    sol[:,0] = u.reshape([1,x.size()[0]])\n",
    "    sol[:,1:dim_set+1] = torch.autograd.grad(u,x,grad_outputs=v,create_graph=True)[0]\n",
    "    return sol"
   ]
  },
  {
   "cell_type": "code",
   "execution_count": 5,
   "metadata": {},
   "outputs": [],
   "source": [
    "def right(x):\n",
    "    sol = torch.zeros(x.size()[0],dim_set,dim_set).cuda()\n",
    "    N_norm_s = torch.sum(x**2,dim=1)\n",
    "    u = sol_exact(x)\n",
    "    v= torch.ones(u.shape).cuda()\n",
    "    du = torch.autograd.grad(u,x,grad_outputs=v,create_graph=True)[0]\n",
    "    for i in range(dim_set):\n",
    "        ux_tem = du[:,i].reshape([x.size()[0],1])\n",
    "        uxx_tem = torch.autograd.grad(ux_tem,x,grad_outputs=v,create_graph=True)[0]\n",
    "        sol[:,:,i]= uxx_tem\n",
    "    return sol"
   ]
  },
  {
   "cell_type": "code",
   "execution_count": 6,
   "metadata": {},
   "outputs": [],
   "source": [
    "def generate_uniform_points_in_sphere(d,R,N):\n",
    "    points = torch.randn(N,d)\n",
    "    scales = (R*torch.rand(N))**(1/d)\n",
    "    notes = points/(torch.sqrt(torch.sum(points**2,dim=1))/scales).reshape(N,1)*torch.ones(N ,d)\n",
    "    return notes"
   ]
  },
  {
   "cell_type": "code",
   "execution_count": 7,
   "metadata": {},
   "outputs": [],
   "source": [
    "dim_set = 4\n",
    "Batch_size = 50000\n",
    "def DGM1():\n",
    "    x = generate_uniform_points_in_sphere(dim_set,1,Batch_size).cuda()\n",
    "    x.requires_grad = True\n",
    "    u = model_u(x)\n",
    "    du = model_p(x)\n",
    "    v= torch.ones(u.shape).cuda()\n",
    "    ux = torch.autograd.grad(u,x,grad_outputs=v,create_graph=True)[0]\n",
    "    loss1 = torch.sum((ux-du)**2)/Batch_size\n",
    "    return loss1"
   ]
  },
  {
   "cell_type": "code",
   "execution_count": 8,
   "metadata": {},
   "outputs": [],
   "source": [
    "def DGM2():\n",
    "    x =  generate_uniform_points_in_sphere(dim_set,1,Batch_size).cuda()\n",
    "    x.requires_grad = True\n",
    "    u = model_u(x)\n",
    "    v= torch.ones(u.shape).cuda()\n",
    "    du = model_p(x)\n",
    "    uxx = torch.zeros(Batch_size,dim_set,dim_set).cuda()\n",
    "    for i in range(dim_set):\n",
    "        ux_tem = du[:,i].reshape([x.size()[0],1])\n",
    "        uxx_tem = torch.autograd.grad(ux_tem,x,grad_outputs=v,create_graph=True)[0]\n",
    "        uxx[:,:,i] = uxx_tem\n",
    "    det1 = torch.det(right(x))\n",
    "    det2 = torch.det(uxx)\n",
    "    loss1 = torch.sum((det1-det2)**2)/Batch_size\n",
    "    return loss1"
   ]
  },
  {
   "cell_type": "code",
   "execution_count": 9,
   "metadata": {},
   "outputs": [
    {
     "data": {
      "text/plain": [
       "ResNet(\n",
       "  (fc1): Linear(in_features=4, out_features=20, bias=True)\n",
       "  (fc2): Linear(in_features=20, out_features=20, bias=True)\n",
       "  (outlayer): Linear(in_features=20, out_features=4, bias=True)\n",
       ")"
      ]
     },
     "execution_count": 9,
     "metadata": {},
     "output_type": "execute_result"
    }
   ],
   "source": [
    "model_u1 = ResNet(dim_set,20,1)\n",
    "model_p = ResNet(dim_set,20,dim_set)\n",
    "\n",
    "device=torch.device(\"cuda:0\" )\n",
    "model_u1.to(device)\n",
    "model_p.to(device)"
   ]
  },
  {
   "cell_type": "code",
   "execution_count": 10,
   "metadata": {},
   "outputs": [],
   "source": [
    "def model_u(x):\n",
    "    return (torch.sum(x**2,dim=1)-1).reshape([x.size()[0],1])*model_u1(x) + exp(1/dim_set)"
   ]
  },
  {
   "cell_type": "code",
   "execution_count": 11,
   "metadata": {},
   "outputs": [],
   "source": [
    "def loss_error():\n",
    "    notes_error = generate_uniform_points_in_sphere(dim_set,1,10000).cuda()\n",
    "    notes_error.requires_grad= True\n",
    "    exact = sol_exact_H1(notes_error)\n",
    "    u_L2 = sqrt(torch.sum((exact[:,0])**2)/10000)\n",
    "    Du_L2 = sqrt(torch.sum(exact[:,1:dim_set+1]**2)/10000)\n",
    "    predict = torch.zeros(10000,2*dim_set+2).cuda()\n",
    "    predict[:,0]= model_u(notes_error).reshape([1,notes_error.size()[0]])\n",
    "    predict[:,1:dim_set+1]= model_p(notes_error)\n",
    "    value1 = sqrt(torch.sum((predict[:,0] - exact[:,0])**2)/10000)/u_L2\n",
    "    value2 = sqrt(torch.sum((predict[:,1:dim_set+1] - exact[:,1:dim_set+1])**2)/10000)/Du_L2\n",
    "    return value1,value2"
   ]
  },
  {
   "cell_type": "code",
   "execution_count": 12,
   "metadata": {},
   "outputs": [
    {
     "name": "stdout",
     "output_type": "stream",
     "text": [
      "i=  1\n",
      "error = 0.05623734663961884\n",
      "loss1 = tensor(0.1818, device='cuda:0')\n",
      "i=  501\n",
      "error = 0.08700202643882252\n",
      "loss1 = tensor(0.0314, device='cuda:0')\n",
      "i=  1001\n",
      "error = 0.00036156935056050153\n",
      "loss1 = tensor(8.0350e-05, device='cuda:0')\n",
      "i=  1501\n",
      "error = 0.00021134170849863962\n",
      "loss1 = tensor(3.3750e-05, device='cuda:0')\n",
      "i=  2001\n",
      "error = 0.00016965384134323233\n",
      "loss1 = tensor(2.2058e-05, device='cuda:0')\n",
      "i=  2501\n",
      "error = 0.00014807736706156114\n",
      "loss1 = tensor(1.5889e-05, device='cuda:0')\n",
      "i=  3001\n",
      "error = 0.0001412248835117116\n",
      "loss1 = tensor(1.2402e-05, device='cuda:0')\n",
      "i=  3501\n",
      "error = 0.0001363499660309978\n",
      "loss1 = tensor(1.0157e-05, device='cuda:0')\n",
      "i=  4001\n",
      "error = 0.00016849307488654342\n",
      "loss1 = tensor(9.4568e-06, device='cuda:0')\n",
      "i=  4501\n",
      "error = 0.00013756505008256998\n",
      "loss1 = tensor(8.0728e-06, device='cuda:0')\n",
      "i=  5001\n",
      "error = 0.00013588006827445316\n",
      "loss1 = tensor(7.4962e-06, device='cuda:0')\n",
      "i=  5501\n",
      "error = 0.00018693145600320776\n",
      "loss1 = tensor(8.6362e-06, device='cuda:0')\n",
      "i=  6001\n",
      "error = 0.00013782204966134162\n",
      "loss1 = tensor(6.4361e-06, device='cuda:0')\n",
      "i=  6501\n",
      "error = 0.00016381458771263133\n",
      "loss1 = tensor(6.4425e-06, device='cuda:0')\n",
      "i=  7001\n",
      "error = 0.0001636589679937967\n",
      "loss1 = tensor(5.8250e-06, device='cuda:0')\n",
      "i=  7501\n",
      "error = 0.00018390619808800383\n",
      "loss1 = tensor(5.7668e-06, device='cuda:0')\n",
      "i=  8001\n",
      "error = 0.00017026400654695113\n",
      "loss1 = tensor(6.5761e-06, device='cuda:0')\n",
      "i=  8501\n",
      "error = 0.0001596279359865606\n",
      "loss1 = tensor(5.5330e-06, device='cuda:0')\n",
      "i=  9001\n",
      "error = 0.0002448954462194685\n",
      "loss1 = tensor(6.6972e-06, device='cuda:0')\n",
      "i=  9501\n",
      "error = 0.00017904528647801936\n",
      "loss1 = tensor(4.7891e-06, device='cuda:0')\n",
      "time cost 2367.1717817783356 s\n"
     ]
    }
   ],
   "source": [
    "traintime = 10000\n",
    "error_save=np.zeros([2,traintime])\n",
    "optimizer = optim.Adam([\n",
    "                {'params': model_u1.parameters()},\n",
    "                {'params': model_p.parameters()}\n",
    "            ])\n",
    "i = 0\n",
    "time_start=time.time()\n",
    "for i in range(traintime):\n",
    "    optimizer.zero_grad()\n",
    "    losses = DGM1()+DGM2()\n",
    "    losses.backward()\n",
    "    optimizer.step() \n",
    "    error1,error2 = loss_error()\n",
    "    error_save[0,i]=float(error1)\n",
    "    error_save[1,i]=float(error2)\n",
    "    i = i +1\n",
    "    #scheduler.step()\n",
    "    if i%500==1:\n",
    "        print(\"i= \",i)\n",
    "        print(\"error =\",error1)\n",
    "        print(\"loss1 =\",losses.detach())\n",
    "        np.save(\"error_save_LDG_MA_4D_w20_l1.npy\", error_save)\n",
    "np.save(\"error_save_LDG_MA_4D_w20_l1.npy\", error_save)\n",
    "time_end=time.time()\n",
    "print('time cost',time_end-time_start,'s')"
   ]
  }
 ],
 "metadata": {
  "kernelspec": {
   "display_name": "Python 3",
   "language": "python",
   "name": "python3"
  },
  "language_info": {
   "codemirror_mode": {
    "name": "ipython",
    "version": 3
   },
   "file_extension": ".py",
   "mimetype": "text/x-python",
   "name": "python",
   "nbconvert_exporter": "python",
   "pygments_lexer": "ipython3",
   "version": "3.7.6"
  }
 },
 "nbformat": 4,
 "nbformat_minor": 4
}
