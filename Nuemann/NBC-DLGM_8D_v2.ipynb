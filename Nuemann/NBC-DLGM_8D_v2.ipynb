{
 "cells": [
  {
   "cell_type": "code",
   "execution_count": 1,
   "metadata": {},
   "outputs": [],
   "source": [
    "import math\n",
    "import numpy as np\n",
    "import numpy.random as npr\n",
    "from numpy import linalg\n",
    "import torch\n",
    "import torch.nn as nn\n",
    "import torch.nn.functional as F\n",
    "from torch.utils import data\n",
    "from torch.utils.data import Dataset\n",
    "import torch.optim as optim\n",
    "import time\n",
    "from math import *\n",
    "torch.cuda.set_device(0)"
   ]
  },
  {
   "cell_type": "code",
   "execution_count": 2,
   "metadata": {},
   "outputs": [],
   "source": [
    "torch.set_default_tensor_type('torch.DoubleTensor')"
   ]
  },
  {
   "cell_type": "code",
   "execution_count": 3,
   "metadata": {},
   "outputs": [],
   "source": [
    "class ResNet(nn.Module):\n",
    "    def __init__(self,dim, m,o):\n",
    "        super(ResNet, self).__init__()\n",
    "        self.Ix = torch.zeros([dim,m]).cuda()\n",
    "        self.Ix[0,0] = 1\n",
    "        self.Ix[1,1] = 1\n",
    "        self.fc1 = nn.Linear(dim, m)\n",
    "        self.fc2 = nn.Linear(m, m)\n",
    "        \n",
    "        self.fc3 = nn.Linear(m, m)\n",
    "        self.fc4 = nn.Linear(m, m)\n",
    "\n",
    "        \n",
    "        self.outlayer = nn.Linear(m, o)\n",
    "\n",
    "    def forward(self, x):\n",
    "        s = x@self.Ix\n",
    "        y = self.fc1(x)\n",
    "        y = F.relu(y**deg)\n",
    "        y = self.fc2(y)\n",
    "        y = F.relu(y**deg)\n",
    "        y = y+s\n",
    "        \n",
    "        s=y\n",
    "        y = self.fc3(y)\n",
    "        y = F.relu(y**deg)\n",
    "        y = self.fc4(y)\n",
    "        y = F.relu(y**deg)\n",
    "        y = y+s\n",
    "        \n",
    "        \n",
    "        output = self.outlayer(y)\n",
    "        return output\n",
    "deg = 2"
   ]
  },
  {
   "cell_type": "code",
   "execution_count": 4,
   "metadata": {},
   "outputs": [],
   "source": [
    "def sol_exact(x):\n",
    "    x_tem = torch.exp(x)\n",
    "    sol = torch.sum(x_tem,dim=1).reshape([x.size()[0],1])\n",
    "    return sol"
   ]
  },
  {
   "cell_type": "code",
   "execution_count": 5,
   "metadata": {},
   "outputs": [],
   "source": [
    "def sol_exact_H1(x):\n",
    "    x_tem = torch.exp(x)\n",
    "    sol = torch.zeros(x.size()[0],dim_set+1).cuda()\n",
    "    sol[:,0] = torch.sum(x_tem,dim=1)\n",
    "    sol[:,1:dim_set+1] = torch.exp(x)\n",
    "    return sol"
   ]
  },
  {
   "cell_type": "code",
   "execution_count": 6,
   "metadata": {},
   "outputs": [],
   "source": [
    "def right(x):\n",
    "    x_tem = torch.exp(x)\n",
    "    f_tem = 2*torch.sum(x_tem,dim=1).reshape([x.size()[0],1])\n",
    "    return f_tem "
   ]
  },
  {
   "cell_type": "code",
   "execution_count": 7,
   "metadata": {},
   "outputs": [],
   "source": [
    "dim_set = 8\n",
    "Batch_size = 50000\n",
    "def DRM1():\n",
    "    x = torch.rand(Batch_size,dim_set).cuda()\n",
    "    x.requires_grad = True\n",
    "    u = model_u(x)\n",
    "    du = model_p(x)\n",
    "    v= torch.ones(u.shape).cuda()\n",
    "    ux = torch.autograd.grad(u,x,grad_outputs=v,create_graph=True)[0]\n",
    "    loss1 = torch.sum((ux-du)**2)/Batch_size\n",
    "    return loss1"
   ]
  },
  {
   "cell_type": "code",
   "execution_count": 8,
   "metadata": {},
   "outputs": [],
   "source": [
    "def DRM2():\n",
    "    x = torch.rand(Batch_size,dim_set).cuda()\n",
    "    x.requires_grad = True\n",
    "    u = model_u(x)\n",
    "    du = model_p(x)\n",
    "    v= torch.ones(u.shape).cuda()\n",
    "    uxx = torch.zeros(Batch_size,dim_set).cuda()\n",
    "    for i in range(dim_set):\n",
    "        ux_tem = du[:,i].reshape([x.size()[0],1])\n",
    "        uxx_tem = torch.autograd.grad(ux_tem,x,grad_outputs=v,create_graph=True)[0]\n",
    "        uxx[:,i] = uxx_tem[:,i]\n",
    "    loss2 = torch.sum((torch.sum(uxx,dim=1).reshape([x.size()[0],1]) + u - right(x))**2)/Batch_size\n",
    "    return loss2"
   ]
  },
  {
   "cell_type": "code",
   "execution_count": 9,
   "metadata": {},
   "outputs": [],
   "source": [
    "def model_p(x):\n",
    "    multi = x*(1-x)\n",
    "    return model_p1(x)*multi + (exp(1)-1)*x+ 1"
   ]
  },
  {
   "cell_type": "code",
   "execution_count": 10,
   "metadata": {},
   "outputs": [
    {
     "data": {
      "text/plain": [
       "ResNet(\n",
       "  (fc1): Linear(in_features=8, out_features=20, bias=True)\n",
       "  (fc2): Linear(in_features=20, out_features=20, bias=True)\n",
       "  (fc3): Linear(in_features=20, out_features=20, bias=True)\n",
       "  (fc4): Linear(in_features=20, out_features=20, bias=True)\n",
       "  (outlayer): Linear(in_features=20, out_features=8, bias=True)\n",
       ")"
      ]
     },
     "execution_count": 10,
     "metadata": {},
     "output_type": "execute_result"
    }
   ],
   "source": [
    "model_u = ResNet(dim_set,20,1)\n",
    "model_p1 = ResNet(dim_set,20,dim_set)\n",
    "\n",
    "device=torch.device(\"cuda:0\" )\n",
    "model_u.to(device)\n",
    "model_p1.to(device)"
   ]
  },
  {
   "cell_type": "code",
   "execution_count": 11,
   "metadata": {},
   "outputs": [],
   "source": [
    "notes = torch.rand(10000,dim_set).cuda()\n",
    "exact = sol_exact_H1(notes)\n",
    "u_L2 = sqrt(torch.sum((exact[:,0])**2)/10000)\n",
    "Du_L2 = sqrt(torch.sum(exact[:,1:dim_set+1]**2)/10000)\n",
    "def loss_error():\n",
    "    notes = torch.rand(10000,dim_set).cuda()\n",
    "    predict = torch.zeros(10000,2*dim_set+2).cuda()\n",
    "    predict[:,0]= model_u(notes).reshape([1,notes.size()[0]])\n",
    "    predict[:,1:dim_set+1]= model_p(notes)\n",
    "    exact = sol_exact_H1(notes)\n",
    "    value1 = sqrt(torch.sum((predict[:,0] - exact[:,0])**2)/10000)/u_L2\n",
    "    value2 = sqrt(torch.sum((predict[:,1:3] - exact[:,1:3])**2)/10000)/Du_L2\n",
    "    return value1,value2"
   ]
  },
  {
   "cell_type": "code",
   "execution_count": 12,
   "metadata": {
    "scrolled": true
   },
   "outputs": [
    {
     "name": "stdout",
     "output_type": "stream",
     "text": [
      "i=  1\n",
      "error = 0.9882895054429249\n",
      "loss1 = tensor(29.4114, device='cuda:0')\n",
      "loss2 = tensor(192.1579, device='cuda:0')\n",
      "i=  501\n",
      "error = 0.010579181799521751\n",
      "loss1 = tensor(0.5442, device='cuda:0')\n",
      "loss2 = tensor(0.0484, device='cuda:0')\n",
      "i=  1001\n",
      "error = 0.00467507056326562\n",
      "loss1 = tensor(0.1679, device='cuda:0')\n",
      "loss2 = tensor(0.0102, device='cuda:0')\n",
      "i=  1501\n",
      "error = 0.0032609430134911887\n",
      "loss1 = tensor(0.0876, device='cuda:0')\n",
      "loss2 = tensor(0.0037, device='cuda:0')\n",
      "i=  2001\n",
      "error = 0.003540536332071177\n",
      "loss1 = tensor(0.0547, device='cuda:0')\n",
      "loss2 = tensor(0.0018, device='cuda:0')\n",
      "i=  2501\n",
      "error = 0.004581463847303886\n",
      "loss1 = tensor(0.0461, device='cuda:0')\n",
      "loss2 = tensor(0.0017, device='cuda:0')\n",
      "i=  3001\n",
      "error = 0.0018345257162205337\n",
      "loss1 = tensor(0.0264, device='cuda:0')\n",
      "loss2 = tensor(0.0014, device='cuda:0')\n",
      "i=  3501\n",
      "error = 0.0028140776557262232\n",
      "loss1 = tensor(0.0202, device='cuda:0')\n",
      "loss2 = tensor(0.0057, device='cuda:0')\n",
      "i=  4001\n",
      "error = 0.0021993860343090506\n",
      "loss1 = tensor(0.0187, device='cuda:0')\n",
      "loss2 = tensor(0.0102, device='cuda:0')\n",
      "i=  4501\n",
      "error = 0.0013372083955732977\n",
      "loss1 = tensor(0.0138, device='cuda:0')\n",
      "loss2 = tensor(0.0004, device='cuda:0')\n",
      "i=  5001\n",
      "error = 0.0012973149083785674\n",
      "loss1 = tensor(0.0113, device='cuda:0')\n",
      "loss2 = tensor(0.0003, device='cuda:0')\n",
      "i=  5501\n",
      "error = 0.001188027568721199\n",
      "loss1 = tensor(0.0105, device='cuda:0')\n",
      "loss2 = tensor(0.0003, device='cuda:0')\n",
      "i=  6001\n",
      "error = 0.0010963774772837138\n",
      "loss1 = tensor(0.0085, device='cuda:0')\n",
      "loss2 = tensor(0.0002, device='cuda:0')\n",
      "i=  6501\n",
      "error = 0.0013357262169569127\n",
      "loss1 = tensor(0.0073, device='cuda:0')\n",
      "loss2 = tensor(0.0005, device='cuda:0')\n",
      "i=  7001\n",
      "error = 0.0008870014829803779\n",
      "loss1 = tensor(0.0064, device='cuda:0')\n",
      "loss2 = tensor(0.0002, device='cuda:0')\n",
      "i=  7501\n",
      "error = 0.005738264256674166\n",
      "loss1 = tensor(0.0310, device='cuda:0')\n",
      "loss2 = tensor(0.2341, device='cuda:0')\n",
      "i=  8001\n",
      "error = 0.0007667204419693916\n",
      "loss1 = tensor(0.0046, device='cuda:0')\n",
      "loss2 = tensor(0.0001, device='cuda:0')\n",
      "i=  8501\n",
      "error = 0.0009597616917127881\n",
      "loss1 = tensor(0.0040, device='cuda:0')\n",
      "loss2 = tensor(0.0003, device='cuda:0')\n",
      "i=  9001\n",
      "error = 0.0006357234867888786\n",
      "loss1 = tensor(0.0034, device='cuda:0')\n",
      "loss2 = tensor(8.9348e-05, device='cuda:0')\n",
      "i=  9501\n",
      "error = 0.0005778653254908748\n",
      "loss1 = tensor(0.0030, device='cuda:0')\n",
      "loss2 = tensor(7.8829e-05, device='cuda:0')\n",
      "time cost 2643.043264389038 s\n"
     ]
    }
   ],
   "source": [
    "traintime = 10000\n",
    "error_save=np.zeros([2,traintime])\n",
    "optimizer = optim.Adam([\n",
    "                {'params': model_u.parameters()},\n",
    "                {'params': model_p1.parameters()},\n",
    "            ])\n",
    "time_start=time.time()\n",
    "for i in range(traintime):\n",
    "    optimizer.zero_grad()\n",
    "    losses1 = DRM1()\n",
    "    losses1.backward()\n",
    "    optimizer.step() \n",
    "    optimizer.zero_grad()\n",
    "    losses2 = DRM2()\n",
    "    losses2.backward()\n",
    "    optimizer.step() \n",
    "    error1,error2 = loss_error()\n",
    "    error_save[0,i]=float(error1)\n",
    "    error_save[1,i]=float(error2)\n",
    "    #scheduler.step()\n",
    "    if i%500==1:\n",
    "        print(\"i= \",i)\n",
    "        print(\"error =\",error1)\n",
    "        print(\"loss1 =\",losses1.detach())\n",
    "        print(\"loss2 =\",losses2.detach())\n",
    "        np.save(\"error_save_LDG_NBC_8D_v2.npy\", error_save)\n",
    "np.save(\"error_save_LDG_NBC_8D_v2.npy\", error_save)\n",
    "time_end=time.time()\n",
    "print('time cost',time_end-time_start,'s')"
   ]
  },
  {
   "cell_type": "code",
   "execution_count": null,
   "metadata": {},
   "outputs": [],
   "source": []
  }
 ],
 "metadata": {
  "kernelspec": {
   "display_name": "Python 3",
   "language": "python",
   "name": "python3"
  },
  "language_info": {
   "codemirror_mode": {
    "name": "ipython",
    "version": 3
   },
   "file_extension": ".py",
   "mimetype": "text/x-python",
   "name": "python",
   "nbconvert_exporter": "python",
   "pygments_lexer": "ipython3",
   "version": "3.7.6"
  }
 },
 "nbformat": 4,
 "nbformat_minor": 4
}
