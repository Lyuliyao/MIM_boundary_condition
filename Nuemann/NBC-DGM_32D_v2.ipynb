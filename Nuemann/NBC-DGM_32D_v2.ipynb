{
 "cells": [
  {
   "cell_type": "code",
   "execution_count": 1,
   "metadata": {},
   "outputs": [],
   "source": [
    "import math\n",
    "import numpy as np\n",
    "import numpy.random as npr\n",
    "from numpy import linalg\n",
    "import torch\n",
    "import torch.nn as nn\n",
    "import torch.nn.functional as F\n",
    "from torch.utils import data\n",
    "from torch.utils.data import Dataset\n",
    "import torch.optim as optim\n",
    "import time\n",
    "from math import *\n",
    "torch.cuda.set_device(0)"
   ]
  },
  {
   "cell_type": "code",
   "execution_count": 2,
   "metadata": {},
   "outputs": [],
   "source": [
    "torch.set_default_tensor_type('torch.DoubleTensor')"
   ]
  },
  {
   "cell_type": "code",
   "execution_count": 3,
   "metadata": {},
   "outputs": [],
   "source": [
    "class ResNet(nn.Module):\n",
    "    def __init__(self,dim, m):\n",
    "        super(ResNet, self).__init__()\n",
    "        self.Ix = torch.zeros([dim,m]).cuda()\n",
    "        self.Ix[0,0] = 1\n",
    "        self.Ix[1,1] = 1\n",
    "        self.fc1 = nn.Linear(dim, m)\n",
    "        self.fc2 = nn.Linear(m, m)\n",
    "        \n",
    "        self.fc3 = nn.Linear(m, m)\n",
    "        self.fc4 = nn.Linear(m, m)\n",
    "\n",
    "        \n",
    "        self.outlayer = nn.Linear(m, 1)\n",
    "\n",
    "    def forward(self, x):\n",
    "        s = x@self.Ix\n",
    "        y = self.fc1(x)\n",
    "        y = F.relu(y**deg)\n",
    "        y = self.fc2(y)\n",
    "        y = F.relu(y**deg)\n",
    "        y = y+s\n",
    "        \n",
    "        s=y\n",
    "        y = self.fc3(y)\n",
    "        y = F.relu(y**deg)\n",
    "        y = self.fc4(y)\n",
    "        y = F.relu(y**deg)\n",
    "        y = y+s\n",
    "        \n",
    "        \n",
    "        output = self.outlayer(y)\n",
    "        return output\n",
    "deg = 2"
   ]
  },
  {
   "cell_type": "code",
   "execution_count": 4,
   "metadata": {},
   "outputs": [],
   "source": [
    "def sol_exact(x):\n",
    "    x_tem = torch.exp(x)\n",
    "    sol = torch.sum(x_tem,dim=1).reshape([x.size()[0],1])\n",
    "    return sol"
   ]
  },
  {
   "cell_type": "code",
   "execution_count": 5,
   "metadata": {},
   "outputs": [],
   "source": [
    "def sol_exact_H1(x):\n",
    "    x_tem = torch.exp(x)\n",
    "    sol = torch.zeros(x.size()[0],dim_set+1).cuda()\n",
    "    sol[:,0] = torch.sum(x_tem,dim=1)\n",
    "    sol[:,1:dim_set+1] = torch.exp(x)\n",
    "    return sol"
   ]
  },
  {
   "cell_type": "code",
   "execution_count": 6,
   "metadata": {},
   "outputs": [],
   "source": [
    "def right(x):\n",
    "    x_tem = torch.exp(x)\n",
    "    f_tem = 2*torch.sum(x_tem,dim=1).reshape([x.size()[0],1])\n",
    "    return f_tem "
   ]
  },
  {
   "cell_type": "code",
   "execution_count": 7,
   "metadata": {},
   "outputs": [],
   "source": [
    "dim_set = 32\n",
    "Batch_size = 20000\n",
    "def DGM():\n",
    "    x = torch.rand(Batch_size,dim_set).cuda()\n",
    "    x.requires_grad = True\n",
    "    u = model(x)\n",
    "    v= torch.ones(u.shape).cuda()\n",
    "    du = torch.autograd.grad(u,x,grad_outputs=v,create_graph=True)[0]\n",
    "    uxx = torch.zeros(Batch_size,dim_set).cuda()\n",
    "    for i in range(dim_set):\n",
    "        ux_tem = du[:,i].reshape([x.size()[0],1])\n",
    "        uxx_tem = torch.autograd.grad(ux_tem,x,grad_outputs=v,create_graph=True)[0]\n",
    "        uxx[:,i] = uxx_tem[:,i]\n",
    "    loss1 = torch.sum((torch.sum(uxx,dim=1).reshape([x.size()[0],1]) + u - right(x))**2)/Batch_size\n",
    "    bd_value= torch.zeros(100,1).cuda()\n",
    "    v= torch.ones(bd_value.shape).cuda()\n",
    "    for i in range(dim_set):\n",
    "        notes1 = torch.rand(bd_value.shape[0],dim_set).cuda()\n",
    "        notes2 = torch.rand(bd_value.shape[0],dim_set).cuda()\n",
    "        notes1[:,i] = 0\n",
    "        notes2[:,i] = 1\n",
    "        notes1.requires_grad = True\n",
    "        notes2.requires_grad = True\n",
    "        v_bd1 = model(notes1)\n",
    "        v_bd2 = model(notes2)\n",
    "        Dbd1 = torch.autograd.grad(v_bd1,notes1,grad_outputs=v,create_graph=True)[0]\n",
    "        Dbd2 = torch.autograd.grad(v_bd2,notes2,grad_outputs=v,create_graph=True)[0]\n",
    "        bd_value = bd_value + (Dbd1[:,i]-1)**2+ (Dbd2[:,i]-math.exp(1))**2\n",
    "    loss2 =   torch.sum(bd_value)/bd_value.shape[0]\n",
    "    return loss1+loss2"
   ]
  },
  {
   "cell_type": "code",
   "execution_count": 8,
   "metadata": {},
   "outputs": [
    {
     "data": {
      "text/plain": [
       "ResNet(\n",
       "  (fc1): Linear(in_features=32, out_features=35, bias=True)\n",
       "  (fc2): Linear(in_features=35, out_features=35, bias=True)\n",
       "  (fc3): Linear(in_features=35, out_features=35, bias=True)\n",
       "  (fc4): Linear(in_features=35, out_features=35, bias=True)\n",
       "  (outlayer): Linear(in_features=35, out_features=1, bias=True)\n",
       ")"
      ]
     },
     "execution_count": 8,
     "metadata": {},
     "output_type": "execute_result"
    }
   ],
   "source": [
    "model = ResNet(dim_set,35)\n",
    "\n",
    "device=torch.device(\"cuda:0\" )\n",
    "model.to(device)"
   ]
  },
  {
   "cell_type": "code",
   "execution_count": 9,
   "metadata": {},
   "outputs": [],
   "source": [
    "notes = torch.rand(10000,dim_set).cuda()\n",
    "exact = sol_exact_H1(notes)\n",
    "u_L2 = sqrt(torch.sum((exact[:,0])**2)/10000)\n",
    "Du_L2 = sqrt(torch.sum(exact[:,1:dim_set+1]**2)/10000)\n",
    "def loss_error():\n",
    "    notes = torch.rand(10000,dim_set).cuda()\n",
    "    predict = torch.zeros(10000,2*dim_set+2).cuda()\n",
    "    predict[:,0]= model(notes).reshape([1,notes.size()[0]])\n",
    "    exact = sol_exact_H1(notes)\n",
    "    value1 = sqrt(torch.sum((predict[:,0] - exact[:,0])**2)/10000)/u_L2\n",
    "    return value1"
   ]
  },
  {
   "cell_type": "code",
   "execution_count": 10,
   "metadata": {
    "scrolled": true
   },
   "outputs": [
    {
     "name": "stdout",
     "output_type": "stream",
     "text": [
      "i=  1\n",
      "error = 0.9986801459209125\n",
      "loss1 = tensor(38938.8645, device='cuda:0')\n",
      "i=  501\n",
      "error = 0.7171736527332975\n",
      "loss1 = tensor(1639.9500, device='cuda:0')\n",
      "i=  1001\n",
      "error = 0.3607599129740218\n",
      "loss1 = tensor(431.2333, device='cuda:0')\n",
      "i=  1501\n",
      "error = 0.043447870395399955\n",
      "loss1 = tensor(88.1574, device='cuda:0')\n",
      "i=  2001\n",
      "error = 0.012707111334716347\n",
      "loss1 = tensor(43.6706, device='cuda:0')\n",
      "i=  2501\n",
      "error = 0.006528910498142886\n",
      "loss1 = tensor(24.4168, device='cuda:0')\n",
      "i=  3001\n",
      "error = 0.005243319422878185\n",
      "loss1 = tensor(16.3340, device='cuda:0')\n",
      "i=  3501\n",
      "error = 0.005472553639574514\n",
      "loss1 = tensor(13.5437, device='cuda:0')\n",
      "i=  4001\n",
      "error = 0.005766454384016462\n",
      "loss1 = tensor(11.0922, device='cuda:0')\n",
      "i=  4501\n",
      "error = 0.007391937636995162\n",
      "loss1 = tensor(16.5778, device='cuda:0')\n",
      "i=  5001\n",
      "error = 0.0046979741219026205\n",
      "loss1 = tensor(7.8972, device='cuda:0')\n",
      "i=  5501\n",
      "error = 0.005953793559835293\n",
      "loss1 = tensor(10.8776, device='cuda:0')\n",
      "i=  6001\n",
      "error = 0.005026210220932207\n",
      "loss1 = tensor(8.0034, device='cuda:0')\n",
      "i=  6501\n",
      "error = 0.0047886215307750574\n",
      "loss1 = tensor(5.4755, device='cuda:0')\n",
      "i=  7001\n",
      "error = 0.004716623225876216\n",
      "loss1 = tensor(5.4011, device='cuda:0')\n",
      "i=  7501\n",
      "error = 0.004706073358438438\n",
      "loss1 = tensor(6.1132, device='cuda:0')\n",
      "i=  8001\n",
      "error = 0.005018707950184074\n",
      "loss1 = tensor(4.9265, device='cuda:0')\n",
      "i=  8501\n",
      "error = 0.0060250807674666765\n",
      "loss1 = tensor(9.5982, device='cuda:0')\n",
      "i=  9001\n",
      "error = 0.004913883638939039\n",
      "loss1 = tensor(5.7092, device='cuda:0')\n",
      "i=  9501\n",
      "error = 0.005046781700758028\n",
      "loss1 = tensor(5.1068, device='cuda:0')\n",
      "time cost 7571.813386678696 s\n"
     ]
    }
   ],
   "source": [
    "traintime = 10000\n",
    "error_save=np.zeros(traintime)\n",
    "optimizer = optim.Adam([\n",
    "                {'params': model.parameters()},\n",
    "            ])\n",
    "time_start=time.time()\n",
    "for i in range(traintime):\n",
    "    optimizer.zero_grad()\n",
    "    losses1 = DGM()\n",
    "    losses1.backward()\n",
    "    optimizer.step()\n",
    "    error1 = loss_error()\n",
    "    error_save[i]=float(error1)\n",
    "    #scheduler.step()\n",
    "    if i%500==1:\n",
    "        print(\"i= \",i)\n",
    "        print(\"error =\",error1)\n",
    "        print(\"loss1 =\",losses1.detach())\n",
    "        np.save(\"error_save_DG_NBC_32D_v2.npy\", error_save)\n",
    "np.save(\"error_save_DG_NBC_32D_v2.npy\", error_save)\n",
    "time_end=time.time()\n",
    "print('time cost',time_end-time_start,'s')"
   ]
  },
  {
   "cell_type": "code",
   "execution_count": 11,
   "metadata": {},
   "outputs": [],
   "source": [
    "import matplotlib.pyplot as plt"
   ]
  },
  {
   "cell_type": "code",
   "execution_count": 12,
   "metadata": {},
   "outputs": [
    {
     "ename": "IndexError",
     "evalue": "too many indices for array",
     "output_type": "error",
     "traceback": [
      "\u001b[0;31m---------------------------------------------------------------------------\u001b[0m",
      "\u001b[0;31mIndexError\u001b[0m                                Traceback (most recent call last)",
      "\u001b[0;32m<ipython-input-12-f29aec5c54ab>\u001b[0m in \u001b[0;36m<module>\u001b[0;34m\u001b[0m\n\u001b[1;32m      1\u001b[0m \u001b[0mindex\u001b[0m \u001b[0;34m=\u001b[0m \u001b[0mnp\u001b[0m\u001b[0;34m.\u001b[0m\u001b[0marange\u001b[0m\u001b[0;34m(\u001b[0m\u001b[0;36m0\u001b[0m\u001b[0;34m,\u001b[0m\u001b[0;36m50000\u001b[0m\u001b[0;34m,\u001b[0m\u001b[0;36m10\u001b[0m\u001b[0;34m)\u001b[0m\u001b[0;34m\u001b[0m\u001b[0;34m\u001b[0m\u001b[0m\n\u001b[0;32m----> 2\u001b[0;31m \u001b[0mplt\u001b[0m\u001b[0;34m.\u001b[0m\u001b[0mplot\u001b[0m\u001b[0;34m(\u001b[0m\u001b[0mnp\u001b[0m\u001b[0;34m.\u001b[0m\u001b[0mlog10\u001b[0m\u001b[0;34m(\u001b[0m\u001b[0merror_save\u001b[0m\u001b[0;34m[\u001b[0m\u001b[0;36m0\u001b[0m\u001b[0;34m,\u001b[0m\u001b[0mindex\u001b[0m\u001b[0;34m]\u001b[0m\u001b[0;34m)\u001b[0m\u001b[0;34m)\u001b[0m\u001b[0;34m\u001b[0m\u001b[0;34m\u001b[0m\u001b[0m\n\u001b[0m",
      "\u001b[0;31mIndexError\u001b[0m: too many indices for array"
     ]
    }
   ],
   "source": [
    "index = np.arange(0,50000,10)\n",
    "plt.plot(np.log10(error_save[0,index]))"
   ]
  },
  {
   "cell_type": "code",
   "execution_count": null,
   "metadata": {},
   "outputs": [],
   "source": []
  }
 ],
 "metadata": {
  "kernelspec": {
   "display_name": "Python 3",
   "language": "python",
   "name": "python3"
  },
  "language_info": {
   "codemirror_mode": {
    "name": "ipython",
    "version": 3
   },
   "file_extension": ".py",
   "mimetype": "text/x-python",
   "name": "python",
   "nbconvert_exporter": "python",
   "pygments_lexer": "ipython3",
   "version": "3.6.9"
  }
 },
 "nbformat": 4,
 "nbformat_minor": 2
}
