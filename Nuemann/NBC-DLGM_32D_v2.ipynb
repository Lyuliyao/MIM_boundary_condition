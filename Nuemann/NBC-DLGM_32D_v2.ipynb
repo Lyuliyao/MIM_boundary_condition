{
 "cells": [
  {
   "cell_type": "code",
   "execution_count": 1,
   "metadata": {},
   "outputs": [],
   "source": [
    "import math\n",
    "import numpy as np\n",
    "import numpy.random as npr\n",
    "from numpy import linalg\n",
    "import torch\n",
    "import torch.nn as nn\n",
    "import torch.nn.functional as F\n",
    "from torch.utils import data\n",
    "from torch.utils.data import Dataset\n",
    "import torch.optim as optim\n",
    "import time\n",
    "from math import *\n",
    "torch.cuda.set_device(0)"
   ]
  },
  {
   "cell_type": "code",
   "execution_count": 2,
   "metadata": {},
   "outputs": [],
   "source": [
    "torch.set_default_tensor_type('torch.DoubleTensor')"
   ]
  },
  {
   "cell_type": "code",
   "execution_count": 3,
   "metadata": {},
   "outputs": [],
   "source": [
    "class ResNet(nn.Module):\n",
    "    def __init__(self,dim, m,o):\n",
    "        super(ResNet, self).__init__()\n",
    "        self.Ix = torch.zeros([dim,m]).cuda()\n",
    "        self.Ix[0,0] = 1\n",
    "        self.Ix[1,1] = 1\n",
    "        self.fc1 = nn.Linear(dim, m)\n",
    "        self.fc2 = nn.Linear(m, m)\n",
    "        \n",
    "        self.fc3 = nn.Linear(m, m)\n",
    "        self.fc4 = nn.Linear(m, m)\n",
    "\n",
    "        \n",
    "        self.outlayer = nn.Linear(m, o)\n",
    "\n",
    "    def forward(self, x):\n",
    "        s = x@self.Ix\n",
    "        y = self.fc1(x)\n",
    "        y = F.relu(y**deg)\n",
    "        y = self.fc2(y)\n",
    "        y = F.relu(y**deg)\n",
    "        y = y+s\n",
    "        \n",
    "        s=y\n",
    "        y = self.fc3(y)\n",
    "        y = F.relu(y**deg)\n",
    "        y = self.fc4(y)\n",
    "        y = F.relu(y**deg)\n",
    "        y = y+s\n",
    "        \n",
    "        \n",
    "        output = self.outlayer(y)\n",
    "        return output\n",
    "deg = 3"
   ]
  },
  {
   "cell_type": "code",
   "execution_count": 4,
   "metadata": {},
   "outputs": [],
   "source": [
    "def sol_exact(x):\n",
    "    x_tem = torch.exp(x)\n",
    "    sol = torch.sum(x_tem,dim=1).reshape([x.size()[0],1])\n",
    "    return sol"
   ]
  },
  {
   "cell_type": "code",
   "execution_count": 5,
   "metadata": {},
   "outputs": [],
   "source": [
    "def sol_exact_H1(x):\n",
    "    x_tem = torch.exp(x)\n",
    "    sol = torch.zeros(x.size()[0],dim_set+1).cuda()\n",
    "    sol[:,0] = torch.sum(x_tem,dim=1)\n",
    "    sol[:,1:dim_set+1] = torch.exp(x)\n",
    "    return sol"
   ]
  },
  {
   "cell_type": "code",
   "execution_count": 6,
   "metadata": {},
   "outputs": [],
   "source": [
    "def right(x):\n",
    "    x_tem = torch.exp(x)\n",
    "    f_tem = 2*torch.sum(x_tem,dim=1).reshape([x.size()[0],1])\n",
    "    return f_tem "
   ]
  },
  {
   "cell_type": "code",
   "execution_count": 7,
   "metadata": {},
   "outputs": [],
   "source": [
    "dim_set = 32\n",
    "Batch_size = 20000\n",
    "def DRM1():\n",
    "    x = torch.rand(Batch_size,dim_set).cuda()\n",
    "    x.requires_grad = True\n",
    "    u = model_u(x)\n",
    "    du = model_p(x)\n",
    "    v= torch.ones(u.shape).cuda()\n",
    "    ux = torch.autograd.grad(u,x,grad_outputs=v,create_graph=True)[0]\n",
    "    loss1 = torch.sum((ux-du)**2)/Batch_size\n",
    "    return loss1"
   ]
  },
  {
   "cell_type": "code",
   "execution_count": 8,
   "metadata": {},
   "outputs": [],
   "source": [
    "def DRM2():\n",
    "    x = torch.rand(Batch_size,dim_set).cuda()\n",
    "    x.requires_grad = True\n",
    "    u = model_u(x)\n",
    "    du = model_p(x)\n",
    "    v= torch.ones(u.shape).cuda()\n",
    "    uxx = torch.zeros(Batch_size,dim_set).cuda()\n",
    "    for i in range(dim_set):\n",
    "        ux_tem = du[:,i].reshape([x.size()[0],1])\n",
    "        uxx_tem = torch.autograd.grad(ux_tem,x,grad_outputs=v,create_graph=True)[0]\n",
    "        uxx[:,i] = uxx_tem[:,i]\n",
    "    loss2 = torch.sum((torch.sum(uxx,dim=1).reshape([x.size()[0],1]) + u - right(x))**2)/Batch_size\n",
    "    return loss2"
   ]
  },
  {
   "cell_type": "code",
   "execution_count": 9,
   "metadata": {},
   "outputs": [],
   "source": [
    "def model_p(x):\n",
    "    multi = x*(1-x)\n",
    "    return model_p1(x)*multi + (exp(1)-1)*x+ 1"
   ]
  },
  {
   "cell_type": "code",
   "execution_count": 10,
   "metadata": {},
   "outputs": [
    {
     "data": {
      "text/plain": [
       "ResNet(\n",
       "  (fc1): Linear(in_features=32, out_features=35, bias=True)\n",
       "  (fc2): Linear(in_features=35, out_features=35, bias=True)\n",
       "  (fc3): Linear(in_features=35, out_features=35, bias=True)\n",
       "  (fc4): Linear(in_features=35, out_features=35, bias=True)\n",
       "  (outlayer): Linear(in_features=35, out_features=32, bias=True)\n",
       ")"
      ]
     },
     "execution_count": 10,
     "metadata": {},
     "output_type": "execute_result"
    }
   ],
   "source": [
    "model_u = ResNet(dim_set,35,1)\n",
    "model_p1 = ResNet(dim_set,35,dim_set)\n",
    "\n",
    "device=torch.device(\"cuda:0\" )\n",
    "model_u.to(device)\n",
    "model_p1.to(device)"
   ]
  },
  {
   "cell_type": "code",
   "execution_count": 11,
   "metadata": {},
   "outputs": [],
   "source": [
    "notes = torch.rand(10000,dim_set).cuda()\n",
    "exact = sol_exact_H1(notes)\n",
    "u_L2 = sqrt(torch.sum((exact[:,0])**2)/10000)\n",
    "Du_L2 = sqrt(torch.sum(exact[:,1:dim_set+1]**2)/10000)\n",
    "def loss_error():\n",
    "    notes = torch.rand(10000,dim_set).cuda()\n",
    "    predict = torch.zeros(10000,2*dim_set+2).cuda()\n",
    "    predict[:,0]= model_u(notes).reshape([1,notes.size()[0]])\n",
    "    predict[:,1:dim_set+1]= model_p(notes)\n",
    "    exact = sol_exact_H1(notes)\n",
    "    value1 = sqrt(torch.sum((predict[:,0] - exact[:,0])**2)/10000)/u_L2\n",
    "    value2 = sqrt(torch.sum((predict[:,1:3] - exact[:,1:3])**2)/10000)/Du_L2\n",
    "    return value1,value2"
   ]
  },
  {
   "cell_type": "code",
   "execution_count": 12,
   "metadata": {
    "scrolled": true
   },
   "outputs": [
    {
     "name": "stdout",
     "output_type": "stream",
     "text": [
      "i=  1\n",
      "error = 0.9996554516579542\n",
      "loss1 = tensor(118.7850, device='cuda:0')\n",
      "loss2 = tensor(3047.0382, device='cuda:0')\n",
      "i=  501\n",
      "error = 0.878886521119358\n",
      "loss1 = tensor(168.4550, device='cuda:0')\n",
      "loss2 = tensor(2354.6030, device='cuda:0')\n",
      "i=  1001\n",
      "error = 0.013266663033964642\n",
      "loss1 = tensor(14.8618, device='cuda:0')\n",
      "loss2 = tensor(1.4568, device='cuda:0')\n",
      "i=  1501\n",
      "error = 0.007625309295785535\n",
      "loss1 = tensor(6.0341, device='cuda:0')\n",
      "loss2 = tensor(0.4728, device='cuda:0')\n",
      "i=  2001\n",
      "error = 0.006260526266955079\n",
      "loss1 = tensor(4.3258, device='cuda:0')\n",
      "loss2 = tensor(0.3659, device='cuda:0')\n",
      "i=  2501\n",
      "error = 0.005944375792234043\n",
      "loss1 = tensor(3.9575, device='cuda:0')\n",
      "loss2 = tensor(0.4578, device='cuda:0')\n",
      "i=  3001\n",
      "error = 0.005590211923273063\n",
      "loss1 = tensor(3.4650, device='cuda:0')\n",
      "loss2 = tensor(0.3060, device='cuda:0')\n",
      "i=  3501\n",
      "error = 0.005361395488049808\n",
      "loss1 = tensor(3.0731, device='cuda:0')\n",
      "loss2 = tensor(0.2595, device='cuda:0')\n",
      "i=  4001\n",
      "error = 0.005097362068600198\n",
      "loss1 = tensor(2.6156, device='cuda:0')\n",
      "loss2 = tensor(0.2273, device='cuda:0')\n",
      "i=  4501\n",
      "error = 0.0053628503267997545\n",
      "loss1 = tensor(2.1535, device='cuda:0')\n",
      "loss2 = tensor(0.1870, device='cuda:0')\n",
      "i=  5001\n",
      "error = 0.004301243282098264\n",
      "loss1 = tensor(1.7418, device='cuda:0')\n",
      "loss2 = tensor(0.1301, device='cuda:0')\n",
      "i=  5501\n",
      "error = 0.0033362960061071264\n",
      "loss1 = tensor(1.0359, device='cuda:0')\n",
      "loss2 = tensor(0.1355, device='cuda:0')\n",
      "i=  6001\n",
      "error = 0.004349017658820329\n",
      "loss1 = tensor(0.6723, device='cuda:0')\n",
      "loss2 = tensor(0.2296, device='cuda:0')\n",
      "i=  6501\n",
      "error = 0.0041431235196146094\n",
      "loss1 = tensor(0.4885, device='cuda:0')\n",
      "loss2 = tensor(0.2928, device='cuda:0')\n",
      "i=  7001\n",
      "error = 0.0018661500933424369\n",
      "loss1 = tensor(0.4131, device='cuda:0')\n",
      "loss2 = tensor(0.0636, device='cuda:0')\n",
      "i=  7501\n",
      "error = 0.0018700536695738627\n",
      "loss1 = tensor(0.3478, device='cuda:0')\n",
      "loss2 = tensor(0.0518, device='cuda:0')\n",
      "i=  8001\n",
      "error = 0.0018712440697272392\n",
      "loss1 = tensor(0.3210, device='cuda:0')\n",
      "loss2 = tensor(0.0891, device='cuda:0')\n",
      "i=  8501\n",
      "error = 0.0016884273802212644\n",
      "loss1 = tensor(0.2980, device='cuda:0')\n",
      "loss2 = tensor(0.0600, device='cuda:0')\n",
      "i=  9001\n",
      "error = 0.0017285443316545444\n",
      "loss1 = tensor(0.2764, device='cuda:0')\n",
      "loss2 = tensor(0.0473, device='cuda:0')\n",
      "i=  9501\n",
      "error = 0.0016361179659131438\n",
      "loss1 = tensor(0.2760, device='cuda:0')\n",
      "loss2 = tensor(0.0406, device='cuda:0')\n",
      "time cost 1866.6665306091309 s\n"
     ]
    }
   ],
   "source": [
    "traintime = 10000\n",
    "error_save=np.zeros([2,traintime])\n",
    "optimizer = optim.Adam([\n",
    "                {'params': model_u.parameters()},\n",
    "                {'params': model_p1.parameters()},\n",
    "            ])\n",
    "time_start=time.time()\n",
    "for i in range(traintime):\n",
    "    optimizer.zero_grad()\n",
    "    losses1 = DRM1()\n",
    "    losses1.backward()\n",
    "    optimizer.step() \n",
    "    optimizer.zero_grad()\n",
    "    losses2 = DRM2()\n",
    "    losses2.backward()\n",
    "    optimizer.step() \n",
    "    error1,error2 = loss_error()\n",
    "    error_save[0,i]=float(error1)\n",
    "    error_save[1,i]=float(error2)\n",
    "    #scheduler.step()\n",
    "    if i%500==1:\n",
    "        print(\"i= \",i)\n",
    "        print(\"error =\",error1)\n",
    "        print(\"loss1 =\",losses1.detach())\n",
    "        print(\"loss2 =\",losses2.detach())\n",
    "        np.save(\"error_save_LDG_NBC_32D_v2.npy\", error_save)\n",
    "np.save(\"error_save_LDG_NBC_32D_v2.npy\", error_save)\n",
    "time_end=time.time()\n",
    "print('time cost',time_end-time_start,'s')"
   ]
  },
  {
   "cell_type": "code",
   "execution_count": null,
   "metadata": {},
   "outputs": [],
   "source": []
  }
 ],
 "metadata": {
  "kernelspec": {
   "display_name": "Python 3",
   "language": "python",
   "name": "python3"
  },
  "language_info": {
   "codemirror_mode": {
    "name": "ipython",
    "version": 3
   },
   "file_extension": ".py",
   "mimetype": "text/x-python",
   "name": "python",
   "nbconvert_exporter": "python",
   "pygments_lexer": "ipython3",
   "version": "3.7.4"
  }
 },
 "nbformat": 4,
 "nbformat_minor": 4
}
