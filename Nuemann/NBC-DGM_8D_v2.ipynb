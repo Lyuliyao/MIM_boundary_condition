{
 "cells": [
  {
   "cell_type": "code",
   "execution_count": 1,
   "metadata": {},
   "outputs": [],
   "source": [
    "import math\n",
    "import numpy as np\n",
    "import numpy.random as npr\n",
    "from numpy import linalg\n",
    "import torch\n",
    "import torch.nn as nn\n",
    "import torch.nn.functional as F\n",
    "from torch.utils import data\n",
    "from torch.utils.data import Dataset\n",
    "import torch.optim as optim\n",
    "import time\n",
    "from math import *\n",
    "torch.cuda.set_device(0)"
   ]
  },
  {
   "cell_type": "code",
   "execution_count": 2,
   "metadata": {},
   "outputs": [],
   "source": [
    "torch.set_default_tensor_type('torch.DoubleTensor')"
   ]
  },
  {
   "cell_type": "code",
   "execution_count": 3,
   "metadata": {},
   "outputs": [],
   "source": [
    "class ResNet(nn.Module):\n",
    "    def __init__(self,dim, m):\n",
    "        super(ResNet, self).__init__()\n",
    "        self.Ix = torch.zeros([dim,m]).cuda()\n",
    "        self.Ix[0,0] = 1\n",
    "        self.Ix[1,1] = 1\n",
    "        self.fc1 = nn.Linear(dim, m)\n",
    "        self.fc2 = nn.Linear(m, m)\n",
    "        \n",
    "        self.fc3 = nn.Linear(m, m)\n",
    "        self.fc4 = nn.Linear(m, m)\n",
    "\n",
    "        \n",
    "        self.outlayer = nn.Linear(m, 1)\n",
    "\n",
    "    def forward(self, x):\n",
    "        s = x@self.Ix\n",
    "        y = self.fc1(x)\n",
    "        y = F.relu(y**deg)\n",
    "        y = self.fc2(y)\n",
    "        y = F.relu(y**deg)\n",
    "        y = y+s\n",
    "        \n",
    "        s=y\n",
    "        y = self.fc3(y)\n",
    "        y = F.relu(y**deg)\n",
    "        y = self.fc4(y)\n",
    "        y = F.relu(y**deg)\n",
    "        y = y+s\n",
    "        \n",
    "        \n",
    "        output = self.outlayer(y)\n",
    "        return output\n",
    "deg = 2"
   ]
  },
  {
   "cell_type": "code",
   "execution_count": 4,
   "metadata": {},
   "outputs": [],
   "source": [
    "def sol_exact(x):\n",
    "    x_tem = torch.exp(x)\n",
    "    sol = torch.sum(x_tem,dim=1).reshape([x.size()[0],1])\n",
    "    return sol"
   ]
  },
  {
   "cell_type": "code",
   "execution_count": 5,
   "metadata": {},
   "outputs": [],
   "source": [
    "def sol_exact_H1(x):\n",
    "    x_tem = torch.exp(x)\n",
    "    sol = torch.zeros(x.size()[0],dim_set+1).cuda()\n",
    "    sol[:,0] = torch.sum(x_tem,dim=1)\n",
    "    sol[:,1:dim_set+1] = torch.exp(x)\n",
    "    return sol"
   ]
  },
  {
   "cell_type": "code",
   "execution_count": 6,
   "metadata": {},
   "outputs": [],
   "source": [
    "def right(x):\n",
    "    x_tem = torch.exp(x)\n",
    "    f_tem = 2*torch.sum(x_tem,dim=1).reshape([x.size()[0],1])\n",
    "    return f_tem "
   ]
  },
  {
   "cell_type": "code",
   "execution_count": 7,
   "metadata": {},
   "outputs": [],
   "source": [
    "dim_set = 8\n",
    "Batch_size = 50000\n",
    "def DGM():\n",
    "    x = torch.rand(Batch_size,dim_set).cuda()\n",
    "    x.requires_grad = True\n",
    "    u = model(x)\n",
    "    v= torch.ones(u.shape).cuda()\n",
    "    du = torch.autograd.grad(u,x,grad_outputs=v,create_graph=True)[0]\n",
    "    uxx = torch.zeros(Batch_size,dim_set).cuda()\n",
    "    for i in range(dim_set):\n",
    "        ux_tem = du[:,i].reshape([x.size()[0],1])\n",
    "        uxx_tem = torch.autograd.grad(ux_tem,x,grad_outputs=v,create_graph=True)[0]\n",
    "        uxx[:,i] = uxx_tem[:,i]\n",
    "    loss1 = torch.sum((torch.sum(uxx,dim=1).reshape([x.size()[0],1]) + u - right(x))**2)/Batch_size\n",
    "    bd_value= torch.zeros(100,1).cuda()\n",
    "    v= torch.ones(bd_value.shape).cuda()\n",
    "    for i in range(dim_set):\n",
    "        notes1 = torch.rand(bd_value.shape[0],dim_set).cuda()\n",
    "        notes2 = torch.rand(bd_value.shape[0],dim_set).cuda()\n",
    "        notes1[:,i] = 0\n",
    "        notes2[:,i] = 1\n",
    "        notes1.requires_grad = True\n",
    "        notes2.requires_grad = True\n",
    "        v_bd1 = model(notes1)\n",
    "        v_bd2 = model(notes2)\n",
    "        Dbd1 = torch.autograd.grad(v_bd1,notes1,grad_outputs=v,create_graph=True)[0]\n",
    "        Dbd2 = torch.autograd.grad(v_bd2,notes2,grad_outputs=v,create_graph=True)[0]\n",
    "        bd_value = bd_value + (Dbd1[:,i]-1)**2+ (Dbd2[:,i]-math.exp(1))**2\n",
    "    loss2 =   torch.sum(bd_value)/bd_value.shape[0]\n",
    "    return loss1+loss2"
   ]
  },
  {
   "cell_type": "code",
   "execution_count": 8,
   "metadata": {},
   "outputs": [
    {
     "data": {
      "text/plain": [
       "ResNet(\n",
       "  (fc1): Linear(in_features=8, out_features=20, bias=True)\n",
       "  (fc2): Linear(in_features=20, out_features=20, bias=True)\n",
       "  (fc3): Linear(in_features=20, out_features=20, bias=True)\n",
       "  (fc4): Linear(in_features=20, out_features=20, bias=True)\n",
       "  (outlayer): Linear(in_features=20, out_features=1, bias=True)\n",
       ")"
      ]
     },
     "execution_count": 8,
     "metadata": {},
     "output_type": "execute_result"
    }
   ],
   "source": [
    "model = ResNet(dim_set,20)\n",
    "\n",
    "device=torch.device(\"cuda:0\" )\n",
    "model.to(device)"
   ]
  },
  {
   "cell_type": "code",
   "execution_count": 9,
   "metadata": {},
   "outputs": [],
   "source": [
    "notes = torch.rand(10000,dim_set).cuda()\n",
    "exact = sol_exact_H1(notes)\n",
    "u_L2 = sqrt(torch.sum((exact[:,0])**2)/10000)\n",
    "Du_L2 = sqrt(torch.sum(exact[:,1:dim_set+1]**2)/10000)\n",
    "def loss_error():\n",
    "    notes = torch.rand(10000,dim_set).cuda()\n",
    "    predict = torch.zeros(10000,2*dim_set+2).cuda()\n",
    "    predict[:,0]= model(notes).reshape([1,notes.size()[0]])\n",
    "    exact = sol_exact_H1(notes)\n",
    "    value1 = sqrt(torch.sum((predict[:,0] - exact[:,0])**2)/10000)/u_L2\n",
    "    return value1"
   ]
  },
  {
   "cell_type": "code",
   "execution_count": 10,
   "metadata": {
    "scrolled": true
   },
   "outputs": [
    {
     "name": "stdout",
     "output_type": "stream",
     "text": [
      "i=  1\n",
      "error = 0.987975103286065\n",
      "loss1 = tensor(7552.0846, device='cuda:0')\n",
      "i=  501\n",
      "error = 0.6051968809034348\n",
      "loss1 = tensor(121.8562, device='cuda:0')\n",
      "i=  1001\n",
      "error = 0.30212224646269614\n",
      "loss1 = tensor(27.0447, device='cuda:0')\n",
      "i=  1501\n",
      "error = 0.01498374892792749\n",
      "loss1 = tensor(4.5711, device='cuda:0')\n",
      "i=  2001\n",
      "error = 0.010930091962291137\n",
      "loss1 = tensor(6.3334, device='cuda:0')\n",
      "i=  2501\n",
      "error = 0.00892536374337051\n",
      "loss1 = tensor(2.3112, device='cuda:0')\n",
      "i=  3001\n",
      "error = 0.009745563934135117\n",
      "loss1 = tensor(1.9305, device='cuda:0')\n",
      "i=  3501\n",
      "error = 0.00783959020839369\n",
      "loss1 = tensor(1.7300, device='cuda:0')\n",
      "i=  4001\n",
      "error = 0.0108202173999544\n",
      "loss1 = tensor(5.4116, device='cuda:0')\n",
      "i=  4501\n",
      "error = 0.008375446230640841\n",
      "loss1 = tensor(1.4728, device='cuda:0')\n",
      "i=  5001\n",
      "error = 0.008519064957657236\n",
      "loss1 = tensor(1.4904, device='cuda:0')\n",
      "i=  5501\n",
      "error = 0.007486571579967056\n",
      "loss1 = tensor(1.2257, device='cuda:0')\n",
      "i=  6001\n",
      "error = 0.008986883336954653\n",
      "loss1 = tensor(1.5395, device='cuda:0')\n",
      "i=  6501\n",
      "error = 0.0073077226379336694\n",
      "loss1 = tensor(1.1896, device='cuda:0')\n",
      "i=  7001\n",
      "error = 0.007008453817460453\n",
      "loss1 = tensor(1.0042, device='cuda:0')\n",
      "i=  7501\n",
      "error = 0.007030353619176639\n",
      "loss1 = tensor(1.1970, device='cuda:0')\n",
      "i=  8001\n",
      "error = 0.010452184180368572\n",
      "loss1 = tensor(2.2217, device='cuda:0')\n",
      "i=  8501\n",
      "error = 0.006163787168484564\n",
      "loss1 = tensor(0.8860, device='cuda:0')\n",
      "i=  9001\n",
      "error = 0.006157591915883742\n",
      "loss1 = tensor(0.8145, device='cuda:0')\n",
      "i=  9501\n",
      "error = 0.009344417559098506\n",
      "loss1 = tensor(2.6541, device='cuda:0')\n",
      "time cost 4052.8127965927124 s\n"
     ]
    }
   ],
   "source": [
    "traintime = 10000\n",
    "error_save=np.zeros(traintime)\n",
    "optimizer = optim.Adam([\n",
    "                {'params': model.parameters()},\n",
    "            ])\n",
    "time_start=time.time()\n",
    "for i in range(traintime):\n",
    "    optimizer.zero_grad()\n",
    "    losses1 = DGM()\n",
    "    losses1.backward()\n",
    "    optimizer.step()\n",
    "    error1 = loss_error()\n",
    "    error_save[i]=float(error1)\n",
    "    #scheduler.step()\n",
    "    if i%500==1:\n",
    "        print(\"i= \",i)\n",
    "        print(\"error =\",error1)\n",
    "        print(\"loss1 =\",losses1.detach())\n",
    "        np.save(\"error_save_DG_NBC_8D_v2.npy\", error_save)\n",
    "np.save(\"error_save_DG_NBC_8D_v2.npy\", error_save)\n",
    "time_end=time.time()\n",
    "print('time cost',time_end-time_start,'s')"
   ]
  },
  {
   "cell_type": "code",
   "execution_count": 11,
   "metadata": {},
   "outputs": [],
   "source": [
    "import matplotlib.pyplot as plt"
   ]
  },
  {
   "cell_type": "code",
   "execution_count": 12,
   "metadata": {},
   "outputs": [
    {
     "ename": "IndexError",
     "evalue": "too many indices for array",
     "output_type": "error",
     "traceback": [
      "\u001b[0;31m---------------------------------------------------------------------------\u001b[0m",
      "\u001b[0;31mIndexError\u001b[0m                                Traceback (most recent call last)",
      "\u001b[0;32m<ipython-input-12-f29aec5c54ab>\u001b[0m in \u001b[0;36m<module>\u001b[0;34m\u001b[0m\n\u001b[1;32m      1\u001b[0m \u001b[0mindex\u001b[0m \u001b[0;34m=\u001b[0m \u001b[0mnp\u001b[0m\u001b[0;34m.\u001b[0m\u001b[0marange\u001b[0m\u001b[0;34m(\u001b[0m\u001b[0;36m0\u001b[0m\u001b[0;34m,\u001b[0m\u001b[0;36m50000\u001b[0m\u001b[0;34m,\u001b[0m\u001b[0;36m10\u001b[0m\u001b[0;34m)\u001b[0m\u001b[0;34m\u001b[0m\u001b[0;34m\u001b[0m\u001b[0m\n\u001b[0;32m----> 2\u001b[0;31m \u001b[0mplt\u001b[0m\u001b[0;34m.\u001b[0m\u001b[0mplot\u001b[0m\u001b[0;34m(\u001b[0m\u001b[0mnp\u001b[0m\u001b[0;34m.\u001b[0m\u001b[0mlog10\u001b[0m\u001b[0;34m(\u001b[0m\u001b[0merror_save\u001b[0m\u001b[0;34m[\u001b[0m\u001b[0;36m0\u001b[0m\u001b[0;34m,\u001b[0m\u001b[0mindex\u001b[0m\u001b[0;34m]\u001b[0m\u001b[0;34m)\u001b[0m\u001b[0;34m)\u001b[0m\u001b[0;34m\u001b[0m\u001b[0;34m\u001b[0m\u001b[0m\n\u001b[0m",
      "\u001b[0;31mIndexError\u001b[0m: too many indices for array"
     ]
    }
   ],
   "source": [
    "index = np.arange(0,50000,10)\n",
    "plt.plot(np.log10(error_save[0,index]))"
   ]
  },
  {
   "cell_type": "code",
   "execution_count": null,
   "metadata": {},
   "outputs": [],
   "source": []
  }
 ],
 "metadata": {
  "kernelspec": {
   "display_name": "Python 3",
   "language": "python",
   "name": "python3"
  },
  "language_info": {
   "codemirror_mode": {
    "name": "ipython",
    "version": 3
   },
   "file_extension": ".py",
   "mimetype": "text/x-python",
   "name": "python",
   "nbconvert_exporter": "python",
   "pygments_lexer": "ipython3",
   "version": "3.6.9"
  }
 },
 "nbformat": 4,
 "nbformat_minor": 2
}
