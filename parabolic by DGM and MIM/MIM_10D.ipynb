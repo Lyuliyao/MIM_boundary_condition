{
 "cells": [
  {
   "cell_type": "code",
   "execution_count": null,
   "metadata": {},
   "outputs": [],
   "source": [
    "import torch\n",
    "from torch.autograd import Variable\n",
    "import torch.nn as nn\n",
    "import torch.nn.functional as F\n",
    "import torch.optim as optim\n",
    "from torch.optim.lr_scheduler import StepLR, MultiStepLR\n",
    "import numpy as np\n",
    "# import matplotlib.pyplot as plt\n",
    "from math import *\n",
    "import time\n",
    "torch.cuda.set_device(3)\n",
    "torch.set_default_tensor_type('torch.DoubleTensor')"
   ]
  },
  {
   "cell_type": "code",
   "execution_count": null,
   "metadata": {},
   "outputs": [],
   "source": [
    "# activation function\n",
    "def activation(x):\n",
    "    return x * torch.sigmoid(x) "
   ]
  },
  {
   "cell_type": "code",
   "execution_count": null,
   "metadata": {},
   "outputs": [],
   "source": [
    "# exact solution\n",
    "def u_ex(x):     \n",
    "    temp = 1.0\n",
    "    for i in range(space_dimension):\n",
    "        temp = temp * torch.sin(pi*x[:, i])\n",
    "    u_temp = x[:, -1] * temp\n",
    "    return u_temp.reshape([x.size()[0], 1])"
   ]
  },
  {
   "cell_type": "code",
   "execution_count": null,
   "metadata": {},
   "outputs": [],
   "source": [
    "def f(x):\n",
    "    temp = 1.0\n",
    "    for i in range(space_dimension):\n",
    "        temp = temp * torch.sin(pi*x[:, i])\n",
    "    f_temp = (1.0 + space_dimension * x[:, -1] * pi**2) * temp\n",
    "    return f_temp.reshape([x.size()[0], 1])"
   ]
  },
  {
   "cell_type": "code",
   "execution_count": null,
   "metadata": {},
   "outputs": [],
   "source": [
    "# build ResNet with three blocks\n",
    "class Net(nn.Module):\n",
    "    def __init__(self,input_size,width,output_size):\n",
    "        super(Net,self).__init__()\n",
    "        self.layer_in = nn.Linear(input_size,width)\n",
    "        self.layer_1 = nn.Linear(width,width)\n",
    "        self.layer_2 = nn.Linear(width,width)\n",
    "        self.layer_3 = nn.Linear(width,width)\n",
    "        self.layer_4 = nn.Linear(width,width)\n",
    "        self.layer_5 = nn.Linear(width,width)\n",
    "        self.layer_6 = nn.Linear(width,width)\n",
    "        self.layer_out = nn.Linear(width,output_size)\n",
    "    def forward(self,x):\n",
    "        output = self.layer_in(x) \n",
    "        output = output + activation(self.layer_2(activation(self.layer_1(output)))) # residual block 1\n",
    "        output = output + activation(self.layer_4(activation(self.layer_3(output)))) # residual block 2\n",
    "        output = output + activation(self.layer_6(activation(self.layer_5(output)))) # residual block 3\n",
    "        output = self.layer_out(output)\n",
    "        return output"
   ]
  },
  {
   "cell_type": "code",
   "execution_count": null,
   "metadata": {},
   "outputs": [],
   "source": [
    "time_dimension = 1\n",
    "space_dimension = 10\n",
    "d = space_dimension + time_dimension # dimension of input include time and space variables\n",
    "input_size = d \n",
    "width_1 = 20\n",
    "width_2 = 20\n",
    "output_size_1 = 1 \n",
    "output_size_2 = d \n",
    "data_size = 2000"
   ]
  },
  {
   "cell_type": "code",
   "execution_count": null,
   "metadata": {},
   "outputs": [],
   "source": [
    "CUDA = torch.cuda.is_available()\n",
    "# print('CUDA is: ', CUDA)\n",
    "if CUDA:\n",
    "    net_1 = Net(input_size, width_1, output_size_1).cuda() # network for u on gpu\n",
    "    net_2 = Net(input_size, width_2, output_size_2).cuda() # network for grad u and u_t on gpu\n",
    "else:\n",
    "    net_1 = Net(input_size, width_1, output_size_1) # network for u on cpu\n",
    "    net_2 = Net(input_size, width_2, output_size_2) # network for grad u and u_t on cpu"
   ]
  },
  {
   "cell_type": "code",
   "execution_count": null,
   "metadata": {},
   "outputs": [],
   "source": [
    "def model_u(x):\n",
    "    x_temp = (x[:,0:d-1]).cuda()\n",
    "    D_x_0 = torch.prod(x_temp, axis = 1).reshape([x.size()[0], 1]) \n",
    "    D_x_1 = torch.prod(1.0 - x_temp, axis = 1).reshape([x.size()[0], 1]) \n",
    "    model_u_temp = D_x_0 * D_x_1 * (x[:, -1]).reshape([x.size()[0], 1]) * net_1(x)\n",
    "    return model_u_temp.reshape([x.size()[0], 1])"
   ]
  },
  {
   "cell_type": "code",
   "execution_count": null,
   "metadata": {},
   "outputs": [],
   "source": [
    "def generate_sample(data_size_temp):\n",
    "    sample_temp = torch.rand(data_size_temp, d)\n",
    "    return sample_temp.cuda()"
   ]
  },
  {
   "cell_type": "code",
   "execution_count": null,
   "metadata": {},
   "outputs": [],
   "source": [
    "def relative_l2_error():\n",
    "    data_size_temp = 500\n",
    "    x = generate_sample(data_size_temp).cuda() \n",
    "    predict = model_u(x)\n",
    "    exact = u_ex(x)\n",
    "    value = torch.sqrt(torch.sum((predict - exact)**2))/torch.sqrt(torch.sum((exact)**2))\n",
    "    return value"
   ]
  },
  {
   "cell_type": "code",
   "execution_count": null,
   "metadata": {},
   "outputs": [],
   "source": [
    "# Xavier normal initialization for weights:\n",
    "#             mean = 0 std = gain * sqrt(2 / fan_in + fan_out)\n",
    "# zero initialization for biases\n",
    "def initialize_weights(self):\n",
    "    for m in self.modules():\n",
    "        if isinstance(m,nn.Linear):\n",
    "            nn.init.xavier_normal_(m.weight.data)\n",
    "            if m.bias is not None:\n",
    "                m.bias.data.zero_()"
   ]
  },
  {
   "cell_type": "code",
   "execution_count": null,
   "metadata": {},
   "outputs": [],
   "source": [
    "initialize_weights(net_1)\n",
    "initialize_weights(net_2)"
   ]
  },
  {
   "cell_type": "code",
   "execution_count": null,
   "metadata": {},
   "outputs": [],
   "source": [
    "def loss_function(x):\n",
    "#     x = generate_sample(data_size).cuda()\n",
    "#     x.requires_grad = True\n",
    "    u_hat = model_u(x)\n",
    "    p = net_2(x)\n",
    "    p_x = (p[:, 0:d-1]).reshape([x.size()[0], d - 1])\n",
    "    p_t = (p[:, -1]).reshape([x.size()[0], 1])\n",
    "    \n",
    "    laplace_u_hat = torch.zeros([x.size()[0], 1]).cuda()\n",
    "    for index in range(space_dimension):\n",
    "        p_temp = p[:, index].reshape([x.size()[0], 1])\n",
    "        temp = torch.autograd.grad(outputs = p_temp, inputs = x, grad_outputs = torch.ones(p_temp.shape).cuda(), create_graph = True, allow_unused = True)[0]\n",
    "        laplace_u_hat = temp[:, index].reshape([x.size()[0], 1]) + laplace_u_hat\n",
    "    part_1 = torch.sum((p_t -laplace_u_hat - f(x))**2) / len(x)\n",
    "    \n",
    "    grad_u_hat = torch.autograd.grad(outputs = u_hat, inputs = x, grad_outputs = torch.ones(u_hat.shape).cuda(), create_graph = True)\n",
    "    part_2 = torch.sum(((grad_u_hat[0][:, 0:d-1]).reshape([x.size()[0], d - 1]) - p_x)**2) / len(x)\n",
    "    \n",
    "    u_hat_t = grad_u_hat[0][:, -1].reshape([x.size()[0], 1])\n",
    "    part_3 = torch.sum((u_hat_t - p[:, -1].reshape([x.size()[0], 1]))**2) / len(x)\n",
    "    return part_1 + part_2 + part_3"
   ]
  },
  {
   "cell_type": "code",
   "execution_count": null,
   "metadata": {},
   "outputs": [],
   "source": [
    "optimizer = optim.Adam([\n",
    "                {'params': net_1.parameters()},\n",
    "                {'params': net_2.parameters()},\n",
    "            ])"
   ]
  },
  {
   "cell_type": "code",
   "execution_count": null,
   "metadata": {},
   "outputs": [],
   "source": [
    "epoch = 100000\n",
    "loss_record = np.zeros(epoch)\n",
    "error_record = np.zeros(epoch)\n",
    "time_start = time.time()\n",
    "for i in range(epoch):\n",
    "    optimizer.zero_grad()\n",
    "    x = generate_sample(data_size).cuda()\n",
    "    x.requires_grad = True\n",
    "    loss = loss_function(x)\n",
    "    loss_record[i] = float(loss)\n",
    "    error = relative_l2_error()\n",
    "    error_record[i] = float(error)\n",
    "    np.save(\"MIM_loss_parabolic_10d.npy\", loss_record)\n",
    "    np.save(\"MIM_error_parabolic_10d.npy\", error_record)\n",
    "    if i % 50 == 0:\n",
    "        print(\"current epoch is: \", i)\n",
    "        print(\"current loss is: \", loss.detach())\n",
    "        print(\"current error is: \", error.detach())\n",
    "    loss.backward()\n",
    "    optimizer.step() \n",
    "time_end = time.time()\n",
    "print('total time is: ', time_end-time_start, 'seconds')"
   ]
  },
  {
   "cell_type": "code",
   "execution_count": null,
   "metadata": {},
   "outputs": [],
   "source": [
    "np.save(\"MIM_loss_parabolic_10d.npy\", loss_record)\n",
    "np.save(\"MIM_error_parabolic_10d.npy\", error_record)"
   ]
  },
  {
   "cell_type": "code",
   "execution_count": null,
   "metadata": {},
   "outputs": [],
   "source": []
  }
 ],
 "metadata": {
  "kernelspec": {
   "display_name": "Python 3",
   "language": "python",
   "name": "python3"
  },
  "language_info": {
   "codemirror_mode": {
    "name": "ipython",
    "version": 3
   },
   "file_extension": ".py",
   "mimetype": "text/x-python",
   "name": "python",
   "nbconvert_exporter": "python",
   "pygments_lexer": "ipython3",
   "version": "3.6.9"
  }
 },
 "nbformat": 4,
 "nbformat_minor": 4
}
