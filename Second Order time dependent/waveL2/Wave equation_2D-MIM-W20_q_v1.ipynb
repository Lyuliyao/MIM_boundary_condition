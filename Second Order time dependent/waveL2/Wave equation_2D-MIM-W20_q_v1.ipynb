{
 "cells": [
  {
   "cell_type": "code",
   "execution_count": 1,
   "metadata": {},
   "outputs": [],
   "source": [
    "import math\n",
    "import numpy as np\n",
    "import numpy.random as npr\n",
    "from numpy import linalg\n",
    "import torch\n",
    "import torch.nn as nn\n",
    "import torch.nn.functional as F\n",
    "from torch.utils import data\n",
    "from torch.utils.data import Dataset\n",
    "import torch.optim as optim\n",
    "import time\n",
    "from math import *\n",
    "torch.cuda.set_device(1)"
   ]
  },
  {
   "cell_type": "code",
   "execution_count": 2,
   "metadata": {},
   "outputs": [],
   "source": [
    "torch.set_default_tensor_type('torch.DoubleTensor')"
   ]
  },
  {
   "cell_type": "code",
   "execution_count": 3,
   "metadata": {},
   "outputs": [],
   "source": [
    "class ResNet(nn.Module):\n",
    "    def __init__(self,dim, m,o):\n",
    "        super(ResNet, self).__init__()\n",
    "        self.Ix = torch.zeros([dim,m]).cuda()\n",
    "        for i in range(dim):\n",
    "            self.Ix[i,i] = 1\n",
    "        self.fc1 = nn.Linear(dim, m)\n",
    "        self.fc2 = nn.Linear(m, m)\n",
    "        \n",
    "        self.fc3 = nn.Linear(m, m)\n",
    "        self.fc4 = nn.Linear(m, m)\n",
    " \n",
    "        \n",
    "        self.outlayer = nn.Linear(m, o)\n",
    "\n",
    "    def forward(self, x):\n",
    "        s = x@self.Ix\n",
    "        y = self.fc1(x)\n",
    "        y = F.relu(y)**deg\n",
    "        y = self.fc2(y)\n",
    "        y = F.relu(y)**deg\n",
    "        y = y+s\n",
    "        \n",
    "        s=y\n",
    "        y = self.fc3(y)\n",
    "        y = F.relu(y)**deg\n",
    "        y = self.fc4(y)\n",
    "        y = F.relu(y)**deg\n",
    "        y = y+s\n",
    "\n",
    "        \n",
    "        output = self.outlayer(y)\n",
    "        return output\n",
    "deg = 3"
   ]
  },
  {
   "cell_type": "code",
   "execution_count": 4,
   "metadata": {},
   "outputs": [],
   "source": [
    "def sol_exact(x):\n",
    "    sol = (x[:,0]**2*torch.sin(pi*x[:,1])*torch.sin(pi*x[:,2])).reshape(x.size()[0],1)\n",
    "    return sol"
   ]
  },
  {
   "cell_type": "code",
   "execution_count": 5,
   "metadata": {},
   "outputs": [],
   "source": [
    "def sol_exact_H1(x):\n",
    "    sol = torch.zeros(x.size()[0],4).cuda()\n",
    "    sol[:,0] = sol_exact(x).reshape(1,x.size()[0])\n",
    "    sol[:,1] = (2*x[:,0]*torch.sin(pi*x[:,1])*torch.sin(pi*x[:,2]))\n",
    "    sol[:,2] = (pi*x[:,0]**2*torch.cos(pi*x[:,1])*torch.sin(pi*x[:,2]))\n",
    "    sol[:,3] = (pi*x[:,0]**2*torch.sin(pi*x[:,1])*torch.cos(pi*x[:,2]))\n",
    "    return sol"
   ]
  },
  {
   "cell_type": "code",
   "execution_count": 6,
   "metadata": {},
   "outputs": [],
   "source": [
    "def source(x):\n",
    "    sol = (2*torch.sin(pi*x[:,1])*torch.sin(pi*x[:,2])).reshape(x.size()[0],1)\n",
    "    sol =  sol +  (2*pi**2*x[:,0]**2*torch.sin(pi*x[:,1])*torch.sin(pi*x[:,2])).reshape(x.size()[0],1)    \n",
    "    return sol"
   ]
  },
  {
   "cell_type": "code",
   "execution_count": 7,
   "metadata": {},
   "outputs": [],
   "source": [
    "Batch_size = 50000\n",
    "def MIM():\n",
    "    x = torch.rand(Batch_size,3).cuda()\n",
    "    x.requires_grad = True\n",
    "    u = model_u(x)\n",
    "    v = model_v(x)\n",
    "    p = model_p(x)\n",
    "    ve = torch.ones(u.shape).cuda()\n",
    "    Du = torch.autograd.grad(u,x,grad_outputs=ve,create_graph=True)[0]\n",
    "    Np = Du[:,1:3].reshape(x.size()[0],2)\n",
    "    Dv = torch.autograd.grad(v,x,grad_outputs=ve,create_graph=True)[0]\n",
    "    v_t = Dv[:,0].reshape(x.size()[0],1)\n",
    "    uxx = torch.zeros(x.size()[0],1).cuda()\n",
    "    for i in range(2):\n",
    "        uxi = p[:,i].reshape(x.size()[0],1)\n",
    "        uxxi = torch.autograd.grad(uxi,x,grad_outputs=ve,create_graph=True)[0]\n",
    "        uxx = uxx + uxxi[:,i+1].reshape(x.size()[0],1)\n",
    "    loss =  torch.sum( (Np-p)**2 )/50000 + torch.sum( (v_t - uxx - source(x))**2 )/50000\n",
    "    return loss"
   ]
  },
  {
   "cell_type": "code",
   "execution_count": 8,
   "metadata": {},
   "outputs": [],
   "source": [
    "def BC():\n",
    "    x1 = torch.rand(1000,3).cuda()\n",
    "    x1[:,0] = 0\n",
    "    loss = torch.sum(model_v(x1)**2)/1000\n",
    "    return loss"
   ]
  },
  {
   "cell_type": "code",
   "execution_count": 9,
   "metadata": {},
   "outputs": [
    {
     "data": {
      "text/plain": [
       "ResNet(\n",
       "  (fc1): Linear(in_features=3, out_features=20, bias=True)\n",
       "  (fc2): Linear(in_features=20, out_features=20, bias=True)\n",
       "  (fc3): Linear(in_features=20, out_features=20, bias=True)\n",
       "  (fc4): Linear(in_features=20, out_features=20, bias=True)\n",
       "  (outlayer): Linear(in_features=20, out_features=2, bias=True)\n",
       ")"
      ]
     },
     "execution_count": 9,
     "metadata": {},
     "output_type": "execute_result"
    }
   ],
   "source": [
    "model_u1 = ResNet(3,20,1)\n",
    "model_p1 = ResNet(3,20,2)\n",
    "device=torch.device(\"cuda:1\" )\n",
    "\n",
    "model_u1.to(device)\n",
    "model_p1.to(device)"
   ]
  },
  {
   "cell_type": "code",
   "execution_count": 10,
   "metadata": {},
   "outputs": [],
   "source": [
    "def model_u(x):\n",
    "    return x[:,0:1]*(x*(1-x))[:,1:2]*(x*(1-x))[:,2:3]*model_u1(x)\n",
    "def model_v(x):\n",
    "    x.requires_grad = True\n",
    "    u = model_u(x)\n",
    "    ve = torch.ones(u.shape).cuda()\n",
    "    Du = torch.autograd.grad(u,x,grad_outputs=ve,create_graph=True)[0]\n",
    "    v = Du[:,0].reshape(x.size()[0],1)\n",
    "    return v\n",
    "def model_p(x):\n",
    "    return model_p1(x)"
   ]
  },
  {
   "cell_type": "code",
   "execution_count": 11,
   "metadata": {},
   "outputs": [],
   "source": [
    "def initparam(model,sigma):\n",
    "    for m in model.modules():\n",
    "        if isinstance(m,nn.Linear):\n",
    "            m.weight.data.uniform_(-sigma,sigma)#全连接层参数初始化\n",
    "            m.bias.data.uniform_(0,sigma)\n",
    "    return model\n",
    "  "
   ]
  },
  {
   "cell_type": "code",
   "execution_count": 12,
   "metadata": {},
   "outputs": [],
   "source": [
    "notes = torch.rand(10000,3).cuda()\n",
    "notes[:,0] = 1\n",
    "exact = sol_exact_H1(notes)\n",
    "u_L2 = sqrt(torch.sum((exact[:,0])**2)/10000)\n",
    "v_L2 = sqrt(torch.sum(exact[:,1]**2)/10000)\n",
    "p_L2 = sqrt(torch.sum((exact[:,2:4])**2)/10000)\n",
    "def loss_error():\n",
    "    notes = torch.rand(10000,3).cuda()\n",
    "    notes[:,0] = 1\n",
    "    predict = torch.zeros(10000,4).cuda()\n",
    "    predict[:,0] = model_u(notes).reshape([1,notes.size()[0]])\n",
    "    predict[:,1] = model_v(notes).reshape([1,notes.size()[0]])\n",
    "    predict[:,2:4] = model_p(notes)\n",
    "    exact = sol_exact_H1(notes)\n",
    "    value1 = sqrt(torch.sum((exact[:,0] - predict[:,0])**2)/10000)/u_L2\n",
    "    value2 = sqrt(torch.sum((exact[:,1] - predict[:,1])**2)/10000)/v_L2\n",
    "    value3 =  sqrt(torch.sum((exact[:,2:4] - predict[:,2:4])**2)/10000)/p_L2\n",
    "    return value1,value2,value3"
   ]
  },
  {
   "cell_type": "code",
   "execution_count": 13,
   "metadata": {},
   "outputs": [
    {
     "name": "stdout",
     "output_type": "stream",
     "text": [
      "i=  1\n",
      "error = 0.9962311077096166\n",
      "loss = tensor(28.9357, device='cuda:1')\n",
      "i=  501\n",
      "error = 0.051232442281193565\n",
      "loss = tensor(0.1801, device='cuda:1')\n",
      "i=  1001\n",
      "error = 0.034881679918129356\n",
      "loss = tensor(0.0522, device='cuda:1')\n",
      "i=  1501\n",
      "error = 0.0320594658989221\n",
      "loss = tensor(0.0232, device='cuda:1')\n",
      "i=  2001\n",
      "error = 0.028382020392995665\n",
      "loss = tensor(0.0136, device='cuda:1')\n",
      "i=  2501\n",
      "error = 0.02460738037361043\n",
      "loss = tensor(0.0099, device='cuda:1')\n",
      "i=  3001\n",
      "error = 0.0224093827857428\n",
      "loss = tensor(0.0064, device='cuda:1')\n",
      "i=  3501\n",
      "error = 0.019920928969086257\n",
      "loss = tensor(0.0048, device='cuda:1')\n",
      "i=  4001\n",
      "error = 0.01824402646725129\n",
      "loss = tensor(0.0043, device='cuda:1')\n",
      "i=  4501\n",
      "error = 0.01637650176401558\n",
      "loss = tensor(0.0034, device='cuda:1')\n",
      "i=  5001\n",
      "error = 0.015595618046311481\n",
      "loss = tensor(0.0028, device='cuda:1')\n",
      "i=  5501\n",
      "error = 0.014698836960582764\n",
      "loss = tensor(0.0026, device='cuda:1')\n",
      "i=  6001\n",
      "error = 0.01314076094209065\n",
      "loss = tensor(0.0021, device='cuda:1')\n",
      "i=  6501\n",
      "error = 0.01248560794339787\n",
      "loss = tensor(0.0019, device='cuda:1')\n",
      "i=  7001\n",
      "error = 0.011897856052093436\n",
      "loss = tensor(0.0017, device='cuda:1')\n",
      "i=  7501\n",
      "error = 0.011502562997959627\n",
      "loss = tensor(0.0016, device='cuda:1')\n",
      "i=  8001\n",
      "error = 0.007772616020483732\n",
      "loss = tensor(0.0055, device='cuda:1')\n",
      "i=  8501\n",
      "error = 0.009636407195411534\n",
      "loss = tensor(0.0013, device='cuda:1')\n",
      "i=  9001\n",
      "error = 0.009528633211755786\n",
      "loss = tensor(0.0016, device='cuda:1')\n",
      "i=  9501\n",
      "error = 0.006140031101960164\n",
      "loss = tensor(0.0053, device='cuda:1')\n",
      "i=  10001\n",
      "error = 0.00886666828781077\n",
      "loss = tensor(0.0011, device='cuda:1')\n",
      "i=  10501\n",
      "error = 0.007686649374383989\n",
      "loss = tensor(0.0010, device='cuda:1')\n",
      "i=  11001\n",
      "error = 0.00912123329873009\n",
      "loss = tensor(0.0009, device='cuda:1')\n",
      "i=  11501\n",
      "error = 0.007270249063213929\n",
      "loss = tensor(0.0010, device='cuda:1')\n",
      "i=  12001\n",
      "error = 0.008131060221371627\n",
      "loss = tensor(0.0008, device='cuda:1')\n",
      "i=  12501\n",
      "error = 0.0060204950152999296\n",
      "loss = tensor(0.0019, device='cuda:1')\n",
      "i=  13001\n",
      "error = 0.0066789585269591886\n",
      "loss = tensor(0.0009, device='cuda:1')\n",
      "i=  13501\n",
      "error = 0.006112985068811076\n",
      "loss = tensor(0.0008, device='cuda:1')\n",
      "i=  14001\n",
      "error = 0.006675571878866744\n",
      "loss = tensor(0.0006, device='cuda:1')\n",
      "i=  14501\n",
      "error = 0.006814101058963344\n",
      "loss = tensor(0.0007, device='cuda:1')\n",
      "i=  15001\n",
      "error = 0.0057968554835259945\n",
      "loss = tensor(0.0005, device='cuda:1')\n",
      "i=  15501\n",
      "error = 0.005677588527641892\n",
      "loss = tensor(0.0005, device='cuda:1')\n",
      "i=  16001\n",
      "error = 0.005681174518428167\n",
      "loss = tensor(0.0005, device='cuda:1')\n",
      "i=  16501\n",
      "error = 0.005048218269586157\n",
      "loss = tensor(0.0005, device='cuda:1')\n",
      "i=  17001\n",
      "error = 0.005000329083747698\n",
      "loss = tensor(0.0005, device='cuda:1')\n",
      "i=  17501\n",
      "error = 0.0045864137106446535\n",
      "loss = tensor(0.0004, device='cuda:1')\n",
      "i=  18001\n",
      "error = 0.003084195676200938\n",
      "loss = tensor(0.0022, device='cuda:1')\n",
      "i=  18501\n",
      "error = 0.0034736052356709635\n",
      "loss = tensor(0.0004, device='cuda:1')\n",
      "i=  19001\n",
      "error = 0.004283762020709279\n",
      "loss = tensor(0.0004, device='cuda:1')\n",
      "i=  19501\n",
      "error = 0.0038907134269374347\n",
      "loss = tensor(0.0004, device='cuda:1')\n",
      "i=  20001\n",
      "error = 0.0032241551338841783\n",
      "loss = tensor(0.0013, device='cuda:1')\n",
      "i=  20501\n",
      "error = 0.0048289735219576805\n",
      "loss = tensor(0.0011, device='cuda:1')\n",
      "i=  21001\n",
      "error = 0.005981449610410243\n",
      "loss = tensor(0.0032, device='cuda:1')\n",
      "i=  21501\n",
      "error = 0.003010990799317253\n",
      "loss = tensor(0.0003, device='cuda:1')\n",
      "i=  22001\n",
      "error = 0.0025115946796208355\n",
      "loss = tensor(0.0004, device='cuda:1')\n",
      "i=  22501\n",
      "error = 0.002532897812837049\n",
      "loss = tensor(0.0003, device='cuda:1')\n",
      "i=  23001\n",
      "error = 0.002757426937271535\n",
      "loss = tensor(0.0003, device='cuda:1')\n",
      "i=  23501\n",
      "error = 0.004259122049317326\n",
      "loss = tensor(0.0083, device='cuda:1')\n",
      "i=  24001\n",
      "error = 0.0019382191667943326\n",
      "loss = tensor(0.0004, device='cuda:1')\n",
      "i=  24501\n",
      "error = 0.0018404116580900101\n",
      "loss = tensor(0.0004, device='cuda:1')\n",
      "i=  25001\n",
      "error = 0.0014189377363133943\n",
      "loss = tensor(0.0004, device='cuda:1')\n",
      "i=  25501\n",
      "error = 0.002023347597388452\n",
      "loss = tensor(0.0002, device='cuda:1')\n",
      "i=  26001\n",
      "error = 0.00195694594457861\n",
      "loss = tensor(0.0002, device='cuda:1')\n",
      "i=  26501\n",
      "error = 0.0016923503445294811\n",
      "loss = tensor(0.0002, device='cuda:1')\n",
      "i=  27001\n",
      "error = 0.0019373334634171938\n",
      "loss = tensor(0.0002, device='cuda:1')\n",
      "i=  27501\n",
      "error = 0.0018341030017265298\n",
      "loss = tensor(0.0002, device='cuda:1')\n",
      "i=  28001\n",
      "error = 0.002160378485710129\n",
      "loss = tensor(0.0004, device='cuda:1')\n",
      "i=  28501\n",
      "error = 0.0017361433221957138\n",
      "loss = tensor(0.0011, device='cuda:1')\n",
      "i=  29001\n",
      "error = 0.00125131365391604\n",
      "loss = tensor(0.0003, device='cuda:1')\n",
      "i=  29501\n",
      "error = 0.0011671923066040365\n",
      "loss = tensor(0.0003, device='cuda:1')\n",
      "i=  30001\n",
      "error = 0.0010411529629375633\n",
      "loss = tensor(0.0004, device='cuda:1')\n",
      "i=  30501\n",
      "error = 0.0014937838084819605\n",
      "loss = tensor(0.0010, device='cuda:1')\n",
      "i=  31001\n",
      "error = 0.001321055834132262\n",
      "loss = tensor(0.0002, device='cuda:1')\n",
      "i=  31501\n",
      "error = 0.0014937570993251003\n",
      "loss = tensor(0.0006, device='cuda:1')\n",
      "i=  32001\n",
      "error = 0.001251054761043544\n",
      "loss = tensor(0.0002, device='cuda:1')\n",
      "i=  32501\n",
      "error = 0.0012310440058527013\n",
      "loss = tensor(0.0002, device='cuda:1')\n",
      "i=  33001\n",
      "error = 0.0021738652165583924\n",
      "loss = tensor(0.0029, device='cuda:1')\n",
      "i=  33501\n",
      "error = 0.0011418499308337641\n",
      "loss = tensor(0.0002, device='cuda:1')\n",
      "i=  34001\n",
      "error = 0.0011722284208926339\n",
      "loss = tensor(0.0002, device='cuda:1')\n",
      "i=  34501\n",
      "error = 0.0027606031797477396\n",
      "loss = tensor(0.0032, device='cuda:1')\n",
      "i=  35001\n",
      "error = 0.002239731590536788\n",
      "loss = tensor(0.0022, device='cuda:1')\n",
      "i=  35501\n",
      "error = 0.0015096391128706231\n",
      "loss = tensor(0.0008, device='cuda:1')\n",
      "i=  36001\n",
      "error = 0.0011185964634910595\n",
      "loss = tensor(0.0002, device='cuda:1')\n",
      "i=  36501\n",
      "error = 0.001157259431461879\n",
      "loss = tensor(0.0002, device='cuda:1')\n",
      "i=  37001\n",
      "error = 0.00130879451950809\n",
      "loss = tensor(0.0002, device='cuda:1')\n",
      "i=  37501\n",
      "error = 0.0011044854138706432\n",
      "loss = tensor(0.0002, device='cuda:1')\n",
      "i=  38001\n",
      "error = 0.0011533953967044683\n",
      "loss = tensor(0.0002, device='cuda:1')\n",
      "i=  38501\n",
      "error = 0.0010911323985923892\n",
      "loss = tensor(0.0002, device='cuda:1')\n",
      "i=  39001\n",
      "error = 0.001074677998248474\n",
      "loss = tensor(0.0001, device='cuda:1')\n",
      "i=  39501\n",
      "error = 0.0010792783779949096\n",
      "loss = tensor(0.0001, device='cuda:1')\n",
      "i=  40001\n",
      "error = 0.0010199318798367368\n",
      "loss = tensor(0.0001, device='cuda:1')\n",
      "i=  40501\n",
      "error = 0.003161590102059711\n",
      "loss = tensor(0.0030, device='cuda:1')\n",
      "i=  41001\n",
      "error = 0.0010719814304560897\n",
      "loss = tensor(0.0004, device='cuda:1')\n",
      "i=  41501\n",
      "error = 0.001148398233015551\n",
      "loss = tensor(0.0002, device='cuda:1')\n",
      "i=  42001\n",
      "error = 0.000987675250808702\n",
      "loss = tensor(0.0001, device='cuda:1')\n",
      "i=  42501\n",
      "error = 0.0010561537485766898\n",
      "loss = tensor(0.0002, device='cuda:1')\n",
      "i=  43001\n",
      "error = 0.0009696902871108361\n",
      "loss = tensor(0.0002, device='cuda:1')\n",
      "i=  43501\n",
      "error = 0.0013245799593058882\n",
      "loss = tensor(0.0017, device='cuda:1')\n",
      "i=  44001\n",
      "error = 0.0016405199671588556\n",
      "loss = tensor(0.0003, device='cuda:1')\n",
      "i=  44501\n",
      "error = 0.0010369572383743325\n",
      "loss = tensor(0.0002, device='cuda:1')\n",
      "i=  45001\n",
      "error = 0.0019334284143236865\n",
      "loss = tensor(0.0008, device='cuda:1')\n",
      "i=  45501\n",
      "error = 0.0009583817805680214\n",
      "loss = tensor(0.0001, device='cuda:1')\n",
      "i=  46001\n",
      "error = 0.001601900746660531\n",
      "loss = tensor(0.0017, device='cuda:1')\n",
      "i=  46501\n",
      "error = 0.0010853694964980303\n",
      "loss = tensor(0.0002, device='cuda:1')\n",
      "i=  47001\n",
      "error = 0.0009842409894855514\n",
      "loss = tensor(0.0003, device='cuda:1')\n",
      "i=  47501\n",
      "error = 0.0009399036688206023\n",
      "loss = tensor(0.0001, device='cuda:1')\n",
      "i=  48001\n",
      "error = 0.0009600230228597312\n",
      "loss = tensor(0.0001, device='cuda:1')\n",
      "i=  48501\n",
      "error = 0.003153127829972004\n",
      "loss = tensor(0.0026, device='cuda:1')\n",
      "i=  49001\n",
      "error = 0.0011402374811849143\n",
      "loss = tensor(0.0002, device='cuda:1')\n",
      "i=  49501\n",
      "error = 0.003788517949931262\n",
      "loss = tensor(0.0036, device='cuda:1')\n",
      "time cost 4461.725610733032 s\n"
     ]
    }
   ],
   "source": [
    "traintime = 50000\n",
    "error_save=np.zeros([3,traintime])\n",
    "optimizer = optim.Adam([\n",
    "                {'params': model_u1.parameters()},\n",
    "                {'params': model_p1.parameters()}\n",
    "            ])\n",
    "time_start=time.time()\n",
    "for i in range(traintime):\n",
    "    optimizer.zero_grad()\n",
    "    losses = MIM()+BC()\n",
    "    losses.backward()\n",
    "    optimizer.step() \n",
    "    error1,error2,error3=loss_error()\n",
    "    error_save[0,i]=float(error1)\n",
    "    error_save[1,i]=float(error2)\n",
    "    error_save[2,i]=float(error3)\n",
    "    if i%500==1:\n",
    "        print(\"i= \",i)\n",
    "        print(\"error =\",error1)\n",
    "        print(\"loss =\",losses.detach())\n",
    "        np.save(\"error_save_LDG_wave_2D_q_w20_v1.npy\", error_save)\n",
    "np.save(\"error_save_LDG_wave_2D_q_w20_v1.npy\", error_save)\n",
    "time_end=time.time()\n",
    "print('time cost',time_end-time_start,'s')"
   ]
  },
  {
   "cell_type": "code",
   "execution_count": 14,
   "metadata": {},
   "outputs": [],
   "source": [
    "import matplotlib.pyplot as plt\n",
    "error = np.load(\"error_save_LDG_wave_2D_q_w20.npy\")"
   ]
  },
  {
   "cell_type": "code",
   "execution_count": 15,
   "metadata": {},
   "outputs": [
    {
     "data": {
      "text/plain": [
       "[<matplotlib.lines.Line2D at 0x7fe4a0263550>]"
      ]
     },
     "execution_count": 15,
     "metadata": {},
     "output_type": "execute_result"
    },
    {
     "data": {
      "image/png": "[encoded data removed]",
      "text/plain": [
       "<Figure size 432x288 with 1 Axes>"
      ]
     },
     "metadata": {
      "needs_background": "light"
     },
     "output_type": "display_data"
    }
   ],
   "source": [
    "plt.plot(np.log10(error[1]))"
   ]
  },
  {
   "cell_type": "code",
   "execution_count": 16,
   "metadata": {},
   "outputs": [
    {
     "data": {
      "text/plain": [
       "[<matplotlib.lines.Line2D at 0x7fe49844f850>]"
      ]
     },
     "execution_count": 16,
     "metadata": {},
     "output_type": "execute_result"
    },
    {
     "data": {
      "image/png": "[encoded data removed]",
      "text/plain": [
       "<Figure size 432x288 with 1 Axes>"
      ]
     },
     "metadata": {
      "needs_background": "light"
     },
     "output_type": "display_data"
    }
   ],
   "source": [
    "plt.plot(np.log10(error[0]))"
   ]
  },
  {
   "cell_type": "code",
   "execution_count": 17,
   "metadata": {},
   "outputs": [
    {
     "data": {
      "text/plain": [
       "[<matplotlib.lines.Line2D at 0x7fe4983c9510>]"
      ]
     },
     "execution_count": 17,
     "metadata": {},
     "output_type": "execute_result"
    },
    {
     "data": {
      "image/png": "[encoded data removed]",
      "text/plain": [
       "<Figure size 432x288 with 1 Axes>"
      ]
     },
     "metadata": {
      "needs_background": "light"
     },
     "output_type": "display_data"
    }
   ],
   "source": [
    "plt.plot(np.log10(error[2]))"
   ]
  }
 ],
 "metadata": {
  "kernelspec": {
   "display_name": "Python 3",
   "language": "python",
   "name": "python3"
  },
  "language_info": {
   "codemirror_mode": {
    "name": "ipython",
    "version": 3
   },
   "file_extension": ".py",
   "mimetype": "text/x-python",
   "name": "python",
   "nbconvert_exporter": "python",
   "pygments_lexer": "ipython3",
   "version": "3.7.6"
  }
 },
 "nbformat": 4,
 "nbformat_minor": 4
}
