{
 "cells": [
  {
   "cell_type": "code",
   "execution_count": 1,
   "metadata": {},
   "outputs": [],
   "source": [
    "import math\n",
    "import numpy as np\n",
    "import numpy.random as npr\n",
    "from numpy import linalg\n",
    "import torch\n",
    "import torch.nn as nn\n",
    "import torch.nn.functional as F\n",
    "from torch.utils import data\n",
    "from torch.utils.data import Dataset\n",
    "import torch.optim as optim\n",
    "import time\n",
    "from math import *\n",
    "torch.cuda.set_device(1)"
   ]
  },
  {
   "cell_type": "code",
   "execution_count": 2,
   "metadata": {},
   "outputs": [],
   "source": [
    "torch.set_default_tensor_type('torch.DoubleTensor')"
   ]
  },
  {
   "cell_type": "code",
   "execution_count": 3,
   "metadata": {},
   "outputs": [],
   "source": [
    "class ResNet(nn.Module):\n",
    "    def __init__(self,dim, m,o):\n",
    "        super(ResNet, self).__init__()\n",
    "        self.Ix = torch.zeros([dim,m]).cuda()\n",
    "        for i in range(dim):\n",
    "            self.Ix[i,i] = 1\n",
    "        self.fc1 = nn.Linear(dim, m)\n",
    "        self.fc2 = nn.Linear(m, m)\n",
    "        \n",
    "        self.fc3 = nn.Linear(m, m)\n",
    "        self.fc4 = nn.Linear(m, m)\n",
    " \n",
    "        \n",
    "        self.outlayer = nn.Linear(m, o)\n",
    "\n",
    "    def forward(self, x):\n",
    "        s = x@self.Ix\n",
    "        y = self.fc1(x)\n",
    "        y = F.relu(y)**deg\n",
    "        y = self.fc2(y)\n",
    "        y = F.relu(y)**deg\n",
    "        y = y+s\n",
    "        \n",
    "        s=y\n",
    "        y = self.fc3(y)\n",
    "        y = F.relu(y)**deg\n",
    "        y = self.fc4(y)\n",
    "        y = F.relu(y)**deg\n",
    "        y = y+s\n",
    "\n",
    "        \n",
    "        output = self.outlayer(y)\n",
    "        return output\n",
    "deg = 2"
   ]
  },
  {
   "cell_type": "code",
   "execution_count": 4,
   "metadata": {},
   "outputs": [],
   "source": [
    "def sol_exact(x):\n",
    "    sol = (x[:,0]**2*torch.sin(pi*x[:,1])*torch.sin(pi*x[:,2])).reshape(x.size()[0],1)\n",
    "    return sol"
   ]
  },
  {
   "cell_type": "code",
   "execution_count": 5,
   "metadata": {},
   "outputs": [],
   "source": [
    "def sol_exact_H1(x):\n",
    "    sol = torch.zeros(x.size()[0],4).cuda()\n",
    "    sol[:,0] = sol_exact(x).reshape(1,x.size()[0])\n",
    "    sol[:,1] = (2*x[:,0]*torch.sin(pi*x[:,1])*torch.sin(pi*x[:,2]))\n",
    "    sol[:,2] = (pi*x[:,0]**2*torch.cos(pi*x[:,1])*torch.sin(pi*x[:,2]))\n",
    "    sol[:,3] = (pi*x[:,0]**2*torch.sin(pi*x[:,1])*torch.cos(pi*x[:,2]))\n",
    "    return sol"
   ]
  },
  {
   "cell_type": "code",
   "execution_count": 6,
   "metadata": {},
   "outputs": [],
   "source": [
    "def source(x):\n",
    "    sol = (2*torch.sin(pi*x[:,1])*torch.sin(pi*x[:,2])).reshape(x.size()[0],1)\n",
    "    sol =  sol +  (2*pi**2*x[:,0]**2*torch.sin(pi*x[:,1])*torch.sin(pi*x[:,2])).reshape(x.size()[0],1)    \n",
    "    return sol"
   ]
  },
  {
   "cell_type": "code",
   "execution_count": 7,
   "metadata": {},
   "outputs": [],
   "source": [
    "Batch_size = 50000\n",
    "def MIM():\n",
    "    x = torch.rand(Batch_size,3).cuda()\n",
    "    x.requires_grad = True\n",
    "    u = model_u(x)\n",
    "    v = model_v(x)\n",
    "    p = model_p(x)\n",
    "    ve = torch.ones(u.shape).cuda()\n",
    "    Du = torch.autograd.grad(u,x,grad_outputs=ve,create_graph=True)[0]\n",
    "    Nv = Du[:,0].reshape(x.size()[0],1)\n",
    "    Np = Du[:,1:3].reshape(x.size()[0],2)\n",
    "    Dv = torch.autograd.grad(v,x,grad_outputs=ve,create_graph=True)[0]\n",
    "    v_t = Dv[:,0].reshape(x.size()[0],1)\n",
    "    uxx = torch.zeros(x.size()[0],1).cuda()\n",
    "    for i in range(2):\n",
    "        uxi = p[:,i].reshape(x.size()[0],1)\n",
    "        uxxi = torch.autograd.grad(uxi,x,grad_outputs=ve,create_graph=True)[0]\n",
    "        uxx = uxx + uxxi[:,i+1].reshape(x.size()[0],1)\n",
    "    loss = torch.sum( (Nv-v)**2 ) + torch.sum( (Np-p)**2 ) + torch.sum( (v_t - uxx - source(x))**2 )\n",
    "    return loss"
   ]
  },
  {
   "cell_type": "code",
   "execution_count": 8,
   "metadata": {},
   "outputs": [
    {
     "data": {
      "text/plain": [
       "ResNet(\n",
       "  (fc1): Linear(in_features=3, out_features=20, bias=True)\n",
       "  (fc2): Linear(in_features=20, out_features=20, bias=True)\n",
       "  (fc3): Linear(in_features=20, out_features=20, bias=True)\n",
       "  (fc4): Linear(in_features=20, out_features=20, bias=True)\n",
       "  (outlayer): Linear(in_features=20, out_features=2, bias=True)\n",
       ")"
      ]
     },
     "execution_count": 8,
     "metadata": {},
     "output_type": "execute_result"
    }
   ],
   "source": [
    "model_u1 = ResNet(3,20,1)\n",
    "model_v1 = ResNet(3,20,1)\n",
    "model_p1 = ResNet(3,20,2)\n",
    "device=torch.device(\"cuda:1\" )\n",
    "\n",
    "model_u1.to(device)\n",
    "model_v1.to(device)\n",
    "model_p1.to(device)"
   ]
  },
  {
   "cell_type": "code",
   "execution_count": 9,
   "metadata": {},
   "outputs": [],
   "source": [
    "def model_u(x):\n",
    "    return x[:,0:1]*(x*(1-x))[:,1:2]*(x*(1-x))[:,2:3]*model_u1(x)\n",
    "def model_v(x):\n",
    "    return x[:,0].reshape(x.size()[0],1)*model_v1(x)\n",
    "def model_p(x):\n",
    "    return model_p1(x)"
   ]
  },
  {
   "cell_type": "code",
   "execution_count": 10,
   "metadata": {},
   "outputs": [],
   "source": [
    "def initparam(model,sigma):\n",
    "    for m in model.modules():\n",
    "        if isinstance(m,nn.Linear):\n",
    "            m.weight.data.uniform_(-sigma,sigma)#全连接层参数初始化\n",
    "            m.bias.data.uniform_(0,sigma)\n",
    "    return model\n",
    "  "
   ]
  },
  {
   "cell_type": "code",
   "execution_count": 11,
   "metadata": {},
   "outputs": [],
   "source": [
    "notes = torch.rand(10000,3).cuda()\n",
    "notes[:,0] = 1\n",
    "exact = sol_exact_H1(notes)\n",
    "u_L2 = sqrt(torch.sum((exact[:,0])**2)/10000)\n",
    "v_L2 = sqrt(torch.sum(exact[:,1]**2)/10000)\n",
    "p_L2 = sqrt(torch.sum((exact[:,2:4])**2)/10000)\n",
    "def loss_error():\n",
    "    notes = torch.rand(10000,3).cuda()\n",
    "    notes[:,0] = 1\n",
    "    predict = torch.zeros(10000,4).cuda()\n",
    "    predict[:,0] = model_u(notes).reshape([1,notes.size()[0]])\n",
    "    predict[:,1] = model_v(notes).reshape([1,notes.size()[0]])\n",
    "    predict[:,2:4] = model_p(notes)\n",
    "    exact = sol_exact_H1(notes)\n",
    "    value1 = sqrt(torch.sum((exact[:,0] - predict[:,0])**2)/10000)/u_L2\n",
    "    value2 = sqrt(torch.sum((exact[:,1] - predict[:,1])**2)/10000)/v_L2\n",
    "    value3 =  sqrt(torch.sum((exact[:,2:4] - predict[:,2:4])**2)/10000)/p_L2\n",
    "    return value1,value2,value3"
   ]
  },
  {
   "cell_type": "code",
   "execution_count": 12,
   "metadata": {},
   "outputs": [
    {
     "name": "stdout",
     "output_type": "stream",
     "text": [
      "i=  1\n",
      "error = 0.9846611878602152\n",
      "loss = tensor(1513107.2593, device='cuda:1')\n",
      "i=  501\n",
      "error = 0.1988283094450541\n",
      "loss = tensor(6680.3932, device='cuda:1')\n",
      "i=  1001\n",
      "error = 0.1761781036110839\n",
      "loss = tensor(3287.2737, device='cuda:1')\n",
      "i=  1501\n",
      "error = 0.1526282608820262\n",
      "loss = tensor(2310.6068, device='cuda:1')\n",
      "i=  2001\n",
      "error = 0.13154235809226544\n",
      "loss = tensor(2059.1427, device='cuda:1')\n",
      "i=  2501\n",
      "error = 0.11902543992577044\n",
      "loss = tensor(1375.3750, device='cuda:1')\n",
      "i=  3001\n",
      "error = 0.09101910060159477\n",
      "loss = tensor(1954.9550, device='cuda:1')\n",
      "i=  3501\n",
      "error = 0.0891837618738862\n",
      "loss = tensor(1010.9823, device='cuda:1')\n",
      "i=  4001\n",
      "error = 0.06728793637122339\n",
      "loss = tensor(776.3472, device='cuda:1')\n",
      "i=  4501\n",
      "error = 0.04536469473025601\n",
      "loss = tensor(659.3824, device='cuda:1')\n",
      "i=  5001\n",
      "error = 0.03677374043529375\n",
      "loss = tensor(537.4681, device='cuda:1')\n",
      "i=  5501\n",
      "error = 0.027402204935538358\n",
      "loss = tensor(446.7167, device='cuda:1')\n",
      "i=  6001\n",
      "error = 0.02383726836286189\n",
      "loss = tensor(407.1131, device='cuda:1')\n",
      "i=  6501\n",
      "error = 0.023873067905683807\n",
      "loss = tensor(382.1580, device='cuda:1')\n",
      "i=  7001\n",
      "error = 0.017133860218628116\n",
      "loss = tensor(282.2687, device='cuda:1')\n",
      "i=  7501\n",
      "error = 0.01597207032457777\n",
      "loss = tensor(251.0835, device='cuda:1')\n",
      "i=  8001\n",
      "error = 0.012986497557184591\n",
      "loss = tensor(226.3624, device='cuda:1')\n",
      "i=  8501\n",
      "error = 0.012321919570699493\n",
      "loss = tensor(204.5861, device='cuda:1')\n",
      "i=  9001\n",
      "error = 0.010040496538728622\n",
      "loss = tensor(190.2372, device='cuda:1')\n",
      "i=  9501\n",
      "error = 0.00887994399784196\n",
      "loss = tensor(173.3635, device='cuda:1')\n",
      "i=  10001\n",
      "error = 0.008698152168846635\n",
      "loss = tensor(240.9757, device='cuda:1')\n",
      "i=  10501\n",
      "error = 0.01359170794681623\n",
      "loss = tensor(239.2314, device='cuda:1')\n",
      "i=  11001\n",
      "error = 0.006774204603209248\n",
      "loss = tensor(164.5306, device='cuda:1')\n",
      "i=  11501\n",
      "error = 0.006670750828708536\n",
      "loss = tensor(129.8290, device='cuda:1')\n",
      "i=  12001\n",
      "error = 0.007769382118299179\n",
      "loss = tensor(270.0472, device='cuda:1')\n",
      "i=  12501\n",
      "error = 0.01319373857308535\n",
      "loss = tensor(370.3900, device='cuda:1')\n",
      "i=  13001\n",
      "error = 0.008275702060530164\n",
      "loss = tensor(156.9891, device='cuda:1')\n",
      "i=  13501\n",
      "error = 0.007121397960804996\n",
      "loss = tensor(236.0686, device='cuda:1')\n",
      "i=  14001\n",
      "error = 0.005765689595763483\n",
      "loss = tensor(87.6205, device='cuda:1')\n",
      "i=  14501\n",
      "error = 0.00519444210893263\n",
      "loss = tensor(86.9578, device='cuda:1')\n",
      "i=  15001\n",
      "error = 0.0055232556547974605\n",
      "loss = tensor(83.5568, device='cuda:1')\n",
      "i=  15501\n",
      "error = 0.008835160519124368\n",
      "loss = tensor(93.9025, device='cuda:1')\n",
      "i=  16001\n",
      "error = 0.005631093817978243\n",
      "loss = tensor(153.0355, device='cuda:1')\n",
      "i=  16501\n",
      "error = 0.004648747294818565\n",
      "loss = tensor(81.0898, device='cuda:1')\n",
      "i=  17001\n",
      "error = 0.01689575231851359\n",
      "loss = tensor(310.0763, device='cuda:1')\n",
      "i=  17501\n",
      "error = 0.01063987292374807\n",
      "loss = tensor(117.8014, device='cuda:1')\n",
      "i=  18001\n",
      "error = 0.005565376399259685\n",
      "loss = tensor(69.8148, device='cuda:1')\n",
      "i=  18501\n",
      "error = 0.00525524489203917\n",
      "loss = tensor(61.5638, device='cuda:1')\n",
      "i=  19001\n",
      "error = 0.007881015750846827\n",
      "loss = tensor(70.3289, device='cuda:1')\n",
      "i=  19501\n",
      "error = 0.005238267693671763\n",
      "loss = tensor(58.3108, device='cuda:1')\n",
      "i=  20001\n",
      "error = 0.006229116683176587\n",
      "loss = tensor(55.0838, device='cuda:1')\n",
      "i=  20501\n",
      "error = 0.0056759482871713285\n",
      "loss = tensor(52.5973, device='cuda:1')\n",
      "i=  21001\n",
      "error = 0.0049999716255729\n",
      "loss = tensor(53.3748, device='cuda:1')\n",
      "i=  21501\n",
      "error = 0.005569088554087463\n",
      "loss = tensor(51.8153, device='cuda:1')\n",
      "i=  22001\n",
      "error = 0.010346671817204266\n",
      "loss = tensor(99.3086, device='cuda:1')\n",
      "i=  22501\n",
      "error = 0.006996836019246121\n",
      "loss = tensor(47.9061, device='cuda:1')\n",
      "i=  23001\n",
      "error = 0.004401887774193416\n",
      "loss = tensor(104.3931, device='cuda:1')\n",
      "i=  23501\n",
      "error = 0.004594223681923455\n",
      "loss = tensor(55.2520, device='cuda:1')\n",
      "i=  24001\n",
      "error = 0.005133413328682633\n",
      "loss = tensor(49.4955, device='cuda:1')\n",
      "i=  24501\n",
      "error = 0.004221271485967966\n",
      "loss = tensor(54.9879, device='cuda:1')\n",
      "i=  25001\n",
      "error = 0.010937214542995321\n",
      "loss = tensor(78.1449, device='cuda:1')\n",
      "i=  25501\n",
      "error = 0.014301443683319768\n",
      "loss = tensor(228.7538, device='cuda:1')\n",
      "i=  26001\n",
      "error = 0.006581860859548992\n",
      "loss = tensor(41.3090, device='cuda:1')\n",
      "i=  26501\n",
      "error = 0.010885939822431814\n",
      "loss = tensor(82.0846, device='cuda:1')\n",
      "i=  27001\n",
      "error = 0.0070169401352337775\n",
      "loss = tensor(40.8612, device='cuda:1')\n",
      "i=  27501\n",
      "error = 0.00545855810780107\n",
      "loss = tensor(39.6627, device='cuda:1')\n",
      "i=  28001\n",
      "error = 0.005685252575813005\n",
      "loss = tensor(37.3881, device='cuda:1')\n",
      "i=  28501\n",
      "error = 0.006533734090405302\n",
      "loss = tensor(44.6309, device='cuda:1')\n",
      "i=  29001\n",
      "error = 0.0056190430023996315\n",
      "loss = tensor(36.4501, device='cuda:1')\n",
      "i=  29501\n",
      "error = 0.017754760350379678\n",
      "loss = tensor(255.2834, device='cuda:1')\n",
      "i=  30001\n",
      "error = 0.007625444407257217\n",
      "loss = tensor(41.9333, device='cuda:1')\n",
      "i=  30501\n",
      "error = 0.006777353023239799\n",
      "loss = tensor(38.1264, device='cuda:1')\n",
      "i=  31001\n",
      "error = 0.007043218527523309\n",
      "loss = tensor(40.4998, device='cuda:1')\n",
      "i=  31501\n",
      "error = 0.004732527490412999\n",
      "loss = tensor(34.6844, device='cuda:1')\n",
      "i=  32001\n",
      "error = 0.01791362409214854\n",
      "loss = tensor(321.7121, device='cuda:1')\n",
      "i=  32501\n",
      "error = 0.003234361837429794\n",
      "loss = tensor(67.1510, device='cuda:1')\n",
      "i=  33001\n",
      "error = 0.0028175837391978945\n",
      "loss = tensor(51.0150, device='cuda:1')\n",
      "i=  33501\n",
      "error = 0.004051036411776751\n",
      "loss = tensor(33.3977, device='cuda:1')\n",
      "i=  34001\n",
      "error = 0.003423654216335082\n",
      "loss = tensor(41.0324, device='cuda:1')\n",
      "i=  34501\n",
      "error = 0.005245583524723242\n",
      "loss = tensor(29.7977, device='cuda:1')\n",
      "i=  35001\n",
      "error = 0.006195952246808173\n",
      "loss = tensor(32.0119, device='cuda:1')\n",
      "i=  35501\n",
      "error = 0.004956895048923473\n",
      "loss = tensor(29.2051, device='cuda:1')\n",
      "i=  36001\n",
      "error = 0.005202701196885476\n",
      "loss = tensor(29.5410, device='cuda:1')\n",
      "i=  36501\n",
      "error = 0.005219943658480935\n",
      "loss = tensor(42.0526, device='cuda:1')\n",
      "i=  37001\n",
      "error = 0.0040615240928083725\n",
      "loss = tensor(28.7651, device='cuda:1')\n",
      "i=  37501\n",
      "error = 0.0063786277062574444\n",
      "loss = tensor(35.3679, device='cuda:1')\n",
      "i=  38001\n",
      "error = 0.005978770739299868\n",
      "loss = tensor(36.4013, device='cuda:1')\n",
      "i=  38501\n",
      "error = 0.0035285168718234383\n",
      "loss = tensor(50.1351, device='cuda:1')\n",
      "i=  39001\n",
      "error = 0.005748272926543123\n",
      "loss = tensor(27.5645, device='cuda:1')\n",
      "i=  39501\n",
      "error = 0.009763385391473698\n",
      "loss = tensor(99.4587, device='cuda:1')\n",
      "i=  40001\n",
      "error = 0.00226249254578244\n",
      "loss = tensor(179.4986, device='cuda:1')\n",
      "i=  40501\n",
      "error = 0.0039064058485401894\n",
      "loss = tensor(25.1090, device='cuda:1')\n",
      "i=  41001\n",
      "error = 0.003513549660960702\n",
      "loss = tensor(25.1927, device='cuda:1')\n",
      "i=  41501\n",
      "error = 0.00503244574575027\n",
      "loss = tensor(26.2724, device='cuda:1')\n",
      "i=  42001\n",
      "error = 0.0029179608365375543\n",
      "loss = tensor(26.7144, device='cuda:1')\n",
      "i=  42501\n",
      "error = 0.0052360687813497245\n",
      "loss = tensor(34.4117, device='cuda:1')\n",
      "i=  43001\n",
      "error = 0.003448664521183583\n",
      "loss = tensor(27.9621, device='cuda:1')\n",
      "i=  43501\n",
      "error = 0.004613972611527478\n",
      "loss = tensor(26.8602, device='cuda:1')\n",
      "i=  44001\n",
      "error = 0.003851646500115148\n",
      "loss = tensor(22.6894, device='cuda:1')\n",
      "i=  44501\n",
      "error = 0.0033412448975215095\n",
      "loss = tensor(24.7306, device='cuda:1')\n",
      "i=  45001\n",
      "error = 0.002047226673112304\n",
      "loss = tensor(42.5595, device='cuda:1')\n",
      "i=  45501\n",
      "error = 0.00400702342989492\n",
      "loss = tensor(60.1367, device='cuda:1')\n",
      "i=  46001\n",
      "error = 0.004815631242178719\n",
      "loss = tensor(25.8895, device='cuda:1')\n",
      "i=  46501\n",
      "error = 0.0023462260877518404\n",
      "loss = tensor(22.6024, device='cuda:1')\n",
      "i=  47001\n",
      "error = 0.012557461154765675\n",
      "loss = tensor(311.0792, device='cuda:1')\n",
      "i=  47501\n",
      "error = 0.004577170502929028\n",
      "loss = tensor(26.1875, device='cuda:1')\n",
      "i=  48001\n",
      "error = 0.0041023706454721065\n",
      "loss = tensor(27.3334, device='cuda:1')\n",
      "i=  48501\n",
      "error = 0.0023467305517915647\n",
      "loss = tensor(23.0954, device='cuda:1')\n",
      "i=  49001\n",
      "error = 0.003135261379899144\n",
      "loss = tensor(21.0589, device='cuda:1')\n",
      "i=  49501\n",
      "error = 0.0022366904048171893\n",
      "loss = tensor(57.9462, device='cuda:1')\n",
      "time cost 8955.251612901688 s\n"
     ]
    }
   ],
   "source": [
    "traintime = 50000\n",
    "error_save=np.zeros([3,traintime])\n",
    "optimizer = optim.Adam([\n",
    "                {'params': model_u1.parameters()},\n",
    "                {'params': model_v1.parameters()},\n",
    "                {'params': model_p1.parameters()}\n",
    "            ])\n",
    "time_start=time.time()\n",
    "for i in range(traintime):\n",
    "    optimizer.zero_grad()\n",
    "    losses = MIM()\n",
    "    losses.backward()\n",
    "    optimizer.step() \n",
    "    error1,error2,error3=loss_error()\n",
    "    error_save[0,i]=float(error1)\n",
    "    error_save[1,i]=float(error2)\n",
    "    error_save[2,i]=float(error3)\n",
    "    if i%500==1:\n",
    "        print(\"i= \",i)\n",
    "        print(\"error =\",error1)\n",
    "\n",
    "        print(\"loss =\",losses.detach())\n",
    "        np.save(\"error_save_LDG_wave_2D_s_w20.npy\", error_save)\n",
    "np.save(\"error_save_LDG_wave_2D_s_w20.npy\", error_save)\n",
    "time_end=time.time()\n",
    "print('time cost',time_end-time_start,'s')"
   ]
  },
  {
   "cell_type": "code",
   "execution_count": 13,
   "metadata": {},
   "outputs": [],
   "source": [
    "import matplotlib.pyplot as plt\n",
    "error = np.load(\"error_save_LDG_wave_2D_q_w20.npy\")"
   ]
  },
  {
   "cell_type": "code",
   "execution_count": 14,
   "metadata": {},
   "outputs": [
    {
     "name": "stderr",
     "output_type": "stream",
     "text": [
      "/home/ubuntu/anaconda3/lib/python3.7/site-packages/ipykernel_launcher.py:1: RuntimeWarning: divide by zero encountered in log10\n",
      "  \"\"\"Entry point for launching an IPython kernel.\n"
     ]
    },
    {
     "data": {
      "text/plain": [
       "[<matplotlib.lines.Line2D at 0x7f9da8432f50>]"
      ]
     },
     "execution_count": 14,
     "metadata": {},
     "output_type": "execute_result"
    },
    {
     "data": {
      "image/png": "[encoded data removed]",
      "text/plain": [
       "<Figure size 432x288 with 1 Axes>"
      ]
     },
     "metadata": {
      "needs_background": "light"
     },
     "output_type": "display_data"
    }
   ],
   "source": [
    "plt.plot(np.log10(error[1]))"
   ]
  },
  {
   "cell_type": "code",
   "execution_count": 15,
   "metadata": {},
   "outputs": [
    {
     "name": "stderr",
     "output_type": "stream",
     "text": [
      "/home/ubuntu/anaconda3/lib/python3.7/site-packages/ipykernel_launcher.py:1: RuntimeWarning: divide by zero encountered in log10\n",
      "  \"\"\"Entry point for launching an IPython kernel.\n"
     ]
    },
    {
     "data": {
      "text/plain": [
       "[<matplotlib.lines.Line2D at 0x7f9da8375510>]"
      ]
     },
     "execution_count": 15,
     "metadata": {},
     "output_type": "execute_result"
    },
    {
     "data": {
      "image/png": "[encoded data removed]",
      "text/plain": [
       "<Figure size 432x288 with 1 Axes>"
      ]
     },
     "metadata": {
      "needs_background": "light"
     },
     "output_type": "display_data"
    }
   ],
   "source": [
    "plt.plot(np.log10(error[0]))"
   ]
  },
  {
   "cell_type": "code",
   "execution_count": 16,
   "metadata": {},
   "outputs": [
    {
     "name": "stderr",
     "output_type": "stream",
     "text": [
      "/home/ubuntu/anaconda3/lib/python3.7/site-packages/ipykernel_launcher.py:1: RuntimeWarning: divide by zero encountered in log10\n",
      "  \"\"\"Entry point for launching an IPython kernel.\n"
     ]
    },
    {
     "data": {
      "text/plain": [
       "[<matplotlib.lines.Line2D at 0x7f9da82f2150>]"
      ]
     },
     "execution_count": 16,
     "metadata": {},
     "output_type": "execute_result"
    },
    {
     "data": {
      "image/png": "[encoded data removed]",
      "text/plain": [
       "<Figure size 432x288 with 1 Axes>"
      ]
     },
     "metadata": {
      "needs_background": "light"
     },
     "output_type": "display_data"
    }
   ],
   "source": [
    "plt.plot(np.log10(error[2]))"
   ]
  },
  {
   "cell_type": "markdown",
   "metadata": {},
   "source": [
    "# "
   ]
  }
 ],
 "metadata": {
  "kernelspec": {
   "display_name": "Python 3",
   "language": "python",
   "name": "python3"
  },
  "language_info": {
   "codemirror_mode": {
    "name": "ipython",
    "version": 3
   },
   "file_extension": ".py",
   "mimetype": "text/x-python",
   "name": "python",
   "nbconvert_exporter": "python",
   "pygments_lexer": "ipython3",
   "version": "3.7.6"
  }
 },
 "nbformat": 4,
 "nbformat_minor": 4
}
