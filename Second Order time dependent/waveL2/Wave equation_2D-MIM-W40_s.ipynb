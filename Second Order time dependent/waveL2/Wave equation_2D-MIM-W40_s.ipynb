{
 "cells": [
  {
   "cell_type": "code",
   "execution_count": 1,
   "metadata": {},
   "outputs": [],
   "source": [
    "import math\n",
    "import numpy as np\n",
    "import numpy.random as npr\n",
    "from numpy import linalg\n",
    "import torch\n",
    "import torch.nn as nn\n",
    "import torch.nn.functional as F\n",
    "from torch.utils import data\n",
    "from torch.utils.data import Dataset\n",
    "import torch.optim as optim\n",
    "import time\n",
    "from math import *\n",
    "torch.cuda.set_device(1)"
   ]
  },
  {
   "cell_type": "code",
   "execution_count": 2,
   "metadata": {},
   "outputs": [],
   "source": [
    "torch.set_default_tensor_type('torch.DoubleTensor')"
   ]
  },
  {
   "cell_type": "code",
   "execution_count": 3,
   "metadata": {},
   "outputs": [],
   "source": [
    "class ResNet(nn.Module):\n",
    "    def __init__(self,dim, m,o):\n",
    "        super(ResNet, self).__init__()\n",
    "        self.Ix = torch.zeros([dim,m]).cuda()\n",
    "        for i in range(dim):\n",
    "            self.Ix[i,i] = 1\n",
    "        self.fc1 = nn.Linear(dim, m)\n",
    "        self.fc2 = nn.Linear(m, m)\n",
    "        \n",
    "        self.fc3 = nn.Linear(m, m)\n",
    "        self.fc4 = nn.Linear(m, m)\n",
    " \n",
    "        \n",
    "        self.outlayer = nn.Linear(m, o)\n",
    "\n",
    "    def forward(self, x):\n",
    "        s = x@self.Ix\n",
    "        y = self.fc1(x)\n",
    "        y = F.relu(y)**deg\n",
    "        y = self.fc2(y)\n",
    "        y = F.relu(y)**deg\n",
    "        y = y+s\n",
    "        \n",
    "        s=y\n",
    "        y = self.fc3(y)\n",
    "        y = F.relu(y)**deg\n",
    "        y = self.fc4(y)\n",
    "        y = F.relu(y)**deg\n",
    "        y = y+s\n",
    "\n",
    "        \n",
    "        output = self.outlayer(y)\n",
    "        return output\n",
    "deg = 2"
   ]
  },
  {
   "cell_type": "code",
   "execution_count": 4,
   "metadata": {},
   "outputs": [],
   "source": [
    "def sol_exact(x):\n",
    "    sol = (x[:,0]**2*torch.sin(pi*x[:,1])*torch.sin(pi*x[:,2])).reshape(x.size()[0],1)\n",
    "    return sol"
   ]
  },
  {
   "cell_type": "code",
   "execution_count": 5,
   "metadata": {},
   "outputs": [],
   "source": [
    "def sol_exact_H1(x):\n",
    "    sol = torch.zeros(x.size()[0],4).cuda()\n",
    "    sol[:,0] = sol_exact(x).reshape(1,x.size()[0])\n",
    "    sol[:,1] = (2*x[:,0]*torch.sin(pi*x[:,1])*torch.sin(pi*x[:,2]))\n",
    "    sol[:,2] = (pi*x[:,0]**2*torch.cos(pi*x[:,1])*torch.sin(pi*x[:,2]))\n",
    "    sol[:,3] = (pi*x[:,0]**2*torch.sin(pi*x[:,1])*torch.cos(pi*x[:,2]))\n",
    "    return sol"
   ]
  },
  {
   "cell_type": "code",
   "execution_count": 6,
   "metadata": {},
   "outputs": [],
   "source": [
    "def source(x):\n",
    "    sol = (2*torch.sin(pi*x[:,1])*torch.sin(pi*x[:,2])).reshape(x.size()[0],1)\n",
    "    sol =  sol +  (2*pi**2*x[:,0]**2*torch.sin(pi*x[:,1])*torch.sin(pi*x[:,2])).reshape(x.size()[0],1)    \n",
    "    return sol"
   ]
  },
  {
   "cell_type": "code",
   "execution_count": 7,
   "metadata": {},
   "outputs": [],
   "source": [
    "Batch_size = 50000\n",
    "def MIM():\n",
    "    x = torch.rand(Batch_size,3).cuda()\n",
    "    x.requires_grad = True\n",
    "    u = model_u(x)\n",
    "    v = model_v(x)\n",
    "    p = model_p(x)\n",
    "    ve = torch.ones(u.shape).cuda()\n",
    "    Du = torch.autograd.grad(u,x,grad_outputs=ve,create_graph=True)[0]\n",
    "    Nv = Du[:,0].reshape(x.size()[0],1)\n",
    "    Np = Du[:,1:3].reshape(x.size()[0],2)\n",
    "    Dv = torch.autograd.grad(v,x,grad_outputs=ve,create_graph=True)[0]\n",
    "    v_t = Dv[:,0].reshape(x.size()[0],1)\n",
    "    uxx = torch.zeros(x.size()[0],1).cuda()\n",
    "    for i in range(2):\n",
    "        uxi = p[:,i].reshape(x.size()[0],1)\n",
    "        uxxi = torch.autograd.grad(uxi,x,grad_outputs=ve,create_graph=True)[0]\n",
    "        uxx = uxx + uxxi[:,i+1].reshape(x.size()[0],1)\n",
    "    loss = torch.sum( (Nv-v)**2 ) + torch.sum( (Np-p)**2 ) + torch.sum( (v_t - uxx - source(x))**2 )\n",
    "    return loss"
   ]
  },
  {
   "cell_type": "code",
   "execution_count": 8,
   "metadata": {},
   "outputs": [
    {
     "data": {
      "text/plain": [
       "ResNet(\n",
       "  (fc1): Linear(in_features=3, out_features=40, bias=True)\n",
       "  (fc2): Linear(in_features=40, out_features=40, bias=True)\n",
       "  (fc3): Linear(in_features=40, out_features=40, bias=True)\n",
       "  (fc4): Linear(in_features=40, out_features=40, bias=True)\n",
       "  (outlayer): Linear(in_features=40, out_features=2, bias=True)\n",
       ")"
      ]
     },
     "execution_count": 8,
     "metadata": {},
     "output_type": "execute_result"
    }
   ],
   "source": [
    "model_u1 = ResNet(3,40,1)\n",
    "model_v1 = ResNet(3,40,1)\n",
    "model_p1 = ResNet(3,40,2)\n",
    "device=torch.device(\"cuda:1\" )\n",
    "\n",
    "model_u1.to(device)\n",
    "model_v1.to(device)\n",
    "model_p1.to(device)"
   ]
  },
  {
   "cell_type": "code",
   "execution_count": 9,
   "metadata": {},
   "outputs": [],
   "source": [
    "def model_u(x):\n",
    "    return x[:,0:1]*(x*(1-x))[:,1:2]*(x*(1-x))[:,2:3]*model_u1(x)\n",
    "def model_v(x):\n",
    "    return x[:,0].reshape(x.size()[0],1)*model_v1(x)\n",
    "def model_p(x):\n",
    "    return model_p1(x)"
   ]
  },
  {
   "cell_type": "code",
   "execution_count": 10,
   "metadata": {},
   "outputs": [],
   "source": [
    "def initparam(model,sigma):\n",
    "    for m in model.modules():\n",
    "        if isinstance(m,nn.Linear):\n",
    "            m.weight.data.uniform_(-sigma,sigma)#全连接层参数初始化\n",
    "            m.bias.data.uniform_(0,sigma)\n",
    "    return model\n",
    "  "
   ]
  },
  {
   "cell_type": "code",
   "execution_count": 11,
   "metadata": {},
   "outputs": [],
   "source": [
    "notes = torch.rand(10000,3).cuda()\n",
    "notes[:,0] = 1\n",
    "exact = sol_exact_H1(notes)\n",
    "u_L2 = sqrt(torch.sum((exact[:,0])**2)/10000)\n",
    "v_L2 = sqrt(torch.sum(exact[:,1]**2)/10000)\n",
    "p_L2 = sqrt(torch.sum((exact[:,2:4])**2)/10000)\n",
    "def loss_error():\n",
    "    notes = torch.rand(10000,3).cuda()\n",
    "    notes[:,0] = 1\n",
    "    predict = torch.zeros(10000,4).cuda()\n",
    "    predict[:,0] = model_u(notes).reshape([1,notes.size()[0]])\n",
    "    predict[:,1] = model_v(notes).reshape([1,notes.size()[0]])\n",
    "    predict[:,2:4] = model_p(notes)\n",
    "    exact = sol_exact_H1(notes)\n",
    "    value1 = sqrt(torch.sum((exact[:,0] - predict[:,0])**2)/10000)/u_L2\n",
    "    value2 = sqrt(torch.sum((exact[:,1] - predict[:,1])**2)/10000)/v_L2\n",
    "    value3 =  sqrt(torch.sum((exact[:,2:4] - predict[:,2:4])**2)/10000)/p_L2\n",
    "    return value1,value2,value3"
   ]
  },
  {
   "cell_type": "code",
   "execution_count": 12,
   "metadata": {},
   "outputs": [
    {
     "name": "stdout",
     "output_type": "stream",
     "text": [
      "i=  1\n",
      "error = 0.9917370143151014\n",
      "loss = tensor(1370241.1649, device='cuda:1')\n",
      "i=  501\n",
      "error = 0.13574532077067045\n",
      "loss = tensor(2549.0310, device='cuda:1')\n",
      "i=  1001\n",
      "error = 0.11106596292727297\n",
      "loss = tensor(2256.3592, device='cuda:1')\n",
      "i=  1501\n",
      "error = 0.05957698273669054\n",
      "loss = tensor(739.8409, device='cuda:1')\n",
      "i=  2001\n",
      "error = 0.04582257343645535\n",
      "loss = tensor(1093.2466, device='cuda:1')\n",
      "i=  2501\n",
      "error = 0.020553466225879963\n",
      "loss = tensor(275.4125, device='cuda:1')\n",
      "i=  3001\n",
      "error = 0.03014528680248452\n",
      "loss = tensor(694.6986, device='cuda:1')\n",
      "i=  3501\n",
      "error = 0.01689528336260079\n",
      "loss = tensor(167.8478, device='cuda:1')\n",
      "i=  4001\n",
      "error = 0.01458686705842339\n",
      "loss = tensor(148.7036, device='cuda:1')\n",
      "i=  4501\n",
      "error = 0.010896004049092915\n",
      "loss = tensor(136.5365, device='cuda:1')\n",
      "i=  5001\n",
      "error = 0.012322406351785942\n",
      "loss = tensor(114.1600, device='cuda:1')\n",
      "i=  5501\n",
      "error = 0.011270440528278124\n",
      "loss = tensor(94.7904, device='cuda:1')\n",
      "i=  6001\n",
      "error = 0.03054277838145373\n",
      "loss = tensor(1058.8004, device='cuda:1')\n",
      "i=  6501\n",
      "error = 0.008699942436217285\n",
      "loss = tensor(96.3128, device='cuda:1')\n",
      "i=  7001\n",
      "error = 0.009253830991240393\n",
      "loss = tensor(68.7296, device='cuda:1')\n",
      "i=  7501\n",
      "error = 0.006164828280544083\n",
      "loss = tensor(105.0177, device='cuda:1')\n",
      "i=  8001\n",
      "error = 0.010767867407439867\n",
      "loss = tensor(56.8237, device='cuda:1')\n",
      "i=  8501\n",
      "error = 0.015055848578788557\n",
      "loss = tensor(140.0891, device='cuda:1')\n",
      "i=  9001\n",
      "error = 0.008121863385489913\n",
      "loss = tensor(58.2548, device='cuda:1')\n",
      "i=  9501\n",
      "error = 0.006319718737274334\n",
      "loss = tensor(49.5534, device='cuda:1')\n",
      "i=  10001\n",
      "error = 0.006218006113853989\n",
      "loss = tensor(40.5137, device='cuda:1')\n",
      "i=  10501\n",
      "error = 0.005078773597554796\n",
      "loss = tensor(79.0678, device='cuda:1')\n",
      "i=  11001\n",
      "error = 0.008161518708607117\n",
      "loss = tensor(31.7587, device='cuda:1')\n",
      "i=  11501\n",
      "error = 0.007782003854958355\n",
      "loss = tensor(39.7788, device='cuda:1')\n",
      "i=  12001\n",
      "error = 0.006814191350783876\n",
      "loss = tensor(28.2550, device='cuda:1')\n",
      "i=  12501\n",
      "error = 0.00632340185792467\n",
      "loss = tensor(25.9801, device='cuda:1')\n",
      "i=  13001\n",
      "error = 0.00810177181809411\n",
      "loss = tensor(35.0761, device='cuda:1')\n",
      "i=  13501\n",
      "error = 0.010528699673047192\n",
      "loss = tensor(113.0903, device='cuda:1')\n",
      "i=  14001\n",
      "error = 0.015616771915162352\n",
      "loss = tensor(410.6724, device='cuda:1')\n",
      "i=  14501\n",
      "error = 0.007411794665291598\n",
      "loss = tensor(391.8811, device='cuda:1')\n",
      "i=  15001\n",
      "error = 0.0046163338969723786\n",
      "loss = tensor(18.3634, device='cuda:1')\n",
      "i=  15501\n",
      "error = 0.00703606927451632\n",
      "loss = tensor(66.3236, device='cuda:1')\n",
      "i=  16001\n",
      "error = 0.0045808030965976045\n",
      "loss = tensor(16.4188, device='cuda:1')\n",
      "i=  16501\n",
      "error = 0.0041793824578566065\n",
      "loss = tensor(15.3321, device='cuda:1')\n",
      "i=  17001\n",
      "error = 0.004859370574547926\n",
      "loss = tensor(16.6982, device='cuda:1')\n",
      "i=  17501\n",
      "error = 0.004279604864320799\n",
      "loss = tensor(14.0426, device='cuda:1')\n",
      "i=  18001\n",
      "error = 0.00355856798864719\n",
      "loss = tensor(14.7297, device='cuda:1')\n",
      "i=  18501\n",
      "error = 0.013770570807142618\n",
      "loss = tensor(473.8245, device='cuda:1')\n",
      "i=  19001\n",
      "error = 0.0034354080329527816\n",
      "loss = tensor(12.3945, device='cuda:1')\n",
      "i=  19501\n",
      "error = 0.005175620998166533\n",
      "loss = tensor(19.5869, device='cuda:1')\n",
      "i=  20001\n",
      "error = 0.012183275209845787\n",
      "loss = tensor(237.1588, device='cuda:1')\n",
      "i=  20501\n",
      "error = 0.0036178676542864352\n",
      "loss = tensor(11.3033, device='cuda:1')\n",
      "i=  21001\n",
      "error = 0.0033735909860317373\n",
      "loss = tensor(10.8188, device='cuda:1')\n",
      "i=  21501\n",
      "error = 0.0031207687568197045\n",
      "loss = tensor(13.4297, device='cuda:1')\n",
      "i=  22001\n",
      "error = 0.0032642854819786593\n",
      "loss = tensor(10.5803, device='cuda:1')\n",
      "i=  22501\n",
      "error = 0.004787641992144348\n",
      "loss = tensor(32.3160, device='cuda:1')\n",
      "i=  23001\n",
      "error = 0.0033282650174922762\n",
      "loss = tensor(9.9540, device='cuda:1')\n",
      "i=  23501\n",
      "error = 0.0027488673369328092\n",
      "loss = tensor(88.5114, device='cuda:1')\n",
      "i=  24001\n",
      "error = 0.003202144995155533\n",
      "loss = tensor(9.3855, device='cuda:1')\n",
      "i=  24501\n",
      "error = 0.0031611992259586636\n",
      "loss = tensor(8.8688, device='cuda:1')\n",
      "i=  25001\n",
      "error = 0.003086177710904145\n",
      "loss = tensor(433.9541, device='cuda:1')\n",
      "i=  25501\n",
      "error = 0.002645157650313475\n",
      "loss = tensor(8.8643, device='cuda:1')\n",
      "i=  26001\n",
      "error = 0.0025710226304901294\n",
      "loss = tensor(8.6453, device='cuda:1')\n",
      "i=  26501\n",
      "error = 0.0034219852462919744\n",
      "loss = tensor(46.3227, device='cuda:1')\n",
      "i=  27001\n",
      "error = 0.0034240226235922613\n",
      "loss = tensor(10.6957, device='cuda:1')\n",
      "i=  27501\n",
      "error = 0.0023173573009322456\n",
      "loss = tensor(9.5187, device='cuda:1')\n",
      "i=  28001\n",
      "error = 0.0038607038191046518\n",
      "loss = tensor(10.7371, device='cuda:1')\n",
      "i=  28501\n",
      "error = 0.0025557859287144223\n",
      "loss = tensor(7.9753, device='cuda:1')\n",
      "i=  29001\n",
      "error = 0.0027462762734763724\n",
      "loss = tensor(7.5117, device='cuda:1')\n",
      "i=  29501\n",
      "error = 0.006348856313878807\n",
      "loss = tensor(170.8111, device='cuda:1')\n",
      "i=  30001\n",
      "error = 0.002055501982710013\n",
      "loss = tensor(20.3925, device='cuda:1')\n",
      "i=  30501\n",
      "error = 0.0036348398317166603\n",
      "loss = tensor(27.5300, device='cuda:1')\n",
      "i=  31001\n",
      "error = 0.004239493490794915\n",
      "loss = tensor(92.2331, device='cuda:1')\n",
      "i=  31501\n",
      "error = 0.009147720094500187\n",
      "loss = tensor(184.5401, device='cuda:1')\n",
      "i=  32001\n",
      "error = 0.012130156383418404\n",
      "loss = tensor(159.2545, device='cuda:1')\n",
      "i=  32501\n",
      "error = 0.002709737224239399\n",
      "loss = tensor(7.1461, device='cuda:1')\n",
      "i=  33001\n",
      "error = 0.003113291629693396\n",
      "loss = tensor(20.6290, device='cuda:1')\n",
      "i=  33501\n",
      "error = 0.0026238287248232265\n",
      "loss = tensor(10.4049, device='cuda:1')\n",
      "i=  34001\n",
      "error = 0.006429176107231514\n",
      "loss = tensor(178.5586, device='cuda:1')\n",
      "i=  34501\n",
      "error = 0.0063347915052102445\n",
      "loss = tensor(54.6273, device='cuda:1')\n",
      "i=  35001\n",
      "error = 0.0019464475570569414\n",
      "loss = tensor(6.9047, device='cuda:1')\n",
      "i=  35501\n",
      "error = 0.0020302246799429324\n",
      "loss = tensor(7.2216, device='cuda:1')\n",
      "i=  36001\n",
      "error = 0.00187708582629249\n",
      "loss = tensor(11.9660, device='cuda:1')\n",
      "i=  36501\n",
      "error = 0.0023438778913293648\n",
      "loss = tensor(6.1062, device='cuda:1')\n",
      "i=  37001\n",
      "error = 0.0021244516746957106\n",
      "loss = tensor(5.5977, device='cuda:1')\n",
      "i=  37501\n",
      "error = 0.002177524759860653\n",
      "loss = tensor(5.7872, device='cuda:1')\n",
      "i=  38001\n",
      "error = 0.004408140303945493\n",
      "loss = tensor(11.8330, device='cuda:1')\n",
      "i=  38501\n",
      "error = 0.002085026721447893\n",
      "loss = tensor(5.6920, device='cuda:1')\n",
      "i=  39001\n",
      "error = 0.0023317012208716407\n",
      "loss = tensor(5.3803, device='cuda:1')\n",
      "i=  39501\n",
      "error = 0.0020138923250422954\n",
      "loss = tensor(15.0578, device='cuda:1')\n",
      "i=  40001\n",
      "error = 0.003671103215877163\n",
      "loss = tensor(16.2834, device='cuda:1')\n",
      "i=  40501\n",
      "error = 0.0024822514537338933\n",
      "loss = tensor(5.6190, device='cuda:1')\n",
      "i=  41001\n",
      "error = 0.0019241577504457998\n",
      "loss = tensor(10.6785, device='cuda:1')\n",
      "i=  41501\n",
      "error = 0.0016997892401343982\n",
      "loss = tensor(12.0620, device='cuda:1')\n",
      "i=  42001\n",
      "error = 0.0018550861821155502\n",
      "loss = tensor(5.7569, device='cuda:1')\n",
      "i=  42501\n",
      "error = 0.004880549808158669\n",
      "loss = tensor(43.5231, device='cuda:1')\n",
      "i=  43001\n",
      "error = 0.002021805140610436\n",
      "loss = tensor(4.9109, device='cuda:1')\n",
      "i=  43501\n",
      "error = 0.0018901669227122406\n",
      "loss = tensor(5.2480, device='cuda:1')\n",
      "i=  44001\n",
      "error = 0.002207816710716836\n",
      "loss = tensor(4.9861, device='cuda:1')\n",
      "i=  44501\n",
      "error = 0.0020045013065917374\n",
      "loss = tensor(4.6684, device='cuda:1')\n",
      "i=  45001\n",
      "error = 0.0049918902689095705\n",
      "loss = tensor(53.1972, device='cuda:1')\n",
      "i=  45501\n",
      "error = 0.009026015617712425\n",
      "loss = tensor(328.4983, device='cuda:1')\n",
      "i=  46001\n",
      "error = 0.00749275342345171\n",
      "loss = tensor(81.1523, device='cuda:1')\n",
      "i=  46501\n",
      "error = 0.00340524577259157\n",
      "loss = tensor(17.9581, device='cuda:1')\n",
      "i=  47001\n",
      "error = 0.002417030354746609\n",
      "loss = tensor(5.9570, device='cuda:1')\n",
      "i=  47501\n",
      "error = 0.0046520582971926495\n",
      "loss = tensor(35.4931, device='cuda:1')\n",
      "i=  48001\n",
      "error = 0.0028191118386459266\n",
      "loss = tensor(35.3072, device='cuda:1')\n",
      "i=  48501\n",
      "error = 0.0017256797057714802\n",
      "loss = tensor(24.8145, device='cuda:1')\n",
      "i=  49001\n",
      "error = 0.0015425524158009002\n",
      "loss = tensor(5.6322, device='cuda:1')\n",
      "i=  49501\n",
      "error = 0.001787406315202469\n",
      "loss = tensor(4.4952, device='cuda:1')\n",
      "time cost 9158.642986774445 s\n"
     ]
    }
   ],
   "source": [
    "traintime = 50000\n",
    "error_save=np.zeros([3,traintime])\n",
    "optimizer = optim.Adam([\n",
    "                {'params': model_u1.parameters()},\n",
    "                {'params': model_v1.parameters()},\n",
    "                {'params': model_p1.parameters()}\n",
    "            ])\n",
    "time_start=time.time()\n",
    "for i in range(traintime):\n",
    "    optimizer.zero_grad()\n",
    "    losses = MIM()\n",
    "    losses.backward()\n",
    "    optimizer.step() \n",
    "    error1,error2,error3=loss_error()\n",
    "    error_save[0,i]=float(error1)\n",
    "    error_save[1,i]=float(error2)\n",
    "    error_save[2,i]=float(error3)\n",
    "    if i%500==1:\n",
    "        print(\"i= \",i)\n",
    "        print(\"error =\",error1)\n",
    "\n",
    "        print(\"loss =\",losses.detach())\n",
    "        np.save(\"error_save_LDG_wave_2D_s_w40.npy\", error_save)\n",
    "np.save(\"error_save_LDG_wave_2D_s_w40.npy\", error_save)\n",
    "time_end=time.time()\n",
    "print('time cost',time_end-time_start,'s')"
   ]
  },
  {
   "cell_type": "code",
   "execution_count": 13,
   "metadata": {},
   "outputs": [],
   "source": [
    "import matplotlib.pyplot as plt\n",
    "error = np.load(\"error_save_LDG_wave_2D_q_w40.npy\")"
   ]
  },
  {
   "cell_type": "code",
   "execution_count": 14,
   "metadata": {},
   "outputs": [
    {
     "name": "stderr",
     "output_type": "stream",
     "text": [
      "/home/ubuntu/anaconda3/lib/python3.7/site-packages/ipykernel_launcher.py:1: RuntimeWarning: divide by zero encountered in log10\n",
      "  \"\"\"Entry point for launching an IPython kernel.\n"
     ]
    },
    {
     "data": {
      "text/plain": [
       "[<matplotlib.lines.Line2D at 0x7fc762451890>]"
      ]
     },
     "execution_count": 14,
     "metadata": {},
     "output_type": "execute_result"
    },
    {
     "data": {
      "image/png": "[encoded data removed]",
      "text/plain": [
       "<Figure size 432x288 with 1 Axes>"
      ]
     },
     "metadata": {
      "needs_background": "light"
     },
     "output_type": "display_data"
    }
   ],
   "source": [
    "plt.plot(np.log10(error[1]))"
   ]
  },
  {
   "cell_type": "code",
   "execution_count": 15,
   "metadata": {},
   "outputs": [
    {
     "name": "stderr",
     "output_type": "stream",
     "text": [
      "/home/ubuntu/anaconda3/lib/python3.7/site-packages/ipykernel_launcher.py:1: RuntimeWarning: divide by zero encountered in log10\n",
      "  \"\"\"Entry point for launching an IPython kernel.\n"
     ]
    },
    {
     "data": {
      "text/plain": [
       "[<matplotlib.lines.Line2D at 0x7fc6603a0510>]"
      ]
     },
     "execution_count": 15,
     "metadata": {},
     "output_type": "execute_result"
    },
    {
     "data": {
      "image/png": "[encoded data removed]",
      "text/plain": [
       "<Figure size 432x288 with 1 Axes>"
      ]
     },
     "metadata": {
      "needs_background": "light"
     },
     "output_type": "display_data"
    }
   ],
   "source": [
    "plt.plot(np.log10(error[0]))"
   ]
  },
  {
   "cell_type": "code",
   "execution_count": 16,
   "metadata": {},
   "outputs": [
    {
     "name": "stderr",
     "output_type": "stream",
     "text": [
      "/home/ubuntu/anaconda3/lib/python3.7/site-packages/ipykernel_launcher.py:1: RuntimeWarning: divide by zero encountered in log10\n",
      "  \"\"\"Entry point for launching an IPython kernel.\n"
     ]
    },
    {
     "data": {
      "text/plain": [
       "[<matplotlib.lines.Line2D at 0x7fc660321310>]"
      ]
     },
     "execution_count": 16,
     "metadata": {},
     "output_type": "execute_result"
    },
    {
     "data": {
      "image/png": "[encoded data removed]",
      "text/plain": [
       "<Figure size 432x288 with 1 Axes>"
      ]
     },
     "metadata": {
      "needs_background": "light"
     },
     "output_type": "display_data"
    }
   ],
   "source": [
    "plt.plot(np.log10(error[2]))"
   ]
  },
  {
   "cell_type": "code",
   "execution_count": null,
   "metadata": {},
   "outputs": [],
   "source": []
  }
 ],
 "metadata": {
  "kernelspec": {
   "display_name": "Python 3",
   "language": "python",
   "name": "python3"
  },
  "language_info": {
   "codemirror_mode": {
    "name": "ipython",
    "version": 3
   },
   "file_extension": ".py",
   "mimetype": "text/x-python",
   "name": "python",
   "nbconvert_exporter": "python",
   "pygments_lexer": "ipython3",
   "version": "3.7.6"
  }
 },
 "nbformat": 4,
 "nbformat_minor": 4
}
