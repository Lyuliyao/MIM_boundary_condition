{
 "cells": [
  {
   "cell_type": "code",
   "execution_count": 1,
   "metadata": {},
   "outputs": [],
   "source": [
    "import math\n",
    "import numpy as np\n",
    "import numpy.random as npr\n",
    "from numpy import linalg\n",
    "import torch\n",
    "import torch.nn as nn\n",
    "import torch.nn.functional as F\n",
    "from torch.utils import data\n",
    "from torch.utils.data import Dataset\n",
    "import torch.optim as optim\n",
    "import time\n",
    "from math import *\n",
    "torch.cuda.set_device(0)"
   ]
  },
  {
   "cell_type": "code",
   "execution_count": 2,
   "metadata": {},
   "outputs": [],
   "source": [
    "torch.set_default_tensor_type('torch.DoubleTensor')"
   ]
  },
  {
   "cell_type": "code",
   "execution_count": 3,
   "metadata": {},
   "outputs": [],
   "source": [
    "class ResNet(nn.Module):\n",
    "    def __init__(self,dim, m,o):\n",
    "        super(ResNet, self).__init__()\n",
    "        self.Ix = torch.zeros([dim,m]).cuda()\n",
    "        for i in range(dim):\n",
    "            self.Ix[i,i] = 1\n",
    "        self.fc1 = nn.Linear(dim, m)\n",
    "        self.fc2 = nn.Linear(m, m)\n",
    "        \n",
    "        self.fc3 = nn.Linear(m, m)\n",
    "        self.fc4 = nn.Linear(m, m)\n",
    " \n",
    "        \n",
    "        self.outlayer = nn.Linear(m, o)\n",
    "\n",
    "    def forward(self, x):\n",
    "        s = x@self.Ix\n",
    "        y = self.fc1(x)\n",
    "        y = F.relu(y)**deg\n",
    "        y = self.fc2(y)\n",
    "        y = F.relu(y)**deg\n",
    "        y = y+s\n",
    "        \n",
    "        s=y\n",
    "        y = self.fc3(y)\n",
    "        y = F.relu(y)**deg\n",
    "        y = self.fc4(y)\n",
    "        y = F.relu(y)**deg\n",
    "        y = y+s\n",
    "\n",
    "        \n",
    "        output = self.outlayer(y)\n",
    "        return output\n",
    "deg = 3"
   ]
  },
  {
   "cell_type": "code",
   "execution_count": 4,
   "metadata": {},
   "outputs": [],
   "source": [
    "def sol_exact(x):\n",
    "    sol = (x[:,0]**2*torch.sin(pi*x[:,1])*torch.sin(pi*x[:,2])).reshape(x.size()[0],1)\n",
    "    return sol"
   ]
  },
  {
   "cell_type": "code",
   "execution_count": 5,
   "metadata": {},
   "outputs": [],
   "source": [
    "def sol_exact_H1(x):\n",
    "    sol = torch.zeros(x.size()[0],4).cuda()\n",
    "    sol[:,0] = sol_exact(x).reshape(1,x.size()[0])\n",
    "    sol[:,1] = (2*x[:,0]*torch.sin(pi*x[:,1])*torch.sin(pi*x[:,2]))\n",
    "    sol[:,2] = (pi*x[:,0]**2*torch.cos(pi*x[:,1])*torch.sin(pi*x[:,2]))\n",
    "    sol[:,3] = (pi*x[:,0]**2*torch.sin(pi*x[:,1])*torch.cos(pi*x[:,2]))\n",
    "    return sol"
   ]
  },
  {
   "cell_type": "code",
   "execution_count": 6,
   "metadata": {},
   "outputs": [],
   "source": [
    "def source(x):\n",
    "    sol = (2*torch.sin(pi*x[:,1])*torch.sin(pi*x[:,2])).reshape(x.size()[0],1)\n",
    "    sol =  sol +  (2*pi**2*x[:,0]**2*torch.sin(pi*x[:,1])*torch.sin(pi*x[:,2])).reshape(x.size()[0],1)    \n",
    "    return sol"
   ]
  },
  {
   "cell_type": "code",
   "execution_count": 7,
   "metadata": {},
   "outputs": [],
   "source": [
    "Batch_size = 50000\n",
    "def MIM():\n",
    "    x = torch.rand(Batch_size,3).cuda()\n",
    "    x.requires_grad = True\n",
    "    u = model_u(x)\n",
    "    v = model_v(x)\n",
    "    p = model_p(x)\n",
    "    ve = torch.ones(u.shape).cuda()\n",
    "    Du = torch.autograd.grad(u,x,grad_outputs=ve,create_graph=True)[0]\n",
    "    Np = Du[:,1:3].reshape(x.size()[0],2)\n",
    "    Dv = torch.autograd.grad(v,x,grad_outputs=ve,create_graph=True)[0]\n",
    "    v_t = Dv[:,0].reshape(x.size()[0],1)\n",
    "    uxx = torch.zeros(x.size()[0],1).cuda()\n",
    "    for i in range(2):\n",
    "        uxi = p[:,i].reshape(x.size()[0],1)\n",
    "        uxxi = torch.autograd.grad(uxi,x,grad_outputs=ve,create_graph=True)[0]\n",
    "        uxx = uxx + uxxi[:,i+1].reshape(x.size()[0],1)\n",
    "    loss =  torch.sum( (Np-p)**2 )/50000 + torch.sum( (v_t - uxx - source(x))**2 )/50000\n",
    "    return loss"
   ]
  },
  {
   "cell_type": "code",
   "execution_count": 8,
   "metadata": {},
   "outputs": [],
   "source": [
    "def BC():\n",
    "    x1 = torch.rand(1000,3).cuda()\n",
    "    x1[:,0] = 0\n",
    "    loss = torch.sum(model_v(x1)**2)/1000\n",
    "    return loss"
   ]
  },
  {
   "cell_type": "code",
   "execution_count": 9,
   "metadata": {},
   "outputs": [
    {
     "data": {
      "text/plain": [
       "ResNet(\n",
       "  (fc1): Linear(in_features=3, out_features=10, bias=True)\n",
       "  (fc2): Linear(in_features=10, out_features=10, bias=True)\n",
       "  (fc3): Linear(in_features=10, out_features=10, bias=True)\n",
       "  (fc4): Linear(in_features=10, out_features=10, bias=True)\n",
       "  (outlayer): Linear(in_features=10, out_features=2, bias=True)\n",
       ")"
      ]
     },
     "execution_count": 9,
     "metadata": {},
     "output_type": "execute_result"
    }
   ],
   "source": [
    "model_u1 = ResNet(3,10,1)\n",
    "model_p1 = ResNet(3,10,2)\n",
    "device=torch.device(\"cuda:0\" )\n",
    "\n",
    "model_u1.to(device)\n",
    "model_p1.to(device)"
   ]
  },
  {
   "cell_type": "code",
   "execution_count": 10,
   "metadata": {},
   "outputs": [],
   "source": [
    "def model_u(x):\n",
    "    return x[:,0:1]*(x*(1-x))[:,1:2]*(x*(1-x))[:,2:3]*model_u1(x)\n",
    "def model_v(x):\n",
    "    x.requires_grad = True\n",
    "    u = model_u(x)\n",
    "    ve = torch.ones(u.shape).cuda()\n",
    "    Du = torch.autograd.grad(u,x,grad_outputs=ve,create_graph=True)[0]\n",
    "    v = Du[:,0].reshape(x.size()[0],1)\n",
    "    return v\n",
    "def model_p(x):\n",
    "    return model_p1(x)"
   ]
  },
  {
   "cell_type": "code",
   "execution_count": 11,
   "metadata": {},
   "outputs": [],
   "source": [
    "def initparam(model,sigma):\n",
    "    for m in model.modules():\n",
    "        if isinstance(m,nn.Linear):\n",
    "            m.weight.data.uniform_(-sigma,sigma)#全连接层参数初始化\n",
    "            m.bias.data.uniform_(0,sigma)\n",
    "    return model\n",
    "  "
   ]
  },
  {
   "cell_type": "code",
   "execution_count": 12,
   "metadata": {},
   "outputs": [],
   "source": [
    "notes = torch.rand(10000,3).cuda()\n",
    "notes[:,0] = 1\n",
    "exact = sol_exact_H1(notes)\n",
    "u_L2 = sqrt(torch.sum((exact[:,0])**2)/10000)\n",
    "v_L2 = sqrt(torch.sum(exact[:,1]**2)/10000)\n",
    "p_L2 = sqrt(torch.sum((exact[:,2:4])**2)/10000)\n",
    "def loss_error():\n",
    "    notes = torch.rand(10000,3).cuda()\n",
    "    notes[:,0] = 1\n",
    "    predict = torch.zeros(10000,4).cuda()\n",
    "    predict[:,0] = model_u(notes).reshape([1,notes.size()[0]])\n",
    "    predict[:,1] = model_v(notes).reshape([1,notes.size()[0]])\n",
    "    predict[:,2:4] = model_p(notes)\n",
    "    exact = sol_exact_H1(notes)\n",
    "    value1 = sqrt(torch.sum((exact[:,0] - predict[:,0])**2)/10000)/u_L2\n",
    "    value2 = sqrt(torch.sum((exact[:,1] - predict[:,1])**2)/10000)/v_L2\n",
    "    value3 =  sqrt(torch.sum((exact[:,2:4] - predict[:,2:4])**2)/10000)/p_L2\n",
    "    return value1,value2,value3"
   ]
  },
  {
   "cell_type": "code",
   "execution_count": 13,
   "metadata": {},
   "outputs": [
    {
     "name": "stdout",
     "output_type": "stream",
     "text": [
      "i=  1\n",
      "error = 0.9863085440378389\n",
      "loss = tensor(28.6570, device='cuda:0')\n",
      "i=  501\n",
      "error = 0.09053092131556409\n",
      "loss = tensor(0.4276, device='cuda:0')\n",
      "i=  1001\n",
      "error = 0.060087620997199824\n",
      "loss = tensor(0.1018, device='cuda:0')\n",
      "i=  1501\n",
      "error = 0.029997615178900337\n",
      "loss = tensor(0.0445, device='cuda:0')\n",
      "i=  2001\n",
      "error = 0.024732974759686863\n",
      "loss = tensor(0.0221, device='cuda:0')\n",
      "i=  2501\n",
      "error = 0.02586907217254041\n",
      "loss = tensor(0.0143, device='cuda:0')\n",
      "i=  3001\n",
      "error = 0.030130791547631024\n",
      "loss = tensor(0.0129, device='cuda:0')\n",
      "i=  3501\n",
      "error = 0.027126863145252412\n",
      "loss = tensor(0.0089, device='cuda:0')\n",
      "i=  4001\n",
      "error = 0.026313264052232915\n",
      "loss = tensor(0.0075, device='cuda:0')\n",
      "i=  4501\n",
      "error = 0.018093822306694356\n",
      "loss = tensor(0.0106, device='cuda:0')\n",
      "i=  5001\n",
      "error = 0.030370958873976197\n",
      "loss = tensor(0.0063, device='cuda:0')\n",
      "i=  5501\n",
      "error = 0.026557464181439\n",
      "loss = tensor(0.0048, device='cuda:0')\n",
      "i=  6001\n",
      "error = 0.024448636701393595\n",
      "loss = tensor(0.0042, device='cuda:0')\n",
      "i=  6501\n",
      "error = 0.019776307857516804\n",
      "loss = tensor(0.0059, device='cuda:0')\n",
      "i=  7001\n",
      "error = 0.020045230120425868\n",
      "loss = tensor(0.0044, device='cuda:0')\n",
      "i=  7501\n",
      "error = 0.02262198619052177\n",
      "loss = tensor(0.0033, device='cuda:0')\n",
      "i=  8001\n",
      "error = 0.02373699896582484\n",
      "loss = tensor(0.0032, device='cuda:0')\n",
      "i=  8501\n",
      "error = 0.022783165665436592\n",
      "loss = tensor(0.0030, device='cuda:0')\n",
      "i=  9001\n",
      "error = 0.021533947646695795\n",
      "loss = tensor(0.0028, device='cuda:0')\n",
      "i=  9501\n",
      "error = 0.026013155814981963\n",
      "loss = tensor(0.0034, device='cuda:0')\n",
      "i=  10001\n",
      "error = 0.023229561487783608\n",
      "loss = tensor(0.0026, device='cuda:0')\n",
      "i=  10501\n",
      "error = 0.024963857982322576\n",
      "loss = tensor(0.0027, device='cuda:0')\n",
      "i=  11001\n",
      "error = 0.023370100944607848\n",
      "loss = tensor(0.0025, device='cuda:0')\n",
      "i=  11501\n",
      "error = 0.025979504824852933\n",
      "loss = tensor(0.0030, device='cuda:0')\n",
      "i=  12001\n",
      "error = 0.02129708325285012\n",
      "loss = tensor(0.0021, device='cuda:0')\n",
      "i=  12501\n",
      "error = 0.02286441195790643\n",
      "loss = tensor(0.0021, device='cuda:0')\n",
      "i=  13001\n",
      "error = 0.018800607187049137\n",
      "loss = tensor(0.0022, device='cuda:0')\n",
      "i=  13501\n",
      "error = 0.01935719398197468\n",
      "loss = tensor(0.0019, device='cuda:0')\n",
      "i=  14001\n",
      "error = 0.01914796629780423\n",
      "loss = tensor(0.0019, device='cuda:0')\n",
      "i=  14501\n",
      "error = 0.021908957823695955\n",
      "loss = tensor(0.0018, device='cuda:0')\n",
      "i=  15001\n",
      "error = 0.01932045056487659\n",
      "loss = tensor(0.0018, device='cuda:0')\n",
      "i=  15501\n",
      "error = 0.021613671915238924\n",
      "loss = tensor(0.0021, device='cuda:0')\n",
      "i=  16001\n",
      "error = 0.008711233193208332\n",
      "loss = tensor(0.0045, device='cuda:0')\n",
      "i=  16501\n",
      "error = 0.017849674732991927\n",
      "loss = tensor(0.0017, device='cuda:0')\n",
      "i=  17001\n",
      "error = 0.01894435179403121\n",
      "loss = tensor(0.0018, device='cuda:0')\n",
      "i=  17501\n",
      "error = 0.017257729030162473\n",
      "loss = tensor(0.0017, device='cuda:0')\n",
      "i=  18001\n",
      "error = 0.017220669361246523\n",
      "loss = tensor(0.0015, device='cuda:0')\n",
      "i=  18501\n",
      "error = 0.019128896250415466\n",
      "loss = tensor(0.0015, device='cuda:0')\n",
      "i=  19001\n",
      "error = 0.01585675876023267\n",
      "loss = tensor(0.0018, device='cuda:0')\n",
      "i=  19501\n",
      "error = 0.017859440159842643\n",
      "loss = tensor(0.0014, device='cuda:0')\n",
      "i=  20001\n",
      "error = 0.01539140797244686\n",
      "loss = tensor(0.0017, device='cuda:0')\n",
      "i=  20501\n",
      "error = 0.02018699034204814\n",
      "loss = tensor(0.0020, device='cuda:0')\n",
      "i=  21001\n",
      "error = 0.018501593954938132\n",
      "loss = tensor(0.0014, device='cuda:0')\n",
      "i=  21501\n",
      "error = 0.017402337971791266\n",
      "loss = tensor(0.0013, device='cuda:0')\n",
      "i=  22001\n",
      "error = 0.01651766554488405\n",
      "loss = tensor(0.0013, device='cuda:0')\n",
      "i=  22501\n",
      "error = 0.014411046443773612\n",
      "loss = tensor(0.0012, device='cuda:0')\n",
      "i=  23001\n",
      "error = 0.018471682940325813\n",
      "loss = tensor(0.0012, device='cuda:0')\n",
      "i=  23501\n",
      "error = 0.013420225168613329\n",
      "loss = tensor(0.0015, device='cuda:0')\n",
      "i=  24001\n",
      "error = 0.014270033197269593\n",
      "loss = tensor(0.0014, device='cuda:0')\n",
      "i=  24501\n",
      "error = 0.015908957938601007\n",
      "loss = tensor(0.0012, device='cuda:0')\n",
      "i=  25001\n",
      "error = 0.015704901671638564\n",
      "loss = tensor(0.0012, device='cuda:0')\n",
      "i=  25501\n",
      "error = 0.011526648967155802\n",
      "loss = tensor(0.0015, device='cuda:0')\n",
      "i=  26001\n",
      "error = 0.0174358912256517\n",
      "loss = tensor(0.0016, device='cuda:0')\n",
      "i=  26501\n",
      "error = 0.014708658842735868\n",
      "loss = tensor(0.0011, device='cuda:0')\n",
      "i=  27001\n",
      "error = 0.014167147425967048\n",
      "loss = tensor(0.0011, device='cuda:0')\n",
      "i=  27501\n",
      "error = 0.015701257718163397\n",
      "loss = tensor(0.0011, device='cuda:0')\n",
      "i=  28001\n",
      "error = 0.010408361705131765\n",
      "loss = tensor(0.0038, device='cuda:0')\n",
      "i=  28501\n",
      "error = 0.014548753425248515\n",
      "loss = tensor(0.0010, device='cuda:0')\n",
      "i=  29001\n",
      "error = 0.014018173275103971\n",
      "loss = tensor(0.0010, device='cuda:0')\n",
      "i=  29501\n",
      "error = 0.014716965646504581\n",
      "loss = tensor(0.0010, device='cuda:0')\n",
      "i=  30001\n",
      "error = 0.01719612226726579\n",
      "loss = tensor(0.0011, device='cuda:0')\n",
      "i=  30501\n",
      "error = 0.01749331978499638\n",
      "loss = tensor(0.0013, device='cuda:0')\n",
      "i=  31001\n",
      "error = 0.015778622961369643\n",
      "loss = tensor(0.0010, device='cuda:0')\n",
      "i=  31501\n",
      "error = 0.014240482177242672\n",
      "loss = tensor(0.0010, device='cuda:0')\n",
      "i=  32001\n",
      "error = 0.015072626643838755\n",
      "loss = tensor(0.0010, device='cuda:0')\n",
      "i=  32501\n",
      "error = 0.014368086278042612\n",
      "loss = tensor(0.0011, device='cuda:0')\n",
      "i=  33001\n",
      "error = 0.013234955446439751\n",
      "loss = tensor(0.0010, device='cuda:0')\n",
      "i=  33501\n",
      "error = 0.014326503115670195\n",
      "loss = tensor(0.0010, device='cuda:0')\n",
      "i=  34001\n",
      "error = 0.018292032061988883\n",
      "loss = tensor(0.0026, device='cuda:0')\n",
      "i=  34501\n",
      "error = 0.013023954181096638\n",
      "loss = tensor(0.0009, device='cuda:0')\n",
      "i=  35001\n",
      "error = 0.013320500579394495\n",
      "loss = tensor(0.0009, device='cuda:0')\n",
      "i=  35501\n",
      "error = 0.01271731441102709\n",
      "loss = tensor(0.0011, device='cuda:0')\n",
      "i=  36001\n",
      "error = 0.014208029386262156\n",
      "loss = tensor(0.0009, device='cuda:0')\n",
      "i=  36501\n",
      "error = 0.013498554395492477\n",
      "loss = tensor(0.0009, device='cuda:0')\n",
      "i=  37001\n",
      "error = 0.01412476699114383\n",
      "loss = tensor(0.0009, device='cuda:0')\n",
      "i=  37501\n",
      "error = 0.014849560131340082\n",
      "loss = tensor(0.0011, device='cuda:0')\n",
      "i=  38001\n",
      "error = 0.014466640053799825\n",
      "loss = tensor(0.0011, device='cuda:0')\n",
      "i=  38501\n",
      "error = 0.0133307247351596\n",
      "loss = tensor(0.0009, device='cuda:0')\n",
      "i=  39001\n",
      "error = 0.012520598688379386\n",
      "loss = tensor(0.0008, device='cuda:0')\n",
      "i=  39501\n",
      "error = 0.009943328753421347\n",
      "loss = tensor(0.0068, device='cuda:0')\n",
      "i=  40001\n",
      "error = 0.017560731798893683\n",
      "loss = tensor(0.0025, device='cuda:0')\n",
      "i=  40501\n",
      "error = 0.012619087932136275\n",
      "loss = tensor(0.0008, device='cuda:0')\n",
      "i=  41001\n",
      "error = 0.012828755046320984\n",
      "loss = tensor(0.0009, device='cuda:0')\n",
      "i=  41501\n",
      "error = 0.012854172697977652\n",
      "loss = tensor(0.0008, device='cuda:0')\n",
      "i=  42001\n",
      "error = 0.012632473588608964\n",
      "loss = tensor(0.0008, device='cuda:0')\n",
      "i=  42501\n",
      "error = 0.014470486081465228\n",
      "loss = tensor(0.0010, device='cuda:0')\n",
      "i=  43001\n",
      "error = 0.016404470815247003\n",
      "loss = tensor(0.0009, device='cuda:0')\n",
      "i=  43501\n",
      "error = 0.011264496041221013\n",
      "loss = tensor(0.0008, device='cuda:0')\n",
      "i=  44001\n",
      "error = 0.013407516513131918\n",
      "loss = tensor(0.0008, device='cuda:0')\n",
      "i=  44501\n",
      "error = 0.012646285928013099\n",
      "loss = tensor(0.0008, device='cuda:0')\n",
      "i=  45001\n",
      "error = 0.011118914834912102\n",
      "loss = tensor(0.0011, device='cuda:0')\n",
      "i=  45501\n",
      "error = 0.010755018938410861\n",
      "loss = tensor(0.0011, device='cuda:0')\n",
      "i=  46001\n",
      "error = 0.013851872972670128\n",
      "loss = tensor(0.0009, device='cuda:0')\n",
      "i=  46501\n",
      "error = 0.01324228897975639\n",
      "loss = tensor(0.0008, device='cuda:0')\n",
      "i=  47001\n",
      "error = 0.013572658907912438\n",
      "loss = tensor(0.0008, device='cuda:0')\n",
      "i=  47501\n",
      "error = 0.010971850916477763\n",
      "loss = tensor(0.0011, device='cuda:0')\n",
      "i=  48001\n",
      "error = 0.012499392840378742\n",
      "loss = tensor(0.0008, device='cuda:0')\n",
      "i=  48501\n",
      "error = 0.01089566352611168\n",
      "loss = tensor(0.0016, device='cuda:0')\n",
      "i=  49001\n",
      "error = 0.012841986157714591\n",
      "loss = tensor(0.0009, device='cuda:0')\n",
      "i=  49501\n",
      "error = 0.012641949412185752\n",
      "loss = tensor(0.0007, device='cuda:0')\n",
      "time cost 17338.608959674835 s\n"
     ]
    }
   ],
   "source": [
    "traintime = 50000\n",
    "error_save=np.zeros([3,traintime])\n",
    "optimizer = optim.Adam([\n",
    "                {'params': model_u1.parameters()},\n",
    "                {'params': model_p1.parameters()}\n",
    "            ])\n",
    "time_start=time.time()\n",
    "for i in range(traintime):\n",
    "    optimizer.zero_grad()\n",
    "    losses = MIM()+BC()\n",
    "    losses.backward()\n",
    "    optimizer.step() \n",
    "    error1,error2,error3=loss_error()\n",
    "    error_save[0,i]=float(error1)\n",
    "    error_save[1,i]=float(error2)\n",
    "    error_save[2,i]=float(error3)\n",
    "    if i%500==1:\n",
    "        print(\"i= \",i)\n",
    "        print(\"error =\",error1)\n",
    "        print(\"loss =\",losses.detach())\n",
    "        np.save(\"error_save_LDG_wave_2D_q_w10_v1.npy\", error_save)\n",
    "np.save(\"error_save_LDG_wave_2D_q_w10_v1.npy\", error_save)\n",
    "time_end=time.time()\n",
    "print('time cost',time_end-time_start,'s')"
   ]
  },
  {
   "cell_type": "code",
   "execution_count": 14,
   "metadata": {},
   "outputs": [],
   "source": [
    "import matplotlib.pyplot as plt\n",
    "error = np.load(\"error_save_LDG_wave_2D_q_w20.npy\")"
   ]
  },
  {
   "cell_type": "code",
   "execution_count": 15,
   "metadata": {},
   "outputs": [
    {
     "data": {
      "text/plain": [
       "[<matplotlib.lines.Line2D at 0x7efc90130810>]"
      ]
     },
     "execution_count": 15,
     "metadata": {},
     "output_type": "execute_result"
    },
    {
     "data": {
      "image/png": "[encoded data removed]",
      "text/plain": [
       "<Figure size 432x288 with 1 Axes>"
      ]
     },
     "metadata": {
      "needs_background": "light"
     },
     "output_type": "display_data"
    }
   ],
   "source": [
    "plt.plot(np.log10(error[1]))"
   ]
  },
  {
   "cell_type": "code",
   "execution_count": 16,
   "metadata": {},
   "outputs": [
    {
     "data": {
      "text/plain": [
       "[<matplotlib.lines.Line2D at 0x7efc853667d0>]"
      ]
     },
     "execution_count": 16,
     "metadata": {},
     "output_type": "execute_result"
    },
    {
     "data": {
      "image/png": "[encoded data removed]",
      "text/plain": [
       "<Figure size 432x288 with 1 Axes>"
      ]
     },
     "metadata": {
      "needs_background": "light"
     },
     "output_type": "display_data"
    }
   ],
   "source": [
    "plt.plot(np.log10(error[0]))"
   ]
  },
  {
   "cell_type": "code",
   "execution_count": 17,
   "metadata": {},
   "outputs": [
    {
     "data": {
      "text/plain": [
       "[<matplotlib.lines.Line2D at 0x7efc85215350>]"
      ]
     },
     "execution_count": 17,
     "metadata": {},
     "output_type": "execute_result"
    },
    {
     "data": {
      "image/png": "[encoded data removed]",
      "text/plain": [
       "<Figure size 432x288 with 1 Axes>"
      ]
     },
     "metadata": {
      "needs_background": "light"
     },
     "output_type": "display_data"
    }
   ],
   "source": [
    "plt.plot(np.log10(error[2]))"
   ]
  }
 ],
 "metadata": {
  "kernelspec": {
   "display_name": "Python 3",
   "language": "python",
   "name": "python3"
  },
  "language_info": {
   "codemirror_mode": {
    "name": "ipython",
    "version": 3
   },
   "file_extension": ".py",
   "mimetype": "text/x-python",
   "name": "python",
   "nbconvert_exporter": "python",
   "pygments_lexer": "ipython3",
   "version": "3.7.6"
  }
 },
 "nbformat": 4,
 "nbformat_minor": 4
}
