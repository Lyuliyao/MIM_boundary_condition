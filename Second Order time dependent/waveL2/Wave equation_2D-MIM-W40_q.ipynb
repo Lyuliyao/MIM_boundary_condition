{
 "cells": [
  {
   "cell_type": "code",
   "execution_count": 1,
   "metadata": {},
   "outputs": [],
   "source": [
    "import math\n",
    "import numpy as np\n",
    "import numpy.random as npr\n",
    "from numpy import linalg\n",
    "import torch\n",
    "import torch.nn as nn\n",
    "import torch.nn.functional as F\n",
    "from torch.utils import data\n",
    "from torch.utils.data import Dataset\n",
    "import torch.optim as optim\n",
    "import time\n",
    "from math import *\n",
    "torch.cuda.set_device(0)"
   ]
  },
  {
   "cell_type": "code",
   "execution_count": 2,
   "metadata": {},
   "outputs": [],
   "source": [
    "torch.set_default_tensor_type('torch.DoubleTensor')"
   ]
  },
  {
   "cell_type": "code",
   "execution_count": 3,
   "metadata": {},
   "outputs": [],
   "source": [
    "class ResNet(nn.Module):\n",
    "    def __init__(self,dim, m,o):\n",
    "        super(ResNet, self).__init__()\n",
    "        self.Ix = torch.zeros([dim,m]).cuda()\n",
    "        for i in range(dim):\n",
    "            self.Ix[i,i] = 1\n",
    "        self.fc1 = nn.Linear(dim, m)\n",
    "        self.fc2 = nn.Linear(m, m)\n",
    "        \n",
    "        self.fc3 = nn.Linear(m, m)\n",
    "        self.fc4 = nn.Linear(m, m)\n",
    " \n",
    "        \n",
    "        self.outlayer = nn.Linear(m, o)\n",
    "\n",
    "    def forward(self, x):\n",
    "        s = x@self.Ix\n",
    "        y = self.fc1(x)\n",
    "        y = F.relu(y)**deg\n",
    "        y = self.fc2(y)\n",
    "        y = F.relu(y)**deg\n",
    "        y = y+s\n",
    "        \n",
    "        s=y\n",
    "        y = self.fc3(y)\n",
    "        y = F.relu(y)**deg\n",
    "        y = self.fc4(y)\n",
    "        y = F.relu(y)**deg\n",
    "        y = y+s\n",
    "\n",
    "        \n",
    "        output = self.outlayer(y)\n",
    "        return output\n",
    "deg = 3"
   ]
  },
  {
   "cell_type": "code",
   "execution_count": 4,
   "metadata": {},
   "outputs": [],
   "source": [
    "def sol_exact(x):\n",
    "    sol = (x[:,0]**2*torch.sin(pi*x[:,1])*torch.sin(pi*x[:,2])).reshape(x.size()[0],1)\n",
    "    return sol"
   ]
  },
  {
   "cell_type": "code",
   "execution_count": 5,
   "metadata": {},
   "outputs": [],
   "source": [
    "def sol_exact_H1(x):\n",
    "    sol = torch.zeros(x.size()[0],4).cuda()\n",
    "    sol[:,0] = sol_exact(x).reshape(1,x.size()[0])\n",
    "    sol[:,1] = (2*x[:,0]*torch.sin(pi*x[:,1])*torch.sin(pi*x[:,2]))\n",
    "    sol[:,2] = (pi*x[:,0]**2*torch.cos(pi*x[:,1])*torch.sin(pi*x[:,2]))\n",
    "    sol[:,3] = (pi*x[:,0]**2*torch.sin(pi*x[:,1])*torch.cos(pi*x[:,2]))\n",
    "    return sol"
   ]
  },
  {
   "cell_type": "code",
   "execution_count": 6,
   "metadata": {},
   "outputs": [],
   "source": [
    "def source(x):\n",
    "    sol = (2*torch.sin(pi*x[:,1])*torch.sin(pi*x[:,2])).reshape(x.size()[0],1)\n",
    "    sol =  sol +  (2*pi**2*x[:,0]**2*torch.sin(pi*x[:,1])*torch.sin(pi*x[:,2])).reshape(x.size()[0],1)    \n",
    "    return sol"
   ]
  },
  {
   "cell_type": "code",
   "execution_count": 7,
   "metadata": {},
   "outputs": [],
   "source": [
    "Batch_size = 50000\n",
    "def MIM():\n",
    "    x = torch.rand(Batch_size,3).cuda()\n",
    "    x.requires_grad = True\n",
    "    u = model_u(x)\n",
    "    v = model_v(x)\n",
    "    p = model_p(x)\n",
    "    ve = torch.ones(u.shape).cuda()\n",
    "    Du = torch.autograd.grad(u,x,grad_outputs=ve,create_graph=True)[0]\n",
    "    Nv = Du[:,0].reshape(x.size()[0],1)\n",
    "    Np = Du[:,1:3].reshape(x.size()[0],2)\n",
    "    Dv = torch.autograd.grad(v,x,grad_outputs=ve,create_graph=True)[0]\n",
    "    v_t = Dv[:,0].reshape(x.size()[0],1)\n",
    "    uxx = torch.zeros(x.size()[0],1).cuda()\n",
    "    for i in range(2):\n",
    "        uxi = p[:,i].reshape(x.size()[0],1)\n",
    "        uxxi = torch.autograd.grad(uxi,x,grad_outputs=ve,create_graph=True)[0]\n",
    "        uxx = uxx + uxxi[:,i+1].reshape(x.size()[0],1)\n",
    "    loss = torch.sum( (Nv-v)**2 ) + torch.sum( (Np-p)**2 ) + torch.sum( (v_t - uxx - source(x))**2 )\n",
    "    return loss"
   ]
  },
  {
   "cell_type": "code",
   "execution_count": 8,
   "metadata": {},
   "outputs": [
    {
     "data": {
      "text/plain": [
       "ResNet(\n",
       "  (fc1): Linear(in_features=3, out_features=40, bias=True)\n",
       "  (fc2): Linear(in_features=40, out_features=40, bias=True)\n",
       "  (fc3): Linear(in_features=40, out_features=40, bias=True)\n",
       "  (fc4): Linear(in_features=40, out_features=40, bias=True)\n",
       "  (outlayer): Linear(in_features=40, out_features=2, bias=True)\n",
       ")"
      ]
     },
     "execution_count": 8,
     "metadata": {},
     "output_type": "execute_result"
    }
   ],
   "source": [
    "model_u1 = ResNet(3,40,1)\n",
    "model_v1 = ResNet(3,40,1)\n",
    "model_p1 = ResNet(3,40,2)\n",
    "device=torch.device(\"cuda:0\" )\n",
    "\n",
    "model_u1.to(device)\n",
    "model_v1.to(device)\n",
    "model_p1.to(device)"
   ]
  },
  {
   "cell_type": "code",
   "execution_count": 9,
   "metadata": {},
   "outputs": [],
   "source": [
    "def model_u(x):\n",
    "    return x[:,0:1]*(x*(1-x))[:,1:2]*(x*(1-x))[:,2:3]*model_u1(x)\n",
    "def model_v(x):\n",
    "    return x[:,0].reshape(x.size()[0],1)*model_v1(x)\n",
    "def model_p(x):\n",
    "    return model_p1(x)"
   ]
  },
  {
   "cell_type": "code",
   "execution_count": 10,
   "metadata": {},
   "outputs": [],
   "source": [
    "def initparam(model,sigma):\n",
    "    for m in model.modules():\n",
    "        if isinstance(m,nn.Linear):\n",
    "            m.weight.data.uniform_(-sigma,sigma)#全连接层参数初始化\n",
    "            m.bias.data.uniform_(0,sigma)\n",
    "    return model\n",
    "  "
   ]
  },
  {
   "cell_type": "code",
   "execution_count": 11,
   "metadata": {},
   "outputs": [],
   "source": [
    "notes = torch.rand(10000,3).cuda()\n",
    "notes[:,0] = 1\n",
    "exact = sol_exact_H1(notes)\n",
    "u_L2 = sqrt(torch.sum((exact[:,0])**2)/10000)\n",
    "v_L2 = sqrt(torch.sum(exact[:,1]**2)/10000)\n",
    "p_L2 = sqrt(torch.sum((exact[:,2:4])**2)/10000)\n",
    "def loss_error():\n",
    "    notes = torch.rand(10000,3).cuda()\n",
    "    notes[:,0] = 1\n",
    "    predict = torch.zeros(10000,4).cuda()\n",
    "    predict[:,0] = model_u(notes).reshape([1,notes.size()[0]])\n",
    "    predict[:,1] = model_v(notes).reshape([1,notes.size()[0]])\n",
    "    predict[:,2:4] = model_p(notes)\n",
    "    exact = sol_exact_H1(notes)\n",
    "    value1 = sqrt(torch.sum((exact[:,0] - predict[:,0])**2)/10000)/u_L2\n",
    "    value2 = sqrt(torch.sum((exact[:,1] - predict[:,1])**2)/10000)/v_L2\n",
    "    value3 =  sqrt(torch.sum((exact[:,2:4] - predict[:,2:4])**2)/10000)/p_L2\n",
    "    return value1,value2,value3"
   ]
  },
  {
   "cell_type": "code",
   "execution_count": 12,
   "metadata": {},
   "outputs": [
    {
     "name": "stdout",
     "output_type": "stream",
     "text": [
      "i=  1\n",
      "error = 1.0039352008480593\n",
      "loss = tensor(1403429.2079, device='cuda:0')\n",
      "i=  501\n",
      "error = 0.22276561941549797\n",
      "loss = tensor(3479.7325, device='cuda:0')\n",
      "i=  1001\n",
      "error = 0.1331880158700175\n",
      "loss = tensor(1421.2339, device='cuda:0')\n",
      "i=  1501\n",
      "error = 0.08087442234020838\n",
      "loss = tensor(903.8038, device='cuda:0')\n",
      "i=  2001\n",
      "error = 0.04065757545424944\n",
      "loss = tensor(538.3854, device='cuda:0')\n",
      "i=  2501\n",
      "error = 0.031002818156262112\n",
      "loss = tensor(574.7584, device='cuda:0')\n",
      "i=  3001\n",
      "error = 0.010009443186469813\n",
      "loss = tensor(1101.7987, device='cuda:0')\n",
      "i=  3501\n",
      "error = 0.007650724049328888\n",
      "loss = tensor(122.4722, device='cuda:0')\n",
      "i=  4001\n",
      "error = 0.006242847010961213\n",
      "loss = tensor(84.9077, device='cuda:0')\n",
      "i=  4501\n",
      "error = 0.006599835078662862\n",
      "loss = tensor(122.6765, device='cuda:0')\n",
      "i=  5001\n",
      "error = 0.009200808656138166\n",
      "loss = tensor(194.6125, device='cuda:0')\n",
      "i=  5501\n",
      "error = 0.008767305908550361\n",
      "loss = tensor(97.2909, device='cuda:0')\n",
      "i=  6001\n",
      "error = 0.009338214548799992\n",
      "loss = tensor(109.6723, device='cuda:0')\n",
      "i=  6501\n",
      "error = 0.0066289739177713\n",
      "loss = tensor(33.7210, device='cuda:0')\n",
      "i=  7001\n",
      "error = 0.010991299549157164\n",
      "loss = tensor(113.0068, device='cuda:0')\n",
      "i=  7501\n",
      "error = 0.00564415927855514\n",
      "loss = tensor(24.0548, device='cuda:0')\n",
      "i=  8001\n",
      "error = 0.005178979250930223\n",
      "loss = tensor(20.6004, device='cuda:0')\n",
      "i=  8501\n",
      "error = 0.0050204365394894675\n",
      "loss = tensor(18.5073, device='cuda:0')\n",
      "i=  9001\n",
      "error = 0.004789213898277228\n",
      "loss = tensor(17.5763, device='cuda:0')\n",
      "i=  9501\n",
      "error = 0.004850446134605934\n",
      "loss = tensor(27.4823, device='cuda:0')\n",
      "i=  10001\n",
      "error = 0.004560461031069717\n",
      "loss = tensor(18.4463, device='cuda:0')\n",
      "i=  10501\n",
      "error = 0.0040546362831043155\n",
      "loss = tensor(16.3397, device='cuda:0')\n",
      "i=  11001\n",
      "error = 0.003997542781973925\n",
      "loss = tensor(14.9098, device='cuda:0')\n",
      "i=  11501\n",
      "error = 0.003561165247188307\n",
      "loss = tensor(12.3195, device='cuda:0')\n",
      "i=  12001\n",
      "error = 0.006169651571410406\n",
      "loss = tensor(40.9676, device='cuda:0')\n",
      "i=  12501\n",
      "error = 0.00416929868764374\n",
      "loss = tensor(73.6556, device='cuda:0')\n",
      "i=  13001\n",
      "error = 0.004751358265892636\n",
      "loss = tensor(49.9218, device='cuda:0')\n",
      "i=  13501\n",
      "error = 0.0034401501864862387\n",
      "loss = tensor(12.5179, device='cuda:0')\n",
      "i=  14001\n",
      "error = 0.0034643921286414666\n",
      "loss = tensor(10.2642, device='cuda:0')\n",
      "i=  14501\n",
      "error = 0.0029387992404214494\n",
      "loss = tensor(11.8434, device='cuda:0')\n",
      "i=  15001\n",
      "error = 0.002625250080430484\n",
      "loss = tensor(6.9048, device='cuda:0')\n",
      "i=  15501\n",
      "error = 0.00284560894700312\n",
      "loss = tensor(8.4190, device='cuda:0')\n",
      "i=  16001\n",
      "error = 0.002400598807641567\n",
      "loss = tensor(6.5703, device='cuda:0')\n",
      "i=  16501\n",
      "error = 0.0023593235772611226\n",
      "loss = tensor(6.2525, device='cuda:0')\n",
      "i=  17001\n",
      "error = 0.0022343543263702455\n",
      "loss = tensor(7.9488, device='cuda:0')\n",
      "i=  17501\n",
      "error = 0.005858736192939946\n",
      "loss = tensor(319.8714, device='cuda:0')\n",
      "i=  18001\n",
      "error = 0.0021144292371863076\n",
      "loss = tensor(5.6235, device='cuda:0')\n",
      "i=  18501\n",
      "error = 0.003903658923309695\n",
      "loss = tensor(30.3999, device='cuda:0')\n",
      "i=  19001\n",
      "error = 0.0025624733991941703\n",
      "loss = tensor(11.6911, device='cuda:0')\n",
      "i=  19501\n",
      "error = 0.0027005569447728917\n",
      "loss = tensor(22.3411, device='cuda:0')\n",
      "i=  20001\n",
      "error = 0.002203313808439148\n",
      "loss = tensor(10.3739, device='cuda:0')\n",
      "i=  20501\n",
      "error = 0.002017728029812876\n",
      "loss = tensor(4.4324, device='cuda:0')\n",
      "i=  21001\n",
      "error = 0.0024825413485243535\n",
      "loss = tensor(4.9477, device='cuda:0')\n",
      "i=  21501\n",
      "error = 0.0018663908205615422\n",
      "loss = tensor(8.0082, device='cuda:0')\n",
      "i=  22001\n",
      "error = 0.007232477356603234\n",
      "loss = tensor(316.9520, device='cuda:0')\n",
      "i=  22501\n",
      "error = 0.0017760680925670508\n",
      "loss = tensor(3.6808, device='cuda:0')\n",
      "i=  23001\n",
      "error = 0.0018705122826689824\n",
      "loss = tensor(3.8975, device='cuda:0')\n",
      "i=  23501\n",
      "error = 0.0018502164553587657\n",
      "loss = tensor(18.5111, device='cuda:0')\n",
      "i=  24001\n",
      "error = 0.0017093545849260303\n",
      "loss = tensor(4.4185, device='cuda:0')\n",
      "i=  24501\n",
      "error = 0.0016334584003066608\n",
      "loss = tensor(3.3946, device='cuda:0')\n",
      "i=  25001\n",
      "error = 0.0016137049679221705\n",
      "loss = tensor(3.3167, device='cuda:0')\n",
      "i=  25501\n",
      "error = 0.0022061992422147303\n",
      "loss = tensor(18.3155, device='cuda:0')\n",
      "i=  26001\n",
      "error = 0.0017061760724115787\n",
      "loss = tensor(3.7833, device='cuda:0')\n",
      "i=  26501\n",
      "error = 0.0015690997320236607\n",
      "loss = tensor(3.1423, device='cuda:0')\n",
      "i=  27001\n",
      "error = 0.0016211908260192471\n",
      "loss = tensor(5.9332, device='cuda:0')\n",
      "i=  27501\n",
      "error = 0.003569984911279034\n",
      "loss = tensor(5.8500, device='cuda:0')\n",
      "i=  28001\n",
      "error = 0.0031707849466947823\n",
      "loss = tensor(23.1918, device='cuda:0')\n",
      "i=  28501\n",
      "error = 0.0021966319060318026\n",
      "loss = tensor(18.8706, device='cuda:0')\n",
      "i=  29001\n",
      "error = 0.0016269572494718822\n",
      "loss = tensor(2.6933, device='cuda:0')\n",
      "i=  29501\n",
      "error = 0.0016318028425003712\n",
      "loss = tensor(3.0312, device='cuda:0')\n",
      "i=  30001\n",
      "error = 0.0014070127461609974\n",
      "loss = tensor(2.4308, device='cuda:0')\n",
      "i=  30501\n",
      "error = 0.0014028096287510207\n",
      "loss = tensor(2.4608, device='cuda:0')\n",
      "i=  31001\n",
      "error = 0.006986127191787595\n",
      "loss = tensor(78.0861, device='cuda:0')\n",
      "i=  31501\n",
      "error = 0.0023321181766859573\n",
      "loss = tensor(16.2243, device='cuda:0')\n",
      "i=  32001\n",
      "error = 0.0016402295843988375\n",
      "loss = tensor(2.7024, device='cuda:0')\n",
      "i=  32501\n",
      "error = 0.004918943728572854\n",
      "loss = tensor(87.8765, device='cuda:0')\n",
      "i=  33001\n",
      "error = 0.0013596983209289315\n",
      "loss = tensor(3.7036, device='cuda:0')\n",
      "i=  33501\n",
      "error = 0.0014415859744143027\n",
      "loss = tensor(2.5624, device='cuda:0')\n",
      "i=  34001\n",
      "error = 0.002556518776053127\n",
      "loss = tensor(18.6295, device='cuda:0')\n",
      "i=  34501\n",
      "error = 0.004727935801022753\n",
      "loss = tensor(86.7564, device='cuda:0')\n",
      "i=  35001\n",
      "error = 0.0013224828848529188\n",
      "loss = tensor(3.1121, device='cuda:0')\n",
      "i=  35501\n",
      "error = 0.0012402460214790472\n",
      "loss = tensor(1.9818, device='cuda:0')\n",
      "i=  36001\n",
      "error = 0.002747909887150675\n",
      "loss = tensor(40.1396, device='cuda:0')\n",
      "i=  36501\n",
      "error = 0.0013237497670681466\n",
      "loss = tensor(2.0456, device='cuda:0')\n",
      "i=  37001\n",
      "error = 0.001993961920010596\n",
      "loss = tensor(5.3557, device='cuda:0')\n",
      "i=  37501\n",
      "error = 0.0013521130869291068\n",
      "loss = tensor(1.8489, device='cuda:0')\n",
      "i=  38001\n",
      "error = 0.0013762211850988021\n",
      "loss = tensor(1.7716, device='cuda:0')\n",
      "i=  38501\n",
      "error = 0.001336001302379321\n",
      "loss = tensor(1.6537, device='cuda:0')\n",
      "i=  39001\n",
      "error = 0.0013542657920691966\n",
      "loss = tensor(1.6117, device='cuda:0')\n",
      "i=  39501\n",
      "error = 0.0013369145695847943\n",
      "loss = tensor(1.7038, device='cuda:0')\n",
      "i=  40001\n",
      "error = 0.004317743396313375\n",
      "loss = tensor(99.6831, device='cuda:0')\n",
      "i=  40501\n",
      "error = 0.0016624935086272728\n",
      "loss = tensor(8.0419, device='cuda:0')\n",
      "i=  41001\n",
      "error = 0.0011309809948718322\n",
      "loss = tensor(1.4668, device='cuda:0')\n",
      "i=  41501\n",
      "error = 0.0013963858287092809\n",
      "loss = tensor(2.4066, device='cuda:0')\n",
      "i=  42001\n",
      "error = 0.006887515366280177\n",
      "loss = tensor(205.5790, device='cuda:0')\n",
      "i=  42501\n",
      "error = 0.001741823823450546\n",
      "loss = tensor(5.6152, device='cuda:0')\n",
      "i=  43001\n",
      "error = 0.0020770570728016555\n",
      "loss = tensor(3.5640, device='cuda:0')\n",
      "i=  43501\n",
      "error = 0.0016259939195983023\n",
      "loss = tensor(3.2601, device='cuda:0')\n",
      "i=  44001\n",
      "error = 0.0017693109457230032\n",
      "loss = tensor(13.4199, device='cuda:0')\n",
      "i=  44501\n",
      "error = 0.0012781910067198394\n",
      "loss = tensor(1.7143, device='cuda:0')\n",
      "i=  45001\n",
      "error = 0.0019197649946001006\n",
      "loss = tensor(5.2324, device='cuda:0')\n",
      "i=  45501\n",
      "error = 0.001186133216028876\n",
      "loss = tensor(1.7313, device='cuda:0')\n",
      "i=  46001\n",
      "error = 0.0011985879630403708\n",
      "loss = tensor(10.3222, device='cuda:0')\n",
      "i=  46501\n",
      "error = 0.0013254730641165979\n",
      "loss = tensor(3.3738, device='cuda:0')\n",
      "i=  47001\n",
      "error = 0.0011217092035296996\n",
      "loss = tensor(1.2417, device='cuda:0')\n",
      "i=  47501\n",
      "error = 0.0030257106614589497\n",
      "loss = tensor(33.5398, device='cuda:0')\n",
      "i=  48001\n",
      "error = 0.00375683668900443\n",
      "loss = tensor(83.7048, device='cuda:0')\n",
      "i=  48501\n",
      "error = 0.0011301782142267038\n",
      "loss = tensor(1.7120, device='cuda:0')\n",
      "i=  49001\n",
      "error = 0.0012398227161479342\n",
      "loss = tensor(1.1918, device='cuda:0')\n",
      "i=  49501\n",
      "error = 0.0010890426137403037\n",
      "loss = tensor(1.4321, device='cuda:0')\n",
      "time cost 11883.424483776093 s\n"
     ]
    }
   ],
   "source": [
    "traintime = 50000\n",
    "error_save=np.zeros([3,traintime])\n",
    "optimizer = optim.Adam([\n",
    "                {'params': model_u1.parameters()},\n",
    "                {'params': model_v1.parameters()},\n",
    "                {'params': model_p1.parameters()}\n",
    "            ])\n",
    "time_start=time.time()\n",
    "for i in range(traintime):\n",
    "    optimizer.zero_grad()\n",
    "    losses = MIM()\n",
    "    losses.backward()\n",
    "    optimizer.step() \n",
    "    error1,error2,error3=loss_error()\n",
    "    error_save[0,i]=float(error1)\n",
    "    error_save[1,i]=float(error2)\n",
    "    error_save[2,i]=float(error3)\n",
    "    if i%500==1:\n",
    "        print(\"i= \",i)\n",
    "        print(\"error =\",error1)\n",
    "\n",
    "        print(\"loss =\",losses.detach())\n",
    "        np.save(\"error_save_LDG_wave_2D_q_w40.npy\", error_save)\n",
    "np.save(\"error_save_LDG_wave_2D_q_w40.npy\", error_save)\n",
    "time_end=time.time()\n",
    "print('time cost',time_end-time_start,'s')"
   ]
  },
  {
   "cell_type": "code",
   "execution_count": 13,
   "metadata": {},
   "outputs": [],
   "source": [
    "import matplotlib.pyplot as plt\n",
    "error = np.load(\"error_save_LDG_wave_2D_q_w40.npy\")"
   ]
  },
  {
   "cell_type": "code",
   "execution_count": 14,
   "metadata": {},
   "outputs": [
    {
     "data": {
      "text/plain": [
       "[<matplotlib.lines.Line2D at 0x7f391203aa10>]"
      ]
     },
     "execution_count": 14,
     "metadata": {},
     "output_type": "execute_result"
    },
    {
     "data": {
      "image/png": "[encoded data removed]",
      "text/plain": [
       "<Figure size 432x288 with 1 Axes>"
      ]
     },
     "metadata": {
      "needs_background": "light"
     },
     "output_type": "display_data"
    }
   ],
   "source": [
    "plt.plot(np.log10(error[1]))"
   ]
  },
  {
   "cell_type": "code",
   "execution_count": 15,
   "metadata": {},
   "outputs": [
    {
     "data": {
      "text/plain": [
       "[<matplotlib.lines.Line2D at 0x7f38d41c9490>]"
      ]
     },
     "execution_count": 15,
     "metadata": {},
     "output_type": "execute_result"
    },
    {
     "data": {
      "image/png": "[encoded data removed]",
      "text/plain": [
       "<Figure size 432x288 with 1 Axes>"
      ]
     },
     "metadata": {
      "needs_background": "light"
     },
     "output_type": "display_data"
    }
   ],
   "source": [
    "plt.plot(np.log10(error[0]))"
   ]
  },
  {
   "cell_type": "code",
   "execution_count": 16,
   "metadata": {},
   "outputs": [
    {
     "data": {
      "text/plain": [
       "[<matplotlib.lines.Line2D at 0x7f38d41bf790>]"
      ]
     },
     "execution_count": 16,
     "metadata": {},
     "output_type": "execute_result"
    },
    {
     "data": {
      "image/png": "[encoded data removed]",
      "text/plain": [
       "<Figure size 432x288 with 1 Axes>"
      ]
     },
     "metadata": {
      "needs_background": "light"
     },
     "output_type": "display_data"
    }
   ],
   "source": [
    "plt.plot(np.log10(error[2]))"
   ]
  },
  {
   "cell_type": "code",
   "execution_count": null,
   "metadata": {},
   "outputs": [],
   "source": []
  }
 ],
 "metadata": {
  "kernelspec": {
   "display_name": "Python 3",
   "language": "python",
   "name": "python3"
  },
  "language_info": {
   "codemirror_mode": {
    "name": "ipython",
    "version": 3
   },
   "file_extension": ".py",
   "mimetype": "text/x-python",
   "name": "python",
   "nbconvert_exporter": "python",
   "pygments_lexer": "ipython3",
   "version": "3.7.6"
  }
 },
 "nbformat": 4,
 "nbformat_minor": 4
}
