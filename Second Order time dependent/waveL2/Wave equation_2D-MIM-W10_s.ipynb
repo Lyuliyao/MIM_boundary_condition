{
 "cells": [
  {
   "cell_type": "code",
   "execution_count": 1,
   "metadata": {},
   "outputs": [],
   "source": [
    "import math\n",
    "import numpy as np\n",
    "import numpy.random as npr\n",
    "from numpy import linalg\n",
    "import torch\n",
    "import torch.nn as nn\n",
    "import torch.nn.functional as F\n",
    "from torch.utils import data\n",
    "from torch.utils.data import Dataset\n",
    "import torch.optim as optim\n",
    "import time\n",
    "from math import *\n",
    "torch.cuda.set_device(1)"
   ]
  },
  {
   "cell_type": "code",
   "execution_count": 2,
   "metadata": {},
   "outputs": [],
   "source": [
    "torch.set_default_tensor_type('torch.DoubleTensor')"
   ]
  },
  {
   "cell_type": "code",
   "execution_count": 3,
   "metadata": {},
   "outputs": [],
   "source": [
    "class ResNet(nn.Module):\n",
    "    def __init__(self,dim, m,o):\n",
    "        super(ResNet, self).__init__()\n",
    "        self.Ix = torch.zeros([dim,m]).cuda()\n",
    "        for i in range(dim):\n",
    "            self.Ix[i,i] = 1\n",
    "        self.fc1 = nn.Linear(dim, m)\n",
    "        self.fc2 = nn.Linear(m, m)\n",
    "        \n",
    "        self.fc3 = nn.Linear(m, m)\n",
    "        self.fc4 = nn.Linear(m, m)\n",
    " \n",
    "        \n",
    "        self.outlayer = nn.Linear(m, o)\n",
    "\n",
    "    def forward(self, x):\n",
    "        s = x@self.Ix\n",
    "        y = self.fc1(x)\n",
    "        y = F.relu(y)**deg\n",
    "        y = self.fc2(y)\n",
    "        y = F.relu(y)**deg\n",
    "        y = y+s\n",
    "        \n",
    "        s=y\n",
    "        y = self.fc3(y)\n",
    "        y = F.relu(y)**deg\n",
    "        y = self.fc4(y)\n",
    "        y = F.relu(y)**deg\n",
    "        y = y+s\n",
    "\n",
    "        \n",
    "        output = self.outlayer(y)\n",
    "        return output\n",
    "deg = 2"
   ]
  },
  {
   "cell_type": "code",
   "execution_count": 4,
   "metadata": {},
   "outputs": [],
   "source": [
    "def sol_exact(x):\n",
    "    sol = (x[:,0]**2*torch.sin(pi*x[:,1])*torch.sin(pi*x[:,2])).reshape(x.size()[0],1)\n",
    "    return sol"
   ]
  },
  {
   "cell_type": "code",
   "execution_count": 5,
   "metadata": {},
   "outputs": [],
   "source": [
    "def sol_exact_H1(x):\n",
    "    sol = torch.zeros(x.size()[0],4).cuda()\n",
    "    sol[:,0] = sol_exact(x).reshape(1,x.size()[0])\n",
    "    sol[:,1] = (2*x[:,0]*torch.sin(pi*x[:,1])*torch.sin(pi*x[:,2]))\n",
    "    sol[:,2] = (pi*x[:,0]**2*torch.cos(pi*x[:,1])*torch.sin(pi*x[:,2]))\n",
    "    sol[:,3] = (pi*x[:,0]**2*torch.sin(pi*x[:,1])*torch.cos(pi*x[:,2]))\n",
    "    return sol"
   ]
  },
  {
   "cell_type": "code",
   "execution_count": 6,
   "metadata": {},
   "outputs": [],
   "source": [
    "def source(x):\n",
    "    sol = (2*torch.sin(pi*x[:,1])*torch.sin(pi*x[:,2])).reshape(x.size()[0],1)\n",
    "    sol =  sol +  (2*pi**2*x[:,0]**2*torch.sin(pi*x[:,1])*torch.sin(pi*x[:,2])).reshape(x.size()[0],1)    \n",
    "    return sol"
   ]
  },
  {
   "cell_type": "code",
   "execution_count": 7,
   "metadata": {},
   "outputs": [],
   "source": [
    "Batch_size = 50000\n",
    "def MIM():\n",
    "    x = torch.rand(Batch_size,3).cuda()\n",
    "    x.requires_grad = True\n",
    "    u = model_u(x)\n",
    "    v = model_v(x)\n",
    "    p = model_p(x)\n",
    "    ve = torch.ones(u.shape).cuda()\n",
    "    Du = torch.autograd.grad(u,x,grad_outputs=ve,create_graph=True)[0]\n",
    "    Nv = Du[:,0].reshape(x.size()[0],1)\n",
    "    Np = Du[:,1:3].reshape(x.size()[0],2)\n",
    "    Dv = torch.autograd.grad(v,x,grad_outputs=ve,create_graph=True)[0]\n",
    "    v_t = Dv[:,0].reshape(x.size()[0],1)\n",
    "    uxx = torch.zeros(x.size()[0],1).cuda()\n",
    "    for i in range(2):\n",
    "        uxi = p[:,i].reshape(x.size()[0],1)\n",
    "        uxxi = torch.autograd.grad(uxi,x,grad_outputs=ve,create_graph=True)[0]\n",
    "        uxx = uxx + uxxi[:,i+1].reshape(x.size()[0],1)\n",
    "    loss = torch.sum( (Nv-v)**2 ) + torch.sum( (Np-p)**2 ) + torch.sum( (v_t - uxx - source(x))**2 )\n",
    "    return loss"
   ]
  },
  {
   "cell_type": "code",
   "execution_count": 8,
   "metadata": {},
   "outputs": [
    {
     "data": {
      "text/plain": [
       "ResNet(\n",
       "  (fc1): Linear(in_features=3, out_features=10, bias=True)\n",
       "  (fc2): Linear(in_features=10, out_features=10, bias=True)\n",
       "  (fc3): Linear(in_features=10, out_features=10, bias=True)\n",
       "  (fc4): Linear(in_features=10, out_features=10, bias=True)\n",
       "  (outlayer): Linear(in_features=10, out_features=2, bias=True)\n",
       ")"
      ]
     },
     "execution_count": 8,
     "metadata": {},
     "output_type": "execute_result"
    }
   ],
   "source": [
    "model_u1 = ResNet(3,10,1)\n",
    "model_v1 = ResNet(3,10,1)\n",
    "model_p1 = ResNet(3,10,2)\n",
    "device=torch.device(\"cuda:1\" )\n",
    "\n",
    "model_u1.to(device)\n",
    "model_v1.to(device)\n",
    "model_p1.to(device)"
   ]
  },
  {
   "cell_type": "code",
   "execution_count": 9,
   "metadata": {},
   "outputs": [],
   "source": [
    "def model_u(x):\n",
    "    return x[:,0:1]*(x*(1-x))[:,1:2]*(x*(1-x))[:,2:3]*model_u1(x)\n",
    "def model_v(x):\n",
    "    return x[:,0].reshape(x.size()[0],1)*model_v1(x)\n",
    "def model_p(x):\n",
    "    return model_p1(x)"
   ]
  },
  {
   "cell_type": "code",
   "execution_count": 10,
   "metadata": {},
   "outputs": [],
   "source": [
    "def initparam(model,sigma):\n",
    "    for m in model.modules():\n",
    "        if isinstance(m,nn.Linear):\n",
    "            m.weight.data.uniform_(-sigma,sigma)#全连接层参数初始化\n",
    "            m.bias.data.uniform_(0,sigma)\n",
    "    return model\n",
    "  "
   ]
  },
  {
   "cell_type": "code",
   "execution_count": 11,
   "metadata": {},
   "outputs": [],
   "source": [
    "notes = torch.rand(10000,3).cuda()\n",
    "notes[:,0] = 1\n",
    "exact = sol_exact_H1(notes)\n",
    "u_L2 = sqrt(torch.sum((exact[:,0])**2)/10000)\n",
    "v_L2 = sqrt(torch.sum(exact[:,1]**2)/10000)\n",
    "p_L2 = sqrt(torch.sum((exact[:,2:4])**2)/10000)\n",
    "def loss_error():\n",
    "    notes = torch.rand(10000,3).cuda()\n",
    "    notes[:,0] = 1\n",
    "    predict = torch.zeros(10000,4).cuda()\n",
    "    predict[:,0] = model_u(notes).reshape([1,notes.size()[0]])\n",
    "    predict[:,1] = model_v(notes).reshape([1,notes.size()[0]])\n",
    "    predict[:,2:4] = model_p(notes)\n",
    "    exact = sol_exact_H1(notes)\n",
    "    value1 = sqrt(torch.sum((exact[:,0] - predict[:,0])**2)/10000)/u_L2\n",
    "    value2 = sqrt(torch.sum((exact[:,1] - predict[:,1])**2)/10000)/v_L2\n",
    "    value3 =  sqrt(torch.sum((exact[:,2:4] - predict[:,2:4])**2)/10000)/p_L2\n",
    "    return value1,value2,value3"
   ]
  },
  {
   "cell_type": "code",
   "execution_count": 12,
   "metadata": {},
   "outputs": [
    {
     "name": "stdout",
     "output_type": "stream",
     "text": [
      "i=  1\n",
      "error = 0.9923191053892922\n",
      "loss = tensor(1148469.8249, device='cuda:1')\n",
      "i=  501\n",
      "error = 0.18800051447152577\n",
      "loss = tensor(8723.3367, device='cuda:1')\n",
      "i=  1001\n",
      "error = 0.14921641895123341\n",
      "loss = tensor(3422.5490, device='cuda:1')\n",
      "i=  1501\n",
      "error = 0.09723581777304503\n",
      "loss = tensor(1591.4113, device='cuda:1')\n",
      "i=  2001\n",
      "error = 0.05673068257196748\n",
      "loss = tensor(941.9042, device='cuda:1')\n",
      "i=  2501\n",
      "error = 0.03958796714847235\n",
      "loss = tensor(692.9458, device='cuda:1')\n",
      "i=  3001\n",
      "error = 0.02535949330969184\n",
      "loss = tensor(541.3349, device='cuda:1')\n",
      "i=  3501\n",
      "error = 0.02394641259646063\n",
      "loss = tensor(509.9280, device='cuda:1')\n",
      "i=  4001\n",
      "error = 0.018030990050777372\n",
      "loss = tensor(407.8438, device='cuda:1')\n",
      "i=  4501\n",
      "error = 0.016386408217024924\n",
      "loss = tensor(375.0905, device='cuda:1')\n",
      "i=  5001\n",
      "error = 0.014382524346278276\n",
      "loss = tensor(348.5181, device='cuda:1')\n",
      "i=  5501\n",
      "error = 0.01446177430251014\n",
      "loss = tensor(327.3837, device='cuda:1')\n",
      "i=  6001\n",
      "error = 0.012300380820035548\n",
      "loss = tensor(287.7009, device='cuda:1')\n",
      "i=  6501\n",
      "error = 0.011849284311726521\n",
      "loss = tensor(267.8984, device='cuda:1')\n",
      "i=  7001\n",
      "error = 0.01068698312435755\n",
      "loss = tensor(242.1847, device='cuda:1')\n",
      "i=  7501\n",
      "error = 0.010376925622503464\n",
      "loss = tensor(222.4977, device='cuda:1')\n",
      "i=  8001\n",
      "error = 0.009744434815548845\n",
      "loss = tensor(208.7216, device='cuda:1')\n",
      "i=  8501\n",
      "error = 0.009475692883766\n",
      "loss = tensor(196.0871, device='cuda:1')\n",
      "i=  9001\n",
      "error = 0.008872999857990133\n",
      "loss = tensor(183.0418, device='cuda:1')\n",
      "i=  9501\n",
      "error = 0.008330730639568632\n",
      "loss = tensor(173.4099, device='cuda:1')\n",
      "i=  10001\n",
      "error = 0.00847296105917644\n",
      "loss = tensor(164.8511, device='cuda:1')\n",
      "i=  10501\n",
      "error = 0.008959749221509921\n",
      "loss = tensor(218.6899, device='cuda:1')\n",
      "i=  11001\n",
      "error = 0.007475756587256193\n",
      "loss = tensor(263.6846, device='cuda:1')\n",
      "i=  11501\n",
      "error = 0.01134669846872478\n",
      "loss = tensor(237.9590, device='cuda:1')\n",
      "i=  12001\n",
      "error = 0.007500822849108718\n",
      "loss = tensor(156.9201, device='cuda:1')\n",
      "i=  12501\n",
      "error = 0.00840018740105321\n",
      "loss = tensor(130.0754, device='cuda:1')\n",
      "i=  13001\n",
      "error = 0.008634633054319205\n",
      "loss = tensor(127.0894, device='cuda:1')\n",
      "i=  13501\n",
      "error = 0.0073364613992553335\n",
      "loss = tensor(132.9308, device='cuda:1')\n",
      "i=  14001\n",
      "error = 0.009730415160470407\n",
      "loss = tensor(119.1879, device='cuda:1')\n",
      "i=  14501\n",
      "error = 0.008296317107535124\n",
      "loss = tensor(115.5372, device='cuda:1')\n",
      "i=  15001\n",
      "error = 0.008487108810575286\n",
      "loss = tensor(112.2215, device='cuda:1')\n",
      "i=  15501\n",
      "error = 0.00809057614852046\n",
      "loss = tensor(108.6917, device='cuda:1')\n",
      "i=  16001\n",
      "error = 0.007405594514445793\n",
      "loss = tensor(129.0875, device='cuda:1')\n",
      "i=  16501\n",
      "error = 0.00826468219220154\n",
      "loss = tensor(104.1516, device='cuda:1')\n",
      "i=  17001\n",
      "error = 0.0071288036413501045\n",
      "loss = tensor(115.6734, device='cuda:1')\n",
      "i=  17501\n",
      "error = 0.014612322479956436\n",
      "loss = tensor(255.4193, device='cuda:1')\n",
      "i=  18001\n",
      "error = 0.008195525184360451\n",
      "loss = tensor(96.2072, device='cuda:1')\n",
      "i=  18501\n",
      "error = 0.007207602657606338\n",
      "loss = tensor(98.3271, device='cuda:1')\n",
      "i=  19001\n",
      "error = 0.006760574742187802\n",
      "loss = tensor(105.8047, device='cuda:1')\n",
      "i=  19501\n",
      "error = 0.007600203759948874\n",
      "loss = tensor(92.4059, device='cuda:1')\n",
      "i=  20001\n",
      "error = 0.006274990924983282\n",
      "loss = tensor(114.8474, device='cuda:1')\n",
      "i=  20501\n",
      "error = 0.008590638354257208\n",
      "loss = tensor(94.7397, device='cuda:1')\n",
      "i=  21001\n",
      "error = 0.008855956468598653\n",
      "loss = tensor(85.7549, device='cuda:1')\n",
      "i=  21501\n",
      "error = 0.00752546269956289\n",
      "loss = tensor(85.8713, device='cuda:1')\n",
      "i=  22001\n",
      "error = 0.009400143514348078\n",
      "loss = tensor(86.3734, device='cuda:1')\n",
      "i=  22501\n",
      "error = 0.01078364828901393\n",
      "loss = tensor(130.4449, device='cuda:1')\n",
      "i=  23001\n",
      "error = 0.008546308592754091\n",
      "loss = tensor(80.4549, device='cuda:1')\n",
      "i=  23501\n",
      "error = 0.008739226038220263\n",
      "loss = tensor(77.3029, device='cuda:1')\n",
      "i=  24001\n",
      "error = 0.007395427023641516\n",
      "loss = tensor(81.4398, device='cuda:1')\n",
      "i=  24501\n",
      "error = 0.007390392445643036\n",
      "loss = tensor(77.2278, device='cuda:1')\n",
      "i=  25001\n",
      "error = 0.009952894331645543\n",
      "loss = tensor(101.5291, device='cuda:1')\n",
      "i=  25501\n",
      "error = 0.00864993529827626\n",
      "loss = tensor(77.9083, device='cuda:1')\n",
      "i=  26001\n",
      "error = 0.008618542780933536\n",
      "loss = tensor(72.2885, device='cuda:1')\n",
      "i=  26501\n",
      "error = 0.007139903357322364\n",
      "loss = tensor(74.5276, device='cuda:1')\n",
      "i=  27001\n",
      "error = 0.008975159414478701\n",
      "loss = tensor(83.7208, device='cuda:1')\n",
      "i=  27501\n",
      "error = 0.007678910851847621\n",
      "loss = tensor(69.3202, device='cuda:1')\n",
      "i=  28001\n",
      "error = 0.00758857712155186\n",
      "loss = tensor(68.3403, device='cuda:1')\n",
      "i=  28501\n",
      "error = 0.007624968568003597\n",
      "loss = tensor(67.1713, device='cuda:1')\n",
      "i=  29001\n",
      "error = 0.007493401392080875\n",
      "loss = tensor(69.9588, device='cuda:1')\n",
      "i=  29501\n",
      "error = 0.008831112502952874\n",
      "loss = tensor(66.7275, device='cuda:1')\n",
      "i=  30001\n",
      "error = 0.006355873832845761\n",
      "loss = tensor(69.1962, device='cuda:1')\n",
      "i=  30501\n",
      "error = 0.006521252849863153\n",
      "loss = tensor(70.7357, device='cuda:1')\n",
      "i=  31001\n",
      "error = 0.007732595996423344\n",
      "loss = tensor(63.3514, device='cuda:1')\n",
      "i=  31501\n",
      "error = 0.007355941261879137\n",
      "loss = tensor(62.4536, device='cuda:1')\n",
      "i=  32001\n",
      "error = 0.008275318157188951\n",
      "loss = tensor(85.0444, device='cuda:1')\n",
      "i=  32501\n",
      "error = 0.01192764850264588\n",
      "loss = tensor(121.7583, device='cuda:1')\n",
      "i=  33001\n",
      "error = 0.0056381098865487325\n",
      "loss = tensor(66.9023, device='cuda:1')\n",
      "i=  33501\n",
      "error = 0.004966170706899673\n",
      "loss = tensor(93.5194, device='cuda:1')\n",
      "i=  34001\n",
      "error = 0.00760908217217477\n",
      "loss = tensor(58.3876, device='cuda:1')\n",
      "i=  34501\n",
      "error = 0.007032563348310539\n",
      "loss = tensor(59.3515, device='cuda:1')\n",
      "i=  35001\n",
      "error = 0.005291067594207794\n",
      "loss = tensor(80.5017, device='cuda:1')\n",
      "i=  35501\n",
      "error = 0.006723894849045437\n",
      "loss = tensor(57.6265, device='cuda:1')\n",
      "i=  36001\n",
      "error = 0.00965369874990556\n",
      "loss = tensor(74.3870, device='cuda:1')\n",
      "i=  36501\n",
      "error = 0.007362105193214602\n",
      "loss = tensor(54.9597, device='cuda:1')\n",
      "i=  37001\n",
      "error = 0.007514122940779567\n",
      "loss = tensor(54.1043, device='cuda:1')\n",
      "i=  37501\n",
      "error = 0.009138788371375613\n",
      "loss = tensor(66.4669, device='cuda:1')\n",
      "i=  38001\n",
      "error = 0.008137090354636018\n",
      "loss = tensor(60.6239, device='cuda:1')\n",
      "i=  38501\n",
      "error = 0.007797929864626176\n",
      "loss = tensor(55.2842, device='cuda:1')\n",
      "i=  39001\n",
      "error = 0.005441044621361625\n",
      "loss = tensor(75.4986, device='cuda:1')\n",
      "i=  39501\n",
      "error = 0.004835276536050384\n",
      "loss = tensor(91.2825, device='cuda:1')\n",
      "i=  40001\n",
      "error = 0.00422470378113884\n",
      "loss = tensor(97.8681, device='cuda:1')\n",
      "i=  40501\n",
      "error = 0.008853306777151754\n",
      "loss = tensor(54.8305, device='cuda:1')\n",
      "i=  41001\n",
      "error = 0.006877710925251385\n",
      "loss = tensor(50.8352, device='cuda:1')\n",
      "i=  41501\n",
      "error = 0.007342839401149612\n",
      "loss = tensor(49.8565, device='cuda:1')\n",
      "i=  42001\n",
      "error = 0.00733402446224959\n",
      "loss = tensor(49.1862, device='cuda:1')\n",
      "i=  42501\n",
      "error = 0.006176936267760201\n",
      "loss = tensor(50.5571, device='cuda:1')\n",
      "i=  43001\n",
      "error = 0.007157291763835092\n",
      "loss = tensor(48.4522, device='cuda:1')\n",
      "i=  43501\n",
      "error = 0.00823611043850614\n",
      "loss = tensor(49.8012, device='cuda:1')\n",
      "i=  44001\n",
      "error = 0.0077061944258193325\n",
      "loss = tensor(50.5944, device='cuda:1')\n",
      "i=  44501\n",
      "error = 0.005912413450454038\n",
      "loss = tensor(52.1425, device='cuda:1')\n",
      "i=  45001\n",
      "error = 0.007648391290976353\n",
      "loss = tensor(50.0707, device='cuda:1')\n",
      "i=  45501\n",
      "error = 0.007786312375674341\n",
      "loss = tensor(47.5007, device='cuda:1')\n",
      "i=  46001\n",
      "error = 0.008093775602244137\n",
      "loss = tensor(47.6824, device='cuda:1')\n",
      "i=  46501\n",
      "error = 0.0078118864076213625\n",
      "loss = tensor(48.9072, device='cuda:1')\n",
      "i=  47001\n",
      "error = 0.006862390608715042\n",
      "loss = tensor(44.2994, device='cuda:1')\n",
      "i=  47501\n",
      "error = 0.006271892199317732\n",
      "loss = tensor(44.1109, device='cuda:1')\n",
      "i=  48001\n",
      "error = 0.005686709202706551\n",
      "loss = tensor(54.3758, device='cuda:1')\n",
      "i=  48501\n",
      "error = 0.003532179437188087\n",
      "loss = tensor(248.7382, device='cuda:1')\n",
      "i=  49001\n",
      "error = 0.00633720708935113\n",
      "loss = tensor(44.1464, device='cuda:1')\n",
      "i=  49501\n",
      "error = 0.005772110052741503\n",
      "loss = tensor(48.3793, device='cuda:1')\n",
      "time cost 8863.54660487175 s\n"
     ]
    }
   ],
   "source": [
    "traintime = 50000\n",
    "error_save=np.zeros([3,traintime])\n",
    "optimizer = optim.Adam([\n",
    "                {'params': model_u1.parameters()},\n",
    "                {'params': model_v1.parameters()},\n",
    "                {'params': model_p1.parameters()}\n",
    "            ])\n",
    "time_start=time.time()\n",
    "for i in range(traintime):\n",
    "    optimizer.zero_grad()\n",
    "    losses = MIM()\n",
    "    losses.backward()\n",
    "    optimizer.step() \n",
    "    error1,error2,error3=loss_error()\n",
    "    error_save[0,i]=float(error1)\n",
    "    error_save[1,i]=float(error2)\n",
    "    error_save[2,i]=float(error3)\n",
    "    if i%500==1:\n",
    "        print(\"i= \",i)\n",
    "        print(\"error =\",error1)\n",
    "\n",
    "        print(\"loss =\",losses.detach())\n",
    "        np.save(\"error_save_LDG_wave_2D_s_w10.npy\", error_save)\n",
    "np.save(\"error_save_LDG_wave_2D_s_w10.npy\", error_save)\n",
    "time_end=time.time()\n",
    "print('time cost',time_end-time_start,'s')"
   ]
  },
  {
   "cell_type": "code",
   "execution_count": 13,
   "metadata": {},
   "outputs": [],
   "source": [
    "import matplotlib.pyplot as plt\n",
    "error = np.load(\"error_save_LDG_wave_2D_q_w20.npy\")"
   ]
  },
  {
   "cell_type": "code",
   "execution_count": 14,
   "metadata": {},
   "outputs": [
    {
     "name": "stderr",
     "output_type": "stream",
     "text": [
      "/home/ubuntu/anaconda3/lib/python3.7/site-packages/ipykernel_launcher.py:1: RuntimeWarning: divide by zero encountered in log10\n",
      "  \"\"\"Entry point for launching an IPython kernel.\n"
     ]
    },
    {
     "data": {
      "text/plain": [
       "[<matplotlib.lines.Line2D at 0x7f9ed8597d90>]"
      ]
     },
     "execution_count": 14,
     "metadata": {},
     "output_type": "execute_result"
    },
    {
     "data": {
      "image/png": "[encoded data removed]",
      "text/plain": [
       "<Figure size 432x288 with 1 Axes>"
      ]
     },
     "metadata": {
      "needs_background": "light"
     },
     "output_type": "display_data"
    }
   ],
   "source": [
    "plt.plot(np.log10(error[1]))"
   ]
  },
  {
   "cell_type": "code",
   "execution_count": 15,
   "metadata": {},
   "outputs": [
    {
     "name": "stderr",
     "output_type": "stream",
     "text": [
      "/home/ubuntu/anaconda3/lib/python3.7/site-packages/ipykernel_launcher.py:1: RuntimeWarning: divide by zero encountered in log10\n",
      "  \"\"\"Entry point for launching an IPython kernel.\n"
     ]
    },
    {
     "data": {
      "text/plain": [
       "[<matplotlib.lines.Line2D at 0x7f9ed84cce10>]"
      ]
     },
     "execution_count": 15,
     "metadata": {},
     "output_type": "execute_result"
    },
    {
     "data": {
      "image/png": "[encoded data removed]",
      "text/plain": [
       "<Figure size 432x288 with 1 Axes>"
      ]
     },
     "metadata": {
      "needs_background": "light"
     },
     "output_type": "display_data"
    }
   ],
   "source": [
    "plt.plot(np.log10(error[0]))"
   ]
  },
  {
   "cell_type": "code",
   "execution_count": 16,
   "metadata": {},
   "outputs": [
    {
     "name": "stderr",
     "output_type": "stream",
     "text": [
      "/home/ubuntu/anaconda3/lib/python3.7/site-packages/ipykernel_launcher.py:1: RuntimeWarning: divide by zero encountered in log10\n",
      "  \"\"\"Entry point for launching an IPython kernel.\n"
     ]
    },
    {
     "data": {
      "text/plain": [
       "[<matplotlib.lines.Line2D at 0x7f9ed844b4d0>]"
      ]
     },
     "execution_count": 16,
     "metadata": {},
     "output_type": "execute_result"
    },
    {
     "data": {
      "image/png": "[encoded data removed]",
      "text/plain": [
       "<Figure size 432x288 with 1 Axes>"
      ]
     },
     "metadata": {
      "needs_background": "light"
     },
     "output_type": "display_data"
    }
   ],
   "source": [
    "plt.plot(np.log10(error[2]))"
   ]
  },
  {
   "cell_type": "markdown",
   "metadata": {},
   "source": [
    "# "
   ]
  }
 ],
 "metadata": {
  "kernelspec": {
   "display_name": "Python 3",
   "language": "python",
   "name": "python3"
  },
  "language_info": {
   "codemirror_mode": {
    "name": "ipython",
    "version": 3
   },
   "file_extension": ".py",
   "mimetype": "text/x-python",
   "name": "python",
   "nbconvert_exporter": "python",
   "pygments_lexer": "ipython3",
   "version": "3.7.6"
  }
 },
 "nbformat": 4,
 "nbformat_minor": 4
}
