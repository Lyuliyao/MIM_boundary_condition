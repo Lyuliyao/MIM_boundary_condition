{
 "cells": [
  {
   "cell_type": "code",
   "execution_count": 1,
   "metadata": {},
   "outputs": [],
   "source": [
    "import math\n",
    "import numpy as np\n",
    "import numpy.random as npr\n",
    "from numpy import linalg\n",
    "import torch\n",
    "import torch.nn as nn\n",
    "import torch.nn.functional as F\n",
    "from torch.utils import data\n",
    "from torch.utils.data import Dataset\n",
    "import torch.optim as optim\n",
    "import time\n",
    "from math import *\n",
    "torch.cuda.set_device(0)"
   ]
  },
  {
   "cell_type": "code",
   "execution_count": 2,
   "metadata": {},
   "outputs": [],
   "source": [
    "torch.set_default_tensor_type('torch.DoubleTensor')"
   ]
  },
  {
   "cell_type": "code",
   "execution_count": 3,
   "metadata": {},
   "outputs": [],
   "source": [
    "class ResNet(nn.Module):\n",
    "    def __init__(self,dim, m,o):\n",
    "        super(ResNet, self).__init__()\n",
    "        self.Ix = torch.zeros([dim,m]).cuda()\n",
    "        for i in range(dim):\n",
    "            self.Ix[i,i] = 1\n",
    "        self.fc1 = nn.Linear(dim, m)\n",
    "        self.fc2 = nn.Linear(m, m)\n",
    "        \n",
    "        self.fc3 = nn.Linear(m, m)\n",
    "        self.fc4 = nn.Linear(m, m)\n",
    " \n",
    "        \n",
    "        self.outlayer = nn.Linear(m, o)\n",
    "\n",
    "    def forward(self, x):\n",
    "        s = x@self.Ix\n",
    "        y = self.fc1(x)\n",
    "        y = F.relu(y)**deg\n",
    "        y = self.fc2(y)\n",
    "        y = F.relu(y)**deg\n",
    "        y = y+s\n",
    "        \n",
    "        s=y\n",
    "        y = self.fc3(y)\n",
    "        y = F.relu(y)**deg\n",
    "        y = self.fc4(y)\n",
    "        y = F.relu(y)**deg\n",
    "        y = y+s\n",
    "\n",
    "        \n",
    "        output = self.outlayer(y)\n",
    "        return output\n",
    "deg = 3"
   ]
  },
  {
   "cell_type": "code",
   "execution_count": 4,
   "metadata": {},
   "outputs": [],
   "source": [
    "def sol_exact(x):\n",
    "    sol = (x[:,0]**2*torch.sin(pi*x[:,1])*torch.sin(pi*x[:,2])).reshape(x.size()[0],1)\n",
    "    return sol"
   ]
  },
  {
   "cell_type": "code",
   "execution_count": 5,
   "metadata": {},
   "outputs": [],
   "source": [
    "def sol_exact_H1(x):\n",
    "    sol = torch.zeros(x.size()[0],4).cuda()\n",
    "    sol[:,0] = sol_exact(x).reshape(1,x.size()[0])\n",
    "    sol[:,1] = (2*x[:,0]*torch.sin(pi*x[:,1])*torch.sin(pi*x[:,2]))\n",
    "    sol[:,2] = (pi*x[:,0]**2*torch.cos(pi*x[:,1])*torch.sin(pi*x[:,2]))\n",
    "    sol[:,3] = (pi*x[:,0]**2*torch.sin(pi*x[:,1])*torch.cos(pi*x[:,2]))\n",
    "    return sol"
   ]
  },
  {
   "cell_type": "code",
   "execution_count": 6,
   "metadata": {},
   "outputs": [],
   "source": [
    "def source(x):\n",
    "    sol = (2*torch.sin(pi*x[:,1])*torch.sin(pi*x[:,2])).reshape(x.size()[0],1)\n",
    "    sol =  sol +  (2*pi**2*x[:,0]**2*torch.sin(pi*x[:,1])*torch.sin(pi*x[:,2])).reshape(x.size()[0],1)    \n",
    "    return sol"
   ]
  },
  {
   "cell_type": "code",
   "execution_count": 7,
   "metadata": {},
   "outputs": [],
   "source": [
    "Batch_size = 50000\n",
    "def MIM():\n",
    "    x = torch.rand(Batch_size,3).cuda()\n",
    "    x.requires_grad = True\n",
    "    u = model_u(x)\n",
    "    v = model_v(x)\n",
    "    p = model_p(x)\n",
    "    ve = torch.ones(u.shape).cuda()\n",
    "    Du = torch.autograd.grad(u,x,grad_outputs=ve,create_graph=True)[0]\n",
    "    Nv = Du[:,0].reshape(x.size()[0],1)\n",
    "    Np = Du[:,1:3].reshape(x.size()[0],2)\n",
    "    Dv = torch.autograd.grad(v,x,grad_outputs=ve,create_graph=True)[0]\n",
    "    v_t = Dv[:,0].reshape(x.size()[0],1)\n",
    "    uxx = torch.zeros(x.size()[0],1).cuda()\n",
    "    for i in range(2):\n",
    "        uxi = p[:,i].reshape(x.size()[0],1)\n",
    "        uxxi = torch.autograd.grad(uxi,x,grad_outputs=ve,create_graph=True)[0]\n",
    "        uxx = uxx + uxxi[:,i+1].reshape(x.size()[0],1)\n",
    "    loss = torch.sum( (Nv-v)**2 ) + torch.sum( (Np-p)**2 ) + torch.sum( (v_t - uxx - source(x))**2 )\n",
    "    return loss"
   ]
  },
  {
   "cell_type": "code",
   "execution_count": 8,
   "metadata": {},
   "outputs": [
    {
     "data": {
      "text/plain": [
       "ResNet(\n",
       "  (fc1): Linear(in_features=3, out_features=10, bias=True)\n",
       "  (fc2): Linear(in_features=10, out_features=10, bias=True)\n",
       "  (fc3): Linear(in_features=10, out_features=10, bias=True)\n",
       "  (fc4): Linear(in_features=10, out_features=10, bias=True)\n",
       "  (outlayer): Linear(in_features=10, out_features=2, bias=True)\n",
       ")"
      ]
     },
     "execution_count": 8,
     "metadata": {},
     "output_type": "execute_result"
    }
   ],
   "source": [
    "model_u1 = ResNet(3,10,1)\n",
    "model_v1 = ResNet(3,10,1)\n",
    "model_p1 = ResNet(3,10,2)\n",
    "device=torch.device(\"cuda:0\" )\n",
    "\n",
    "model_u1.to(device)\n",
    "model_v1.to(device)\n",
    "model_p1.to(device)"
   ]
  },
  {
   "cell_type": "code",
   "execution_count": 9,
   "metadata": {},
   "outputs": [],
   "source": [
    "def model_u(x):\n",
    "    return x[:,0:1]*(x*(1-x))[:,1:2]*(x*(1-x))[:,2:3]*model_u1(x)\n",
    "def model_v(x):\n",
    "    return x[:,0].reshape(x.size()[0],1)*model_v1(x)\n",
    "def model_p(x):\n",
    "    return model_p1(x)"
   ]
  },
  {
   "cell_type": "code",
   "execution_count": 10,
   "metadata": {},
   "outputs": [],
   "source": [
    "def initparam(model,sigma):\n",
    "    for m in model.modules():\n",
    "        if isinstance(m,nn.Linear):\n",
    "            m.weight.data.uniform_(-sigma,sigma)#全连接层参数初始化\n",
    "            m.bias.data.uniform_(0,sigma)\n",
    "    return model\n",
    "  "
   ]
  },
  {
   "cell_type": "code",
   "execution_count": 11,
   "metadata": {},
   "outputs": [],
   "source": [
    "notes = torch.rand(10000,3).cuda()\n",
    "notes[:,0] = 1\n",
    "exact = sol_exact_H1(notes)\n",
    "u_L2 = sqrt(torch.sum((exact[:,0])**2)/10000)\n",
    "v_L2 = sqrt(torch.sum(exact[:,1]**2)/10000)\n",
    "p_L2 = sqrt(torch.sum((exact[:,2:4])**2)/10000)\n",
    "def loss_error():\n",
    "    notes = torch.rand(10000,3).cuda()\n",
    "    notes[:,0] = 1\n",
    "    predict = torch.zeros(10000,4).cuda()\n",
    "    predict[:,0] = model_u(notes).reshape([1,notes.size()[0]])\n",
    "    predict[:,1] = model_v(notes).reshape([1,notes.size()[0]])\n",
    "    predict[:,2:4] = model_p(notes)\n",
    "    exact = sol_exact_H1(notes)\n",
    "    value1 = sqrt(torch.sum((exact[:,0] - predict[:,0])**2)/10000)/u_L2\n",
    "    value2 = sqrt(torch.sum((exact[:,1] - predict[:,1])**2)/10000)/v_L2\n",
    "    value3 =  sqrt(torch.sum((exact[:,2:4] - predict[:,2:4])**2)/10000)/p_L2\n",
    "    return value1,value2,value3"
   ]
  },
  {
   "cell_type": "code",
   "execution_count": 12,
   "metadata": {},
   "outputs": [
    {
     "name": "stdout",
     "output_type": "stream",
     "text": [
      "i=  1\n",
      "error = 0.9756031491226945\n",
      "loss = tensor(1469745.1645, device='cuda:0')\n",
      "i=  501\n",
      "error = 0.2727341718071249\n",
      "loss = tensor(17946.0997, device='cuda:0')\n",
      "i=  1001\n",
      "error = 0.22999593466319498\n",
      "loss = tensor(6282.7284, device='cuda:0')\n",
      "i=  1501\n",
      "error = 0.15416764037728373\n",
      "loss = tensor(3789.2583, device='cuda:0')\n",
      "i=  2001\n",
      "error = 0.10099017976765308\n",
      "loss = tensor(2211.3749, device='cuda:0')\n",
      "i=  2501\n",
      "error = 0.05928884640547389\n",
      "loss = tensor(1398.1221, device='cuda:0')\n",
      "i=  3001\n",
      "error = 0.034602628511761664\n",
      "loss = tensor(990.3380, device='cuda:0')\n",
      "i=  3501\n",
      "error = 0.021759671853012443\n",
      "loss = tensor(730.4544, device='cuda:0')\n",
      "i=  4001\n",
      "error = 0.013909849979881457\n",
      "loss = tensor(571.3266, device='cuda:0')\n",
      "i=  4501\n",
      "error = 0.010463999678925516\n",
      "loss = tensor(476.4435, device='cuda:0')\n",
      "i=  5001\n",
      "error = 0.009545745244460231\n",
      "loss = tensor(403.8460, device='cuda:0')\n",
      "i=  5501\n",
      "error = 0.009445920796053242\n",
      "loss = tensor(361.4019, device='cuda:0')\n",
      "i=  6001\n",
      "error = 0.00936302734188553\n",
      "loss = tensor(554.0821, device='cuda:0')\n",
      "i=  6501\n",
      "error = 0.011722874468769977\n",
      "loss = tensor(353.2710, device='cuda:0')\n",
      "i=  7001\n",
      "error = 0.01020885182108163\n",
      "loss = tensor(306.5855, device='cuda:0')\n",
      "i=  7501\n",
      "error = 0.01192443378680792\n",
      "loss = tensor(304.5861, device='cuda:0')\n",
      "i=  8001\n",
      "error = 0.011682859786205604\n",
      "loss = tensor(252.1591, device='cuda:0')\n",
      "i=  8501\n",
      "error = 0.012420218282092962\n",
      "loss = tensor(233.4378, device='cuda:0')\n",
      "i=  9001\n",
      "error = 0.013100525832669033\n",
      "loss = tensor(217.3069, device='cuda:0')\n",
      "i=  9501\n",
      "error = 0.012950510705134245\n",
      "loss = tensor(208.3629, device='cuda:0')\n",
      "i=  10001\n",
      "error = 0.012326627382351895\n",
      "loss = tensor(192.9726, device='cuda:0')\n",
      "i=  10501\n",
      "error = 0.014444818449898993\n",
      "loss = tensor(187.2716, device='cuda:0')\n",
      "i=  11001\n",
      "error = 0.013011272929110286\n",
      "loss = tensor(182.3250, device='cuda:0')\n",
      "i=  11501\n",
      "error = 0.013286073579616225\n",
      "loss = tensor(167.5293, device='cuda:0')\n",
      "i=  12001\n",
      "error = 0.014303448897536269\n",
      "loss = tensor(160.6425, device='cuda:0')\n",
      "i=  12501\n",
      "error = 0.014489765992470415\n",
      "loss = tensor(162.7351, device='cuda:0')\n",
      "i=  13001\n",
      "error = 0.014305861424629009\n",
      "loss = tensor(146.2741, device='cuda:0')\n",
      "i=  13501\n",
      "error = 0.013559462209480613\n",
      "loss = tensor(148.8636, device='cuda:0')\n",
      "i=  14001\n",
      "error = 0.015839073315400142\n",
      "loss = tensor(159.9830, device='cuda:0')\n",
      "i=  14501\n",
      "error = 0.016546143584134056\n",
      "loss = tensor(281.3298, device='cuda:0')\n",
      "i=  15001\n",
      "error = 0.014356457590070074\n",
      "loss = tensor(114.6397, device='cuda:0')\n",
      "i=  15501\n",
      "error = 0.014748297763488858\n",
      "loss = tensor(117.2217, device='cuda:0')\n",
      "i=  16001\n",
      "error = 0.015621185484308237\n",
      "loss = tensor(107.2870, device='cuda:0')\n",
      "i=  16501\n",
      "error = 0.01498373887331005\n",
      "loss = tensor(118.3682, device='cuda:0')\n",
      "i=  17001\n",
      "error = 0.014479259459687251\n",
      "loss = tensor(93.7497, device='cuda:0')\n",
      "i=  17501\n",
      "error = 0.015022213274020249\n",
      "loss = tensor(89.5033, device='cuda:0')\n",
      "i=  18001\n",
      "error = 0.014564175105305539\n",
      "loss = tensor(86.0466, device='cuda:0')\n",
      "i=  18501\n",
      "error = 0.017515010173631516\n",
      "loss = tensor(298.3599, device='cuda:0')\n",
      "i=  19001\n",
      "error = 0.015096498801891126\n",
      "loss = tensor(379.4120, device='cuda:0')\n",
      "i=  19501\n",
      "error = 0.011379097062746302\n",
      "loss = tensor(126.0960, device='cuda:0')\n",
      "i=  20001\n",
      "error = 0.0116320042859392\n",
      "loss = tensor(89.1183, device='cuda:0')\n",
      "i=  20501\n",
      "error = 0.012876130553982597\n",
      "loss = tensor(73.3566, device='cuda:0')\n",
      "i=  21001\n",
      "error = 0.011480808980705116\n",
      "loss = tensor(92.1271, device='cuda:0')\n",
      "i=  21501\n",
      "error = 0.01197130377966825\n",
      "loss = tensor(66.6712, device='cuda:0')\n",
      "i=  22001\n",
      "error = 0.012199725660963699\n",
      "loss = tensor(64.5556, device='cuda:0')\n",
      "i=  22501\n",
      "error = 0.01210947429885941\n",
      "loss = tensor(63.4264, device='cuda:0')\n",
      "i=  23001\n",
      "error = 0.011027856348875148\n",
      "loss = tensor(70.0230, device='cuda:0')\n",
      "i=  23501\n",
      "error = 0.011658733059553488\n",
      "loss = tensor(58.6107, device='cuda:0')\n",
      "i=  24001\n",
      "error = 0.012240341145988426\n",
      "loss = tensor(78.1440, device='cuda:0')\n",
      "i=  24501\n",
      "error = 0.010597569598869863\n",
      "loss = tensor(58.9881, device='cuda:0')\n",
      "i=  25001\n",
      "error = 0.010662125098465529\n",
      "loss = tensor(56.3792, device='cuda:0')\n",
      "i=  25501\n",
      "error = 0.009512096893043874\n",
      "loss = tensor(78.8140, device='cuda:0')\n",
      "i=  26001\n",
      "error = 0.010907879523434638\n",
      "loss = tensor(51.4759, device='cuda:0')\n",
      "i=  26501\n",
      "error = 0.00958766091792223\n",
      "loss = tensor(77.3170, device='cuda:0')\n",
      "i=  27001\n",
      "error = 0.010687611128688712\n",
      "loss = tensor(49.4109, device='cuda:0')\n",
      "i=  27501\n",
      "error = 0.010375570758737507\n",
      "loss = tensor(49.5405, device='cuda:0')\n",
      "i=  28001\n",
      "error = 0.01001605309692117\n",
      "loss = tensor(48.4096, device='cuda:0')\n",
      "i=  28501\n",
      "error = 0.012130087262144266\n",
      "loss = tensor(88.8351, device='cuda:0')\n",
      "i=  29001\n",
      "error = 0.010333391256491742\n",
      "loss = tensor(46.6942, device='cuda:0')\n",
      "i=  29501\n",
      "error = 0.009709109678830945\n",
      "loss = tensor(65.2090, device='cuda:0')\n",
      "i=  30001\n",
      "error = 0.009948861818785407\n",
      "loss = tensor(45.4930, device='cuda:0')\n",
      "i=  30501\n",
      "error = 0.00838008315978408\n",
      "loss = tensor(62.5601, device='cuda:0')\n",
      "i=  31001\n",
      "error = 0.008221006507332762\n",
      "loss = tensor(54.2573, device='cuda:0')\n",
      "i=  31501\n",
      "error = 0.009846708896878279\n",
      "loss = tensor(43.5314, device='cuda:0')\n",
      "i=  32001\n",
      "error = 0.00817047835395097\n",
      "loss = tensor(66.5202, device='cuda:0')\n",
      "i=  32501\n",
      "error = 0.009696326538772296\n",
      "loss = tensor(44.1066, device='cuda:0')\n",
      "i=  33001\n",
      "error = 0.011905532156262673\n",
      "loss = tensor(272.8089, device='cuda:0')\n",
      "i=  33501\n",
      "error = 0.011877918697307529\n",
      "loss = tensor(145.4530, device='cuda:0')\n",
      "i=  34001\n",
      "error = 0.013451716132583658\n",
      "loss = tensor(269.9660, device='cuda:0')\n",
      "i=  34501\n",
      "error = 0.012542650574974645\n",
      "loss = tensor(383.8912, device='cuda:0')\n",
      "i=  35001\n",
      "error = 0.009603788378452695\n",
      "loss = tensor(40.8719, device='cuda:0')\n",
      "i=  35501\n",
      "error = 0.00789827559686161\n",
      "loss = tensor(42.3199, device='cuda:0')\n",
      "i=  36001\n",
      "error = 0.00853902789627035\n",
      "loss = tensor(36.7121, device='cuda:0')\n",
      "i=  36501\n",
      "error = 0.005622865365327834\n",
      "loss = tensor(328.9421, device='cuda:0')\n",
      "i=  37001\n",
      "error = 0.008382262872255755\n",
      "loss = tensor(41.7643, device='cuda:0')\n",
      "i=  37501\n",
      "error = 0.007769725123317144\n",
      "loss = tensor(38.5331, device='cuda:0')\n",
      "i=  38001\n",
      "error = 0.008510763027205562\n",
      "loss = tensor(35.5455, device='cuda:0')\n",
      "i=  38501\n",
      "error = 0.014208920433522529\n",
      "loss = tensor(308.8265, device='cuda:0')\n",
      "i=  39001\n",
      "error = 0.009741182142382234\n",
      "loss = tensor(78.7276, device='cuda:0')\n",
      "i=  39501\n",
      "error = 0.00822074540969982\n",
      "loss = tensor(33.5886, device='cuda:0')\n",
      "i=  40001\n",
      "error = 0.008104509232627146\n",
      "loss = tensor(33.2532, device='cuda:0')\n",
      "i=  40501\n",
      "error = 0.008395042175791253\n",
      "loss = tensor(63.9210, device='cuda:0')\n",
      "i=  41001\n",
      "error = 0.009186322825158116\n",
      "loss = tensor(83.5392, device='cuda:0')\n",
      "i=  41501\n",
      "error = 0.007653610608859131\n",
      "loss = tensor(31.7745, device='cuda:0')\n",
      "i=  42001\n",
      "error = 0.007941625259948534\n",
      "loss = tensor(38.6552, device='cuda:0')\n",
      "i=  42501\n",
      "error = 0.006335543710088984\n",
      "loss = tensor(50.9562, device='cuda:0')\n",
      "i=  43001\n",
      "error = 0.007524466439425265\n",
      "loss = tensor(32.2635, device='cuda:0')\n",
      "i=  43501\n",
      "error = 0.008349222379838067\n",
      "loss = tensor(42.0166, device='cuda:0')\n",
      "i=  44001\n",
      "error = 0.007026789781082208\n",
      "loss = tensor(32.3557, device='cuda:0')\n",
      "i=  44501\n",
      "error = 0.006916039589184686\n",
      "loss = tensor(44.9425, device='cuda:0')\n",
      "i=  45001\n",
      "error = 0.00662363892644915\n",
      "loss = tensor(54.5830, device='cuda:0')\n",
      "i=  45501\n",
      "error = 0.01038574413320535\n",
      "loss = tensor(108.8819, device='cuda:0')\n",
      "i=  46001\n",
      "error = 0.006750427775812658\n",
      "loss = tensor(32.4746, device='cuda:0')\n",
      "i=  46501\n",
      "error = 0.00816401342661523\n",
      "loss = tensor(56.9845, device='cuda:0')\n",
      "i=  47001\n",
      "error = 0.007964318469815304\n",
      "loss = tensor(31.5607, device='cuda:0')\n",
      "i=  47501\n",
      "error = 0.005937681464501099\n",
      "loss = tensor(44.3428, device='cuda:0')\n",
      "i=  48001\n",
      "error = 0.006981773834859084\n",
      "loss = tensor(28.2406, device='cuda:0')\n",
      "i=  48501\n",
      "error = 0.004029982047112162\n",
      "loss = tensor(180.9524, device='cuda:0')\n",
      "i=  49001\n",
      "error = 0.008332856412133332\n",
      "loss = tensor(52.6951, device='cuda:0')\n",
      "i=  49501\n",
      "error = 0.007473407286759514\n",
      "loss = tensor(30.9479, device='cuda:0')\n",
      "time cost 11107.91567993164 s\n"
     ]
    }
   ],
   "source": [
    "traintime = 50000\n",
    "error_save=np.zeros([3,traintime])\n",
    "optimizer = optim.Adam([\n",
    "                {'params': model_u1.parameters()},\n",
    "                {'params': model_v1.parameters()},\n",
    "                {'params': model_p1.parameters()}\n",
    "            ])\n",
    "time_start=time.time()\n",
    "for i in range(traintime):\n",
    "    optimizer.zero_grad()\n",
    "    losses = MIM()\n",
    "    losses.backward()\n",
    "    optimizer.step() \n",
    "    error1,error2,error3=loss_error()\n",
    "    error_save[0,i]=float(error1)\n",
    "    error_save[1,i]=float(error2)\n",
    "    error_save[2,i]=float(error3)\n",
    "    if i%500==1:\n",
    "        print(\"i= \",i)\n",
    "        print(\"error =\",error1)\n",
    "\n",
    "        print(\"loss =\",losses.detach())\n",
    "        np.save(\"error_save_LDG_wave_2D_q_w10.npy\", error_save)\n",
    "np.save(\"error_save_LDG_wave_2D_q_w10.npy\", error_save)\n",
    "time_end=time.time()\n",
    "print('time cost',time_end-time_start,'s')"
   ]
  },
  {
   "cell_type": "code",
   "execution_count": 13,
   "metadata": {},
   "outputs": [],
   "source": [
    "import matplotlib.pyplot as plt\n",
    "error = np.load(\"error_save_LDG_wave_2D_q_w20.npy\")"
   ]
  },
  {
   "cell_type": "code",
   "execution_count": 14,
   "metadata": {},
   "outputs": [
    {
     "name": "stderr",
     "output_type": "stream",
     "text": [
      "/home/ubuntu/anaconda3/lib/python3.7/site-packages/ipykernel_launcher.py:1: RuntimeWarning: divide by zero encountered in log10\n",
      "  \"\"\"Entry point for launching an IPython kernel.\n"
     ]
    },
    {
     "data": {
      "text/plain": [
       "[<matplotlib.lines.Line2D at 0x7fd17878d250>]"
      ]
     },
     "execution_count": 14,
     "metadata": {},
     "output_type": "execute_result"
    },
    {
     "data": {
      "image/png": "[encoded data removed]",
      "text/plain": [
       "<Figure size 432x288 with 1 Axes>"
      ]
     },
     "metadata": {
      "needs_background": "light"
     },
     "output_type": "display_data"
    }
   ],
   "source": [
    "plt.plot(np.log10(error[1]))"
   ]
  },
  {
   "cell_type": "code",
   "execution_count": 15,
   "metadata": {},
   "outputs": [
    {
     "name": "stderr",
     "output_type": "stream",
     "text": [
      "/home/ubuntu/anaconda3/lib/python3.7/site-packages/ipykernel_launcher.py:1: RuntimeWarning: divide by zero encountered in log10\n",
      "  \"\"\"Entry point for launching an IPython kernel.\n"
     ]
    },
    {
     "data": {
      "text/plain": [
       "[<matplotlib.lines.Line2D at 0x7fd17805c050>]"
      ]
     },
     "execution_count": 15,
     "metadata": {},
     "output_type": "execute_result"
    },
    {
     "data": {
      "image/png": "[encoded data removed]",
      "text/plain": [
       "<Figure size 432x288 with 1 Axes>"
      ]
     },
     "metadata": {
      "needs_background": "light"
     },
     "output_type": "display_data"
    }
   ],
   "source": [
    "plt.plot(np.log10(error[0]))"
   ]
  },
  {
   "cell_type": "code",
   "execution_count": 16,
   "metadata": {},
   "outputs": [
    {
     "name": "stderr",
     "output_type": "stream",
     "text": [
      "/home/ubuntu/anaconda3/lib/python3.7/site-packages/ipykernel_launcher.py:1: RuntimeWarning: divide by zero encountered in log10\n",
      "  \"\"\"Entry point for launching an IPython kernel.\n"
     ]
    },
    {
     "data": {
      "text/plain": [
       "[<matplotlib.lines.Line2D at 0x7fd178043bd0>]"
      ]
     },
     "execution_count": 16,
     "metadata": {},
     "output_type": "execute_result"
    },
    {
     "data": {
      "image/png": "[encoded data removed]",
      "text/plain": [
       "<Figure size 432x288 with 1 Axes>"
      ]
     },
     "metadata": {
      "needs_background": "light"
     },
     "output_type": "display_data"
    }
   ],
   "source": [
    "plt.plot(np.log10(error[2]))"
   ]
  }
 ],
 "metadata": {
  "kernelspec": {
   "display_name": "Python 3",
   "language": "python",
   "name": "python3"
  },
  "language_info": {
   "codemirror_mode": {
    "name": "ipython",
    "version": 3
   },
   "file_extension": ".py",
   "mimetype": "text/x-python",
   "name": "python",
   "nbconvert_exporter": "python",
   "pygments_lexer": "ipython3",
   "version": "3.7.6"
  }
 },
 "nbformat": 4,
 "nbformat_minor": 4
}
