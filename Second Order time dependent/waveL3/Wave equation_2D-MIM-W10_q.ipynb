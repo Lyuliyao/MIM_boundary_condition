{
 "cells": [
  {
   "cell_type": "code",
   "execution_count": 1,
   "metadata": {},
   "outputs": [],
   "source": [
    "import math\n",
    "import numpy as np\n",
    "import numpy.random as npr\n",
    "from numpy import linalg\n",
    "import torch\n",
    "import torch.nn as nn\n",
    "import torch.nn.functional as F\n",
    "from torch.utils import data\n",
    "from torch.utils.data import Dataset\n",
    "import torch.optim as optim\n",
    "import time\n",
    "from math import *\n",
    "torch.cuda.set_device(1)"
   ]
  },
  {
   "cell_type": "code",
   "execution_count": 2,
   "metadata": {},
   "outputs": [],
   "source": [
    "torch.set_default_tensor_type('torch.DoubleTensor')"
   ]
  },
  {
   "cell_type": "code",
   "execution_count": 3,
   "metadata": {},
   "outputs": [],
   "source": [
    "class ResNet(nn.Module):\n",
    "    def __init__(self,dim, m,o):\n",
    "        super(ResNet, self).__init__()\n",
    "        self.Ix = torch.zeros([dim,m]).cuda()\n",
    "        for i in range(dim):\n",
    "            self.Ix[i,i] = 1\n",
    "        self.fc1 = nn.Linear(dim, m)\n",
    "        self.fc2 = nn.Linear(m, m)\n",
    "        \n",
    "        self.fc3 = nn.Linear(m, m)\n",
    "        self.fc4 = nn.Linear(m, m)\n",
    " \n",
    "        self.fc5 = nn.Linear(m, m)\n",
    "        self.fc6 = nn.Linear(m, m)\n",
    "        self.outlayer = nn.Linear(m, o)\n",
    "\n",
    "    def forward(self, x):\n",
    "        s = x@self.Ix\n",
    "        y = self.fc1(x)\n",
    "        y = F.relu(y)**deg\n",
    "        y = self.fc2(y)\n",
    "        y = F.relu(y)**deg\n",
    "        y = y+s\n",
    "        \n",
    "        s=y\n",
    "        y = self.fc3(y)\n",
    "        y = F.relu(y)**deg\n",
    "        y = self.fc4(y)\n",
    "        y = F.relu(y)**deg\n",
    "        y = y+s\n",
    "\n",
    "        s=y\n",
    "        y = self.fc5(y)\n",
    "        y = F.relu(y)**deg\n",
    "        y = self.fc6(y)\n",
    "        y = F.relu(y)**deg\n",
    "        y = y+s\n",
    "        output = self.outlayer(y)\n",
    "        return output\n",
    "deg = 3"
   ]
  },
  {
   "cell_type": "code",
   "execution_count": 4,
   "metadata": {},
   "outputs": [],
   "source": [
    "def sol_exact(x):\n",
    "    sol = (x[:,0]**2*torch.sin(pi*x[:,1])*torch.sin(pi*x[:,2])).reshape(x.size()[0],1)\n",
    "    return sol"
   ]
  },
  {
   "cell_type": "code",
   "execution_count": 5,
   "metadata": {},
   "outputs": [],
   "source": [
    "def sol_exact_H1(x):\n",
    "    sol = torch.zeros(x.size()[0],4).cuda()\n",
    "    sol[:,0] = sol_exact(x).reshape(1,x.size()[0])\n",
    "    sol[:,1] = (2*x[:,0]*torch.sin(pi*x[:,1])*torch.sin(pi*x[:,2]))\n",
    "    sol[:,2] = (pi*x[:,0]**2*torch.cos(pi*x[:,1])*torch.sin(pi*x[:,2]))\n",
    "    sol[:,3] = (pi*x[:,0]**2*torch.sin(pi*x[:,1])*torch.cos(pi*x[:,2]))\n",
    "    return sol"
   ]
  },
  {
   "cell_type": "code",
   "execution_count": 6,
   "metadata": {},
   "outputs": [],
   "source": [
    "def source(x):\n",
    "    sol = (2*torch.sin(pi*x[:,1])*torch.sin(pi*x[:,2])).reshape(x.size()[0],1)\n",
    "    sol =  sol +  (2*pi**2*x[:,0]**2*torch.sin(pi*x[:,1])*torch.sin(pi*x[:,2])).reshape(x.size()[0],1)    \n",
    "    return sol"
   ]
  },
  {
   "cell_type": "code",
   "execution_count": 7,
   "metadata": {},
   "outputs": [],
   "source": [
    "Batch_size = 50000\n",
    "def MIM():\n",
    "    x = torch.rand(Batch_size,3).cuda()\n",
    "    x.requires_grad = True\n",
    "    u = model_u(x)\n",
    "    v = model_v(x)\n",
    "    p = model_p(x)\n",
    "    ve = torch.ones(u.shape).cuda()\n",
    "    Du = torch.autograd.grad(u,x,grad_outputs=ve,create_graph=True)[0]\n",
    "    Nv = Du[:,0].reshape(x.size()[0],1)\n",
    "    Np = Du[:,1:3].reshape(x.size()[0],2)\n",
    "    Dv = torch.autograd.grad(v,x,grad_outputs=ve,create_graph=True)[0]\n",
    "    v_t = Dv[:,0].reshape(x.size()[0],1)\n",
    "    uxx = torch.zeros(x.size()[0],1).cuda()\n",
    "    for i in range(2):\n",
    "        uxi = p[:,i].reshape(x.size()[0],1)\n",
    "        uxxi = torch.autograd.grad(uxi,x,grad_outputs=ve,create_graph=True)[0]\n",
    "        uxx = uxx + uxxi[:,i+1].reshape(x.size()[0],1)\n",
    "    loss = torch.sum( (Nv-v)**2 ) + torch.sum( (Np-p)**2 ) + torch.sum( (v_t - uxx - source(x))**2 )\n",
    "    return loss"
   ]
  },
  {
   "cell_type": "code",
   "execution_count": 8,
   "metadata": {},
   "outputs": [
    {
     "data": {
      "text/plain": [
       "ResNet(\n",
       "  (fc1): Linear(in_features=3, out_features=10, bias=True)\n",
       "  (fc2): Linear(in_features=10, out_features=10, bias=True)\n",
       "  (fc3): Linear(in_features=10, out_features=10, bias=True)\n",
       "  (fc4): Linear(in_features=10, out_features=10, bias=True)\n",
       "  (fc5): Linear(in_features=10, out_features=10, bias=True)\n",
       "  (fc6): Linear(in_features=10, out_features=10, bias=True)\n",
       "  (outlayer): Linear(in_features=10, out_features=2, bias=True)\n",
       ")"
      ]
     },
     "execution_count": 8,
     "metadata": {},
     "output_type": "execute_result"
    }
   ],
   "source": [
    "model_u1 = ResNet(3,10,1)\n",
    "model_v1 = ResNet(3,10,1)\n",
    "model_p1 = ResNet(3,10,2)\n",
    "device=torch.device(\"cuda:1\" )\n",
    "\n",
    "model_u1.to(device)\n",
    "model_v1.to(device)\n",
    "model_p1.to(device)"
   ]
  },
  {
   "cell_type": "code",
   "execution_count": 9,
   "metadata": {},
   "outputs": [],
   "source": [
    "def model_u(x):\n",
    "    return x[:,0:1]*(x*(1-x))[:,1:2]*(x*(1-x))[:,2:3]*model_u1(x)\n",
    "def model_v(x):\n",
    "    return x[:,0].reshape(x.size()[0],1)*model_v1(x)\n",
    "def model_p(x):\n",
    "    return model_p1(x)"
   ]
  },
  {
   "cell_type": "code",
   "execution_count": 10,
   "metadata": {},
   "outputs": [],
   "source": [
    "def initparam(model,sigma):\n",
    "    for m in model.modules():\n",
    "        if isinstance(m,nn.Linear):\n",
    "            m.weight.data.uniform_(-sigma,sigma)#全连接层参数初始化\n",
    "            m.bias.data.uniform_(0,sigma)\n",
    "    return model\n",
    "  "
   ]
  },
  {
   "cell_type": "code",
   "execution_count": 11,
   "metadata": {},
   "outputs": [],
   "source": [
    "notes = torch.rand(10000,3).cuda()\n",
    "notes[:,0] = 1\n",
    "exact = sol_exact_H1(notes)\n",
    "u_L2 = sqrt(torch.sum((exact[:,0])**2)/10000)\n",
    "v_L2 = sqrt(torch.sum(exact[:,1]**2)/10000)\n",
    "p_L2 = sqrt(torch.sum((exact[:,2:4])**2)/10000)\n",
    "def loss_error():\n",
    "    notes = torch.rand(10000,3).cuda()\n",
    "    notes[:,0] = 1\n",
    "    predict = torch.zeros(10000,4).cuda()\n",
    "    predict[:,0] = model_u(notes).reshape([1,notes.size()[0]])\n",
    "    predict[:,1] = model_v(notes).reshape([1,notes.size()[0]])\n",
    "    predict[:,2:4] = model_p(notes)\n",
    "    exact = sol_exact_H1(notes)\n",
    "    value1 = sqrt(torch.sum((exact[:,0] - predict[:,0])**2)/10000)/u_L2\n",
    "    value2 = sqrt(torch.sum((exact[:,1] - predict[:,1])**2)/10000)/v_L2\n",
    "    value3 =  sqrt(torch.sum((exact[:,2:4] - predict[:,2:4])**2)/10000)/p_L2\n",
    "    return value1,value2,value3"
   ]
  },
  {
   "cell_type": "code",
   "execution_count": 12,
   "metadata": {},
   "outputs": [
    {
     "name": "stdout",
     "output_type": "stream",
     "text": [
      "i=  1\n",
      "error = 1.0525308459393132\n",
      "loss = tensor(1353086.6235, device='cuda:1')\n",
      "i=  501\n",
      "error = 0.1687366102528744\n",
      "loss = tensor(50097.9624, device='cuda:1')\n",
      "i=  1001\n",
      "error = 0.23437223006699726\n",
      "loss = tensor(18238.6366, device='cuda:1')\n",
      "i=  1501\n",
      "error = 0.25502754767545566\n",
      "loss = tensor(7308.0598, device='cuda:1')\n",
      "i=  2001\n",
      "error = 0.22507456374046894\n",
      "loss = tensor(4931.4153, device='cuda:1')\n",
      "i=  2501\n",
      "error = 0.19633514550639902\n",
      "loss = tensor(3812.1280, device='cuda:1')\n",
      "i=  3001\n",
      "error = 0.11970615182879547\n",
      "loss = tensor(2696.4116, device='cuda:1')\n",
      "i=  3501\n",
      "error = 0.08869241255621067\n",
      "loss = tensor(1921.7107, device='cuda:1')\n",
      "i=  4001\n",
      "error = 0.06920049561395077\n",
      "loss = tensor(1518.9393, device='cuda:1')\n",
      "i=  4501\n",
      "error = 0.05669470360012095\n",
      "loss = tensor(1225.3207, device='cuda:1')\n",
      "i=  5001\n",
      "error = 0.04676315602774621\n",
      "loss = tensor(1061.2545, device='cuda:1')\n",
      "i=  5501\n",
      "error = 0.04425769966098985\n",
      "loss = tensor(940.1902, device='cuda:1')\n",
      "i=  6001\n",
      "error = 0.03772017120408502\n",
      "loss = tensor(825.7025, device='cuda:1')\n",
      "i=  6501\n",
      "error = 0.044394395227973046\n",
      "loss = tensor(885.7383, device='cuda:1')\n",
      "i=  7001\n",
      "error = 0.035583831113954405\n",
      "loss = tensor(635.1774, device='cuda:1')\n",
      "i=  7501\n",
      "error = 0.028578599518331218\n",
      "loss = tensor(756.9053, device='cuda:1')\n",
      "i=  8001\n",
      "error = 0.0323103619450418\n",
      "loss = tensor(519.2758, device='cuda:1')\n",
      "i=  8501\n",
      "error = 0.030309246893354826\n",
      "loss = tensor(496.9667, device='cuda:1')\n",
      "i=  9001\n",
      "error = 0.030550188710789454\n",
      "loss = tensor(492.4030, device='cuda:1')\n",
      "i=  9501\n",
      "error = 0.026767349340901\n",
      "loss = tensor(476.4386, device='cuda:1')\n",
      "i=  10001\n",
      "error = 0.031119638591195254\n",
      "loss = tensor(429.4267, device='cuda:1')\n",
      "i=  10501\n",
      "error = 0.026912833930182567\n",
      "loss = tensor(369.6813, device='cuda:1')\n",
      "i=  11001\n",
      "error = 0.022310003030808056\n",
      "loss = tensor(619.5053, device='cuda:1')\n",
      "i=  11501\n",
      "error = 0.026636604729202307\n",
      "loss = tensor(297.9223, device='cuda:1')\n",
      "i=  12001\n",
      "error = 0.0248765949605047\n",
      "loss = tensor(281.5697, device='cuda:1')\n",
      "i=  12501\n",
      "error = 0.023782188240247498\n",
      "loss = tensor(287.0191, device='cuda:1')\n",
      "i=  13001\n",
      "error = 0.022742486926619863\n",
      "loss = tensor(252.7107, device='cuda:1')\n",
      "i=  13501\n",
      "error = 0.024077930424906295\n",
      "loss = tensor(245.1915, device='cuda:1')\n",
      "i=  14001\n",
      "error = 0.020628637680315455\n",
      "loss = tensor(207.5467, device='cuda:1')\n",
      "i=  14501\n",
      "error = 0.019682212984475107\n",
      "loss = tensor(204.4472, device='cuda:1')\n",
      "i=  15001\n",
      "error = 0.016428057724198454\n",
      "loss = tensor(330.9394, device='cuda:1')\n",
      "i=  15501\n",
      "error = 0.021020981492286754\n",
      "loss = tensor(220.5294, device='cuda:1')\n",
      "i=  16001\n",
      "error = 0.017559143480333148\n",
      "loss = tensor(171.1227, device='cuda:1')\n",
      "i=  16501\n",
      "error = 0.014065464419940076\n",
      "loss = tensor(273.1565, device='cuda:1')\n",
      "i=  17001\n",
      "error = 0.01783152945151075\n",
      "loss = tensor(148.5752, device='cuda:1')\n",
      "i=  17501\n",
      "error = 0.016201418391440084\n",
      "loss = tensor(139.7017, device='cuda:1')\n",
      "i=  18001\n",
      "error = 0.017241140776714462\n",
      "loss = tensor(159.3307, device='cuda:1')\n",
      "i=  18501\n",
      "error = 0.016050419948318684\n",
      "loss = tensor(129.0659, device='cuda:1')\n",
      "i=  19001\n",
      "error = 0.015078223895765363\n",
      "loss = tensor(120.4500, device='cuda:1')\n",
      "i=  19501\n",
      "error = 0.014658189845965845\n",
      "loss = tensor(116.6171, device='cuda:1')\n",
      "i=  20001\n",
      "error = 0.014226496564569969\n",
      "loss = tensor(114.4156, device='cuda:1')\n",
      "i=  20501\n",
      "error = 0.011148234711259287\n",
      "loss = tensor(676.4275, device='cuda:1')\n",
      "i=  21001\n",
      "error = 0.012567702125096917\n",
      "loss = tensor(102.1051, device='cuda:1')\n",
      "i=  21501\n",
      "error = 0.012485976849149781\n",
      "loss = tensor(93.9400, device='cuda:1')\n",
      "i=  22001\n",
      "error = 0.014770813841908984\n",
      "loss = tensor(171.8709, device='cuda:1')\n",
      "i=  22501\n",
      "error = 0.012230920678698087\n",
      "loss = tensor(89.4807, device='cuda:1')\n",
      "i=  23001\n",
      "error = 0.012172712300057202\n",
      "loss = tensor(88.7570, device='cuda:1')\n",
      "i=  23501\n",
      "error = 0.01052907168752161\n",
      "loss = tensor(98.0786, device='cuda:1')\n",
      "i=  24001\n",
      "error = 0.017822168068679076\n",
      "loss = tensor(355.3252, device='cuda:1')\n",
      "i=  24501\n",
      "error = 0.00968800056266968\n",
      "loss = tensor(262.8220, device='cuda:1')\n",
      "i=  25001\n",
      "error = 0.01178847963903729\n",
      "loss = tensor(80.9946, device='cuda:1')\n",
      "i=  25501\n",
      "error = 0.01051114667523418\n",
      "loss = tensor(71.9881, device='cuda:1')\n",
      "i=  26001\n",
      "error = 0.014996625294859001\n",
      "loss = tensor(172.8580, device='cuda:1')\n",
      "i=  26501\n",
      "error = 0.009451067692602632\n",
      "loss = tensor(103.8890, device='cuda:1')\n",
      "i=  27001\n",
      "error = 0.009527344493118886\n",
      "loss = tensor(66.3322, device='cuda:1')\n",
      "i=  27501\n",
      "error = 0.008878660901016624\n",
      "loss = tensor(286.2955, device='cuda:1')\n",
      "i=  28001\n",
      "error = 0.009687199177042255\n",
      "loss = tensor(81.7371, device='cuda:1')\n",
      "i=  28501\n",
      "error = 0.00924224491169925\n",
      "loss = tensor(62.8497, device='cuda:1')\n",
      "i=  29001\n",
      "error = 0.009640013889878963\n",
      "loss = tensor(64.0936, device='cuda:1')\n",
      "i=  29501\n",
      "error = 0.013307908087673013\n",
      "loss = tensor(208.2533, device='cuda:1')\n",
      "i=  30001\n",
      "error = 0.008949371868716272\n",
      "loss = tensor(67.9408, device='cuda:1')\n",
      "i=  30501\n",
      "error = 0.010888348492244643\n",
      "loss = tensor(65.2232, device='cuda:1')\n",
      "i=  31001\n",
      "error = 0.00809041586323715\n",
      "loss = tensor(129.0366, device='cuda:1')\n",
      "i=  31501\n",
      "error = 0.009101039330921289\n",
      "loss = tensor(56.9156, device='cuda:1')\n",
      "i=  32001\n",
      "error = 0.01100403751686564\n",
      "loss = tensor(163.8693, device='cuda:1')\n",
      "i=  32501\n",
      "error = 0.009285460496147148\n",
      "loss = tensor(57.0012, device='cuda:1')\n",
      "i=  33001\n",
      "error = 0.008419064836186317\n",
      "loss = tensor(53.1504, device='cuda:1')\n",
      "i=  33501\n",
      "error = 0.01284709224526467\n",
      "loss = tensor(134.4218, device='cuda:1')\n",
      "i=  34001\n",
      "error = 0.009325584694754143\n",
      "loss = tensor(59.0195, device='cuda:1')\n",
      "i=  34501\n",
      "error = 0.0076137367081766496\n",
      "loss = tensor(227.5719, device='cuda:1')\n",
      "i=  35001\n",
      "error = 0.008386234682905605\n",
      "loss = tensor(65.1103, device='cuda:1')\n",
      "i=  35501\n",
      "error = 0.008094057580611833\n",
      "loss = tensor(49.1731, device='cuda:1')\n",
      "i=  36001\n",
      "error = 0.008347025878150352\n",
      "loss = tensor(55.7308, device='cuda:1')\n",
      "i=  36501\n",
      "error = 0.007974212556827677\n",
      "loss = tensor(47.1529, device='cuda:1')\n",
      "i=  37001\n",
      "error = 0.010784457711285724\n",
      "loss = tensor(102.0311, device='cuda:1')\n",
      "i=  37501\n",
      "error = 0.007614650077471952\n",
      "loss = tensor(46.3077, device='cuda:1')\n",
      "i=  38001\n",
      "error = 0.007396322359342955\n",
      "loss = tensor(66.3357, device='cuda:1')\n",
      "i=  38501\n",
      "error = 0.00830227493019011\n",
      "loss = tensor(42.1493, device='cuda:1')\n",
      "i=  39001\n",
      "error = 0.007887000211950348\n",
      "loss = tensor(48.3245, device='cuda:1')\n",
      "i=  39501\n",
      "error = 0.008397966271930325\n",
      "loss = tensor(50.5746, device='cuda:1')\n",
      "i=  40001\n",
      "error = 0.008047551565155445\n",
      "loss = tensor(40.8657, device='cuda:1')\n",
      "i=  40501\n",
      "error = 0.008577551055318164\n",
      "loss = tensor(51.1045, device='cuda:1')\n",
      "i=  41001\n",
      "error = 0.006629336361103032\n",
      "loss = tensor(68.1525, device='cuda:1')\n",
      "i=  41501\n",
      "error = 0.010041521416885886\n",
      "loss = tensor(86.4183, device='cuda:1')\n",
      "i=  42001\n",
      "error = 0.009623903466672235\n",
      "loss = tensor(112.0724, device='cuda:1')\n",
      "i=  42501\n",
      "error = 0.008421379917011538\n",
      "loss = tensor(46.1456, device='cuda:1')\n",
      "i=  43001\n",
      "error = 0.008072311565798561\n",
      "loss = tensor(39.8297, device='cuda:1')\n",
      "i=  43501\n",
      "error = 0.009135710868605486\n",
      "loss = tensor(67.7236, device='cuda:1')\n",
      "i=  44001\n",
      "error = 0.007801756192872061\n",
      "loss = tensor(37.0981, device='cuda:1')\n",
      "i=  44501\n",
      "error = 0.007652888078995129\n",
      "loss = tensor(37.3957, device='cuda:1')\n",
      "i=  45001\n",
      "error = 0.007762240346004926\n",
      "loss = tensor(38.1177, device='cuda:1')\n",
      "i=  45501\n",
      "error = 0.007336731052147196\n",
      "loss = tensor(35.7797, device='cuda:1')\n",
      "i=  46001\n",
      "error = 0.007787283452774487\n",
      "loss = tensor(37.2523, device='cuda:1')\n",
      "i=  46501\n",
      "error = 0.005981212633131951\n",
      "loss = tensor(176.0390, device='cuda:1')\n",
      "i=  47001\n",
      "error = 0.006020860478532089\n",
      "loss = tensor(78.3268, device='cuda:1')\n",
      "i=  47501\n",
      "error = 0.0072243935549835304\n",
      "loss = tensor(34.1373, device='cuda:1')\n",
      "i=  48001\n",
      "error = 0.00683212722675582\n",
      "loss = tensor(33.7870, device='cuda:1')\n",
      "i=  48501\n",
      "error = 0.006966381645720821\n",
      "loss = tensor(33.2088, device='cuda:1')\n",
      "i=  49001\n",
      "error = 0.0060019854881222\n",
      "loss = tensor(57.8603, device='cuda:1')\n",
      "i=  49501\n",
      "error = 0.005874842511430275\n",
      "loss = tensor(42.5646, device='cuda:1')\n",
      "time cost 23436.03112387657 s\n"
     ]
    }
   ],
   "source": [
    "traintime = 50000\n",
    "error_save=np.zeros([3,traintime])\n",
    "optimizer = optim.Adam([\n",
    "                {'params': model_u1.parameters()},\n",
    "                {'params': model_v1.parameters()},\n",
    "                {'params': model_p1.parameters()}\n",
    "            ])\n",
    "time_start=time.time()\n",
    "for i in range(traintime):\n",
    "    optimizer.zero_grad()\n",
    "    losses = MIM()\n",
    "    losses.backward()\n",
    "    optimizer.step() \n",
    "    error1,error2,error3=loss_error()\n",
    "    error_save[0,i]=float(error1)\n",
    "    error_save[1,i]=float(error2)\n",
    "    error_save[2,i]=float(error3)\n",
    "    if i%500==1:\n",
    "        print(\"i= \",i)\n",
    "        print(\"error =\",error1)\n",
    "\n",
    "        print(\"loss =\",losses.detach())\n",
    "        np.save(\"error_save_LDG_wave_2D_q_w10.npy\", error_save)\n",
    "np.save(\"error_save_LDG_wave_2D_q_w10.npy\", error_save)\n",
    "time_end=time.time()\n",
    "print('time cost',time_end-time_start,'s')"
   ]
  },
  {
   "cell_type": "code",
   "execution_count": 13,
   "metadata": {},
   "outputs": [],
   "source": [
    "import matplotlib.pyplot as plt\n",
    "error = np.load(\"error_save_LDG_wave_2D_q_w20.npy\")"
   ]
  },
  {
   "cell_type": "code",
   "execution_count": 14,
   "metadata": {},
   "outputs": [
    {
     "name": "stderr",
     "output_type": "stream",
     "text": [
      "/home/ubuntu/anaconda3/lib/python3.7/site-packages/ipykernel_launcher.py:1: RuntimeWarning: divide by zero encountered in log10\n",
      "  \"\"\"Entry point for launching an IPython kernel.\n"
     ]
    },
    {
     "data": {
      "text/plain": [
       "[<matplotlib.lines.Line2D at 0x7f54085683d0>]"
      ]
     },
     "execution_count": 14,
     "metadata": {},
     "output_type": "execute_result"
    },
    {
     "data": {
      "image/png": "[encoded data removed]",
      "text/plain": [
       "<Figure size 432x288 with 1 Axes>"
      ]
     },
     "metadata": {
      "needs_background": "light"
     },
     "output_type": "display_data"
    }
   ],
   "source": [
    "plt.plot(np.log10(error[1]))"
   ]
  },
  {
   "cell_type": "code",
   "execution_count": 15,
   "metadata": {},
   "outputs": [
    {
     "name": "stderr",
     "output_type": "stream",
     "text": [
      "/home/ubuntu/anaconda3/lib/python3.7/site-packages/ipykernel_launcher.py:1: RuntimeWarning: divide by zero encountered in log10\n",
      "  \"\"\"Entry point for launching an IPython kernel.\n"
     ]
    },
    {
     "data": {
      "text/plain": [
       "[<matplotlib.lines.Line2D at 0x7f5408481790>]"
      ]
     },
     "execution_count": 15,
     "metadata": {},
     "output_type": "execute_result"
    },
    {
     "data": {
      "image/png": "[encoded data removed]",
      "text/plain": [
       "<Figure size 432x288 with 1 Axes>"
      ]
     },
     "metadata": {
      "needs_background": "light"
     },
     "output_type": "display_data"
    }
   ],
   "source": [
    "plt.plot(np.log10(error[0]))"
   ]
  },
  {
   "cell_type": "code",
   "execution_count": 16,
   "metadata": {},
   "outputs": [
    {
     "name": "stderr",
     "output_type": "stream",
     "text": [
      "/home/ubuntu/anaconda3/lib/python3.7/site-packages/ipykernel_launcher.py:1: RuntimeWarning: divide by zero encountered in log10\n",
      "  \"\"\"Entry point for launching an IPython kernel.\n"
     ]
    },
    {
     "data": {
      "text/plain": [
       "[<matplotlib.lines.Line2D at 0x7f540846dcd0>]"
      ]
     },
     "execution_count": 16,
     "metadata": {},
     "output_type": "execute_result"
    },
    {
     "data": {
      "image/png": "[encoded data removed]",
      "text/plain": [
       "<Figure size 432x288 with 1 Axes>"
      ]
     },
     "metadata": {
      "needs_background": "light"
     },
     "output_type": "display_data"
    }
   ],
   "source": [
    "plt.plot(np.log10(error[2]))"
   ]
  }
 ],
 "metadata": {
  "kernelspec": {
   "display_name": "Python 3",
   "language": "python",
   "name": "python3"
  },
  "language_info": {
   "codemirror_mode": {
    "name": "ipython",
    "version": 3
   },
   "file_extension": ".py",
   "mimetype": "text/x-python",
   "name": "python",
   "nbconvert_exporter": "python",
   "pygments_lexer": "ipython3",
   "version": "3.7.6"
  }
 },
 "nbformat": 4,
 "nbformat_minor": 4
}
