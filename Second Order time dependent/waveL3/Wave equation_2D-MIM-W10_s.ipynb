{
 "cells": [
  {
   "cell_type": "code",
   "execution_count": 1,
   "metadata": {},
   "outputs": [],
   "source": [
    "import math\n",
    "import numpy as np\n",
    "import numpy.random as npr\n",
    "from numpy import linalg\n",
    "import torch\n",
    "import torch.nn as nn\n",
    "import torch.nn.functional as F\n",
    "from torch.utils import data\n",
    "from torch.utils.data import Dataset\n",
    "import torch.optim as optim\n",
    "import time\n",
    "from math import *\n",
    "torch.cuda.set_device(1)"
   ]
  },
  {
   "cell_type": "code",
   "execution_count": 2,
   "metadata": {},
   "outputs": [],
   "source": [
    "torch.set_default_tensor_type('torch.DoubleTensor')"
   ]
  },
  {
   "cell_type": "code",
   "execution_count": 3,
   "metadata": {},
   "outputs": [],
   "source": [
    "class ResNet(nn.Module):\n",
    "    def __init__(self,dim, m,o):\n",
    "        super(ResNet, self).__init__()\n",
    "        self.Ix = torch.zeros([dim,m]).cuda()\n",
    "        for i in range(dim):\n",
    "            self.Ix[i,i] = 1\n",
    "        self.fc1 = nn.Linear(dim, m)\n",
    "        self.fc2 = nn.Linear(m, m)\n",
    "        \n",
    "        self.fc3 = nn.Linear(m, m)\n",
    "        self.fc4 = nn.Linear(m, m)\n",
    " \n",
    "        self.fc5 = nn.Linear(m, m)\n",
    "        self.fc6 = nn.Linear(m, m)\n",
    "        self.outlayer = nn.Linear(m, o)\n",
    "\n",
    "    def forward(self, x):\n",
    "        s = x@self.Ix\n",
    "        y = self.fc1(x)\n",
    "        y = F.relu(y)**deg\n",
    "        y = self.fc2(y)\n",
    "        y = F.relu(y)**deg\n",
    "        y = y+s\n",
    "        \n",
    "        s=y\n",
    "        y = self.fc3(y)\n",
    "        y = F.relu(y)**deg\n",
    "        y = self.fc4(y)\n",
    "        y = F.relu(y)**deg\n",
    "        y = y+s\n",
    "\n",
    "        s=y\n",
    "        y = self.fc5(y)\n",
    "        y = F.relu(y)**deg\n",
    "        y = self.fc6(y)\n",
    "        y = F.relu(y)**deg\n",
    "        y = y+s\n",
    "        output = self.outlayer(y)\n",
    "        return output\n",
    "deg = 2"
   ]
  },
  {
   "cell_type": "code",
   "execution_count": 4,
   "metadata": {},
   "outputs": [],
   "source": [
    "def sol_exact(x):\n",
    "    sol = (x[:,0]**2*torch.sin(pi*x[:,1])*torch.sin(pi*x[:,2])).reshape(x.size()[0],1)\n",
    "    return sol"
   ]
  },
  {
   "cell_type": "code",
   "execution_count": 5,
   "metadata": {},
   "outputs": [],
   "source": [
    "def sol_exact_H1(x):\n",
    "    sol = torch.zeros(x.size()[0],4).cuda()\n",
    "    sol[:,0] = sol_exact(x).reshape(1,x.size()[0])\n",
    "    sol[:,1] = (2*x[:,0]*torch.sin(pi*x[:,1])*torch.sin(pi*x[:,2]))\n",
    "    sol[:,2] = (pi*x[:,0]**2*torch.cos(pi*x[:,1])*torch.sin(pi*x[:,2]))\n",
    "    sol[:,3] = (pi*x[:,0]**2*torch.sin(pi*x[:,1])*torch.cos(pi*x[:,2]))\n",
    "    return sol"
   ]
  },
  {
   "cell_type": "code",
   "execution_count": 6,
   "metadata": {},
   "outputs": [],
   "source": [
    "def source(x):\n",
    "    sol = (2*torch.sin(pi*x[:,1])*torch.sin(pi*x[:,2])).reshape(x.size()[0],1)\n",
    "    sol =  sol +  (2*pi**2*x[:,0]**2*torch.sin(pi*x[:,1])*torch.sin(pi*x[:,2])).reshape(x.size()[0],1)    \n",
    "    return sol"
   ]
  },
  {
   "cell_type": "code",
   "execution_count": 7,
   "metadata": {},
   "outputs": [],
   "source": [
    "Batch_size = 50000\n",
    "def MIM():\n",
    "    x = torch.rand(Batch_size,3).cuda()\n",
    "    x.requires_grad = True\n",
    "    u = model_u(x)\n",
    "    v = model_v(x)\n",
    "    p = model_p(x)\n",
    "    ve = torch.ones(u.shape).cuda()\n",
    "    Du = torch.autograd.grad(u,x,grad_outputs=ve,create_graph=True)[0]\n",
    "    Nv = Du[:,0].reshape(x.size()[0],1)\n",
    "    Np = Du[:,1:3].reshape(x.size()[0],2)\n",
    "    Dv = torch.autograd.grad(v,x,grad_outputs=ve,create_graph=True)[0]\n",
    "    v_t = Dv[:,0].reshape(x.size()[0],1)\n",
    "    uxx = torch.zeros(x.size()[0],1).cuda()\n",
    "    for i in range(2):\n",
    "        uxi = p[:,i].reshape(x.size()[0],1)\n",
    "        uxxi = torch.autograd.grad(uxi,x,grad_outputs=ve,create_graph=True)[0]\n",
    "        uxx = uxx + uxxi[:,i+1].reshape(x.size()[0],1)\n",
    "    loss = torch.sum( (Nv-v)**2 ) + torch.sum( (Np-p)**2 ) + torch.sum( (v_t - uxx - source(x))**2 )\n",
    "    return loss"
   ]
  },
  {
   "cell_type": "code",
   "execution_count": 8,
   "metadata": {},
   "outputs": [
    {
     "data": {
      "text/plain": [
       "ResNet(\n",
       "  (fc1): Linear(in_features=3, out_features=10, bias=True)\n",
       "  (fc2): Linear(in_features=10, out_features=10, bias=True)\n",
       "  (fc3): Linear(in_features=10, out_features=10, bias=True)\n",
       "  (fc4): Linear(in_features=10, out_features=10, bias=True)\n",
       "  (fc5): Linear(in_features=10, out_features=10, bias=True)\n",
       "  (fc6): Linear(in_features=10, out_features=10, bias=True)\n",
       "  (outlayer): Linear(in_features=10, out_features=2, bias=True)\n",
       ")"
      ]
     },
     "execution_count": 8,
     "metadata": {},
     "output_type": "execute_result"
    }
   ],
   "source": [
    "model_u1 = ResNet(3,10,1)\n",
    "model_v1 = ResNet(3,10,1)\n",
    "model_p1 = ResNet(3,10,2)\n",
    "device=torch.device(\"cuda:1\" )\n",
    "\n",
    "model_u1.to(device)\n",
    "model_v1.to(device)\n",
    "model_p1.to(device)"
   ]
  },
  {
   "cell_type": "code",
   "execution_count": 9,
   "metadata": {},
   "outputs": [],
   "source": [
    "def model_u(x):\n",
    "    return x[:,0:1]*(x*(1-x))[:,1:2]*(x*(1-x))[:,2:3]*model_u1(x)\n",
    "def model_v(x):\n",
    "    return x[:,0].reshape(x.size()[0],1)*model_v1(x)\n",
    "def model_p(x):\n",
    "    return model_p1(x)"
   ]
  },
  {
   "cell_type": "code",
   "execution_count": 10,
   "metadata": {},
   "outputs": [],
   "source": [
    "def initparam(model,sigma):\n",
    "    for m in model.modules():\n",
    "        if isinstance(m,nn.Linear):\n",
    "            m.weight.data.uniform_(-sigma,sigma)#全连接层参数初始化\n",
    "            m.bias.data.uniform_(0,sigma)\n",
    "    return model\n",
    "  "
   ]
  },
  {
   "cell_type": "code",
   "execution_count": 11,
   "metadata": {},
   "outputs": [],
   "source": [
    "notes = torch.rand(10000,3).cuda()\n",
    "notes[:,0] = 1\n",
    "exact = sol_exact_H1(notes)\n",
    "u_L2 = sqrt(torch.sum((exact[:,0])**2)/10000)\n",
    "v_L2 = sqrt(torch.sum(exact[:,1]**2)/10000)\n",
    "p_L2 = sqrt(torch.sum((exact[:,2:4])**2)/10000)\n",
    "def loss_error():\n",
    "    notes = torch.rand(10000,3).cuda()\n",
    "    notes[:,0] = 1\n",
    "    predict = torch.zeros(10000,4).cuda()\n",
    "    predict[:,0] = model_u(notes).reshape([1,notes.size()[0]])\n",
    "    predict[:,1] = model_v(notes).reshape([1,notes.size()[0]])\n",
    "    predict[:,2:4] = model_p(notes)\n",
    "    exact = sol_exact_H1(notes)\n",
    "    value1 = sqrt(torch.sum((exact[:,0] - predict[:,0])**2)/10000)/u_L2\n",
    "    value2 = sqrt(torch.sum((exact[:,1] - predict[:,1])**2)/10000)/v_L2\n",
    "    value3 =  sqrt(torch.sum((exact[:,2:4] - predict[:,2:4])**2)/10000)/p_L2\n",
    "    return value1,value2,value3"
   ]
  },
  {
   "cell_type": "code",
   "execution_count": 12,
   "metadata": {},
   "outputs": [
    {
     "name": "stdout",
     "output_type": "stream",
     "text": [
      "i=  1\n",
      "error = 1.011943497685883\n",
      "loss = tensor(1329482.7030, device='cuda:1')\n",
      "i=  501\n",
      "error = 0.17872670903914628\n",
      "loss = tensor(26697.2067, device='cuda:1')\n",
      "i=  1001\n",
      "error = 0.14210038153500207\n",
      "loss = tensor(8403.6844, device='cuda:1')\n",
      "i=  1501\n",
      "error = 0.11441037845867166\n",
      "loss = tensor(2666.5679, device='cuda:1')\n",
      "i=  2001\n",
      "error = 0.10010500379034647\n",
      "loss = tensor(1887.4745, device='cuda:1')\n",
      "i=  2501\n",
      "error = 0.08243469076911741\n",
      "loss = tensor(1526.3761, device='cuda:1')\n",
      "i=  3001\n",
      "error = 0.07449289266104127\n",
      "loss = tensor(1302.5660, device='cuda:1')\n",
      "i=  3501\n",
      "error = 0.061781423807342487\n",
      "loss = tensor(1065.9768, device='cuda:1')\n",
      "i=  4001\n",
      "error = 0.05215899618199817\n",
      "loss = tensor(902.0370, device='cuda:1')\n",
      "i=  4501\n",
      "error = 0.04417194431264687\n",
      "loss = tensor(785.2086, device='cuda:1')\n",
      "i=  5001\n",
      "error = 0.03145088591198928\n",
      "loss = tensor(709.2554, device='cuda:1')\n",
      "i=  5501\n",
      "error = 0.029810166624156597\n",
      "loss = tensor(648.3149, device='cuda:1')\n",
      "i=  6001\n",
      "error = 0.02504166508243402\n",
      "loss = tensor(539.3505, device='cuda:1')\n",
      "i=  6501\n",
      "error = 0.028185470079234363\n",
      "loss = tensor(722.0510, device='cuda:1')\n",
      "i=  7001\n",
      "error = 0.01940363180490049\n",
      "loss = tensor(529.1712, device='cuda:1')\n",
      "i=  7501\n",
      "error = 0.023938696974181946\n",
      "loss = tensor(471.7441, device='cuda:1')\n",
      "i=  8001\n",
      "error = 0.017737352803361944\n",
      "loss = tensor(388.2174, device='cuda:1')\n",
      "i=  8501\n",
      "error = 0.01757692514902329\n",
      "loss = tensor(349.5484, device='cuda:1')\n",
      "i=  9001\n",
      "error = 0.015313405122996717\n",
      "loss = tensor(341.3646, device='cuda:1')\n",
      "i=  9501\n",
      "error = 0.01793887090064379\n",
      "loss = tensor(313.5170, device='cuda:1')\n",
      "i=  10001\n",
      "error = 0.016004050196198088\n",
      "loss = tensor(290.0415, device='cuda:1')\n",
      "i=  10501\n",
      "error = 0.012997243391056713\n",
      "loss = tensor(344.8310, device='cuda:1')\n",
      "i=  11001\n",
      "error = 0.014889600970003082\n",
      "loss = tensor(261.5204, device='cuda:1')\n",
      "i=  11501\n",
      "error = 0.01633311599641793\n",
      "loss = tensor(285.6814, device='cuda:1')\n",
      "i=  12001\n",
      "error = 0.013507716155979087\n",
      "loss = tensor(230.0074, device='cuda:1')\n",
      "i=  12501\n",
      "error = 0.01240253945410456\n",
      "loss = tensor(223.3485, device='cuda:1')\n",
      "i=  13001\n",
      "error = 0.014743408630836457\n",
      "loss = tensor(349.2883, device='cuda:1')\n",
      "i=  13501\n",
      "error = 0.01118262649512217\n",
      "loss = tensor(200.3860, device='cuda:1')\n",
      "i=  14001\n",
      "error = 0.011701285044174827\n",
      "loss = tensor(194.2483, device='cuda:1')\n",
      "i=  14501\n",
      "error = 0.009543072826166395\n",
      "loss = tensor(194.5447, device='cuda:1')\n",
      "i=  15001\n",
      "error = 0.010722628797072033\n",
      "loss = tensor(185.0184, device='cuda:1')\n",
      "i=  15501\n",
      "error = 0.009939039558373355\n",
      "loss = tensor(178.6465, device='cuda:1')\n",
      "i=  16001\n",
      "error = 0.007842300318855931\n",
      "loss = tensor(237.1716, device='cuda:1')\n",
      "i=  16501\n",
      "error = 0.008828670102435345\n",
      "loss = tensor(162.3487, device='cuda:1')\n",
      "i=  17001\n",
      "error = 0.009391250371357067\n",
      "loss = tensor(155.3218, device='cuda:1')\n",
      "i=  17501\n",
      "error = 0.009166377846451424\n",
      "loss = tensor(201.2011, device='cuda:1')\n",
      "i=  18001\n",
      "error = 0.008068993297984349\n",
      "loss = tensor(144.5623, device='cuda:1')\n",
      "i=  18501\n",
      "error = 0.007938264493417457\n",
      "loss = tensor(139.1620, device='cuda:1')\n",
      "i=  19001\n",
      "error = 0.007594871673844058\n",
      "loss = tensor(137.4211, device='cuda:1')\n",
      "i=  19501\n",
      "error = 0.006199923397222255\n",
      "loss = tensor(246.3548, device='cuda:1')\n",
      "i=  20001\n",
      "error = 0.006828470977522256\n",
      "loss = tensor(134.3095, device='cuda:1')\n",
      "i=  20501\n",
      "error = 0.01005222192228899\n",
      "loss = tensor(231.6181, device='cuda:1')\n",
      "i=  21001\n",
      "error = 0.0073441916018115155\n",
      "loss = tensor(122.7468, device='cuda:1')\n",
      "i=  21501\n",
      "error = 0.0057071952046983745\n",
      "loss = tensor(152.7045, device='cuda:1')\n",
      "i=  22001\n",
      "error = 0.006372665313406407\n",
      "loss = tensor(116.3808, device='cuda:1')\n",
      "i=  22501\n",
      "error = 0.00567496715644708\n",
      "loss = tensor(246.2441, device='cuda:1')\n",
      "i=  23001\n",
      "error = 0.005499705653814858\n",
      "loss = tensor(212.6179, device='cuda:1')\n",
      "i=  23501\n",
      "error = 0.00647055731533883\n",
      "loss = tensor(104.8561, device='cuda:1')\n",
      "i=  24001\n",
      "error = 0.013817043799953571\n",
      "loss = tensor(587.3803, device='cuda:1')\n",
      "i=  24501\n",
      "error = 0.00589712170102529\n",
      "loss = tensor(94.8947, device='cuda:1')\n",
      "i=  25001\n",
      "error = 0.005768566707647549\n",
      "loss = tensor(93.2156, device='cuda:1')\n",
      "i=  25501\n",
      "error = 0.0046267987866639975\n",
      "loss = tensor(137.6180, device='cuda:1')\n",
      "i=  26001\n",
      "error = 0.0046578380367245965\n",
      "loss = tensor(141.2424, device='cuda:1')\n",
      "i=  26501\n",
      "error = 0.005290480643639687\n",
      "loss = tensor(85.6180, device='cuda:1')\n",
      "i=  27001\n",
      "error = 0.006072448656289681\n",
      "loss = tensor(124.6334, device='cuda:1')\n",
      "i=  27501\n",
      "error = 0.004370951035770084\n",
      "loss = tensor(82.5589, device='cuda:1')\n",
      "i=  28001\n",
      "error = 0.004435266976148863\n",
      "loss = tensor(82.2265, device='cuda:1')\n",
      "i=  28501\n",
      "error = 0.004430250962370911\n",
      "loss = tensor(83.5862, device='cuda:1')\n",
      "i=  29001\n",
      "error = 0.006337829795989114\n",
      "loss = tensor(99.3959, device='cuda:1')\n",
      "i=  29501\n",
      "error = 0.004642681790241838\n",
      "loss = tensor(74.9855, device='cuda:1')\n",
      "i=  30001\n",
      "error = 0.0038551911383106095\n",
      "loss = tensor(76.9287, device='cuda:1')\n",
      "i=  30501\n",
      "error = 0.006115806385120126\n",
      "loss = tensor(100.9763, device='cuda:1')\n",
      "i=  31001\n",
      "error = 0.003863280562491346\n",
      "loss = tensor(91.6330, device='cuda:1')\n",
      "i=  31501\n",
      "error = 0.005305985275105328\n",
      "loss = tensor(82.0061, device='cuda:1')\n",
      "i=  32001\n",
      "error = 0.004314856315617629\n",
      "loss = tensor(67.6888, device='cuda:1')\n",
      "i=  32501\n",
      "error = 0.005641493334415914\n",
      "loss = tensor(96.1827, device='cuda:1')\n",
      "i=  33001\n",
      "error = 0.005495536270392057\n",
      "loss = tensor(87.3984, device='cuda:1')\n",
      "i=  33501\n",
      "error = 0.004355101644166451\n",
      "loss = tensor(162.2476, device='cuda:1')\n",
      "i=  34001\n",
      "error = 0.0036629867462387284\n",
      "loss = tensor(70.9678, device='cuda:1')\n",
      "i=  34501\n",
      "error = 0.003923473973735446\n",
      "loss = tensor(122.8325, device='cuda:1')\n",
      "i=  35001\n",
      "error = 0.006523767542736061\n",
      "loss = tensor(113.2550, device='cuda:1')\n",
      "i=  35501\n",
      "error = 0.004103295104613121\n",
      "loss = tensor(61.2000, device='cuda:1')\n",
      "i=  36001\n",
      "error = 0.003561706625479114\n",
      "loss = tensor(80.6765, device='cuda:1')\n",
      "i=  36501\n",
      "error = 0.0039018360427163674\n",
      "loss = tensor(56.6554, device='cuda:1')\n",
      "i=  37001\n",
      "error = 0.0036110699482768006\n",
      "loss = tensor(64.1220, device='cuda:1')\n",
      "i=  37501\n",
      "error = 0.004685713244353155\n",
      "loss = tensor(63.8415, device='cuda:1')\n",
      "i=  38001\n",
      "error = 0.003970006505197015\n",
      "loss = tensor(75.0167, device='cuda:1')\n",
      "i=  38501\n",
      "error = 0.003947957129545295\n",
      "loss = tensor(54.3413, device='cuda:1')\n",
      "i=  39001\n",
      "error = 0.004588362280082086\n",
      "loss = tensor(59.4754, device='cuda:1')\n",
      "i=  39501\n",
      "error = 0.003267984344686671\n",
      "loss = tensor(121.0093, device='cuda:1')\n",
      "i=  40001\n",
      "error = 0.0046679707857317015\n",
      "loss = tensor(57.1363, device='cuda:1')\n",
      "i=  40501\n",
      "error = 0.0033029450170882517\n",
      "loss = tensor(50.9245, device='cuda:1')\n",
      "i=  41001\n",
      "error = 0.004483594351872216\n",
      "loss = tensor(84.4782, device='cuda:1')\n",
      "i=  41501\n",
      "error = 0.003818808216948331\n",
      "loss = tensor(49.4333, device='cuda:1')\n",
      "i=  42001\n",
      "error = 0.0036506231037915777\n",
      "loss = tensor(47.9953, device='cuda:1')\n",
      "i=  42501\n",
      "error = 0.0032691280573399384\n",
      "loss = tensor(66.3801, device='cuda:1')\n",
      "i=  43001\n",
      "error = 0.00468704726849141\n",
      "loss = tensor(66.4891, device='cuda:1')\n",
      "i=  43501\n",
      "error = 0.0037252365644931417\n",
      "loss = tensor(67.1316, device='cuda:1')\n",
      "i=  44001\n",
      "error = 0.003402233458050104\n",
      "loss = tensor(81.1315, device='cuda:1')\n",
      "i=  44501\n",
      "error = 0.0031383659550319972\n",
      "loss = tensor(54.8510, device='cuda:1')\n",
      "i=  45001\n",
      "error = 0.003163162262002234\n",
      "loss = tensor(66.5165, device='cuda:1')\n",
      "i=  45501\n",
      "error = 0.003516254532682825\n",
      "loss = tensor(47.7266, device='cuda:1')\n",
      "i=  46001\n",
      "error = 0.0051011910122049885\n",
      "loss = tensor(46.3233, device='cuda:1')\n",
      "i=  46501\n",
      "error = 0.0032839233251243374\n",
      "loss = tensor(45.7899, device='cuda:1')\n",
      "i=  47001\n",
      "error = 0.003936245938503238\n",
      "loss = tensor(48.8105, device='cuda:1')\n",
      "i=  47501\n",
      "error = 0.0035876777707185025\n",
      "loss = tensor(44.1673, device='cuda:1')\n",
      "i=  48001\n",
      "error = 0.0034206908488545696\n",
      "loss = tensor(70.5123, device='cuda:1')\n",
      "i=  48501\n",
      "error = 0.0040227360987193025\n",
      "loss = tensor(56.1913, device='cuda:1')\n",
      "i=  49001\n",
      "error = 0.003568129898682465\n",
      "loss = tensor(44.6357, device='cuda:1')\n",
      "i=  49501\n",
      "error = 0.003958155827678761\n",
      "loss = tensor(71.8674, device='cuda:1')\n",
      "time cost 23080.86564230919 s\n"
     ]
    }
   ],
   "source": [
    "traintime = 50000\n",
    "error_save=np.zeros([3,traintime])\n",
    "optimizer = optim.Adam([\n",
    "                {'params': model_u1.parameters()},\n",
    "                {'params': model_v1.parameters()},\n",
    "                {'params': model_p1.parameters()}\n",
    "            ])\n",
    "time_start=time.time()\n",
    "for i in range(traintime):\n",
    "    optimizer.zero_grad()\n",
    "    losses = MIM()\n",
    "    losses.backward()\n",
    "    optimizer.step() \n",
    "    error1,error2,error3=loss_error()\n",
    "    error_save[0,i]=float(error1)\n",
    "    error_save[1,i]=float(error2)\n",
    "    error_save[2,i]=float(error3)\n",
    "    if i%500==1:\n",
    "        print(\"i= \",i)\n",
    "        print(\"error =\",error1)\n",
    "\n",
    "        print(\"loss =\",losses.detach())\n",
    "        np.save(\"error_save_LDG_wave_2D_s_w10.npy\", error_save)\n",
    "np.save(\"error_save_LDG_wave_2D_s_w10.npy\", error_save)\n",
    "time_end=time.time()\n",
    "print('time cost',time_end-time_start,'s')"
   ]
  },
  {
   "cell_type": "code",
   "execution_count": 13,
   "metadata": {},
   "outputs": [],
   "source": [
    "import matplotlib.pyplot as plt\n",
    "error = np.load(\"error_save_LDG_wave_2D_q_w20.npy\")"
   ]
  },
  {
   "cell_type": "code",
   "execution_count": 14,
   "metadata": {},
   "outputs": [
    {
     "name": "stderr",
     "output_type": "stream",
     "text": [
      "/home/ubuntu/anaconda3/lib/python3.7/site-packages/ipykernel_launcher.py:1: RuntimeWarning: divide by zero encountered in log10\n",
      "  \"\"\"Entry point for launching an IPython kernel.\n"
     ]
    },
    {
     "data": {
      "text/plain": [
       "[<matplotlib.lines.Line2D at 0x7f67dc176390>]"
      ]
     },
     "execution_count": 14,
     "metadata": {},
     "output_type": "execute_result"
    },
    {
     "data": {
      "image/png": "[encoded data removed]",
      "text/plain": [
       "<Figure size 432x288 with 1 Axes>"
      ]
     },
     "metadata": {
      "needs_background": "light"
     },
     "output_type": "display_data"
    }
   ],
   "source": [
    "plt.plot(np.log10(error[1]))"
   ]
  },
  {
   "cell_type": "code",
   "execution_count": 15,
   "metadata": {},
   "outputs": [
    {
     "name": "stderr",
     "output_type": "stream",
     "text": [
      "/home/ubuntu/anaconda3/lib/python3.7/site-packages/ipykernel_launcher.py:1: RuntimeWarning: divide by zero encountered in log10\n",
      "  \"\"\"Entry point for launching an IPython kernel.\n"
     ]
    },
    {
     "data": {
      "text/plain": [
       "[<matplotlib.lines.Line2D at 0x7f67dc08f650>]"
      ]
     },
     "execution_count": 15,
     "metadata": {},
     "output_type": "execute_result"
    },
    {
     "data": {
      "image/png": "[encoded data removed]",
      "text/plain": [
       "<Figure size 432x288 with 1 Axes>"
      ]
     },
     "metadata": {
      "needs_background": "light"
     },
     "output_type": "display_data"
    }
   ],
   "source": [
    "plt.plot(np.log10(error[0]))"
   ]
  },
  {
   "cell_type": "code",
   "execution_count": 16,
   "metadata": {},
   "outputs": [
    {
     "name": "stderr",
     "output_type": "stream",
     "text": [
      "/home/ubuntu/anaconda3/lib/python3.7/site-packages/ipykernel_launcher.py:1: RuntimeWarning: divide by zero encountered in log10\n",
      "  \"\"\"Entry point for launching an IPython kernel.\n"
     ]
    },
    {
     "data": {
      "text/plain": [
       "[<matplotlib.lines.Line2D at 0x7f67dc07bc90>]"
      ]
     },
     "execution_count": 16,
     "metadata": {},
     "output_type": "execute_result"
    },
    {
     "data": {
      "image/png": "[encoded data removed]",
      "text/plain": [
       "<Figure size 432x288 with 1 Axes>"
      ]
     },
     "metadata": {
      "needs_background": "light"
     },
     "output_type": "display_data"
    }
   ],
   "source": [
    "plt.plot(np.log10(error[2]))"
   ]
  },
  {
   "cell_type": "markdown",
   "metadata": {},
   "source": [
    "# "
   ]
  }
 ],
 "metadata": {
  "kernelspec": {
   "display_name": "Python 3",
   "language": "python",
   "name": "python3"
  },
  "language_info": {
   "codemirror_mode": {
    "name": "ipython",
    "version": 3
   },
   "file_extension": ".py",
   "mimetype": "text/x-python",
   "name": "python",
   "nbconvert_exporter": "python",
   "pygments_lexer": "ipython3",
   "version": "3.7.6"
  }
 },
 "nbformat": 4,
 "nbformat_minor": 4
}
