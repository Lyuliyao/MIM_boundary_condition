{
 "cells": [
  {
   "cell_type": "code",
   "execution_count": 1,
   "metadata": {},
   "outputs": [],
   "source": [
    "import math\n",
    "import numpy as np\n",
    "import numpy.random as npr\n",
    "from numpy import linalg\n",
    "import torch\n",
    "import torch.nn as nn\n",
    "import torch.nn.functional as F\n",
    "from torch.utils import data\n",
    "from torch.utils.data import Dataset\n",
    "import torch.optim as optim\n",
    "import time\n",
    "from math import *\n",
    "torch.cuda.set_device(1)"
   ]
  },
  {
   "cell_type": "code",
   "execution_count": 2,
   "metadata": {},
   "outputs": [],
   "source": [
    "torch.set_default_tensor_type('torch.DoubleTensor')"
   ]
  },
  {
   "cell_type": "code",
   "execution_count": 3,
   "metadata": {},
   "outputs": [],
   "source": [
    "class ResNet(nn.Module):\n",
    "    def __init__(self,dim, m,o):\n",
    "        super(ResNet, self).__init__()\n",
    "        self.Ix = torch.zeros([dim,m]).cuda()\n",
    "        for i in range(dim):\n",
    "            self.Ix[i,i] = 1\n",
    "        self.fc1 = nn.Linear(dim, m)\n",
    "        self.fc2 = nn.Linear(m, m)\n",
    "        \n",
    "        self.fc3 = nn.Linear(m, m)\n",
    "        self.fc4 = nn.Linear(m, m)\n",
    " \n",
    "        self.fc5 = nn.Linear(m, m)\n",
    "        self.fc6 = nn.Linear(m, m)\n",
    "        self.outlayer = nn.Linear(m, o)\n",
    "\n",
    "    def forward(self, x):\n",
    "        s = x@self.Ix\n",
    "        y = self.fc1(x)\n",
    "        y = F.relu(y)**deg\n",
    "        y = self.fc2(y)\n",
    "        y = F.relu(y)**deg\n",
    "        y = y+s\n",
    "        \n",
    "        s=y\n",
    "        y = self.fc3(y)\n",
    "        y = F.relu(y)**deg\n",
    "        y = self.fc4(y)\n",
    "        y = F.relu(y)**deg\n",
    "        y = y+s\n",
    "\n",
    "        s=y\n",
    "        y = self.fc5(y)\n",
    "        y = F.relu(y)**deg\n",
    "        y = self.fc6(y)\n",
    "        y = F.relu(y)**deg\n",
    "        y = y+s\n",
    "        output = self.outlayer(y)\n",
    "        return output\n",
    "deg = 3"
   ]
  },
  {
   "cell_type": "code",
   "execution_count": 4,
   "metadata": {},
   "outputs": [],
   "source": [
    "def sol_exact(x):\n",
    "    sol = (x[:,0]**2*torch.sin(pi*x[:,1])*torch.sin(pi*x[:,2])).reshape(x.size()[0],1)\n",
    "    return sol"
   ]
  },
  {
   "cell_type": "code",
   "execution_count": 5,
   "metadata": {},
   "outputs": [],
   "source": [
    "def sol_exact_H1(x):\n",
    "    sol = torch.zeros(x.size()[0],4).cuda()\n",
    "    sol[:,0] = sol_exact(x).reshape(1,x.size()[0])\n",
    "    sol[:,1] = (2*x[:,0]*torch.sin(pi*x[:,1])*torch.sin(pi*x[:,2]))\n",
    "    sol[:,2] = (pi*x[:,0]**2*torch.cos(pi*x[:,1])*torch.sin(pi*x[:,2]))\n",
    "    sol[:,3] = (pi*x[:,0]**2*torch.sin(pi*x[:,1])*torch.cos(pi*x[:,2]))\n",
    "    return sol"
   ]
  },
  {
   "cell_type": "code",
   "execution_count": 6,
   "metadata": {},
   "outputs": [],
   "source": [
    "def source(x):\n",
    "    sol = (2*torch.sin(pi*x[:,1])*torch.sin(pi*x[:,2])).reshape(x.size()[0],1)\n",
    "    sol =  sol +  (2*pi**2*x[:,0]**2*torch.sin(pi*x[:,1])*torch.sin(pi*x[:,2])).reshape(x.size()[0],1)    \n",
    "    return sol"
   ]
  },
  {
   "cell_type": "code",
   "execution_count": 7,
   "metadata": {},
   "outputs": [],
   "source": [
    "Batch_size = 50000\n",
    "def MIM():\n",
    "    x = torch.rand(Batch_size,3).cuda()\n",
    "    x.requires_grad = True\n",
    "    u = model_u(x)\n",
    "    v = model_v(x)\n",
    "    p = model_p(x)\n",
    "    ve = torch.ones(u.shape).cuda()\n",
    "    Du = torch.autograd.grad(u,x,grad_outputs=ve,create_graph=True)[0]\n",
    "    Nv = Du[:,0].reshape(x.size()[0],1)\n",
    "    Np = Du[:,1:3].reshape(x.size()[0],2)\n",
    "    Dv = torch.autograd.grad(v,x,grad_outputs=ve,create_graph=True)[0]\n",
    "    v_t = Dv[:,0].reshape(x.size()[0],1)\n",
    "    uxx = torch.zeros(x.size()[0],1).cuda()\n",
    "    for i in range(2):\n",
    "        uxi = p[:,i].reshape(x.size()[0],1)\n",
    "        uxxi = torch.autograd.grad(uxi,x,grad_outputs=ve,create_graph=True)[0]\n",
    "        uxx = uxx + uxxi[:,i+1].reshape(x.size()[0],1)\n",
    "    loss = torch.sum( (Nv-v)**2 )/50000 + torch.sum( (Np-p)**2 )/50000 + torch.sum( (v_t - uxx - source(x))**2 )/50000\n",
    "    return loss"
   ]
  },
  {
   "cell_type": "code",
   "execution_count": 8,
   "metadata": {},
   "outputs": [
    {
     "data": {
      "text/plain": [
       "ResNet(\n",
       "  (fc1): Linear(in_features=3, out_features=20, bias=True)\n",
       "  (fc2): Linear(in_features=20, out_features=20, bias=True)\n",
       "  (fc3): Linear(in_features=20, out_features=20, bias=True)\n",
       "  (fc4): Linear(in_features=20, out_features=20, bias=True)\n",
       "  (fc5): Linear(in_features=20, out_features=20, bias=True)\n",
       "  (fc6): Linear(in_features=20, out_features=20, bias=True)\n",
       "  (outlayer): Linear(in_features=20, out_features=2, bias=True)\n",
       ")"
      ]
     },
     "execution_count": 8,
     "metadata": {},
     "output_type": "execute_result"
    }
   ],
   "source": [
    "model_u1 = ResNet(3,20,1)\n",
    "model_v1 = ResNet(3,20,1)\n",
    "model_p1 = ResNet(3,20,2)\n",
    "device=torch.device(\"cuda:1\" )\n",
    "\n",
    "model_u1.to(device)\n",
    "model_v1.to(device)\n",
    "model_p1.to(device)"
   ]
  },
  {
   "cell_type": "code",
   "execution_count": 9,
   "metadata": {},
   "outputs": [],
   "source": [
    "def model_u(x):\n",
    "    return x[:,0:1]*(x*(1-x))[:,1:2]*(x*(1-x))[:,2:3]*model_u1(x)\n",
    "def model_v(x):\n",
    "    return x[:,0:1]*model_v1(x)\n",
    "def model_p(x):\n",
    "    return model_p1(x)"
   ]
  },
  {
   "cell_type": "code",
   "execution_count": 10,
   "metadata": {},
   "outputs": [],
   "source": [
    "def initparam(model,sigma):\n",
    "    for m in model.modules():\n",
    "        if isinstance(m,nn.Linear):\n",
    "            m.weight.data.uniform_(-sigma,sigma)#全连接层参数初始化\n",
    "            m.bias.data.uniform_(0,sigma)\n",
    "    return model\n",
    "  "
   ]
  },
  {
   "cell_type": "code",
   "execution_count": 11,
   "metadata": {},
   "outputs": [],
   "source": [
    "notes = torch.rand(10000,3).cuda()\n",
    "notes[:,0] = 1\n",
    "exact = sol_exact_H1(notes)\n",
    "u_L2 = sqrt(torch.sum((exact[:,0])**2)/10000)\n",
    "v_L2 = sqrt(torch.sum(exact[:,1]**2)/10000)\n",
    "p_L2 = sqrt(torch.sum((exact[:,2:4])**2)/10000)\n",
    "def loss_error():\n",
    "    notes = torch.rand(10000,3).cuda()\n",
    "    notes[:,0] = 1\n",
    "    predict = torch.zeros(10000,4).cuda()\n",
    "    predict[:,0] = model_u(notes).reshape([1,notes.size()[0]])\n",
    "    predict[:,1] = model_v(notes).reshape([1,notes.size()[0]])\n",
    "    predict[:,2:4] = model_p(notes)\n",
    "    exact = sol_exact_H1(notes)\n",
    "    value1 = sqrt(torch.sum((exact[:,0] - predict[:,0])**2)/10000)/u_L2\n",
    "    value2 = sqrt(torch.sum((exact[:,1] - predict[:,1])**2)/10000)/v_L2\n",
    "    value3 =  sqrt(torch.sum((exact[:,2:4] - predict[:,2:4])**2)/10000)/p_L2\n",
    "    return value1,value2,value3"
   ]
  },
  {
   "cell_type": "code",
   "execution_count": 12,
   "metadata": {},
   "outputs": [
    {
     "name": "stdout",
     "output_type": "stream",
     "text": [
      "i=  1\n",
      "error = 1.0114891241340076\n",
      "loss = tensor(27.6108, device='cuda:1')\n",
      "i=  501\n",
      "error = 0.29583440585358267\n",
      "loss = tensor(0.1236, device='cuda:1')\n",
      "i=  1001\n",
      "error = 0.1067050729780169\n",
      "loss = tensor(0.0370, device='cuda:1')\n",
      "i=  1501\n",
      "error = 0.04737881144463778\n",
      "loss = tensor(0.0170, device='cuda:1')\n",
      "i=  2001\n",
      "error = 0.030448739552906716\n",
      "loss = tensor(0.0112, device='cuda:1')\n",
      "i=  2501\n",
      "error = 0.022845841534249935\n",
      "loss = tensor(0.0079, device='cuda:1')\n",
      "i=  3001\n",
      "error = 0.016489738489308764\n",
      "loss = tensor(0.0060, device='cuda:1')\n",
      "i=  3501\n",
      "error = 0.013000945406982939\n",
      "loss = tensor(0.0049, device='cuda:1')\n",
      "i=  4001\n",
      "error = 0.010610335947973155\n",
      "loss = tensor(0.0043, device='cuda:1')\n",
      "i=  4501\n",
      "error = 0.014211354180406357\n",
      "loss = tensor(0.0086, device='cuda:1')\n",
      "i=  5001\n",
      "error = 0.009627161601382701\n",
      "loss = tensor(0.0040, device='cuda:1')\n",
      "i=  5501\n",
      "error = 0.009693973748477998\n",
      "loss = tensor(0.0106, device='cuda:1')\n",
      "i=  6001\n",
      "error = 0.008897908612651325\n",
      "loss = tensor(0.0024, device='cuda:1')\n",
      "i=  6501\n",
      "error = 0.008147911092428893\n",
      "loss = tensor(0.0026, device='cuda:1')\n",
      "i=  7001\n",
      "error = 0.00784574749143102\n",
      "loss = tensor(0.0019, device='cuda:1')\n",
      "i=  7501\n",
      "error = 0.012275333868886096\n",
      "loss = tensor(0.0084, device='cuda:1')\n",
      "i=  8001\n",
      "error = 0.007575224707781842\n",
      "loss = tensor(0.0016, device='cuda:1')\n",
      "i=  8501\n",
      "error = 0.0072427601187107895\n",
      "loss = tensor(0.0037, device='cuda:1')\n",
      "i=  9001\n",
      "error = 0.01100707631017238\n",
      "loss = tensor(0.0032, device='cuda:1')\n",
      "i=  9501\n",
      "error = 0.00740069866433883\n",
      "loss = tensor(0.0013, device='cuda:1')\n",
      "i=  10001\n",
      "error = 0.005682788967749099\n",
      "loss = tensor(0.0012, device='cuda:1')\n",
      "i=  10501\n",
      "error = 0.005761287599423138\n",
      "loss = tensor(0.0011, device='cuda:1')\n",
      "i=  11001\n",
      "error = 0.006020935552716671\n",
      "loss = tensor(0.0010, device='cuda:1')\n",
      "i=  11501\n",
      "error = 0.005953496322815548\n",
      "loss = tensor(0.0010, device='cuda:1')\n",
      "i=  12001\n",
      "error = 0.00514624942903329\n",
      "loss = tensor(0.0013, device='cuda:1')\n",
      "i=  12501\n",
      "error = 0.005530644234370013\n",
      "loss = tensor(0.0009, device='cuda:1')\n",
      "i=  13001\n",
      "error = 0.006120664788500178\n",
      "loss = tensor(0.0008, device='cuda:1')\n",
      "i=  13501\n",
      "error = 0.005494457081363166\n",
      "loss = tensor(0.0008, device='cuda:1')\n",
      "i=  14001\n",
      "error = 0.007031745980201057\n",
      "loss = tensor(0.0044, device='cuda:1')\n",
      "i=  14501\n",
      "error = 0.0055422805811006625\n",
      "loss = tensor(0.0007, device='cuda:1')\n",
      "i=  15001\n",
      "error = 0.005043603235842596\n",
      "loss = tensor(0.0007, device='cuda:1')\n",
      "i=  15501\n",
      "error = 0.004356987863842059\n",
      "loss = tensor(0.0008, device='cuda:1')\n",
      "i=  16001\n",
      "error = 0.008441592318870062\n",
      "loss = tensor(0.0051, device='cuda:1')\n",
      "i=  16501\n",
      "error = 0.004918010991305641\n",
      "loss = tensor(0.0006, device='cuda:1')\n",
      "i=  17001\n",
      "error = 0.004056497199007583\n",
      "loss = tensor(0.0009, device='cuda:1')\n",
      "i=  17501\n",
      "error = 0.004841044773894858\n",
      "loss = tensor(0.0005, device='cuda:1')\n",
      "i=  18001\n",
      "error = 0.0038756646216478313\n",
      "loss = tensor(0.0006, device='cuda:1')\n",
      "i=  18501\n",
      "error = 0.004372923536200442\n",
      "loss = tensor(0.0005, device='cuda:1')\n",
      "i=  19001\n",
      "error = 0.004702047843736312\n",
      "loss = tensor(0.0010, device='cuda:1')\n",
      "i=  19501\n",
      "error = 0.0060481517945978796\n",
      "loss = tensor(0.0007, device='cuda:1')\n",
      "i=  20001\n",
      "error = 0.010613638543040703\n",
      "loss = tensor(0.0064, device='cuda:1')\n",
      "i=  20501\n",
      "error = 0.0037706935840068957\n",
      "loss = tensor(0.0004, device='cuda:1')\n",
      "i=  21001\n",
      "error = 0.004198384165189439\n",
      "loss = tensor(0.0004, device='cuda:1')\n",
      "i=  21501\n",
      "error = 0.004124642173071973\n",
      "loss = tensor(0.0005, device='cuda:1')\n",
      "i=  22001\n",
      "error = 0.0033763191528205\n",
      "loss = tensor(0.0004, device='cuda:1')\n",
      "i=  22501\n",
      "error = 0.0035794872955184137\n",
      "loss = tensor(0.0003, device='cuda:1')\n",
      "i=  23001\n",
      "error = 0.003813460684502077\n",
      "loss = tensor(0.0005, device='cuda:1')\n",
      "i=  23501\n",
      "error = 0.0030997357581333852\n",
      "loss = tensor(0.0003, device='cuda:1')\n",
      "i=  24001\n",
      "error = 0.003482973051072137\n",
      "loss = tensor(0.0003, device='cuda:1')\n",
      "i=  24501\n",
      "error = 0.004077365934877558\n",
      "loss = tensor(0.0004, device='cuda:1')\n",
      "i=  25001\n",
      "error = 0.0030090739511908038\n",
      "loss = tensor(0.0003, device='cuda:1')\n",
      "i=  25501\n",
      "error = 0.002819778413678547\n",
      "loss = tensor(0.0003, device='cuda:1')\n",
      "i=  26001\n",
      "error = 0.005348036547446756\n",
      "loss = tensor(0.0004, device='cuda:1')\n",
      "i=  26501\n",
      "error = 0.009939771629279226\n",
      "loss = tensor(0.0044, device='cuda:1')\n",
      "i=  27001\n",
      "error = 0.0029753982710391575\n",
      "loss = tensor(0.0002, device='cuda:1')\n",
      "i=  27501\n",
      "error = 0.005929548883934725\n",
      "loss = tensor(0.0019, device='cuda:1')\n",
      "i=  28001\n",
      "error = 0.002846858972790648\n",
      "loss = tensor(0.0002, device='cuda:1')\n",
      "i=  28501\n",
      "error = 0.002425425118176772\n",
      "loss = tensor(0.0002, device='cuda:1')\n",
      "i=  29001\n",
      "error = 0.002473754538050429\n",
      "loss = tensor(0.0002, device='cuda:1')\n",
      "i=  29501\n",
      "error = 0.0024742638185332533\n",
      "loss = tensor(0.0003, device='cuda:1')\n",
      "i=  30001\n",
      "error = 0.0024706718653866\n",
      "loss = tensor(0.0002, device='cuda:1')\n",
      "i=  30501\n",
      "error = 0.003562055590090954\n",
      "loss = tensor(0.0003, device='cuda:1')\n",
      "i=  31001\n",
      "error = 0.0027257007552869933\n",
      "loss = tensor(0.0004, device='cuda:1')\n",
      "i=  31501\n",
      "error = 0.002397797462117347\n",
      "loss = tensor(0.0002, device='cuda:1')\n",
      "i=  32001\n",
      "error = 0.0023344748907196413\n",
      "loss = tensor(0.0002, device='cuda:1')\n",
      "i=  32501\n",
      "error = 0.0024523449445159615\n",
      "loss = tensor(0.0003, device='cuda:1')\n",
      "i=  33001\n",
      "error = 0.002355615685063327\n",
      "loss = tensor(0.0001, device='cuda:1')\n",
      "i=  33501\n",
      "error = 0.00224067637748804\n",
      "loss = tensor(0.0002, device='cuda:1')\n",
      "i=  34001\n",
      "error = 0.0024331465267606106\n",
      "loss = tensor(0.0001, device='cuda:1')\n",
      "i=  34501\n",
      "error = 0.0037526634644086034\n",
      "loss = tensor(0.0010, device='cuda:1')\n",
      "i=  35001\n",
      "error = 0.002137332877437044\n",
      "loss = tensor(0.0001, device='cuda:1')\n",
      "i=  35501\n",
      "error = 0.0022472736677591498\n",
      "loss = tensor(0.0003, device='cuda:1')\n",
      "i=  36001\n",
      "error = 0.002263938385804662\n",
      "loss = tensor(0.0001, device='cuda:1')\n",
      "i=  36501\n",
      "error = 0.0019730035688104537\n",
      "loss = tensor(0.0002, device='cuda:1')\n",
      "i=  37001\n",
      "error = 0.0019059660883405229\n",
      "loss = tensor(0.0001, device='cuda:1')\n",
      "i=  37501\n",
      "error = 0.0023540881531153367\n",
      "loss = tensor(0.0002, device='cuda:1')\n",
      "i=  38001\n",
      "error = 0.002177724538338556\n",
      "loss = tensor(0.0002, device='cuda:1')\n",
      "i=  38501\n",
      "error = 0.002407510514202725\n",
      "loss = tensor(0.0002, device='cuda:1')\n",
      "i=  39001\n",
      "error = 0.0020463843044051192\n",
      "loss = tensor(0.0001, device='cuda:1')\n",
      "i=  39501\n",
      "error = 0.0019559687104391014\n",
      "loss = tensor(0.0001, device='cuda:1')\n",
      "i=  40001\n",
      "error = 0.0019034371160098632\n",
      "loss = tensor(9.9371e-05, device='cuda:1')\n",
      "i=  40501\n",
      "error = 0.001830709912923481\n",
      "loss = tensor(9.5465e-05, device='cuda:1')\n",
      "i=  41001\n",
      "error = 0.0017551099821627163\n",
      "loss = tensor(0.0001, device='cuda:1')\n",
      "i=  41501\n",
      "error = 0.0017916305661905517\n",
      "loss = tensor(9.9348e-05, device='cuda:1')\n",
      "i=  42001\n",
      "error = 0.0017564992947385941\n",
      "loss = tensor(0.0001, device='cuda:1')\n",
      "i=  42501\n",
      "error = 0.009434588390694032\n",
      "loss = tensor(0.0022, device='cuda:1')\n",
      "i=  43001\n",
      "error = 0.00167021465252062\n",
      "loss = tensor(8.5445e-05, device='cuda:1')\n",
      "i=  43501\n",
      "error = 0.0016674066248022583\n",
      "loss = tensor(8.8137e-05, device='cuda:1')\n",
      "i=  44001\n",
      "error = 0.0017757207517326817\n",
      "loss = tensor(8.7101e-05, device='cuda:1')\n",
      "i=  44501\n",
      "error = 0.0017351860834303222\n",
      "loss = tensor(7.9016e-05, device='cuda:1')\n",
      "i=  45001\n",
      "error = 0.001891272003003142\n",
      "loss = tensor(8.3181e-05, device='cuda:1')\n",
      "i=  45501\n",
      "error = 0.0024491134203090577\n",
      "loss = tensor(0.0003, device='cuda:1')\n",
      "i=  46001\n",
      "error = 0.001617570629242819\n",
      "loss = tensor(7.5491e-05, device='cuda:1')\n",
      "i=  46501\n",
      "error = 0.001693676490285856\n",
      "loss = tensor(7.1590e-05, device='cuda:1')\n",
      "i=  47001\n",
      "error = 0.0029700815445507\n",
      "loss = tensor(0.0013, device='cuda:1')\n",
      "i=  47501\n",
      "error = 0.001564284807054625\n",
      "loss = tensor(8.7494e-05, device='cuda:1')\n",
      "i=  48001\n",
      "error = 0.0015531955520815773\n",
      "loss = tensor(7.4423e-05, device='cuda:1')\n",
      "i=  48501\n",
      "error = 0.0018169259516851396\n",
      "loss = tensor(7.2049e-05, device='cuda:1')\n",
      "i=  49001\n",
      "error = 0.0016764369266771485\n",
      "loss = tensor(6.5965e-05, device='cuda:1')\n",
      "i=  49501\n",
      "error = 0.00562265796347163\n",
      "loss = tensor(0.0011, device='cuda:1')\n",
      "time cost 26087.714075565338 s\n"
     ]
    }
   ],
   "source": [
    "traintime = 50000\n",
    "error_save=np.zeros([3,traintime])\n",
    "optimizer = optim.Adam([\n",
    "                {'params': model_u1.parameters()},\n",
    "                {'params': model_v1.parameters()},\n",
    "                {'params': model_p1.parameters()}\n",
    "            ])\n",
    "time_start=time.time()\n",
    "for i in range(traintime):\n",
    "    optimizer.zero_grad()\n",
    "    losses = MIM()\n",
    "    losses.backward()\n",
    "    optimizer.step() \n",
    "    error1,error2,error3=loss_error()\n",
    "    error_save[0,i]=float(error1)\n",
    "    error_save[1,i]=float(error2)\n",
    "    error_save[2,i]=float(error3)\n",
    "    if i%500==1:\n",
    "        print(\"i= \",i)\n",
    "        print(\"error =\",error1)\n",
    "\n",
    "        print(\"loss =\",losses.detach())\n",
    "        np.save(\"error_save_LDG_wave_2D_q_w20.npy\", error_save)\n",
    "np.save(\"error_save_LDG_wave_2D_q_w20.npy\", error_save)\n",
    "time_end=time.time()\n",
    "print('time cost',time_end-time_start,'s')"
   ]
  },
  {
   "cell_type": "code",
   "execution_count": 13,
   "metadata": {},
   "outputs": [],
   "source": [
    "import matplotlib.pyplot as plt\n",
    "error = np.load(\"error_save_LDG_wave_2D_q_w20.npy\")"
   ]
  },
  {
   "cell_type": "code",
   "execution_count": 14,
   "metadata": {},
   "outputs": [
    {
     "data": {
      "text/plain": [
       "[<matplotlib.lines.Line2D at 0x7f94f566f550>]"
      ]
     },
     "execution_count": 14,
     "metadata": {},
     "output_type": "execute_result"
    },
    {
     "data": {
      "image/png": "[encoded data removed]",
      "text/plain": [
       "<Figure size 432x288 with 1 Axes>"
      ]
     },
     "metadata": {
      "needs_background": "light"
     },
     "output_type": "display_data"
    }
   ],
   "source": [
    "plt.plot(np.log10(error[1]))"
   ]
  },
  {
   "cell_type": "code",
   "execution_count": 15,
   "metadata": {},
   "outputs": [
    {
     "data": {
      "text/plain": [
       "[<matplotlib.lines.Line2D at 0x7f946c069bd0>]"
      ]
     },
     "execution_count": 15,
     "metadata": {},
     "output_type": "execute_result"
    },
    {
     "data": {
      "image/png": "[encoded data removed]",
      "text/plain": [
       "<Figure size 432x288 with 1 Axes>"
      ]
     },
     "metadata": {
      "needs_background": "light"
     },
     "output_type": "display_data"
    }
   ],
   "source": [
    "plt.plot(np.log10(error[0]))"
   ]
  },
  {
   "cell_type": "code",
   "execution_count": 16,
   "metadata": {},
   "outputs": [
    {
     "data": {
      "text/plain": [
       "[<matplotlib.lines.Line2D at 0x7f94305778d0>]"
      ]
     },
     "execution_count": 16,
     "metadata": {},
     "output_type": "execute_result"
    },
    {
     "data": {
      "image/png": "[encoded data removed]",
      "text/plain": [
       "<Figure size 432x288 with 1 Axes>"
      ]
     },
     "metadata": {
      "needs_background": "light"
     },
     "output_type": "display_data"
    }
   ],
   "source": [
    "plt.plot(np.log10(error[2]))"
   ]
  },
  {
   "cell_type": "markdown",
   "metadata": {},
   "source": [
    "# "
   ]
  }
 ],
 "metadata": {
  "kernelspec": {
   "display_name": "Python 3",
   "language": "python",
   "name": "python3"
  },
  "language_info": {
   "codemirror_mode": {
    "name": "ipython",
    "version": 3
   },
   "file_extension": ".py",
   "mimetype": "text/x-python",
   "name": "python",
   "nbconvert_exporter": "python",
   "pygments_lexer": "ipython3",
   "version": "3.7.6"
  }
 },
 "nbformat": 4,
 "nbformat_minor": 4
}
